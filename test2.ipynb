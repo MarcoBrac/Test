{
  "nbformat": 4,
  "nbformat_minor": 0,
  "metadata": {
    "colab": {
      "name": "test2",
      "provenance": [],
      "collapsed_sections": [],
      "include_colab_link": true
    },
    "kernelspec": {
      "name": "python3",
      "display_name": "Python 3"
    },
    "accelerator": "GPU"
  },
  "cells": [
    {
      "cell_type": "markdown",
      "metadata": {
        "id": "view-in-github",
        "colab_type": "text"
      },
      "source": [
        "<a href=\"https://colab.research.google.com/github/MarcoBrac/Test/blob/master/test2.ipynb\" target=\"_parent\"><img src=\"https://colab.research.google.com/assets/colab-badge.svg\" alt=\"Open In Colab\"/></a>"
      ]
    },
    {
      "cell_type": "code",
      "metadata": {
        "id": "c6URWxj1z0nY",
        "colab_type": "code",
        "outputId": "c1b48d49-da70-4d3b-e938-4507206b708b",
        "colab": {
          "base_uri": "https://localhost:8080/",
          "height": 125
        }
      },
      "source": [
        "from google.colab import drive\n",
        "drive.mount('/content/drive')"
      ],
      "execution_count": 2,
      "outputs": [
        {
          "output_type": "stream",
          "text": [
            "Go to this URL in a browser: https://accounts.google.com/o/oauth2/auth?client_id=947318989803-6bn6qk8qdgf4n4g3pfee6491hc0brc4i.apps.googleusercontent.com&redirect_uri=urn%3aietf%3awg%3aoauth%3a2.0%3aoob&response_type=code&scope=email%20https%3a%2f%2fwww.googleapis.com%2fauth%2fdocs.test%20https%3a%2f%2fwww.googleapis.com%2fauth%2fdrive%20https%3a%2f%2fwww.googleapis.com%2fauth%2fdrive.photos.readonly%20https%3a%2f%2fwww.googleapis.com%2fauth%2fpeopleapi.readonly\n",
            "\n",
            "Enter your authorization code:\n",
            "··········\n",
            "Mounted at /content/drive\n"
          ],
          "name": "stdout"
        }
      ]
    },
    {
      "cell_type": "code",
      "metadata": {
        "id": "au0lLqSY0uXk",
        "colab_type": "code",
        "outputId": "863679dd-cbb6-42cd-d950-575c5aee1511",
        "colab": {
          "base_uri": "https://localhost:8080/",
          "height": 214
        }
      },
      "source": [
        "!head TABLA_MODELO_HIT_3.csv"
      ],
      "execution_count": 3,
      "outputs": [
        {
          "output_type": "stream",
          "text": [
            "CONTRATO,NUM_CLIENTE,BC_SCORE,COSECHA,EDAD,OCPUACION_SEXO,CUENTA_MAS_ANTIGUA_BANCO,MAX_MOP_6M_AB_TDC,CUENTA_MAS_ANTIGUA_TDC,SALDO_VENCIDO_ABIERTAS,MAX_MOP_6M,PORC_UTILIZ_ENTRE_CUENT_REV_AB,PRODUCTO,SUB_PRODUCTO,VINTAGE,AMOUNT,FLAG_1PV_3,FLAG_2PV_6,FLAG_3PV_12,FLAG_3PV_18,FLAG_DESEMBOLSADO\r\n",
            "400015808,1953462,660,201505,37,C_CON NEGOCIO/F,31,NULL,NULL,0,9,NULL,OMEGA,OMEGA_M,201505,11728,0,1,1,1,1\r\n",
            "400015823,772865,663,201505,64,F_JUBILADO/F,94,2,187,511,2,0.219478426,OMEGA,OMEGA_M,201505,17191,0,0,0,0,1\r\n",
            "400015912,3873005,561,201505,41,A_CON NEGOCIO/M,28,NULL,NULL,4662,7,NULL,OMEGA,OMEGA_M,201505,5897,0,0,0,0,1\r\n",
            "400015973,776366,724,201505,44,C_CON NEGOCIO/F,NULL,1,18,0,1,0.104229355,OMEGA,OMEGA_M,201505,8000,0,0,0,0,1\r\n",
            "400014820,347497,713,201505,40,C_CON NEGOCIO/F,49,1,42,0,1,0.034421836,OMEGA,OMEGA_M,201505,29686,0,0,0,0,1\r\n",
            "400018477,1011052,631,201506,53,B_EMPLEADO O ASALARIADO/M,NULL,1,137,48701,9,0,OMEGA,OMEGA_M,201506,13615,0,0,0,0,1\r\n",
            "400018510,1800455250,661,201506,50,C_CON NEGOCIO/F,115,NULL,115,0,2,NULL,OMEGA,OMEGA_M,201506,31928,0,0,0,0,1\r\n",
            "400021185,2964904,641,201507,63,C_CON NEGOCIO/F,293,1,443,0,1,0.148270095,OMEGA,OMEGA_M,201507,10264,0,0,0,0,1\r\n",
            "400021193,1800703853,682,201507,44,A_CON NEGOCIO/M,26,NULL,NULL,0,1,NULL,OMEGA,OMEGA_M,201507,29174,0,0,0,1,1\r\n"
          ],
          "name": "stdout"
        }
      ]
    },
    {
      "cell_type": "code",
      "metadata": {
        "id": "Gd_7CPg30ukZ",
        "colab_type": "code",
        "colab": {}
      },
      "source": [
        "from google.colab import files\n"
      ],
      "execution_count": 0,
      "outputs": []
    },
    {
      "cell_type": "code",
      "metadata": {
        "id": "ObxRPaZ00us5",
        "colab_type": "code",
        "colab": {}
      },
      "source": [
        "## uploaded = files.upload()"
      ],
      "execution_count": 0,
      "outputs": []
    },
    {
      "cell_type": "code",
      "metadata": {
        "id": "V9Gw68J03yVM",
        "colab_type": "code",
        "colab": {}
      },
      "source": [
        "import pandas as pd\n",
        "import numpy as np\n"
      ],
      "execution_count": 0,
      "outputs": []
    },
    {
      "cell_type": "code",
      "metadata": {
        "id": "1HqDslft316N",
        "colab_type": "code",
        "colab": {}
      },
      "source": [
        "df1 = pd.read_csv('TABLA_MODELO_HIT_3.csv' ) "
      ],
      "execution_count": 0,
      "outputs": []
    },
    {
      "cell_type": "code",
      "metadata": {
        "id": "D302R1Y-4T2z",
        "colab_type": "code",
        "outputId": "32b75161-79dd-45fc-a14a-fb1ad1d19853",
        "colab": {
          "base_uri": "https://localhost:8080/",
          "height": 284
        }
      },
      "source": [
        "df1.head()"
      ],
      "execution_count": 10,
      "outputs": [
        {
          "output_type": "execute_result",
          "data": {
            "text/html": [
              "<div>\n",
              "<style scoped>\n",
              "    .dataframe tbody tr th:only-of-type {\n",
              "        vertical-align: middle;\n",
              "    }\n",
              "\n",
              "    .dataframe tbody tr th {\n",
              "        vertical-align: top;\n",
              "    }\n",
              "\n",
              "    .dataframe thead th {\n",
              "        text-align: right;\n",
              "    }\n",
              "</style>\n",
              "<table border=\"1\" class=\"dataframe\">\n",
              "  <thead>\n",
              "    <tr style=\"text-align: right;\">\n",
              "      <th></th>\n",
              "      <th>CONTRATO</th>\n",
              "      <th>NUM_CLIENTE</th>\n",
              "      <th>BC_SCORE</th>\n",
              "      <th>COSECHA</th>\n",
              "      <th>EDAD</th>\n",
              "      <th>OCPUACION_SEXO</th>\n",
              "      <th>CUENTA_MAS_ANTIGUA_BANCO</th>\n",
              "      <th>MAX_MOP_6M_AB_TDC</th>\n",
              "      <th>CUENTA_MAS_ANTIGUA_TDC</th>\n",
              "      <th>SALDO_VENCIDO_ABIERTAS</th>\n",
              "      <th>MAX_MOP_6M</th>\n",
              "      <th>PORC_UTILIZ_ENTRE_CUENT_REV_AB</th>\n",
              "      <th>PRODUCTO</th>\n",
              "      <th>SUB_PRODUCTO</th>\n",
              "      <th>VINTAGE</th>\n",
              "      <th>AMOUNT</th>\n",
              "      <th>FLAG_1PV_3</th>\n",
              "      <th>FLAG_2PV_6</th>\n",
              "      <th>FLAG_3PV_12</th>\n",
              "      <th>FLAG_3PV_18</th>\n",
              "      <th>FLAG_DESEMBOLSADO</th>\n",
              "    </tr>\n",
              "  </thead>\n",
              "  <tbody>\n",
              "    <tr>\n",
              "      <th>0</th>\n",
              "      <td>400015808</td>\n",
              "      <td>1953462</td>\n",
              "      <td>660</td>\n",
              "      <td>201505</td>\n",
              "      <td>37.0</td>\n",
              "      <td>C_CON NEGOCIO/F</td>\n",
              "      <td>31.0</td>\n",
              "      <td>NaN</td>\n",
              "      <td>NaN</td>\n",
              "      <td>0.0</td>\n",
              "      <td>9.0</td>\n",
              "      <td>NaN</td>\n",
              "      <td>OMEGA</td>\n",
              "      <td>OMEGA_M</td>\n",
              "      <td>201505</td>\n",
              "      <td>11728.0</td>\n",
              "      <td>0</td>\n",
              "      <td>1</td>\n",
              "      <td>1</td>\n",
              "      <td>1</td>\n",
              "      <td>1</td>\n",
              "    </tr>\n",
              "    <tr>\n",
              "      <th>1</th>\n",
              "      <td>400015823</td>\n",
              "      <td>772865</td>\n",
              "      <td>663</td>\n",
              "      <td>201505</td>\n",
              "      <td>64.0</td>\n",
              "      <td>F_JUBILADO/F</td>\n",
              "      <td>94.0</td>\n",
              "      <td>2.0</td>\n",
              "      <td>187.0</td>\n",
              "      <td>511.0</td>\n",
              "      <td>2.0</td>\n",
              "      <td>0.219478</td>\n",
              "      <td>OMEGA</td>\n",
              "      <td>OMEGA_M</td>\n",
              "      <td>201505</td>\n",
              "      <td>17191.0</td>\n",
              "      <td>0</td>\n",
              "      <td>0</td>\n",
              "      <td>0</td>\n",
              "      <td>0</td>\n",
              "      <td>1</td>\n",
              "    </tr>\n",
              "    <tr>\n",
              "      <th>2</th>\n",
              "      <td>400015912</td>\n",
              "      <td>3873005</td>\n",
              "      <td>561</td>\n",
              "      <td>201505</td>\n",
              "      <td>41.0</td>\n",
              "      <td>A_CON NEGOCIO/M</td>\n",
              "      <td>28.0</td>\n",
              "      <td>NaN</td>\n",
              "      <td>NaN</td>\n",
              "      <td>4662.0</td>\n",
              "      <td>7.0</td>\n",
              "      <td>NaN</td>\n",
              "      <td>OMEGA</td>\n",
              "      <td>OMEGA_M</td>\n",
              "      <td>201505</td>\n",
              "      <td>5897.0</td>\n",
              "      <td>0</td>\n",
              "      <td>0</td>\n",
              "      <td>0</td>\n",
              "      <td>0</td>\n",
              "      <td>1</td>\n",
              "    </tr>\n",
              "    <tr>\n",
              "      <th>3</th>\n",
              "      <td>400015973</td>\n",
              "      <td>776366</td>\n",
              "      <td>724</td>\n",
              "      <td>201505</td>\n",
              "      <td>44.0</td>\n",
              "      <td>C_CON NEGOCIO/F</td>\n",
              "      <td>NaN</td>\n",
              "      <td>1.0</td>\n",
              "      <td>18.0</td>\n",
              "      <td>0.0</td>\n",
              "      <td>1.0</td>\n",
              "      <td>0.104229</td>\n",
              "      <td>OMEGA</td>\n",
              "      <td>OMEGA_M</td>\n",
              "      <td>201505</td>\n",
              "      <td>8000.0</td>\n",
              "      <td>0</td>\n",
              "      <td>0</td>\n",
              "      <td>0</td>\n",
              "      <td>0</td>\n",
              "      <td>1</td>\n",
              "    </tr>\n",
              "    <tr>\n",
              "      <th>4</th>\n",
              "      <td>400014820</td>\n",
              "      <td>347497</td>\n",
              "      <td>713</td>\n",
              "      <td>201505</td>\n",
              "      <td>40.0</td>\n",
              "      <td>C_CON NEGOCIO/F</td>\n",
              "      <td>49.0</td>\n",
              "      <td>1.0</td>\n",
              "      <td>42.0</td>\n",
              "      <td>0.0</td>\n",
              "      <td>1.0</td>\n",
              "      <td>0.034422</td>\n",
              "      <td>OMEGA</td>\n",
              "      <td>OMEGA_M</td>\n",
              "      <td>201505</td>\n",
              "      <td>29686.0</td>\n",
              "      <td>0</td>\n",
              "      <td>0</td>\n",
              "      <td>0</td>\n",
              "      <td>0</td>\n",
              "      <td>1</td>\n",
              "    </tr>\n",
              "  </tbody>\n",
              "</table>\n",
              "</div>"
            ],
            "text/plain": [
              "    CONTRATO  NUM_CLIENTE  ...  FLAG_3PV_18  FLAG_DESEMBOLSADO\n",
              "0  400015808      1953462  ...            1                  1\n",
              "1  400015823       772865  ...            0                  1\n",
              "2  400015912      3873005  ...            0                  1\n",
              "3  400015973       776366  ...            0                  1\n",
              "4  400014820       347497  ...            0                  1\n",
              "\n",
              "[5 rows x 21 columns]"
            ]
          },
          "metadata": {
            "tags": []
          },
          "execution_count": 10
        }
      ]
    },
    {
      "cell_type": "code",
      "metadata": {
        "id": "wRlVcKHd4rIT",
        "colab_type": "code",
        "colab": {}
      },
      "source": [
        "df2 = df1.copy()"
      ],
      "execution_count": 0,
      "outputs": []
    },
    {
      "cell_type": "code",
      "metadata": {
        "id": "U-iCAFTy6SqJ",
        "colab_type": "code",
        "colab": {}
      },
      "source": [
        "df2['edad_woe'] = df2.apply(bins_edad, axis=1)"
      ],
      "execution_count": 0,
      "outputs": []
    },
    {
      "cell_type": "code",
      "metadata": {
        "id": "Y9SSP5N252Bp",
        "colab_type": "code",
        "outputId": "7f679050-7969-4ea0-ddd9-cada247d909d",
        "colab": {
          "base_uri": "https://localhost:8080/",
          "height": 284
        }
      },
      "source": [
        "df2.head()"
      ],
      "execution_count": 12,
      "outputs": [
        {
          "output_type": "execute_result",
          "data": {
            "text/html": [
              "<div>\n",
              "<style scoped>\n",
              "    .dataframe tbody tr th:only-of-type {\n",
              "        vertical-align: middle;\n",
              "    }\n",
              "\n",
              "    .dataframe tbody tr th {\n",
              "        vertical-align: top;\n",
              "    }\n",
              "\n",
              "    .dataframe thead th {\n",
              "        text-align: right;\n",
              "    }\n",
              "</style>\n",
              "<table border=\"1\" class=\"dataframe\">\n",
              "  <thead>\n",
              "    <tr style=\"text-align: right;\">\n",
              "      <th></th>\n",
              "      <th>CONTRATO</th>\n",
              "      <th>NUM_CLIENTE</th>\n",
              "      <th>BC_SCORE</th>\n",
              "      <th>COSECHA</th>\n",
              "      <th>EDAD</th>\n",
              "      <th>OCPUACION_SEXO</th>\n",
              "      <th>CUENTA_MAS_ANTIGUA_BANCO</th>\n",
              "      <th>MAX_MOP_6M_AB_TDC</th>\n",
              "      <th>CUENTA_MAS_ANTIGUA_TDC</th>\n",
              "      <th>SALDO_VENCIDO_ABIERTAS</th>\n",
              "      <th>MAX_MOP_6M</th>\n",
              "      <th>PORC_UTILIZ_ENTRE_CUENT_REV_AB</th>\n",
              "      <th>PRODUCTO</th>\n",
              "      <th>SUB_PRODUCTO</th>\n",
              "      <th>VINTAGE</th>\n",
              "      <th>AMOUNT</th>\n",
              "      <th>FLAG_1PV_3</th>\n",
              "      <th>FLAG_2PV_6</th>\n",
              "      <th>FLAG_3PV_12</th>\n",
              "      <th>FLAG_3PV_18</th>\n",
              "      <th>FLAG_DESEMBOLSADO</th>\n",
              "    </tr>\n",
              "  </thead>\n",
              "  <tbody>\n",
              "    <tr>\n",
              "      <th>0</th>\n",
              "      <td>400015808</td>\n",
              "      <td>1953462</td>\n",
              "      <td>660</td>\n",
              "      <td>201505</td>\n",
              "      <td>37.0</td>\n",
              "      <td>C_CON NEGOCIO/F</td>\n",
              "      <td>31.0</td>\n",
              "      <td>NaN</td>\n",
              "      <td>NaN</td>\n",
              "      <td>0.0</td>\n",
              "      <td>9.0</td>\n",
              "      <td>NaN</td>\n",
              "      <td>OMEGA</td>\n",
              "      <td>OMEGA_M</td>\n",
              "      <td>201505</td>\n",
              "      <td>11728.0</td>\n",
              "      <td>0</td>\n",
              "      <td>1</td>\n",
              "      <td>1</td>\n",
              "      <td>1</td>\n",
              "      <td>1</td>\n",
              "    </tr>\n",
              "    <tr>\n",
              "      <th>1</th>\n",
              "      <td>400015823</td>\n",
              "      <td>772865</td>\n",
              "      <td>663</td>\n",
              "      <td>201505</td>\n",
              "      <td>64.0</td>\n",
              "      <td>F_JUBILADO/F</td>\n",
              "      <td>94.0</td>\n",
              "      <td>2.0</td>\n",
              "      <td>187.0</td>\n",
              "      <td>511.0</td>\n",
              "      <td>2.0</td>\n",
              "      <td>0.219478</td>\n",
              "      <td>OMEGA</td>\n",
              "      <td>OMEGA_M</td>\n",
              "      <td>201505</td>\n",
              "      <td>17191.0</td>\n",
              "      <td>0</td>\n",
              "      <td>0</td>\n",
              "      <td>0</td>\n",
              "      <td>0</td>\n",
              "      <td>1</td>\n",
              "    </tr>\n",
              "    <tr>\n",
              "      <th>2</th>\n",
              "      <td>400015912</td>\n",
              "      <td>3873005</td>\n",
              "      <td>561</td>\n",
              "      <td>201505</td>\n",
              "      <td>41.0</td>\n",
              "      <td>A_CON NEGOCIO/M</td>\n",
              "      <td>28.0</td>\n",
              "      <td>NaN</td>\n",
              "      <td>NaN</td>\n",
              "      <td>4662.0</td>\n",
              "      <td>7.0</td>\n",
              "      <td>NaN</td>\n",
              "      <td>OMEGA</td>\n",
              "      <td>OMEGA_M</td>\n",
              "      <td>201505</td>\n",
              "      <td>5897.0</td>\n",
              "      <td>0</td>\n",
              "      <td>0</td>\n",
              "      <td>0</td>\n",
              "      <td>0</td>\n",
              "      <td>1</td>\n",
              "    </tr>\n",
              "    <tr>\n",
              "      <th>3</th>\n",
              "      <td>400015973</td>\n",
              "      <td>776366</td>\n",
              "      <td>724</td>\n",
              "      <td>201505</td>\n",
              "      <td>44.0</td>\n",
              "      <td>C_CON NEGOCIO/F</td>\n",
              "      <td>NaN</td>\n",
              "      <td>1.0</td>\n",
              "      <td>18.0</td>\n",
              "      <td>0.0</td>\n",
              "      <td>1.0</td>\n",
              "      <td>0.104229</td>\n",
              "      <td>OMEGA</td>\n",
              "      <td>OMEGA_M</td>\n",
              "      <td>201505</td>\n",
              "      <td>8000.0</td>\n",
              "      <td>0</td>\n",
              "      <td>0</td>\n",
              "      <td>0</td>\n",
              "      <td>0</td>\n",
              "      <td>1</td>\n",
              "    </tr>\n",
              "    <tr>\n",
              "      <th>4</th>\n",
              "      <td>400014820</td>\n",
              "      <td>347497</td>\n",
              "      <td>713</td>\n",
              "      <td>201505</td>\n",
              "      <td>40.0</td>\n",
              "      <td>C_CON NEGOCIO/F</td>\n",
              "      <td>49.0</td>\n",
              "      <td>1.0</td>\n",
              "      <td>42.0</td>\n",
              "      <td>0.0</td>\n",
              "      <td>1.0</td>\n",
              "      <td>0.034422</td>\n",
              "      <td>OMEGA</td>\n",
              "      <td>OMEGA_M</td>\n",
              "      <td>201505</td>\n",
              "      <td>29686.0</td>\n",
              "      <td>0</td>\n",
              "      <td>0</td>\n",
              "      <td>0</td>\n",
              "      <td>0</td>\n",
              "      <td>1</td>\n",
              "    </tr>\n",
              "  </tbody>\n",
              "</table>\n",
              "</div>"
            ],
            "text/plain": [
              "    CONTRATO  NUM_CLIENTE  ...  FLAG_3PV_18  FLAG_DESEMBOLSADO\n",
              "0  400015808      1953462  ...            1                  1\n",
              "1  400015823       772865  ...            0                  1\n",
              "2  400015912      3873005  ...            0                  1\n",
              "3  400015973       776366  ...            0                  1\n",
              "4  400014820       347497  ...            0                  1\n",
              "\n",
              "[5 rows x 21 columns]"
            ]
          },
          "metadata": {
            "tags": []
          },
          "execution_count": 12
        }
      ]
    },
    {
      "cell_type": "code",
      "metadata": {
        "id": "295_NLEhWKWo",
        "colab_type": "code",
        "colab": {
          "base_uri": "https://localhost:8080/",
          "height": 161
        },
        "outputId": "f7a0dbec-58a2-451b-b854-9c47bb9e2928"
      },
      "source": [
        "df2.columns"
      ],
      "execution_count": 20,
      "outputs": [
        {
          "output_type": "execute_result",
          "data": {
            "text/plain": [
              "Index(['CONTRATO', 'NUM_CLIENTE', 'BC_SCORE', 'COSECHA', 'EDAD',\n",
              "       'OCPUACION_SEXO', 'CUENTA_MAS_ANTIGUA_BANCO', 'MAX_MOP_6M_AB_TDC',\n",
              "       'CUENTA_MAS_ANTIGUA_TDC', 'SALDO_VENCIDO_ABIERTAS', 'MAX_MOP_6M',\n",
              "       'PORC_UTILIZ_ENTRE_CUENT_REV_AB', 'PRODUCTO', 'SUB_PRODUCTO', 'VINTAGE',\n",
              "       'AMOUNT', 'FLAG_1PV_3', 'FLAG_2PV_6', 'FLAG_3PV_12', 'FLAG_3PV_18',\n",
              "       'FLAG_DESEMBOLSADO', 'edad_woe'],\n",
              "      dtype='object')"
            ]
          },
          "metadata": {
            "tags": []
          },
          "execution_count": 20
        }
      ]
    },
    {
      "cell_type": "code",
      "metadata": {
        "id": "EatmM0qp6G_R",
        "colab_type": "code",
        "colab": {}
      },
      "source": [
        "############################### OCUPACIÓN SEXO\n",
        "def bins_ocup_sex(row):\n",
        "    if  row.OCPUACION_SEXO == 'A_CON NEGOCIO/M':\n",
        "        return 1*0.438337084334697\n",
        "    elif row.OCPUACION_SEXO == 'B_EMPLEADO O ASALARIADO/M':\n",
        "        return 1*0.245752537229401\n",
        "    elif  row.OCPUACION_SEXO == 'C_CON NEGOCIO/F':\n",
        "        return 1*-0.0986946259109583\n",
        "    elif  row.OCPUACION_SEXO == 'D_EMPLEADO O ASALARIADO/F':\n",
        "        return 1*-0.289297648037313\n",
        "    elif  row.OCPUACION_SEXO == 'E_JUBILADO/M':\n",
        "        return 1*-0.859435727384404\n",
        "    else:\n",
        "        return 1*-1.06300066767039"
      ],
      "execution_count": 0,
      "outputs": []
    },
    {
      "cell_type": "code",
      "metadata": {
        "id": "GH9dYxkrWAYP",
        "colab_type": "code",
        "colab": {}
      },
      "source": [
        "###############################EDAD\n",
        "def bins_edad(row):\n",
        "    if  row.EDAD <= 39:\n",
        "        return 1*0.652557304203474\n",
        "    elif row.EDAD <= 46:\n",
        "        return 1*0.32072210601685\n",
        "    elif  row.EDAD <= 51:\n",
        "        return 1*-0.0297882009277696\n",
        "    elif  row.EDAD <= 56:\n",
        "        return 1*-0.249830551211539\n",
        "    elif  row.EDAD <= 61:\n",
        "        return 1*-0.776458288161244\n",
        "    else:\n",
        "        return -0.862815250709056"
      ],
      "execution_count": 0,
      "outputs": []
    },
    {
      "cell_type": "code",
      "metadata": {
        "id": "VSpcS8nSWAu3",
        "colab_type": "code",
        "colab": {}
      },
      "source": [
        "############################### máxima antigÜedad banco \n",
        "def bins_max_mob_bank(row):\n",
        "    if  row.CUENTA_MAS_ANTIGUA_BANCO <= 36:\n",
        "        return 1*0.4177579842355\n",
        "    elif row.CUENTA_MAS_ANTIGUA_BANCO <= 59:\n",
        "        return 1*0.204288134959686\n",
        "    elif  row.CUENTA_MAS_ANTIGUA_BANCO <= 76:\n",
        "        return 1*0.079527302643976\n",
        "    elif  row.CUENTA_MAS_ANTIGUA_BANCO <= 104:\n",
        "        return 1*-0.221813867785179\n",
        "    elif  row.CUENTA_MAS_ANTIGUA_BANCO <= 131:\n",
        "        return 1*-0.474594512237555\n",
        "    elif  row.CUENTA_MAS_ANTIGUA_BANCO <= 499:\n",
        "        return 1*-0.730039690708382\n",
        "    else:\n",
        "        return 1*0.347094881317897"
      ],
      "execution_count": 0,
      "outputs": []
    },
    {
      "cell_type": "code",
      "metadata": {
        "id": "-mJ-KqaqWA74",
        "colab_type": "code",
        "colab": {}
      },
      "source": [
        "################################## pct utilización\n",
        "def bins_pct_util(row):\n",
        "    if  row.PORC_UTILIZ_ENTRE_CUENT_REV_AB <= 0.150290638:\n",
        "        return 1*-0.510375236153387\n",
        "    elif row.PORC_UTILIZ_ENTRE_CUENT_REV_AB <= 140514:\n",
        "        return 1*-0.223185206563544\n",
        "    else:\n",
        "        return 1*0.434261584221614"
      ],
      "execution_count": 0,
      "outputs": []
    },
    {
      "cell_type": "code",
      "metadata": {
        "id": "2uORAMKeWA_Q",
        "colab_type": "code",
        "colab": {}
      },
      "source": [
        "######################################## MÁXIMO MOP TDC\n",
        "\n",
        "def bins_max_mop_tdc(row):\n",
        "    if  row.MAX_MOP_6M_AB_TDC <= 1:\n",
        "        return 1*-0.530853505755427\n",
        "    elif row.MAX_MOP_6M_AB_TDC <= 9:\n",
        "        return 1*-0.0515609497107696\n",
        "    else:\n",
        "        return 1*0.462116439985472"
      ],
      "execution_count": 0,
      "outputs": []
    },
    {
      "cell_type": "code",
      "metadata": {
        "id": "c09qWQ9UWBCI",
        "colab_type": "code",
        "colab": {}
      },
      "source": [
        "############################### máxima antigÜedad TDC \n",
        "def bins_max_mob_tdc(row):\n",
        "    if  row.CUENTA_MAS_ANTIGUA_TDC <= 53:\n",
        "        return 1*0.0872105802631326\n",
        "    elif row.CUENTA_MAS_ANTIGUA_TDC <= 98:\n",
        "        return 1*-0.151627060166407\n",
        "    elif  row.CUENTA_MAS_ANTIGUA_TDC <= 137:\n",
        "        return 1*-0.352600764658328\n",
        "    elif  row.CUENTA_MAS_ANTIGUA_TDC <= 612:\n",
        "        return 1*-0.669246976557249\n",
        "    else:\n",
        "        return 1*0.606962693925261"
      ],
      "execution_count": 0,
      "outputs": []
    },
    {
      "cell_type": "code",
      "metadata": {
        "id": "H3zSVRpcWBFA",
        "colab_type": "code",
        "colab": {}
      },
      "source": [
        "############################## saldo vencido\n",
        "def bins_sdo_vncido(row):\n",
        "    if  row.SALDO_VENCIDO_ABIERTAS <= 1:\n",
        "        return 1*-0.205208313977855\n",
        "    elif row.SALDO_VENCIDO_ABIERTAS <= 463253:\n",
        "        return 1*0.46669257203569\n",
        "    else:\n",
        "        return 1*0.470424547454944"
      ],
      "execution_count": 0,
      "outputs": []
    },
    {
      "cell_type": "code",
      "metadata": {
        "id": "U3W7ZNeOWBHV",
        "colab_type": "code",
        "colab": {}
      },
      "source": [
        "############################## max mop 6m\n",
        "def bins_sdo_vncido(row):\n",
        "    if  row.MAX_MOP_6M <= 1:\n",
        "        return 1*-0.205208313977855\n",
        "    elif row.MAX_MOP_6M <= 463253:\n",
        "        return 1*0.46669257203569\n",
        "    else:\n",
        "        return 1*0.470424547454944"
      ],
      "execution_count": 0,
      "outputs": []
    },
    {
      "cell_type": "code",
      "metadata": {
        "id": "1M6eFrp5WBJy",
        "colab_type": "code",
        "colab": {}
      },
      "source": [
        ""
      ],
      "execution_count": 0,
      "outputs": []
    },
    {
      "cell_type": "code",
      "metadata": {
        "id": "n-zp-_XoWBMB",
        "colab_type": "code",
        "colab": {}
      },
      "source": [
        ""
      ],
      "execution_count": 0,
      "outputs": []
    },
    {
      "cell_type": "code",
      "metadata": {
        "id": "IFrxqUwfWBOz",
        "colab_type": "code",
        "colab": {}
      },
      "source": [
        ""
      ],
      "execution_count": 0,
      "outputs": []
    },
    {
      "cell_type": "code",
      "metadata": {
        "id": "yFxNgGj8WBRz",
        "colab_type": "code",
        "colab": {}
      },
      "source": [
        ""
      ],
      "execution_count": 0,
      "outputs": []
    },
    {
      "cell_type": "code",
      "metadata": {
        "id": "fJNHIfq3WBUM",
        "colab_type": "code",
        "colab": {}
      },
      "source": [
        ""
      ],
      "execution_count": 0,
      "outputs": []
    },
    {
      "cell_type": "code",
      "metadata": {
        "id": "w0fO8f7_WBWC",
        "colab_type": "code",
        "colab": {}
      },
      "source": [
        ""
      ],
      "execution_count": 0,
      "outputs": []
    },
    {
      "cell_type": "code",
      "metadata": {
        "id": "4xpIOM17_3KM",
        "colab_type": "code",
        "outputId": "0a937849-1a90-4253-f38f-0ce7f042dbf8",
        "colab": {
          "base_uri": "https://localhost:8080/",
          "height": 551
        }
      },
      "source": [
        "df2.head(10)"
      ],
      "execution_count": 16,
      "outputs": [
        {
          "output_type": "execute_result",
          "data": {
            "text/html": [
              "<div>\n",
              "<style scoped>\n",
              "    .dataframe tbody tr th:only-of-type {\n",
              "        vertical-align: middle;\n",
              "    }\n",
              "\n",
              "    .dataframe tbody tr th {\n",
              "        vertical-align: top;\n",
              "    }\n",
              "\n",
              "    .dataframe thead th {\n",
              "        text-align: right;\n",
              "    }\n",
              "</style>\n",
              "<table border=\"1\" class=\"dataframe\">\n",
              "  <thead>\n",
              "    <tr style=\"text-align: right;\">\n",
              "      <th></th>\n",
              "      <th>CONTRATO</th>\n",
              "      <th>NUM_CLIENTE</th>\n",
              "      <th>BC_SCORE</th>\n",
              "      <th>COSECHA</th>\n",
              "      <th>EDAD</th>\n",
              "      <th>OCPUACION_SEXO</th>\n",
              "      <th>CUENTA_MAS_ANTIGUA_BANCO</th>\n",
              "      <th>MAX_MOP_6M_AB_TDC</th>\n",
              "      <th>CUENTA_MAS_ANTIGUA_TDC</th>\n",
              "      <th>SALDO_VENCIDO_ABIERTAS</th>\n",
              "      <th>MAX_MOP_6M</th>\n",
              "      <th>PORC_UTILIZ_ENTRE_CUENT_REV_AB</th>\n",
              "      <th>PRODUCTO</th>\n",
              "      <th>SUB_PRODUCTO</th>\n",
              "      <th>VINTAGE</th>\n",
              "      <th>AMOUNT</th>\n",
              "      <th>FLAG_1PV_3</th>\n",
              "      <th>FLAG_2PV_6</th>\n",
              "      <th>FLAG_3PV_12</th>\n",
              "      <th>FLAG_3PV_18</th>\n",
              "      <th>FLAG_DESEMBOLSADO</th>\n",
              "      <th>edad_woe</th>\n",
              "    </tr>\n",
              "  </thead>\n",
              "  <tbody>\n",
              "    <tr>\n",
              "      <th>0</th>\n",
              "      <td>400015808</td>\n",
              "      <td>1953462</td>\n",
              "      <td>660</td>\n",
              "      <td>201505</td>\n",
              "      <td>37.0</td>\n",
              "      <td>C_CON NEGOCIO/F</td>\n",
              "      <td>31.0</td>\n",
              "      <td>NaN</td>\n",
              "      <td>NaN</td>\n",
              "      <td>0.0</td>\n",
              "      <td>9.0</td>\n",
              "      <td>NaN</td>\n",
              "      <td>OMEGA</td>\n",
              "      <td>OMEGA_M</td>\n",
              "      <td>201505</td>\n",
              "      <td>11728.0</td>\n",
              "      <td>0</td>\n",
              "      <td>1</td>\n",
              "      <td>1</td>\n",
              "      <td>1</td>\n",
              "      <td>1</td>\n",
              "      <td>0.652557</td>\n",
              "    </tr>\n",
              "    <tr>\n",
              "      <th>1</th>\n",
              "      <td>400015823</td>\n",
              "      <td>772865</td>\n",
              "      <td>663</td>\n",
              "      <td>201505</td>\n",
              "      <td>64.0</td>\n",
              "      <td>F_JUBILADO/F</td>\n",
              "      <td>94.0</td>\n",
              "      <td>2.0</td>\n",
              "      <td>187.0</td>\n",
              "      <td>511.0</td>\n",
              "      <td>2.0</td>\n",
              "      <td>0.219478</td>\n",
              "      <td>OMEGA</td>\n",
              "      <td>OMEGA_M</td>\n",
              "      <td>201505</td>\n",
              "      <td>17191.0</td>\n",
              "      <td>0</td>\n",
              "      <td>0</td>\n",
              "      <td>0</td>\n",
              "      <td>0</td>\n",
              "      <td>1</td>\n",
              "      <td>-0.862815</td>\n",
              "    </tr>\n",
              "    <tr>\n",
              "      <th>2</th>\n",
              "      <td>400015912</td>\n",
              "      <td>3873005</td>\n",
              "      <td>561</td>\n",
              "      <td>201505</td>\n",
              "      <td>41.0</td>\n",
              "      <td>A_CON NEGOCIO/M</td>\n",
              "      <td>28.0</td>\n",
              "      <td>NaN</td>\n",
              "      <td>NaN</td>\n",
              "      <td>4662.0</td>\n",
              "      <td>7.0</td>\n",
              "      <td>NaN</td>\n",
              "      <td>OMEGA</td>\n",
              "      <td>OMEGA_M</td>\n",
              "      <td>201505</td>\n",
              "      <td>5897.0</td>\n",
              "      <td>0</td>\n",
              "      <td>0</td>\n",
              "      <td>0</td>\n",
              "      <td>0</td>\n",
              "      <td>1</td>\n",
              "      <td>0.320722</td>\n",
              "    </tr>\n",
              "    <tr>\n",
              "      <th>3</th>\n",
              "      <td>400015973</td>\n",
              "      <td>776366</td>\n",
              "      <td>724</td>\n",
              "      <td>201505</td>\n",
              "      <td>44.0</td>\n",
              "      <td>C_CON NEGOCIO/F</td>\n",
              "      <td>NaN</td>\n",
              "      <td>1.0</td>\n",
              "      <td>18.0</td>\n",
              "      <td>0.0</td>\n",
              "      <td>1.0</td>\n",
              "      <td>0.104229</td>\n",
              "      <td>OMEGA</td>\n",
              "      <td>OMEGA_M</td>\n",
              "      <td>201505</td>\n",
              "      <td>8000.0</td>\n",
              "      <td>0</td>\n",
              "      <td>0</td>\n",
              "      <td>0</td>\n",
              "      <td>0</td>\n",
              "      <td>1</td>\n",
              "      <td>0.320722</td>\n",
              "    </tr>\n",
              "    <tr>\n",
              "      <th>4</th>\n",
              "      <td>400014820</td>\n",
              "      <td>347497</td>\n",
              "      <td>713</td>\n",
              "      <td>201505</td>\n",
              "      <td>40.0</td>\n",
              "      <td>C_CON NEGOCIO/F</td>\n",
              "      <td>49.0</td>\n",
              "      <td>1.0</td>\n",
              "      <td>42.0</td>\n",
              "      <td>0.0</td>\n",
              "      <td>1.0</td>\n",
              "      <td>0.034422</td>\n",
              "      <td>OMEGA</td>\n",
              "      <td>OMEGA_M</td>\n",
              "      <td>201505</td>\n",
              "      <td>29686.0</td>\n",
              "      <td>0</td>\n",
              "      <td>0</td>\n",
              "      <td>0</td>\n",
              "      <td>0</td>\n",
              "      <td>1</td>\n",
              "      <td>0.320722</td>\n",
              "    </tr>\n",
              "    <tr>\n",
              "      <th>5</th>\n",
              "      <td>400018477</td>\n",
              "      <td>1011052</td>\n",
              "      <td>631</td>\n",
              "      <td>201506</td>\n",
              "      <td>53.0</td>\n",
              "      <td>B_EMPLEADO O ASALARIADO/M</td>\n",
              "      <td>NaN</td>\n",
              "      <td>1.0</td>\n",
              "      <td>137.0</td>\n",
              "      <td>48701.0</td>\n",
              "      <td>9.0</td>\n",
              "      <td>0.000000</td>\n",
              "      <td>OMEGA</td>\n",
              "      <td>OMEGA_M</td>\n",
              "      <td>201506</td>\n",
              "      <td>13615.0</td>\n",
              "      <td>0</td>\n",
              "      <td>0</td>\n",
              "      <td>0</td>\n",
              "      <td>0</td>\n",
              "      <td>1</td>\n",
              "      <td>-0.249831</td>\n",
              "    </tr>\n",
              "    <tr>\n",
              "      <th>6</th>\n",
              "      <td>400018510</td>\n",
              "      <td>1800455250</td>\n",
              "      <td>661</td>\n",
              "      <td>201506</td>\n",
              "      <td>50.0</td>\n",
              "      <td>C_CON NEGOCIO/F</td>\n",
              "      <td>115.0</td>\n",
              "      <td>NaN</td>\n",
              "      <td>115.0</td>\n",
              "      <td>0.0</td>\n",
              "      <td>2.0</td>\n",
              "      <td>NaN</td>\n",
              "      <td>OMEGA</td>\n",
              "      <td>OMEGA_M</td>\n",
              "      <td>201506</td>\n",
              "      <td>31928.0</td>\n",
              "      <td>0</td>\n",
              "      <td>0</td>\n",
              "      <td>0</td>\n",
              "      <td>0</td>\n",
              "      <td>1</td>\n",
              "      <td>-0.029788</td>\n",
              "    </tr>\n",
              "    <tr>\n",
              "      <th>7</th>\n",
              "      <td>400021185</td>\n",
              "      <td>2964904</td>\n",
              "      <td>641</td>\n",
              "      <td>201507</td>\n",
              "      <td>63.0</td>\n",
              "      <td>C_CON NEGOCIO/F</td>\n",
              "      <td>293.0</td>\n",
              "      <td>1.0</td>\n",
              "      <td>443.0</td>\n",
              "      <td>0.0</td>\n",
              "      <td>1.0</td>\n",
              "      <td>0.148270</td>\n",
              "      <td>OMEGA</td>\n",
              "      <td>OMEGA_M</td>\n",
              "      <td>201507</td>\n",
              "      <td>10264.0</td>\n",
              "      <td>0</td>\n",
              "      <td>0</td>\n",
              "      <td>0</td>\n",
              "      <td>0</td>\n",
              "      <td>1</td>\n",
              "      <td>-0.862815</td>\n",
              "    </tr>\n",
              "    <tr>\n",
              "      <th>8</th>\n",
              "      <td>400021193</td>\n",
              "      <td>1800703853</td>\n",
              "      <td>682</td>\n",
              "      <td>201507</td>\n",
              "      <td>44.0</td>\n",
              "      <td>A_CON NEGOCIO/M</td>\n",
              "      <td>26.0</td>\n",
              "      <td>NaN</td>\n",
              "      <td>NaN</td>\n",
              "      <td>0.0</td>\n",
              "      <td>1.0</td>\n",
              "      <td>NaN</td>\n",
              "      <td>OMEGA</td>\n",
              "      <td>OMEGA_M</td>\n",
              "      <td>201507</td>\n",
              "      <td>29174.0</td>\n",
              "      <td>0</td>\n",
              "      <td>0</td>\n",
              "      <td>0</td>\n",
              "      <td>1</td>\n",
              "      <td>1</td>\n",
              "      <td>0.320722</td>\n",
              "    </tr>\n",
              "    <tr>\n",
              "      <th>9</th>\n",
              "      <td>400021250</td>\n",
              "      <td>1124604</td>\n",
              "      <td>695</td>\n",
              "      <td>201507</td>\n",
              "      <td>46.0</td>\n",
              "      <td>D_EMPLEADO O ASALARIADO/F</td>\n",
              "      <td>90.0</td>\n",
              "      <td>NaN</td>\n",
              "      <td>90.0</td>\n",
              "      <td>0.0</td>\n",
              "      <td>1.0</td>\n",
              "      <td>NaN</td>\n",
              "      <td>OMEGA</td>\n",
              "      <td>OMEGA_M</td>\n",
              "      <td>201507</td>\n",
              "      <td>21731.0</td>\n",
              "      <td>0</td>\n",
              "      <td>0</td>\n",
              "      <td>0</td>\n",
              "      <td>0</td>\n",
              "      <td>1</td>\n",
              "      <td>0.320722</td>\n",
              "    </tr>\n",
              "  </tbody>\n",
              "</table>\n",
              "</div>"
            ],
            "text/plain": [
              "    CONTRATO  NUM_CLIENTE  BC_SCORE  ...  FLAG_3PV_18  FLAG_DESEMBOLSADO  edad_woe\n",
              "0  400015808      1953462       660  ...            1                  1  0.652557\n",
              "1  400015823       772865       663  ...            0                  1 -0.862815\n",
              "2  400015912      3873005       561  ...            0                  1  0.320722\n",
              "3  400015973       776366       724  ...            0                  1  0.320722\n",
              "4  400014820       347497       713  ...            0                  1  0.320722\n",
              "5  400018477      1011052       631  ...            0                  1 -0.249831\n",
              "6  400018510   1800455250       661  ...            0                  1 -0.029788\n",
              "7  400021185      2964904       641  ...            0                  1 -0.862815\n",
              "8  400021193   1800703853       682  ...            1                  1  0.320722\n",
              "9  400021250      1124604       695  ...            0                  1  0.320722\n",
              "\n",
              "[10 rows x 22 columns]"
            ]
          },
          "metadata": {
            "tags": []
          },
          "execution_count": 16
        }
      ]
    },
    {
      "cell_type": "code",
      "metadata": {
        "id": "g9YpMv6PV-0w",
        "colab_type": "code",
        "colab": {}
      },
      "source": [
        ""
      ],
      "execution_count": 0,
      "outputs": []
    },
    {
      "cell_type": "code",
      "metadata": {
        "id": "KSGBWASnAIGE",
        "colab_type": "code",
        "colab": {}
      },
      "source": [
        ""
      ],
      "execution_count": 0,
      "outputs": []
    }
  ]
}