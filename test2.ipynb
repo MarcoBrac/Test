{
  "nbformat": 4,
  "nbformat_minor": 0,
  "metadata": {
    "colab": {
      "name": "test2",
      "provenance": [],
      "collapsed_sections": [],
      "include_colab_link": true
    },
    "kernelspec": {
      "name": "python3",
      "display_name": "Python 3"
    },
    "accelerator": "GPU"
  },
  "cells": [
    {
      "cell_type": "markdown",
      "metadata": {
        "id": "view-in-github",
        "colab_type": "text"
      },
      "source": [
        "<a href=\"https://colab.research.google.com/github/MarcoBrac/Test/blob/master/test2.ipynb\" target=\"_parent\"><img src=\"https://colab.research.google.com/assets/colab-badge.svg\" alt=\"Open In Colab\"/></a>"
      ]
    },
    {
      "cell_type": "code",
      "metadata": {
        "id": "c6URWxj1z0nY",
        "colab_type": "code",
        "colab": {}
      },
      "source": [
        "from google.colab import drive\n",
        "from google.colab import files\n",
        "\n",
        "import pandas as pd\n",
        "import numpy as np\n",
        "\n",
        "from sklearn.linear_model import LogisticRegression\n",
        "from sklearn import datasets\n",
        "from sklearn.preprocessing import StandardScaler\n"
      ],
      "execution_count": 0,
      "outputs": []
    },
    {
      "cell_type": "code",
      "metadata": {
        "id": "pIbUmFOV7Onq",
        "colab_type": "code",
        "colab": {}
      },
      "source": [
        "#drive.mount('/content/drive')"
      ],
      "execution_count": 0,
      "outputs": []
    },
    {
      "cell_type": "code",
      "metadata": {
        "id": "au0lLqSY0uXk",
        "colab_type": "code",
        "colab": {}
      },
      "source": [
        "#!head TABLA_MODELO_HIT_3.csv"
      ],
      "execution_count": 0,
      "outputs": []
    },
    {
      "cell_type": "code",
      "metadata": {
        "id": "ObxRPaZ00us5",
        "colab_type": "code",
        "outputId": "7b35a5b9-3de9-4bf6-c10e-fb018fd57abb",
        "colab": {
          "resources": {
            "http://localhost:8080/nbextensions/google.colab/files.js": {
              "data": "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",
              "ok": true,
              "headers": [
                [
                  "content-type",
                  "application/javascript"
                ]
              ],
              "status": 200,
              "status_text": "OK"
            }
          },
          "base_uri": "https://localhost:8080/",
          "height": 72
        }
      },
      "source": [
        " uploaded = files.upload()"
      ],
      "execution_count": 3,
      "outputs": [
        {
          "output_type": "display_data",
          "data": {
            "text/html": [
              "\n",
              "     <input type=\"file\" id=\"files-476b81cd-9d42-4fbc-ba69-550187f6a21e\" name=\"files[]\" multiple disabled />\n",
              "     <output id=\"result-476b81cd-9d42-4fbc-ba69-550187f6a21e\">\n",
              "      Upload widget is only available when the cell has been executed in the\n",
              "      current browser session. Please rerun this cell to enable.\n",
              "      </output>\n",
              "      <script src=\"/nbextensions/google.colab/files.js\"></script> "
            ],
            "text/plain": [
              "<IPython.core.display.HTML object>"
            ]
          },
          "metadata": {
            "tags": []
          }
        },
        {
          "output_type": "stream",
          "text": [
            "Saving TABLA_MODELO_HIT_3.csv to TABLA_MODELO_HIT_3.csv\n"
          ],
          "name": "stdout"
        }
      ]
    },
    {
      "cell_type": "code",
      "metadata": {
        "id": "1HqDslft316N",
        "colab_type": "code",
        "colab": {}
      },
      "source": [
        "df1 = pd.read_csv('TABLA_MODELO_HIT_3.csv' ) "
      ],
      "execution_count": 0,
      "outputs": []
    },
    {
      "cell_type": "code",
      "metadata": {
        "id": "D302R1Y-4T2z",
        "colab_type": "code",
        "outputId": "0b44e971-0c42-4e46-bd00-260c9c705207",
        "colab": {
          "base_uri": "https://localhost:8080/",
          "height": 276
        }
      },
      "source": [
        "#df1.head()"
      ],
      "execution_count": 5,
      "outputs": [
        {
          "output_type": "execute_result",
          "data": {
            "text/html": [
              "<div>\n",
              "<style scoped>\n",
              "    .dataframe tbody tr th:only-of-type {\n",
              "        vertical-align: middle;\n",
              "    }\n",
              "\n",
              "    .dataframe tbody tr th {\n",
              "        vertical-align: top;\n",
              "    }\n",
              "\n",
              "    .dataframe thead th {\n",
              "        text-align: right;\n",
              "    }\n",
              "</style>\n",
              "<table border=\"1\" class=\"dataframe\">\n",
              "  <thead>\n",
              "    <tr style=\"text-align: right;\">\n",
              "      <th></th>\n",
              "      <th>CONTRATO</th>\n",
              "      <th>NUM_CLIENTE</th>\n",
              "      <th>BC_SCORE</th>\n",
              "      <th>COSECHA</th>\n",
              "      <th>EDAD</th>\n",
              "      <th>OCPUACION_SEXO</th>\n",
              "      <th>CUENTA_MAS_ANTIGUA_BANCO</th>\n",
              "      <th>MAX_MOP_6M_AB_TDC</th>\n",
              "      <th>CUENTA_MAS_ANTIGUA_TDC</th>\n",
              "      <th>SALDO_VENCIDO_ABIERTAS</th>\n",
              "      <th>MAX_MOP_6M</th>\n",
              "      <th>PORC_UTILIZ_ENTRE_CUENT_REV_AB</th>\n",
              "      <th>PRODUCTO</th>\n",
              "      <th>SUB_PRODUCTO</th>\n",
              "      <th>VINTAGE</th>\n",
              "      <th>AMOUNT</th>\n",
              "      <th>FLAG_1PV_3</th>\n",
              "      <th>FLAG_2PV_6</th>\n",
              "      <th>FLAG_3PV_12</th>\n",
              "      <th>FLAG_3PV_18</th>\n",
              "      <th>FLAG_DESEMBOLSADO</th>\n",
              "    </tr>\n",
              "  </thead>\n",
              "  <tbody>\n",
              "    <tr>\n",
              "      <th>0</th>\n",
              "      <td>400015808</td>\n",
              "      <td>1953462</td>\n",
              "      <td>660</td>\n",
              "      <td>201505</td>\n",
              "      <td>37.0</td>\n",
              "      <td>C_CON NEGOCIO/F</td>\n",
              "      <td>31.0</td>\n",
              "      <td>NaN</td>\n",
              "      <td>NaN</td>\n",
              "      <td>0.0</td>\n",
              "      <td>9.0</td>\n",
              "      <td>NaN</td>\n",
              "      <td>OMEGA</td>\n",
              "      <td>OMEGA_M</td>\n",
              "      <td>201505</td>\n",
              "      <td>11728.0</td>\n",
              "      <td>0</td>\n",
              "      <td>1</td>\n",
              "      <td>1</td>\n",
              "      <td>1</td>\n",
              "      <td>1</td>\n",
              "    </tr>\n",
              "    <tr>\n",
              "      <th>1</th>\n",
              "      <td>400015823</td>\n",
              "      <td>772865</td>\n",
              "      <td>663</td>\n",
              "      <td>201505</td>\n",
              "      <td>64.0</td>\n",
              "      <td>F_JUBILADO/F</td>\n",
              "      <td>94.0</td>\n",
              "      <td>2.0</td>\n",
              "      <td>187.0</td>\n",
              "      <td>511.0</td>\n",
              "      <td>2.0</td>\n",
              "      <td>0.219478</td>\n",
              "      <td>OMEGA</td>\n",
              "      <td>OMEGA_M</td>\n",
              "      <td>201505</td>\n",
              "      <td>17191.0</td>\n",
              "      <td>0</td>\n",
              "      <td>0</td>\n",
              "      <td>0</td>\n",
              "      <td>0</td>\n",
              "      <td>1</td>\n",
              "    </tr>\n",
              "    <tr>\n",
              "      <th>2</th>\n",
              "      <td>400015912</td>\n",
              "      <td>3873005</td>\n",
              "      <td>561</td>\n",
              "      <td>201505</td>\n",
              "      <td>41.0</td>\n",
              "      <td>A_CON NEGOCIO/M</td>\n",
              "      <td>28.0</td>\n",
              "      <td>NaN</td>\n",
              "      <td>NaN</td>\n",
              "      <td>4662.0</td>\n",
              "      <td>7.0</td>\n",
              "      <td>NaN</td>\n",
              "      <td>OMEGA</td>\n",
              "      <td>OMEGA_M</td>\n",
              "      <td>201505</td>\n",
              "      <td>5897.0</td>\n",
              "      <td>0</td>\n",
              "      <td>0</td>\n",
              "      <td>0</td>\n",
              "      <td>0</td>\n",
              "      <td>1</td>\n",
              "    </tr>\n",
              "    <tr>\n",
              "      <th>3</th>\n",
              "      <td>400015973</td>\n",
              "      <td>776366</td>\n",
              "      <td>724</td>\n",
              "      <td>201505</td>\n",
              "      <td>44.0</td>\n",
              "      <td>C_CON NEGOCIO/F</td>\n",
              "      <td>NaN</td>\n",
              "      <td>1.0</td>\n",
              "      <td>18.0</td>\n",
              "      <td>0.0</td>\n",
              "      <td>1.0</td>\n",
              "      <td>0.104229</td>\n",
              "      <td>OMEGA</td>\n",
              "      <td>OMEGA_M</td>\n",
              "      <td>201505</td>\n",
              "      <td>8000.0</td>\n",
              "      <td>0</td>\n",
              "      <td>0</td>\n",
              "      <td>0</td>\n",
              "      <td>0</td>\n",
              "      <td>1</td>\n",
              "    </tr>\n",
              "    <tr>\n",
              "      <th>4</th>\n",
              "      <td>400014820</td>\n",
              "      <td>347497</td>\n",
              "      <td>713</td>\n",
              "      <td>201505</td>\n",
              "      <td>40.0</td>\n",
              "      <td>C_CON NEGOCIO/F</td>\n",
              "      <td>49.0</td>\n",
              "      <td>1.0</td>\n",
              "      <td>42.0</td>\n",
              "      <td>0.0</td>\n",
              "      <td>1.0</td>\n",
              "      <td>0.034422</td>\n",
              "      <td>OMEGA</td>\n",
              "      <td>OMEGA_M</td>\n",
              "      <td>201505</td>\n",
              "      <td>29686.0</td>\n",
              "      <td>0</td>\n",
              "      <td>0</td>\n",
              "      <td>0</td>\n",
              "      <td>0</td>\n",
              "      <td>1</td>\n",
              "    </tr>\n",
              "  </tbody>\n",
              "</table>\n",
              "</div>"
            ],
            "text/plain": [
              "    CONTRATO  NUM_CLIENTE  ...  FLAG_3PV_18  FLAG_DESEMBOLSADO\n",
              "0  400015808      1953462  ...            1                  1\n",
              "1  400015823       772865  ...            0                  1\n",
              "2  400015912      3873005  ...            0                  1\n",
              "3  400015973       776366  ...            0                  1\n",
              "4  400014820       347497  ...            0                  1\n",
              "\n",
              "[5 rows x 21 columns]"
            ]
          },
          "metadata": {
            "tags": []
          },
          "execution_count": 5
        }
      ]
    },
    {
      "cell_type": "code",
      "metadata": {
        "id": "wRlVcKHd4rIT",
        "colab_type": "code",
        "colab": {}
      },
      "source": [
        "df2 = df1.copy()"
      ],
      "execution_count": 0,
      "outputs": []
    },
    {
      "cell_type": "code",
      "metadata": {
        "colab_type": "code",
        "id": "e-KJCVm-8CoD",
        "colab": {}
      },
      "source": [
        "df2 = df2[df2.COSECHA >= 201600]"
      ],
      "execution_count": 0,
      "outputs": []
    },
    {
      "cell_type": "code",
      "metadata": {
        "id": "b8l-IpQa79rL",
        "colab_type": "code",
        "colab": {}
      },
      "source": [
        "df2 = df2[df2['EDAD'].isnull() == False]"
      ],
      "execution_count": 0,
      "outputs": []
    },
    {
      "cell_type": "code",
      "metadata": {
        "id": "dXLm8BjFBOnJ",
        "colab_type": "code",
        "colab": {}
      },
      "source": [
        "df2['TARGET'] = df2.FLAG_3PV_18"
      ],
      "execution_count": 0,
      "outputs": []
    },
    {
      "cell_type": "code",
      "metadata": {
        "id": "nIXav4GmBYE8",
        "colab_type": "code",
        "colab": {}
      },
      "source": [
        "#df2.head()"
      ],
      "execution_count": 0,
      "outputs": []
    },
    {
      "cell_type": "code",
      "metadata": {
        "id": "295_NLEhWKWo",
        "colab_type": "code",
        "outputId": "28aadb49-bc24-4e28-f055-38ea1d548b91",
        "colab": {
          "base_uri": "https://localhost:8080/",
          "height": 131
        }
      },
      "source": [
        "df2.columns"
      ],
      "execution_count": 120,
      "outputs": [
        {
          "output_type": "execute_result",
          "data": {
            "text/plain": [
              "Index(['CONTRATO', 'NUM_CLIENTE', 'BC_SCORE', 'COSECHA', 'EDAD',\n",
              "       'OCPUACION_SEXO', 'CUENTA_MAS_ANTIGUA_BANCO', 'MAX_MOP_6M_AB_TDC',\n",
              "       'CUENTA_MAS_ANTIGUA_TDC', 'SALDO_VENCIDO_ABIERTAS', 'MAX_MOP_6M',\n",
              "       'PORC_UTILIZ_ENTRE_CUENT_REV_AB', 'PRODUCTO', 'SUB_PRODUCTO', 'VINTAGE',\n",
              "       'AMOUNT', 'FLAG_1PV_3', 'FLAG_2PV_6', 'FLAG_3PV_12', 'FLAG_3PV_18',\n",
              "       'FLAG_DESEMBOLSADO', 'TARGET'],\n",
              "      dtype='object')"
            ]
          },
          "metadata": {
            "tags": []
          },
          "execution_count": 120
        }
      ]
    },
    {
      "cell_type": "code",
      "metadata": {
        "id": "FiN00gMtAHio",
        "colab_type": "code",
        "colab": {}
      },
      "source": [
        "vars_num = ['CUENTA_MAS_ANTIGUA_BANCO', 'MAX_MOP_6M_AB_TDC', 'CUENTA_MAS_ANTIGUA_TDC' , 'SALDO_VENCIDO_ABIERTAS', 'MAX_MOP_6M', 'PORC_UTILIZ_ENTRE_CUENT_REV_AB']\n",
        "vars_fac = ['EDAD','OCPUACION_SEXO']"
      ],
      "execution_count": 0,
      "outputs": []
    },
    {
      "cell_type": "code",
      "metadata": {
        "id": "s95cIGQ9AHw2",
        "colab_type": "code",
        "colab": {}
      },
      "source": [
        "for v in vars_fac:\n",
        "    aux = df2[[v,'TARGET']].copy()\n",
        "    aux['n'] = 1\n",
        "    aux = aux.pivot_table(index=v,columns='TARGET',aggfunc='count')\n",
        "    aux.columns=aux.columns.droplevel()\n",
        "    aux.reset_index(inplace=True)\n",
        "    for i in range(2):\n",
        "        aux[i]/=aux[i].sum()\n",
        "    aux['woe'] =np.log(aux[0]/aux[1])\n",
        "    df2 = df2.merge(aux[['woe',v]],how='inner',on=v)\n",
        "    df2.rename(columns={'woe':'W_%s'%v},inplace=True)"
      ],
      "execution_count": 0,
      "outputs": []
    },
    {
      "cell_type": "code",
      "metadata": {
        "id": "QlU4N4AGAH8U",
        "colab_type": "code",
        "colab": {
          "base_uri": "https://localhost:8080/",
          "height": 517
        },
        "outputId": "ee4ae5fa-76dc-426d-c0b4-3a21675fd5c9"
      },
      "source": [
        "df2.head(10)"
      ],
      "execution_count": 123,
      "outputs": [
        {
          "output_type": "execute_result",
          "data": {
            "text/html": [
              "<div>\n",
              "<style scoped>\n",
              "    .dataframe tbody tr th:only-of-type {\n",
              "        vertical-align: middle;\n",
              "    }\n",
              "\n",
              "    .dataframe tbody tr th {\n",
              "        vertical-align: top;\n",
              "    }\n",
              "\n",
              "    .dataframe thead th {\n",
              "        text-align: right;\n",
              "    }\n",
              "</style>\n",
              "<table border=\"1\" class=\"dataframe\">\n",
              "  <thead>\n",
              "    <tr style=\"text-align: right;\">\n",
              "      <th></th>\n",
              "      <th>CONTRATO</th>\n",
              "      <th>NUM_CLIENTE</th>\n",
              "      <th>BC_SCORE</th>\n",
              "      <th>COSECHA</th>\n",
              "      <th>EDAD</th>\n",
              "      <th>OCPUACION_SEXO</th>\n",
              "      <th>CUENTA_MAS_ANTIGUA_BANCO</th>\n",
              "      <th>MAX_MOP_6M_AB_TDC</th>\n",
              "      <th>CUENTA_MAS_ANTIGUA_TDC</th>\n",
              "      <th>SALDO_VENCIDO_ABIERTAS</th>\n",
              "      <th>MAX_MOP_6M</th>\n",
              "      <th>PORC_UTILIZ_ENTRE_CUENT_REV_AB</th>\n",
              "      <th>PRODUCTO</th>\n",
              "      <th>SUB_PRODUCTO</th>\n",
              "      <th>VINTAGE</th>\n",
              "      <th>AMOUNT</th>\n",
              "      <th>FLAG_1PV_3</th>\n",
              "      <th>FLAG_2PV_6</th>\n",
              "      <th>FLAG_3PV_12</th>\n",
              "      <th>FLAG_3PV_18</th>\n",
              "      <th>FLAG_DESEMBOLSADO</th>\n",
              "      <th>TARGET</th>\n",
              "      <th>W_EDAD</th>\n",
              "      <th>W_OCPUACION_SEXO</th>\n",
              "    </tr>\n",
              "  </thead>\n",
              "  <tbody>\n",
              "    <tr>\n",
              "      <th>0</th>\n",
              "      <td>400047237</td>\n",
              "      <td>2189555</td>\n",
              "      <td>662</td>\n",
              "      <td>201602</td>\n",
              "      <td>41.0</td>\n",
              "      <td>C_CON NEGOCIO/F</td>\n",
              "      <td>9.0</td>\n",
              "      <td>NaN</td>\n",
              "      <td>NaN</td>\n",
              "      <td>0.0</td>\n",
              "      <td>1.0</td>\n",
              "      <td>NaN</td>\n",
              "      <td>OMEGA</td>\n",
              "      <td>OMEGA_M</td>\n",
              "      <td>201602</td>\n",
              "      <td>13233.0</td>\n",
              "      <td>0</td>\n",
              "      <td>0</td>\n",
              "      <td>0</td>\n",
              "      <td>0</td>\n",
              "      <td>1</td>\n",
              "      <td>0</td>\n",
              "      <td>-0.316741</td>\n",
              "      <td>0.0199</td>\n",
              "    </tr>\n",
              "    <tr>\n",
              "      <th>1</th>\n",
              "      <td>400044595</td>\n",
              "      <td>1137075</td>\n",
              "      <td>700</td>\n",
              "      <td>201601</td>\n",
              "      <td>41.0</td>\n",
              "      <td>C_CON NEGOCIO/F</td>\n",
              "      <td>30.0</td>\n",
              "      <td>NaN</td>\n",
              "      <td>NaN</td>\n",
              "      <td>0.0</td>\n",
              "      <td>1.0</td>\n",
              "      <td>NaN</td>\n",
              "      <td>OMEGA</td>\n",
              "      <td>OMEGA_M</td>\n",
              "      <td>201601</td>\n",
              "      <td>18604.0</td>\n",
              "      <td>0</td>\n",
              "      <td>0</td>\n",
              "      <td>0</td>\n",
              "      <td>1</td>\n",
              "      <td>1</td>\n",
              "      <td>1</td>\n",
              "      <td>-0.316741</td>\n",
              "      <td>0.0199</td>\n",
              "    </tr>\n",
              "    <tr>\n",
              "      <th>2</th>\n",
              "      <td>400049282</td>\n",
              "      <td>1097485</td>\n",
              "      <td>674</td>\n",
              "      <td>201603</td>\n",
              "      <td>41.0</td>\n",
              "      <td>C_CON NEGOCIO/F</td>\n",
              "      <td>40.0</td>\n",
              "      <td>NaN</td>\n",
              "      <td>NaN</td>\n",
              "      <td>0.0</td>\n",
              "      <td>1.0</td>\n",
              "      <td>NaN</td>\n",
              "      <td>OMEGA</td>\n",
              "      <td>OMEGA_M</td>\n",
              "      <td>201603</td>\n",
              "      <td>17860.0</td>\n",
              "      <td>0</td>\n",
              "      <td>0</td>\n",
              "      <td>0</td>\n",
              "      <td>1</td>\n",
              "      <td>1</td>\n",
              "      <td>1</td>\n",
              "      <td>-0.316741</td>\n",
              "      <td>0.0199</td>\n",
              "    </tr>\n",
              "    <tr>\n",
              "      <th>3</th>\n",
              "      <td>400045142</td>\n",
              "      <td>1801043784</td>\n",
              "      <td>658</td>\n",
              "      <td>201601</td>\n",
              "      <td>41.0</td>\n",
              "      <td>C_CON NEGOCIO/F</td>\n",
              "      <td>NaN</td>\n",
              "      <td>NaN</td>\n",
              "      <td>NaN</td>\n",
              "      <td>0.0</td>\n",
              "      <td>2.0</td>\n",
              "      <td>NaN</td>\n",
              "      <td>OMEGA</td>\n",
              "      <td>OMEGA_M</td>\n",
              "      <td>201601</td>\n",
              "      <td>12924.0</td>\n",
              "      <td>0</td>\n",
              "      <td>0</td>\n",
              "      <td>0</td>\n",
              "      <td>0</td>\n",
              "      <td>1</td>\n",
              "      <td>0</td>\n",
              "      <td>-0.316741</td>\n",
              "      <td>0.0199</td>\n",
              "    </tr>\n",
              "    <tr>\n",
              "      <th>4</th>\n",
              "      <td>400048056</td>\n",
              "      <td>1800964301</td>\n",
              "      <td>606</td>\n",
              "      <td>201602</td>\n",
              "      <td>41.0</td>\n",
              "      <td>C_CON NEGOCIO/F</td>\n",
              "      <td>163.0</td>\n",
              "      <td>1.0</td>\n",
              "      <td>163.0</td>\n",
              "      <td>290.0</td>\n",
              "      <td>5.0</td>\n",
              "      <td>0.961808</td>\n",
              "      <td>OMEGA</td>\n",
              "      <td>OMEGA_M</td>\n",
              "      <td>201602</td>\n",
              "      <td>11290.0</td>\n",
              "      <td>0</td>\n",
              "      <td>0</td>\n",
              "      <td>0</td>\n",
              "      <td>1</td>\n",
              "      <td>1</td>\n",
              "      <td>1</td>\n",
              "      <td>-0.316741</td>\n",
              "      <td>0.0199</td>\n",
              "    </tr>\n",
              "    <tr>\n",
              "      <th>5</th>\n",
              "      <td>400044441</td>\n",
              "      <td>1022797</td>\n",
              "      <td>663</td>\n",
              "      <td>201601</td>\n",
              "      <td>41.0</td>\n",
              "      <td>C_CON NEGOCIO/F</td>\n",
              "      <td>73.0</td>\n",
              "      <td>NaN</td>\n",
              "      <td>NaN</td>\n",
              "      <td>0.0</td>\n",
              "      <td>1.0</td>\n",
              "      <td>NaN</td>\n",
              "      <td>OMEGA</td>\n",
              "      <td>OMEGA_M</td>\n",
              "      <td>201602</td>\n",
              "      <td>12323.0</td>\n",
              "      <td>0</td>\n",
              "      <td>0</td>\n",
              "      <td>0</td>\n",
              "      <td>0</td>\n",
              "      <td>1</td>\n",
              "      <td>0</td>\n",
              "      <td>-0.316741</td>\n",
              "      <td>0.0199</td>\n",
              "    </tr>\n",
              "    <tr>\n",
              "      <th>6</th>\n",
              "      <td>400043430</td>\n",
              "      <td>1077526</td>\n",
              "      <td>557</td>\n",
              "      <td>201601</td>\n",
              "      <td>41.0</td>\n",
              "      <td>C_CON NEGOCIO/F</td>\n",
              "      <td>93.0</td>\n",
              "      <td>5.0</td>\n",
              "      <td>38.0</td>\n",
              "      <td>2900.0</td>\n",
              "      <td>5.0</td>\n",
              "      <td>1.320200</td>\n",
              "      <td>OMEGA</td>\n",
              "      <td>OMEGA_M</td>\n",
              "      <td>201601</td>\n",
              "      <td>16022.0</td>\n",
              "      <td>0</td>\n",
              "      <td>0</td>\n",
              "      <td>0</td>\n",
              "      <td>0</td>\n",
              "      <td>1</td>\n",
              "      <td>0</td>\n",
              "      <td>-0.316741</td>\n",
              "      <td>0.0199</td>\n",
              "    </tr>\n",
              "    <tr>\n",
              "      <th>7</th>\n",
              "      <td>400044708</td>\n",
              "      <td>1800288502</td>\n",
              "      <td>657</td>\n",
              "      <td>201601</td>\n",
              "      <td>41.0</td>\n",
              "      <td>C_CON NEGOCIO/F</td>\n",
              "      <td>85.0</td>\n",
              "      <td>6.0</td>\n",
              "      <td>97.0</td>\n",
              "      <td>0.0</td>\n",
              "      <td>6.0</td>\n",
              "      <td>0.636667</td>\n",
              "      <td>OMEGA</td>\n",
              "      <td>OMEGA_M</td>\n",
              "      <td>201601</td>\n",
              "      <td>18502.0</td>\n",
              "      <td>0</td>\n",
              "      <td>0</td>\n",
              "      <td>0</td>\n",
              "      <td>0</td>\n",
              "      <td>1</td>\n",
              "      <td>0</td>\n",
              "      <td>-0.316741</td>\n",
              "      <td>0.0199</td>\n",
              "    </tr>\n",
              "    <tr>\n",
              "      <th>8</th>\n",
              "      <td>400049229</td>\n",
              "      <td>1801225207</td>\n",
              "      <td>646</td>\n",
              "      <td>201603</td>\n",
              "      <td>41.0</td>\n",
              "      <td>C_CON NEGOCIO/F</td>\n",
              "      <td>72.0</td>\n",
              "      <td>NaN</td>\n",
              "      <td>NaN</td>\n",
              "      <td>0.0</td>\n",
              "      <td>5.0</td>\n",
              "      <td>NaN</td>\n",
              "      <td>OMEGA</td>\n",
              "      <td>OMEGA_M</td>\n",
              "      <td>201603</td>\n",
              "      <td>10610.0</td>\n",
              "      <td>0</td>\n",
              "      <td>0</td>\n",
              "      <td>1</td>\n",
              "      <td>1</td>\n",
              "      <td>1</td>\n",
              "      <td>1</td>\n",
              "      <td>-0.316741</td>\n",
              "      <td>0.0199</td>\n",
              "    </tr>\n",
              "    <tr>\n",
              "      <th>9</th>\n",
              "      <td>400049985</td>\n",
              "      <td>1801750473</td>\n",
              "      <td>676</td>\n",
              "      <td>201603</td>\n",
              "      <td>41.0</td>\n",
              "      <td>C_CON NEGOCIO/F</td>\n",
              "      <td>36.0</td>\n",
              "      <td>NaN</td>\n",
              "      <td>NaN</td>\n",
              "      <td>0.0</td>\n",
              "      <td>1.0</td>\n",
              "      <td>NaN</td>\n",
              "      <td>OMEGA</td>\n",
              "      <td>OMEGA_M</td>\n",
              "      <td>201603</td>\n",
              "      <td>14249.0</td>\n",
              "      <td>0</td>\n",
              "      <td>0</td>\n",
              "      <td>0</td>\n",
              "      <td>0</td>\n",
              "      <td>1</td>\n",
              "      <td>0</td>\n",
              "      <td>-0.316741</td>\n",
              "      <td>0.0199</td>\n",
              "    </tr>\n",
              "  </tbody>\n",
              "</table>\n",
              "</div>"
            ],
            "text/plain": [
              "    CONTRATO  NUM_CLIENTE  BC_SCORE  ...  TARGET    W_EDAD W_OCPUACION_SEXO\n",
              "0  400047237      2189555       662  ...       0 -0.316741           0.0199\n",
              "1  400044595      1137075       700  ...       1 -0.316741           0.0199\n",
              "2  400049282      1097485       674  ...       1 -0.316741           0.0199\n",
              "3  400045142   1801043784       658  ...       0 -0.316741           0.0199\n",
              "4  400048056   1800964301       606  ...       1 -0.316741           0.0199\n",
              "5  400044441      1022797       663  ...       0 -0.316741           0.0199\n",
              "6  400043430      1077526       557  ...       0 -0.316741           0.0199\n",
              "7  400044708   1800288502       657  ...       0 -0.316741           0.0199\n",
              "8  400049229   1801225207       646  ...       1 -0.316741           0.0199\n",
              "9  400049985   1801750473       676  ...       0 -0.316741           0.0199\n",
              "\n",
              "[10 rows x 24 columns]"
            ]
          },
          "metadata": {
            "tags": []
          },
          "execution_count": 123
        }
      ]
    },
    {
      "cell_type": "code",
      "metadata": {
        "id": "aJ6cjj63AIQX",
        "colab_type": "code",
        "colab": {
          "base_uri": "https://localhost:8080/",
          "height": 220
        },
        "outputId": "a77c157a-19c0-493b-a591-bebb8040f974"
      },
      "source": [
        "aux.head(10)"
      ],
      "execution_count": 124,
      "outputs": [
        {
          "output_type": "execute_result",
          "data": {
            "text/html": [
              "<div>\n",
              "<style scoped>\n",
              "    .dataframe tbody tr th:only-of-type {\n",
              "        vertical-align: middle;\n",
              "    }\n",
              "\n",
              "    .dataframe tbody tr th {\n",
              "        vertical-align: top;\n",
              "    }\n",
              "\n",
              "    .dataframe thead th {\n",
              "        text-align: right;\n",
              "    }\n",
              "</style>\n",
              "<table border=\"1\" class=\"dataframe\">\n",
              "  <thead>\n",
              "    <tr style=\"text-align: right;\">\n",
              "      <th>TARGET</th>\n",
              "      <th>OCPUACION_SEXO</th>\n",
              "      <th>0</th>\n",
              "      <th>1</th>\n",
              "      <th>woe</th>\n",
              "    </tr>\n",
              "  </thead>\n",
              "  <tbody>\n",
              "    <tr>\n",
              "      <th>0</th>\n",
              "      <td>A_CON NEGOCIO/M</td>\n",
              "      <td>0.190003</td>\n",
              "      <td>0.290477</td>\n",
              "      <td>-0.424487</td>\n",
              "    </tr>\n",
              "    <tr>\n",
              "      <th>1</th>\n",
              "      <td>B_EMPLEADO O ASALARIADO/M</td>\n",
              "      <td>0.093966</td>\n",
              "      <td>0.100657</td>\n",
              "      <td>-0.068786</td>\n",
              "    </tr>\n",
              "    <tr>\n",
              "      <th>2</th>\n",
              "      <td>C_CON NEGOCIO/F</td>\n",
              "      <td>0.475007</td>\n",
              "      <td>0.465648</td>\n",
              "      <td>0.019900</td>\n",
              "    </tr>\n",
              "    <tr>\n",
              "      <th>3</th>\n",
              "      <td>D_EMPLEADO O ASALARIADO/F</td>\n",
              "      <td>0.128659</td>\n",
              "      <td>0.097626</td>\n",
              "      <td>0.276027</td>\n",
              "    </tr>\n",
              "    <tr>\n",
              "      <th>4</th>\n",
              "      <td>E_JUBILADO/M</td>\n",
              "      <td>0.039664</td>\n",
              "      <td>0.018565</td>\n",
              "      <td>0.759162</td>\n",
              "    </tr>\n",
              "    <tr>\n",
              "      <th>5</th>\n",
              "      <td>F_JUBILADO/F</td>\n",
              "      <td>0.072701</td>\n",
              "      <td>0.027027</td>\n",
              "      <td>0.989517</td>\n",
              "    </tr>\n",
              "  </tbody>\n",
              "</table>\n",
              "</div>"
            ],
            "text/plain": [
              "TARGET             OCPUACION_SEXO         0         1       woe\n",
              "0                 A_CON NEGOCIO/M  0.190003  0.290477 -0.424487\n",
              "1       B_EMPLEADO O ASALARIADO/M  0.093966  0.100657 -0.068786\n",
              "2                 C_CON NEGOCIO/F  0.475007  0.465648  0.019900\n",
              "3       D_EMPLEADO O ASALARIADO/F  0.128659  0.097626  0.276027\n",
              "4                    E_JUBILADO/M  0.039664  0.018565  0.759162\n",
              "5                    F_JUBILADO/F  0.072701  0.027027  0.989517"
            ]
          },
          "metadata": {
            "tags": []
          },
          "execution_count": 124
        }
      ]
    },
    {
      "cell_type": "code",
      "metadata": {
        "id": "l2e86cgRAIZu",
        "colab_type": "code",
        "colab": {
          "base_uri": "https://localhost:8080/",
          "height": 505
        },
        "outputId": "6bee5c55-e185-4623-96d5-cdf51760d60a"
      },
      "source": [
        "for i,v in enumerate(vars_num):\n",
        "    bestk = 0\n",
        "    best_iv = 0\n",
        "    iv = 0\n",
        "    for k in range(2,6):\n",
        "  \n",
        "        aux = df2[[v,'TARGET']].copy()\n",
        "        aux[v] = pd.cut(aux[v],bins=k,include_lowest=True).astype(str)\n",
        "        aux['n'] = 1\n",
        "        aux = aux.pivot_table(index=v,columns='TARGET',aggfunc='count')\n",
        "        aux.columns=aux.columns.droplevel()\n",
        "        aux.reset_index(inplace=True)\n",
        "        for i in range(2):\n",
        "            aux[i]/=aux[i].sum()\n",
        "        aux['woe'] =np.log(aux[0]/aux[1])\n",
        "        aux['iv'] = aux['woe']*(aux[0]-aux[1])\n",
        "\n",
        "        iv = aux['iv'].sum()\n",
        "\n",
        "        print('%d %.6f'%(k,iv))\n",
        "\n",
        "        if (aux['iv'].sum()> best_iv) & (~np.isinf(aux['iv'].sum())):\n",
        "            best_iv = aux['iv'].sum()\n",
        "            bestk = k\n",
        "\n",
        "\n",
        "    aux = df2[[v,'TARGET']].copy()\n",
        "    print(\"best %s %.4f %d\"%(v,best_iv,bestk))\n",
        "    aux[v] = pd.cut(aux[v],bins=bestk,include_lowest=True).astype(str)\n",
        "    aux['n'] = 1\n",
        "    aux = aux.pivot_table(index=v,columns='TARGET',aggfunc='count')\n",
        "    aux.columns=aux.columns.droplevel()\n",
        "    aux.reset_index(inplace=True)\n",
        "    for i in range(2):\n",
        "        aux[i]/=aux[i].sum()\n",
        "    aux['woe'] =np.log(aux[0]/aux[1])\n",
        "    df2[v] = pd.cut(df2[v],bins=bestk,include_lowest=True).astype(str)\n",
        "    df2 = df2.merge(aux[['woe',v]],how='inner',on=v)\n",
        "    df2.rename(columns={'woe':'W_%s'%v},inplace=True)\n"
      ],
      "execution_count": 125,
      "outputs": [
        {
          "output_type": "stream",
          "text": [
            "2 0.032622\n",
            "3 0.055681\n",
            "4 0.069109\n",
            "5 0.102137\n",
            "best CUENTA_MAS_ANTIGUA_BANCO 0.1021 5\n",
            "2 0.100185\n",
            "3 0.102539\n",
            "4 0.112386\n",
            "5 0.115887\n",
            "best MAX_MOP_6M_AB_TDC 0.1159 5\n",
            "2 0.098822\n",
            "3 0.119889\n",
            "4 0.122845\n",
            "5 0.124583\n",
            "best CUENTA_MAS_ANTIGUA_TDC 0.1246 5\n",
            "2 0.000794\n",
            "3 0.001076\n",
            "4 0.002606\n",
            "5 0.001848\n",
            "best SALDO_VENCIDO_ABIERTAS 0.0026 4\n",
            "2 0.041278\n",
            "3 0.044383\n",
            "4 0.054279\n",
            "5 0.058689\n",
            "best MAX_MOP_6M 0.0587 5\n",
            "2 0.075072\n",
            "3 0.075402\n",
            "4 0.075150\n",
            "5 0.075156\n",
            "best PORC_UTILIZ_ENTRE_CUENT_REV_AB 0.0754 3\n"
          ],
          "name": "stdout"
        }
      ]
    },
    {
      "cell_type": "code",
      "metadata": {
        "id": "-nKJg6zpAJdZ",
        "colab_type": "code",
        "colab": {
          "base_uri": "https://localhost:8080/",
          "height": 131
        },
        "outputId": "d346aef2-cb14-4fc7-9017-b82c5f499378"
      },
      "source": [
        "df2.CUENTA_MAS_ANTIGUA_BANCO.value_counts(normalize=True)"
      ],
      "execution_count": 109,
      "outputs": [
        {
          "output_type": "execute_result",
          "data": {
            "text/plain": [
              "(-0.5, 99.8]      0.573226\n",
              "(99.8, 199.6]     0.285068\n",
              "nan               0.104186\n",
              "(199.6, 299.4]    0.025972\n",
              "(299.4, 399.2]    0.010329\n",
              "(399.2, 499.0]    0.001220\n",
              "Name: CUENTA_MAS_ANTIGUA_BANCO, dtype: float64"
            ]
          },
          "metadata": {
            "tags": []
          },
          "execution_count": 109
        }
      ]
    },
    {
      "cell_type": "code",
      "metadata": {
        "id": "04m6d6iZAJxq",
        "colab_type": "code",
        "colab": {
          "base_uri": "https://localhost:8080/",
          "height": 131
        },
        "outputId": "7643f9e4-22c3-4f12-c322-4547c1d90c15"
      },
      "source": [
        "df2.MAX_MOP_6M_AB_TDC.value_counts(normalize=True)"
      ],
      "execution_count": 110,
      "outputs": [
        {
          "output_type": "execute_result",
          "data": {
            "text/plain": [
              "(-0.009999999999999998, 1.8]    0.481538\n",
              "nan                             0.369137\n",
              "(1.8, 3.6]                      0.104240\n",
              "(7.2, 9.0]                      0.031448\n",
              "(3.6, 5.4]                      0.009434\n",
              "(5.4, 7.2]                      0.004202\n",
              "Name: MAX_MOP_6M_AB_TDC, dtype: float64"
            ]
          },
          "metadata": {
            "tags": []
          },
          "execution_count": 110
        }
      ]
    },
    {
      "cell_type": "code",
      "metadata": {
        "id": "-JIEAQThAKGk",
        "colab_type": "code",
        "colab": {
          "base_uri": "https://localhost:8080/",
          "height": 131
        },
        "outputId": "799ba280-117c-4b80-b479-adbf19b6981a"
      },
      "source": [
        "df2.CUENTA_MAS_ANTIGUA_TDC.value_counts(normalize=True)"
      ],
      "execution_count": 111,
      "outputs": [
        {
          "output_type": "execute_result",
          "data": {
            "text/plain": [
              "(-0.613, 122.4]    0.516781\n",
              "(122.4, 244.8]     0.221303\n",
              "nan                0.209890\n",
              "(244.8, 367.2]     0.042238\n",
              "(367.2, 489.6]     0.009082\n",
              "(489.6, 612.0]     0.000705\n",
              "Name: CUENTA_MAS_ANTIGUA_TDC, dtype: float64"
            ]
          },
          "metadata": {
            "tags": []
          },
          "execution_count": 111
        }
      ]
    },
    {
      "cell_type": "code",
      "metadata": {
        "id": "3KRJ_Y2IAI2n",
        "colab_type": "code",
        "colab": {
          "base_uri": "https://localhost:8080/",
          "height": 115
        },
        "outputId": "7a7d4fa3-ffb7-489e-cb0b-a950f2df51ff"
      },
      "source": [
        "df2.SALDO_VENCIDO_ABIERTAS.value_counts(normalize=True)"
      ],
      "execution_count": 112,
      "outputs": [
        {
          "output_type": "execute_result",
          "data": {
            "text/plain": [
              "(-463.25399999999996, 115813.25]    0.972618\n",
              "nan                                 0.026379\n",
              "(115813.25, 231626.5]               0.000813\n",
              "(231626.5, 347439.75]               0.000108\n",
              "(347439.75, 463253.0]               0.000081\n",
              "Name: SALDO_VENCIDO_ABIERTAS, dtype: float64"
            ]
          },
          "metadata": {
            "tags": []
          },
          "execution_count": 112
        }
      ]
    },
    {
      "cell_type": "code",
      "metadata": {
        "id": "JrRC5F62AIxR",
        "colab_type": "code",
        "colab": {
          "base_uri": "https://localhost:8080/",
          "height": 131
        },
        "outputId": "687a2bd8-9333-4ac9-9b6f-cbfcfcbe2f9e"
      },
      "source": [
        "df2.MAX_MOP_6M.value_counts(normalize=True)"
      ],
      "execution_count": 113,
      "outputs": [
        {
          "output_type": "execute_result",
          "data": {
            "text/plain": [
              "(-0.009999999999999998, 1.8]    0.604457\n",
              "(1.8, 3.6]                      0.222523\n",
              "(7.2, 9.0]                      0.107087\n",
              "(3.6, 5.4]                      0.029035\n",
              "(5.4, 7.2]                      0.028819\n",
              "nan                             0.008079\n",
              "Name: MAX_MOP_6M, dtype: float64"
            ]
          },
          "metadata": {
            "tags": []
          },
          "execution_count": 113
        }
      ]
    },
    {
      "cell_type": "code",
      "metadata": {
        "id": "goIm4Ua4AIsP",
        "colab_type": "code",
        "colab": {
          "base_uri": "https://localhost:8080/",
          "height": 98
        },
        "outputId": "0f45f232-7be2-4626-adab-0e7cb4d60c83"
      },
      "source": [
        "df2.PORC_UTILIZ_ENTRE_CUENT_REV_AB.value_counts(normalize=True)"
      ],
      "execution_count": 114,
      "outputs": [
        {
          "output_type": "execute_result",
          "data": {
            "text/plain": [
              "(-140.51500000000001, 46838.0]    0.633763\n",
              "nan                               0.366101\n",
              "(46838.0, 93676.0]                0.000108\n",
              "(93676.0, 140514.0]               0.000027\n",
              "Name: PORC_UTILIZ_ENTRE_CUENT_REV_AB, dtype: float64"
            ]
          },
          "metadata": {
            "tags": []
          },
          "execution_count": 114
        }
      ]
    },
    {
      "cell_type": "code",
      "metadata": {
        "id": "QryGUzivAILf",
        "colab_type": "code",
        "colab": {}
      },
      "source": [
        ""
      ],
      "execution_count": 0,
      "outputs": []
    },
    {
      "cell_type": "code",
      "metadata": {
        "id": "Au5cvCBcv6Sm",
        "colab_type": "code",
        "colab": {}
      },
      "source": [
        ""
      ],
      "execution_count": 0,
      "outputs": []
    },
    {
      "cell_type": "code",
      "metadata": {
        "id": "fHLaqzoPAIII",
        "colab_type": "code",
        "colab": {}
      },
      "source": [
        ""
      ],
      "execution_count": 0,
      "outputs": []
    },
    {
      "cell_type": "code",
      "metadata": {
        "id": "4L9GotaEAIDZ",
        "colab_type": "code",
        "colab": {}
      },
      "source": [
        ""
      ],
      "execution_count": 0,
      "outputs": []
    },
    {
      "cell_type": "code",
      "metadata": {
        "id": "97vcYB92AH5K",
        "colab_type": "code",
        "colab": {}
      },
      "source": [
        ""
      ],
      "execution_count": 0,
      "outputs": []
    },
    {
      "cell_type": "code",
      "metadata": {
        "id": "7MAzmdbDAHZS",
        "colab_type": "code",
        "colab": {}
      },
      "source": [
        ""
      ],
      "execution_count": 0,
      "outputs": []
    },
    {
      "cell_type": "code",
      "metadata": {
        "id": "EatmM0qp6G_R",
        "colab_type": "code",
        "colab": {}
      },
      "source": [
        "############################### OCUPACIÓN SEXO\n",
        "def bins_ocup_sex(row):\n",
        "    if  row.OCPUACION_SEXO == 'A_CON NEGOCIO/M':\n",
        "        return 1*0.438337084334697\n",
        "    elif row.OCPUACION_SEXO == 'B_EMPLEADO O ASALARIADO/M':\n",
        "        return 1*0.245752537229401\n",
        "    elif  row.OCPUACION_SEXO == 'C_CON NEGOCIO/F':\n",
        "        return 1*-0.0986946259109583\n",
        "    elif  row.OCPUACION_SEXO == 'D_EMPLEADO O ASALARIADO/F':\n",
        "        return 1*-0.289297648037313\n",
        "    elif  row.OCPUACION_SEXO == 'E_JUBILADO/M':\n",
        "        return 1*-0.859435727384404\n",
        "    else:\n",
        "        return 1*-1.06300066767039"
      ],
      "execution_count": 0,
      "outputs": []
    },
    {
      "cell_type": "code",
      "metadata": {
        "id": "GH9dYxkrWAYP",
        "colab_type": "code",
        "colab": {}
      },
      "source": [
        "###############################EDAD\n",
        "def bins_edad(row):\n",
        "    if  row.EDAD <= 39:\n",
        "        return 1*0.652557304203474\n",
        "    elif row.EDAD <= 46:\n",
        "        return 1*0.32072210601685\n",
        "    elif  row.EDAD <= 51:\n",
        "        return 1*-0.0297882009277696\n",
        "    elif  row.EDAD <= 56:\n",
        "        return 1*-0.249830551211539\n",
        "    elif  row.EDAD <= 61:\n",
        "        return 1*-0.776458288161244\n",
        "    else:\n",
        "        return -0.862815250709056"
      ],
      "execution_count": 0,
      "outputs": []
    },
    {
      "cell_type": "code",
      "metadata": {
        "id": "VSpcS8nSWAu3",
        "colab_type": "code",
        "colab": {}
      },
      "source": [
        "############################### máxima antigÜedad banco \n",
        "def bins_max_mob_bank(row):\n",
        "    if  row.CUENTA_MAS_ANTIGUA_BANCO <= 36:\n",
        "        return 1*0.4177579842355\n",
        "    elif row.CUENTA_MAS_ANTIGUA_BANCO <= 59:\n",
        "        return 1*0.204288134959686\n",
        "    elif  row.CUENTA_MAS_ANTIGUA_BANCO <= 76:\n",
        "        return 1*0.079527302643976\n",
        "    elif  row.CUENTA_MAS_ANTIGUA_BANCO <= 104:\n",
        "        return 1*-0.221813867785179\n",
        "    elif  row.CUENTA_MAS_ANTIGUA_BANCO <= 131:\n",
        "        return 1*-0.474594512237555\n",
        "    elif  row.CUENTA_MAS_ANTIGUA_BANCO <= 499:\n",
        "        return 1*-0.730039690708382\n",
        "    else:\n",
        "        return 1*0.347094881317897"
      ],
      "execution_count": 0,
      "outputs": []
    },
    {
      "cell_type": "code",
      "metadata": {
        "id": "-mJ-KqaqWA74",
        "colab_type": "code",
        "colab": {}
      },
      "source": [
        "################################## pct utilización\n",
        "def bins_pct_util(row):\n",
        "    if  row.PORC_UTILIZ_ENTRE_CUENT_REV_AB <= 0.150290638:\n",
        "        return 1*-0.510375236153387\n",
        "    elif row.PORC_UTILIZ_ENTRE_CUENT_REV_AB <= 140514:\n",
        "        return 1*-0.223185206563544\n",
        "    else:\n",
        "        return 1*0.434261584221614"
      ],
      "execution_count": 0,
      "outputs": []
    },
    {
      "cell_type": "code",
      "metadata": {
        "id": "2uORAMKeWA_Q",
        "colab_type": "code",
        "colab": {}
      },
      "source": [
        "######################################## MÁXIMO MOP TDC\n",
        "\n",
        "def bins_max_mop_6m_ab_tdc(row):\n",
        "    if  row.MAX_MOP_6M_AB_TDC <= 1:\n",
        "        return 1*-0.530853505755427\n",
        "    elif row.MAX_MOP_6M_AB_TDC <= 9:\n",
        "        return 1*-0.0515609497107696\n",
        "    else:\n",
        "        return 1*0.462116439985472"
      ],
      "execution_count": 0,
      "outputs": []
    },
    {
      "cell_type": "code",
      "metadata": {
        "id": "c09qWQ9UWBCI",
        "colab_type": "code",
        "colab": {}
      },
      "source": [
        "############################### máxima antigÜedad TDC \n",
        "def bins_max_mob_tdc(row):\n",
        "    if  row.CUENTA_MAS_ANTIGUA_TDC <= 53:\n",
        "        return 1*0.0872105802631326\n",
        "    elif row.CUENTA_MAS_ANTIGUA_TDC <= 98:\n",
        "        return 1*-0.151627060166407\n",
        "    elif  row.CUENTA_MAS_ANTIGUA_TDC <= 137:\n",
        "        return 1*-0.352600764658328\n",
        "    elif  row.CUENTA_MAS_ANTIGUA_TDC <= 612:\n",
        "        return 1*-0.669246976557249\n",
        "    else:\n",
        "        return 1*0.606962693925261"
      ],
      "execution_count": 0,
      "outputs": []
    },
    {
      "cell_type": "code",
      "metadata": {
        "id": "H3zSVRpcWBFA",
        "colab_type": "code",
        "colab": {}
      },
      "source": [
        "############################## saldo vencido\n",
        "def bins_sdo_vncido(row):\n",
        "    if  row.SALDO_VENCIDO_ABIERTAS <= 1:\n",
        "        return 1*-0.205208313977855\n",
        "    elif row.SALDO_VENCIDO_ABIERTAS <= 463253:\n",
        "        return 1*0.46669257203569\n",
        "    else:\n",
        "        return 1*0.470424547454944"
      ],
      "execution_count": 0,
      "outputs": []
    },
    {
      "cell_type": "code",
      "metadata": {
        "id": "U3W7ZNeOWBHV",
        "colab_type": "code",
        "colab": {}
      },
      "source": [
        "############################## max mop 6m\n",
        "def bins_max_mop_6m(row):\n",
        "    if  row.MAX_MOP_6M <= 1:\n",
        "        return 1*-0.236896747716894\n",
        "    elif row.MAX_MOP_6M <= 2:\n",
        "        return 1*-0.0605113857847795\n",
        "    elif row.MAX_MOP_6M <= 9:\n",
        "        return 1*0.523800086179919\n",
        "    else:\n",
        "        return 1*0.303489425193646"
      ],
      "execution_count": 0,
      "outputs": []
    },
    {
      "cell_type": "code",
      "metadata": {
        "id": "1M6eFrp5WBJy",
        "colab_type": "code",
        "colab": {}
      },
      "source": [
        "df2['edad_woe'] = df2.apply(bins_edad, axis=1)"
      ],
      "execution_count": 0,
      "outputs": []
    },
    {
      "cell_type": "code",
      "metadata": {
        "id": "n-zp-_XoWBMB",
        "colab_type": "code",
        "colab": {}
      },
      "source": [
        "df2['ocup_sex_woe'] = df2.apply(bins_ocup_sex ,axis=1)"
      ],
      "execution_count": 0,
      "outputs": []
    },
    {
      "cell_type": "code",
      "metadata": {
        "id": "QqVQGyPz-vSJ",
        "colab_type": "code",
        "colab": {}
      },
      "source": [
        "df2['max_mob_bank_woe'] = df2.apply(bins_max_mob_bank, axis=1)"
      ],
      "execution_count": 0,
      "outputs": []
    },
    {
      "cell_type": "code",
      "metadata": {
        "id": "rhnsALoM-vbF",
        "colab_type": "code",
        "colab": {}
      },
      "source": [
        "df2['pct_util_woe'] = df2.apply(bins_pct_util, axis=1)"
      ],
      "execution_count": 0,
      "outputs": []
    },
    {
      "cell_type": "code",
      "metadata": {
        "id": "ipkLpAfO-vgt",
        "colab_type": "code",
        "colab": {}
      },
      "source": [
        "df2['max_mop_6m_ab_tdc_woe'] = df2.apply(bins_max_mop_6m_ab_tdc, axis=1)"
      ],
      "execution_count": 0,
      "outputs": []
    },
    {
      "cell_type": "code",
      "metadata": {
        "id": "egPatRKp-vj2",
        "colab_type": "code",
        "colab": {}
      },
      "source": [
        "df2['max_mob_tdc_woe'] = df2.apply(bins_max_mob_tdc, axis=1)"
      ],
      "execution_count": 0,
      "outputs": []
    },
    {
      "cell_type": "code",
      "metadata": {
        "id": "IFrxqUwfWBOz",
        "colab_type": "code",
        "colab": {}
      },
      "source": [
        "df2['sdo_vncido_woe'] = df2.apply(bins_sdo_vncido, axis=1)"
      ],
      "execution_count": 0,
      "outputs": []
    },
    {
      "cell_type": "code",
      "metadata": {
        "id": "yFxNgGj8WBRz",
        "colab_type": "code",
        "colab": {}
      },
      "source": [
        "df2['max_mop_6m_woe'] = df2.apply(bins_max_mop_6m, axis=1)"
      ],
      "execution_count": 0,
      "outputs": []
    },
    {
      "cell_type": "code",
      "metadata": {
        "id": "4xpIOM17_3KM",
        "colab_type": "code",
        "outputId": "c637ded6-3753-412b-ace4-f4436224f22f",
        "colab": {
          "base_uri": "https://localhost:8080/",
          "height": 301
        }
      },
      "source": [
        "df2.head(5)"
      ],
      "execution_count": 0,
      "outputs": [
        {
          "output_type": "execute_result",
          "data": {
            "text/html": [
              "<div>\n",
              "<style scoped>\n",
              "    .dataframe tbody tr th:only-of-type {\n",
              "        vertical-align: middle;\n",
              "    }\n",
              "\n",
              "    .dataframe tbody tr th {\n",
              "        vertical-align: top;\n",
              "    }\n",
              "\n",
              "    .dataframe thead th {\n",
              "        text-align: right;\n",
              "    }\n",
              "</style>\n",
              "<table border=\"1\" class=\"dataframe\">\n",
              "  <thead>\n",
              "    <tr style=\"text-align: right;\">\n",
              "      <th></th>\n",
              "      <th>CONTRATO</th>\n",
              "      <th>NUM_CLIENTE</th>\n",
              "      <th>BC_SCORE</th>\n",
              "      <th>COSECHA</th>\n",
              "      <th>EDAD</th>\n",
              "      <th>OCPUACION_SEXO</th>\n",
              "      <th>CUENTA_MAS_ANTIGUA_BANCO</th>\n",
              "      <th>MAX_MOP_6M_AB_TDC</th>\n",
              "      <th>CUENTA_MAS_ANTIGUA_TDC</th>\n",
              "      <th>SALDO_VENCIDO_ABIERTAS</th>\n",
              "      <th>MAX_MOP_6M</th>\n",
              "      <th>PORC_UTILIZ_ENTRE_CUENT_REV_AB</th>\n",
              "      <th>PRODUCTO</th>\n",
              "      <th>SUB_PRODUCTO</th>\n",
              "      <th>VINTAGE</th>\n",
              "      <th>AMOUNT</th>\n",
              "      <th>FLAG_1PV_3</th>\n",
              "      <th>FLAG_2PV_6</th>\n",
              "      <th>FLAG_3PV_12</th>\n",
              "      <th>FLAG_3PV_18</th>\n",
              "      <th>FLAG_DESEMBOLSADO</th>\n",
              "      <th>edad_woe</th>\n",
              "      <th>ocup_sex_woe</th>\n",
              "      <th>max_mob_bank_woe</th>\n",
              "      <th>pct_util_woe</th>\n",
              "      <th>max_mop_6m_ab_tdc_woe</th>\n",
              "      <th>max_mob_tdc_woe</th>\n",
              "      <th>sdo_vncido_woe</th>\n",
              "      <th>max_mop_6m_woe</th>\n",
              "      <th>edad_bin</th>\n",
              "      <th>ocup_sex_bin</th>\n",
              "      <th>max_mob_bank_bin</th>\n",
              "      <th>pct_util_bin</th>\n",
              "      <th>max_mop_6m_ab_tdc_bin</th>\n",
              "      <th>max_mob_tdc_bin</th>\n",
              "      <th>sdo_vncido_bin</th>\n",
              "      <th>max_mop_6m_bin</th>\n",
              "    </tr>\n",
              "  </thead>\n",
              "  <tbody>\n",
              "    <tr>\n",
              "      <th>2112</th>\n",
              "      <td>400047237</td>\n",
              "      <td>2189555</td>\n",
              "      <td>662</td>\n",
              "      <td>201602</td>\n",
              "      <td>41.0</td>\n",
              "      <td>C_CON NEGOCIO/F</td>\n",
              "      <td>9.0</td>\n",
              "      <td>NaN</td>\n",
              "      <td>NaN</td>\n",
              "      <td>0.0</td>\n",
              "      <td>1.0</td>\n",
              "      <td>NaN</td>\n",
              "      <td>OMEGA</td>\n",
              "      <td>OMEGA_M</td>\n",
              "      <td>201602</td>\n",
              "      <td>13233.0</td>\n",
              "      <td>0</td>\n",
              "      <td>0</td>\n",
              "      <td>0</td>\n",
              "      <td>0</td>\n",
              "      <td>1</td>\n",
              "      <td>0.320722</td>\n",
              "      <td>-0.098695</td>\n",
              "      <td>0.320722</td>\n",
              "      <td>0.320722</td>\n",
              "      <td>0.462116</td>\n",
              "      <td>0.606963</td>\n",
              "      <td>-0.205208</td>\n",
              "      <td>-0.236897</td>\n",
              "      <td>B_40_A_46</td>\n",
              "      <td>-0.098695</td>\n",
              "      <td>B_40_A_46</td>\n",
              "      <td>B_40_A_46</td>\n",
              "      <td>A_SIN_INFORMACION</td>\n",
              "      <td>A_SIN_INFORMACION</td>\n",
              "      <td>C_0_A_1</td>\n",
              "      <td>D_0_A_1</td>\n",
              "    </tr>\n",
              "    <tr>\n",
              "      <th>2113</th>\n",
              "      <td>400047294</td>\n",
              "      <td>1136954</td>\n",
              "      <td>708</td>\n",
              "      <td>201602</td>\n",
              "      <td>51.0</td>\n",
              "      <td>C_CON NEGOCIO/F</td>\n",
              "      <td>NaN</td>\n",
              "      <td>NaN</td>\n",
              "      <td>65.0</td>\n",
              "      <td>0.0</td>\n",
              "      <td>1.0</td>\n",
              "      <td>NaN</td>\n",
              "      <td>OMEGA</td>\n",
              "      <td>OMEGA_M</td>\n",
              "      <td>201602</td>\n",
              "      <td>20000.0</td>\n",
              "      <td>0</td>\n",
              "      <td>0</td>\n",
              "      <td>0</td>\n",
              "      <td>0</td>\n",
              "      <td>1</td>\n",
              "      <td>-0.029788</td>\n",
              "      <td>-0.098695</td>\n",
              "      <td>-0.029788</td>\n",
              "      <td>-0.029788</td>\n",
              "      <td>0.462116</td>\n",
              "      <td>-0.151627</td>\n",
              "      <td>-0.205208</td>\n",
              "      <td>-0.236897</td>\n",
              "      <td>C_47_A_51</td>\n",
              "      <td>-0.098695</td>\n",
              "      <td>C_47_A_51</td>\n",
              "      <td>C_47_A_51</td>\n",
              "      <td>A_SIN_INFORMACION</td>\n",
              "      <td>C_54_A_98</td>\n",
              "      <td>C_0_A_1</td>\n",
              "      <td>D_0_A_1</td>\n",
              "    </tr>\n",
              "    <tr>\n",
              "      <th>2121</th>\n",
              "      <td>400044473</td>\n",
              "      <td>2957012</td>\n",
              "      <td>683</td>\n",
              "      <td>201601</td>\n",
              "      <td>38.0</td>\n",
              "      <td>A_CON NEGOCIO/M</td>\n",
              "      <td>38.0</td>\n",
              "      <td>1.0</td>\n",
              "      <td>16.0</td>\n",
              "      <td>0.0</td>\n",
              "      <td>1.0</td>\n",
              "      <td>0.202786</td>\n",
              "      <td>OMEGA</td>\n",
              "      <td>OMEGA_M</td>\n",
              "      <td>201601</td>\n",
              "      <td>11892.0</td>\n",
              "      <td>0</td>\n",
              "      <td>0</td>\n",
              "      <td>0</td>\n",
              "      <td>0</td>\n",
              "      <td>1</td>\n",
              "      <td>0.652557</td>\n",
              "      <td>0.438337</td>\n",
              "      <td>0.652557</td>\n",
              "      <td>0.652557</td>\n",
              "      <td>-0.530854</td>\n",
              "      <td>0.087211</td>\n",
              "      <td>-0.205208</td>\n",
              "      <td>-0.236897</td>\n",
              "      <td>A_20_A_39</td>\n",
              "      <td>0.438337</td>\n",
              "      <td>A_20_A_39</td>\n",
              "      <td>A_20_A_39</td>\n",
              "      <td>C_0_A_1</td>\n",
              "      <td>B_0_A_53</td>\n",
              "      <td>C_0_A_1</td>\n",
              "      <td>D_0_A_1</td>\n",
              "    </tr>\n",
              "    <tr>\n",
              "      <th>2122</th>\n",
              "      <td>400044567</td>\n",
              "      <td>1800814618</td>\n",
              "      <td>691</td>\n",
              "      <td>201601</td>\n",
              "      <td>31.0</td>\n",
              "      <td>C_CON NEGOCIO/F</td>\n",
              "      <td>84.0</td>\n",
              "      <td>NaN</td>\n",
              "      <td>84.0</td>\n",
              "      <td>0.0</td>\n",
              "      <td>1.0</td>\n",
              "      <td>NaN</td>\n",
              "      <td>OMEGA</td>\n",
              "      <td>OMEGA_M</td>\n",
              "      <td>201601</td>\n",
              "      <td>10968.0</td>\n",
              "      <td>0</td>\n",
              "      <td>1</td>\n",
              "      <td>1</td>\n",
              "      <td>1</td>\n",
              "      <td>1</td>\n",
              "      <td>0.652557</td>\n",
              "      <td>-0.098695</td>\n",
              "      <td>0.652557</td>\n",
              "      <td>0.652557</td>\n",
              "      <td>0.462116</td>\n",
              "      <td>-0.151627</td>\n",
              "      <td>-0.205208</td>\n",
              "      <td>-0.236897</td>\n",
              "      <td>A_20_A_39</td>\n",
              "      <td>-0.098695</td>\n",
              "      <td>A_20_A_39</td>\n",
              "      <td>A_20_A_39</td>\n",
              "      <td>A_SIN_INFORMACION</td>\n",
              "      <td>C_54_A_98</td>\n",
              "      <td>C_0_A_1</td>\n",
              "      <td>D_0_A_1</td>\n",
              "    </tr>\n",
              "    <tr>\n",
              "      <th>2123</th>\n",
              "      <td>400044630</td>\n",
              "      <td>1093288</td>\n",
              "      <td>593</td>\n",
              "      <td>201601</td>\n",
              "      <td>54.0</td>\n",
              "      <td>C_CON NEGOCIO/F</td>\n",
              "      <td>150.0</td>\n",
              "      <td>1.0</td>\n",
              "      <td>150.0</td>\n",
              "      <td>0.0</td>\n",
              "      <td>4.0</td>\n",
              "      <td>0.794667</td>\n",
              "      <td>OMEGA</td>\n",
              "      <td>OMEGA_M</td>\n",
              "      <td>201602</td>\n",
              "      <td>13615.0</td>\n",
              "      <td>0</td>\n",
              "      <td>0</td>\n",
              "      <td>0</td>\n",
              "      <td>0</td>\n",
              "      <td>1</td>\n",
              "      <td>-0.249831</td>\n",
              "      <td>-0.098695</td>\n",
              "      <td>-0.249831</td>\n",
              "      <td>-0.249831</td>\n",
              "      <td>-0.530854</td>\n",
              "      <td>-0.669247</td>\n",
              "      <td>-0.205208</td>\n",
              "      <td>0.523800</td>\n",
              "      <td>D_52_A_56</td>\n",
              "      <td>-0.098695</td>\n",
              "      <td>D_52_A_56</td>\n",
              "      <td>D_52_A_56</td>\n",
              "      <td>C_0_A_1</td>\n",
              "      <td>E_138_A_612</td>\n",
              "      <td>C_0_A_1</td>\n",
              "      <td>A_3_9</td>\n",
              "    </tr>\n",
              "  </tbody>\n",
              "</table>\n",
              "</div>"
            ],
            "text/plain": [
              "       CONTRATO  NUM_CLIENTE  ...  sdo_vncido_bin  max_mop_6m_bin\n",
              "2112  400047237      2189555  ...         C_0_A_1         D_0_A_1\n",
              "2113  400047294      1136954  ...         C_0_A_1         D_0_A_1\n",
              "2121  400044473      2957012  ...         C_0_A_1         D_0_A_1\n",
              "2122  400044567   1800814618  ...         C_0_A_1         D_0_A_1\n",
              "2123  400044630      1093288  ...         C_0_A_1           A_3_9\n",
              "\n",
              "[5 rows x 37 columns]"
            ]
          },
          "metadata": {
            "tags": []
          },
          "execution_count": 113
        }
      ]
    },
    {
      "cell_type": "markdown",
      "metadata": {
        "id": "n-nJPTYx842X",
        "colab_type": "text"
      },
      "source": [
        "##**RANGOS**"
      ]
    },
    {
      "cell_type": "code",
      "metadata": {
        "colab_type": "code",
        "id": "LNgys5z080Pp",
        "colab": {}
      },
      "source": [
        "############################### máxima antigÜedad banco \n",
        "def rango_max_mob_bank(row):\n",
        "    if  row.CUENTA_MAS_ANTIGUA_BANCO <= 36:\n",
        "        return 'A_0_A_36'\n",
        "    elif row.CUENTA_MAS_ANTIGUA_BANCO <= 59:\n",
        "        return 'C_37_A_59'\n",
        "    elif  row.CUENTA_MAS_ANTIGUA_BANCO <= 76:\n",
        "        return 'D_60_A_76'\n",
        "    elif  row.CUENTA_MAS_ANTIGUA_BANCO <= 104:\n",
        "        return 'E_77_A_104'\n",
        "    elif  row.CUENTA_MAS_ANTIGUA_BANCO <= 131:\n",
        "        return 'F_105_A_131'\n",
        "    elif  row.CUENTA_MAS_ANTIGUA_BANCO <= 499:\n",
        "        return 'G_132_A_499'\n",
        "    else:\n",
        "        return 'B_SIN_INFORMACION'"
      ],
      "execution_count": 0,
      "outputs": []
    },
    {
      "cell_type": "code",
      "metadata": {
        "colab_type": "code",
        "id": "Upg1jie3ELPg",
        "colab": {}
      },
      "source": [
        "############################### OCUPACIÓN SEXO\n",
        "def rango_ocup_sex(row):\n",
        "    if  row.OCPUACION_SEXO == 'A_CON NEGOCIO/M':\n",
        "        return 'A_CON NEGOCIO/M'\n",
        "    elif row.OCPUACION_SEXO == 'B_EMPLEADO O ASALARIADO/M':\n",
        "        return 'B_EMPLEADO O ASALARIADO/M'\n",
        "    elif  row.OCPUACION_SEXO == 'C_CON NEGOCIO/F':\n",
        "        return 'C_CON NEGOCIO/F'\n",
        "    elif  row.OCPUACION_SEXO == 'D_EMPLEADO O ASALARIADO/F':\n",
        "        return 'D_EMPLEADO O ASALARIADO/F'\n",
        "    elif  row.OCPUACION_SEXO == 'E_JUBILADO/M':\n",
        "        return 'E_JUBILADO/M'\n",
        "    else:\n",
        "        return 'F_JUBILADO/F'"
      ],
      "execution_count": 0,
      "outputs": []
    },
    {
      "cell_type": "code",
      "metadata": {
        "colab_type": "code",
        "id": "OGm7sEz2ELQH",
        "colab": {}
      },
      "source": [
        "###############################EDAD\n",
        "def rango_edad(row):\n",
        "    if  row.EDAD <= 39:\n",
        "        return 'A_20_A_39'\n",
        "    elif row.EDAD <= 46:\n",
        "        return 'B_40_A_46'\n",
        "    elif  row.EDAD <= 51:\n",
        "        return 'C_47_A_51'\n",
        "    elif  row.EDAD <= 56:\n",
        "        return 'D_52_A_56'\n",
        "    elif  row.EDAD <= 61:\n",
        "        return 'E_57_A_61'\n",
        "    else:\n",
        "        return 'F_62_A_86'"
      ],
      "execution_count": 0,
      "outputs": []
    },
    {
      "cell_type": "code",
      "metadata": {
        "colab_type": "code",
        "id": "C4TyoW7M80Pz",
        "colab": {}
      },
      "source": [
        "################################## pct utilización\n",
        "def rango_pct_util(row):\n",
        "    if  row.PORC_UTILIZ_ENTRE_CUENT_REV_AB <= 0.150290638:\n",
        "        return 'C_0_A_15'\n",
        "    elif row.PORC_UTILIZ_ENTRE_CUENT_REV_AB <= 140514:\n",
        "        return 'B_MAYOR_A_15'\n",
        "    else:\n",
        "        return 'A_SIN_INFORMACION'"
      ],
      "execution_count": 0,
      "outputs": []
    },
    {
      "cell_type": "code",
      "metadata": {
        "colab_type": "code",
        "id": "THYodK_980P3",
        "colab": {}
      },
      "source": [
        "######################################## MÁXIMO MOP TDC\n",
        "\n",
        "def rango_max_mop_6m_ab_tdc(row):\n",
        "    if  row.MAX_MOP_6M_AB_TDC <= 1:\n",
        "        return 'C_0_A_1'\n",
        "    elif row.MAX_MOP_6M_AB_TDC <= 9:\n",
        "        return 'B_2_A_9'\n",
        "    else:\n",
        "        return 'A_SIN_INFORMACION'"
      ],
      "execution_count": 0,
      "outputs": []
    },
    {
      "cell_type": "code",
      "metadata": {
        "colab_type": "code",
        "id": "cc9N9UlB80P9",
        "colab": {}
      },
      "source": [
        "############################### máxima antigÜedad TDC \n",
        "def rango_max_mob_tdc(row):\n",
        "    if  row.CUENTA_MAS_ANTIGUA_TDC <= 53:\n",
        "        return 'B_0_A_53'\n",
        "    elif row.CUENTA_MAS_ANTIGUA_TDC <= 98:\n",
        "        return 'C_54_A_98'\n",
        "    elif  row.CUENTA_MAS_ANTIGUA_TDC <= 137:\n",
        "        return 'D_99_A_137'\n",
        "    elif  row.CUENTA_MAS_ANTIGUA_TDC <= 612:\n",
        "        return 'E_138_A_612'\n",
        "    else:\n",
        "        return 'A_SIN_INFORMACION'"
      ],
      "execution_count": 0,
      "outputs": []
    },
    {
      "cell_type": "code",
      "metadata": {
        "colab_type": "code",
        "id": "Sw_fjqKW80QB",
        "colab": {}
      },
      "source": [
        "############################## saldo vencido\n",
        "def rango_sdo_vncido(row):\n",
        "    if  row.SALDO_VENCIDO_ABIERTAS <= 1:\n",
        "        return 'C_0_A_1'\n",
        "    elif row.SALDO_VENCIDO_ABIERTAS <= 463253:\n",
        "        return 'B_2+'\n",
        "    else:\n",
        "        return 'A_SIN_INFORMACION'"
      ],
      "execution_count": 0,
      "outputs": []
    },
    {
      "cell_type": "code",
      "metadata": {
        "colab_type": "code",
        "id": "5B5WKG6H80QF",
        "colab": {}
      },
      "source": [
        "############################## max mop 6m\n",
        "def rango_max_mop_6m(row):\n",
        "    if  row.MAX_MOP_6M <= 1:\n",
        "        return 'D_0_A_1'\n",
        "    elif row.MAX_MOP_6M <= 2:\n",
        "        return 'C_2'\n",
        "    elif row.MAX_MOP_6M <= 9:\n",
        "        return 'A_3_9'\n",
        "    else:\n",
        "        return 'B_SIN_INFORMACION'"
      ],
      "execution_count": 0,
      "outputs": []
    },
    {
      "cell_type": "code",
      "metadata": {
        "colab_type": "code",
        "id": "gkPAgK4_Ca8J",
        "colab": {}
      },
      "source": [
        "df2['edad_bin'] = df2.apply(rango_edad, axis=1)"
      ],
      "execution_count": 0,
      "outputs": []
    },
    {
      "cell_type": "code",
      "metadata": {
        "colab_type": "code",
        "id": "ObOcN9uBCa8s",
        "colab": {}
      },
      "source": [
        "df2['ocup_sex_bin'] = df2.apply(rango_ocup_sex ,axis=1)"
      ],
      "execution_count": 0,
      "outputs": []
    },
    {
      "cell_type": "code",
      "metadata": {
        "colab_type": "code",
        "id": "nVkO-EooCa8v",
        "colab": {}
      },
      "source": [
        "df2['max_mob_bank_bin'] = df2.apply(rango_max_mob_bank, axis=1)"
      ],
      "execution_count": 0,
      "outputs": []
    },
    {
      "cell_type": "code",
      "metadata": {
        "colab_type": "code",
        "id": "0uhUK71CCa8z",
        "colab": {}
      },
      "source": [
        "df2['pct_util_bin'] = df2.apply(rango_pct_util, axis=1)"
      ],
      "execution_count": 0,
      "outputs": []
    },
    {
      "cell_type": "code",
      "metadata": {
        "colab_type": "code",
        "id": "X7EZkNHYCa82",
        "colab": {}
      },
      "source": [
        "df2['max_mop_6m_ab_tdc_bin'] = df2.apply(rango_max_mop_6m_ab_tdc, axis=1)"
      ],
      "execution_count": 0,
      "outputs": []
    },
    {
      "cell_type": "code",
      "metadata": {
        "colab_type": "code",
        "id": "ZnfBGpVBCa87",
        "colab": {}
      },
      "source": [
        "df2['max_mob_tdc_bin'] = df2.apply(rango_max_mob_tdc, axis=1)"
      ],
      "execution_count": 0,
      "outputs": []
    },
    {
      "cell_type": "code",
      "metadata": {
        "colab_type": "code",
        "id": "CxBzPok4Ca89",
        "colab": {}
      },
      "source": [
        "df2['sdo_vncido_bin'] = df2.apply(rango_sdo_vncido, axis=1)"
      ],
      "execution_count": 0,
      "outputs": []
    },
    {
      "cell_type": "code",
      "metadata": {
        "colab_type": "code",
        "id": "z6MeFAgxCa9B",
        "colab": {}
      },
      "source": [
        "df2['max_mop_6m_bin'] = df2.apply(rango_max_mop_6m, axis=1)"
      ],
      "execution_count": 0,
      "outputs": []
    },
    {
      "cell_type": "code",
      "metadata": {
        "id": "DlgV88WrDeug",
        "colab_type": "code",
        "outputId": "d496dd79-feb5-4b3f-a860-74485c95b709",
        "colab": {
          "base_uri": "https://localhost:8080/",
          "height": 301
        }
      },
      "source": [
        "df2.head()"
      ],
      "execution_count": 0,
      "outputs": [
        {
          "output_type": "execute_result",
          "data": {
            "text/html": [
              "<div>\n",
              "<style scoped>\n",
              "    .dataframe tbody tr th:only-of-type {\n",
              "        vertical-align: middle;\n",
              "    }\n",
              "\n",
              "    .dataframe tbody tr th {\n",
              "        vertical-align: top;\n",
              "    }\n",
              "\n",
              "    .dataframe thead th {\n",
              "        text-align: right;\n",
              "    }\n",
              "</style>\n",
              "<table border=\"1\" class=\"dataframe\">\n",
              "  <thead>\n",
              "    <tr style=\"text-align: right;\">\n",
              "      <th></th>\n",
              "      <th>CONTRATO</th>\n",
              "      <th>NUM_CLIENTE</th>\n",
              "      <th>BC_SCORE</th>\n",
              "      <th>COSECHA</th>\n",
              "      <th>EDAD</th>\n",
              "      <th>OCPUACION_SEXO</th>\n",
              "      <th>CUENTA_MAS_ANTIGUA_BANCO</th>\n",
              "      <th>MAX_MOP_6M_AB_TDC</th>\n",
              "      <th>CUENTA_MAS_ANTIGUA_TDC</th>\n",
              "      <th>SALDO_VENCIDO_ABIERTAS</th>\n",
              "      <th>MAX_MOP_6M</th>\n",
              "      <th>PORC_UTILIZ_ENTRE_CUENT_REV_AB</th>\n",
              "      <th>PRODUCTO</th>\n",
              "      <th>SUB_PRODUCTO</th>\n",
              "      <th>VINTAGE</th>\n",
              "      <th>AMOUNT</th>\n",
              "      <th>FLAG_1PV_3</th>\n",
              "      <th>FLAG_2PV_6</th>\n",
              "      <th>FLAG_3PV_12</th>\n",
              "      <th>FLAG_3PV_18</th>\n",
              "      <th>FLAG_DESEMBOLSADO</th>\n",
              "      <th>edad_woe</th>\n",
              "      <th>ocup_sex_woe</th>\n",
              "      <th>max_mob_bank_woe</th>\n",
              "      <th>pct_util_woe</th>\n",
              "      <th>max_mop_6m_ab_tdc_woe</th>\n",
              "      <th>max_mob_tdc_woe</th>\n",
              "      <th>sdo_vncido_woe</th>\n",
              "      <th>max_mop_6m_woe</th>\n",
              "      <th>edad_bin</th>\n",
              "      <th>ocup_sex_bin</th>\n",
              "      <th>max_mob_bank_bin</th>\n",
              "      <th>pct_util_bin</th>\n",
              "      <th>max_mop_6m_ab_tdc_bin</th>\n",
              "      <th>max_mob_tdc_bin</th>\n",
              "      <th>sdo_vncido_bin</th>\n",
              "      <th>max_mop_6m_bin</th>\n",
              "    </tr>\n",
              "  </thead>\n",
              "  <tbody>\n",
              "    <tr>\n",
              "      <th>2112</th>\n",
              "      <td>400047237</td>\n",
              "      <td>2189555</td>\n",
              "      <td>662</td>\n",
              "      <td>201602</td>\n",
              "      <td>41.0</td>\n",
              "      <td>C_CON NEGOCIO/F</td>\n",
              "      <td>9.0</td>\n",
              "      <td>NaN</td>\n",
              "      <td>NaN</td>\n",
              "      <td>0.0</td>\n",
              "      <td>1.0</td>\n",
              "      <td>NaN</td>\n",
              "      <td>OMEGA</td>\n",
              "      <td>OMEGA_M</td>\n",
              "      <td>201602</td>\n",
              "      <td>13233.0</td>\n",
              "      <td>0</td>\n",
              "      <td>0</td>\n",
              "      <td>0</td>\n",
              "      <td>0</td>\n",
              "      <td>1</td>\n",
              "      <td>0.320722</td>\n",
              "      <td>-0.098695</td>\n",
              "      <td>0.417758</td>\n",
              "      <td>0.434262</td>\n",
              "      <td>0.462116</td>\n",
              "      <td>0.606963</td>\n",
              "      <td>-0.205208</td>\n",
              "      <td>-0.236897</td>\n",
              "      <td>B_40_A_46</td>\n",
              "      <td>C_CON NEGOCIO/F</td>\n",
              "      <td>A_0_A_36</td>\n",
              "      <td>A_SIN_INFORMACION</td>\n",
              "      <td>A_SIN_INFORMACION</td>\n",
              "      <td>A_SIN_INFORMACION</td>\n",
              "      <td>C_0_A_1</td>\n",
              "      <td>D_0_A_1</td>\n",
              "    </tr>\n",
              "    <tr>\n",
              "      <th>2113</th>\n",
              "      <td>400047294</td>\n",
              "      <td>1136954</td>\n",
              "      <td>708</td>\n",
              "      <td>201602</td>\n",
              "      <td>51.0</td>\n",
              "      <td>C_CON NEGOCIO/F</td>\n",
              "      <td>NaN</td>\n",
              "      <td>NaN</td>\n",
              "      <td>65.0</td>\n",
              "      <td>0.0</td>\n",
              "      <td>1.0</td>\n",
              "      <td>NaN</td>\n",
              "      <td>OMEGA</td>\n",
              "      <td>OMEGA_M</td>\n",
              "      <td>201602</td>\n",
              "      <td>20000.0</td>\n",
              "      <td>0</td>\n",
              "      <td>0</td>\n",
              "      <td>0</td>\n",
              "      <td>0</td>\n",
              "      <td>1</td>\n",
              "      <td>-0.029788</td>\n",
              "      <td>-0.098695</td>\n",
              "      <td>0.347095</td>\n",
              "      <td>0.434262</td>\n",
              "      <td>0.462116</td>\n",
              "      <td>-0.151627</td>\n",
              "      <td>-0.205208</td>\n",
              "      <td>-0.236897</td>\n",
              "      <td>C_47_A_51</td>\n",
              "      <td>C_CON NEGOCIO/F</td>\n",
              "      <td>B_SIN_INFORMACION</td>\n",
              "      <td>A_SIN_INFORMACION</td>\n",
              "      <td>A_SIN_INFORMACION</td>\n",
              "      <td>C_54_A_98</td>\n",
              "      <td>C_0_A_1</td>\n",
              "      <td>D_0_A_1</td>\n",
              "    </tr>\n",
              "    <tr>\n",
              "      <th>2121</th>\n",
              "      <td>400044473</td>\n",
              "      <td>2957012</td>\n",
              "      <td>683</td>\n",
              "      <td>201601</td>\n",
              "      <td>38.0</td>\n",
              "      <td>A_CON NEGOCIO/M</td>\n",
              "      <td>38.0</td>\n",
              "      <td>1.0</td>\n",
              "      <td>16.0</td>\n",
              "      <td>0.0</td>\n",
              "      <td>1.0</td>\n",
              "      <td>0.202786</td>\n",
              "      <td>OMEGA</td>\n",
              "      <td>OMEGA_M</td>\n",
              "      <td>201601</td>\n",
              "      <td>11892.0</td>\n",
              "      <td>0</td>\n",
              "      <td>0</td>\n",
              "      <td>0</td>\n",
              "      <td>0</td>\n",
              "      <td>1</td>\n",
              "      <td>0.652557</td>\n",
              "      <td>0.438337</td>\n",
              "      <td>0.204288</td>\n",
              "      <td>-0.223185</td>\n",
              "      <td>-0.530854</td>\n",
              "      <td>0.087211</td>\n",
              "      <td>-0.205208</td>\n",
              "      <td>-0.236897</td>\n",
              "      <td>A_20_A_39</td>\n",
              "      <td>A_CON NEGOCIO/M</td>\n",
              "      <td>C_37_A_59</td>\n",
              "      <td>B_MAYOR_A_15</td>\n",
              "      <td>C_0_A_1</td>\n",
              "      <td>B_0_A_53</td>\n",
              "      <td>C_0_A_1</td>\n",
              "      <td>D_0_A_1</td>\n",
              "    </tr>\n",
              "    <tr>\n",
              "      <th>2122</th>\n",
              "      <td>400044567</td>\n",
              "      <td>1800814618</td>\n",
              "      <td>691</td>\n",
              "      <td>201601</td>\n",
              "      <td>31.0</td>\n",
              "      <td>C_CON NEGOCIO/F</td>\n",
              "      <td>84.0</td>\n",
              "      <td>NaN</td>\n",
              "      <td>84.0</td>\n",
              "      <td>0.0</td>\n",
              "      <td>1.0</td>\n",
              "      <td>NaN</td>\n",
              "      <td>OMEGA</td>\n",
              "      <td>OMEGA_M</td>\n",
              "      <td>201601</td>\n",
              "      <td>10968.0</td>\n",
              "      <td>0</td>\n",
              "      <td>1</td>\n",
              "      <td>1</td>\n",
              "      <td>1</td>\n",
              "      <td>1</td>\n",
              "      <td>0.652557</td>\n",
              "      <td>-0.098695</td>\n",
              "      <td>-0.221814</td>\n",
              "      <td>0.434262</td>\n",
              "      <td>0.462116</td>\n",
              "      <td>-0.151627</td>\n",
              "      <td>-0.205208</td>\n",
              "      <td>-0.236897</td>\n",
              "      <td>A_20_A_39</td>\n",
              "      <td>C_CON NEGOCIO/F</td>\n",
              "      <td>E_77_A_104</td>\n",
              "      <td>A_SIN_INFORMACION</td>\n",
              "      <td>A_SIN_INFORMACION</td>\n",
              "      <td>C_54_A_98</td>\n",
              "      <td>C_0_A_1</td>\n",
              "      <td>D_0_A_1</td>\n",
              "    </tr>\n",
              "    <tr>\n",
              "      <th>2123</th>\n",
              "      <td>400044630</td>\n",
              "      <td>1093288</td>\n",
              "      <td>593</td>\n",
              "      <td>201601</td>\n",
              "      <td>54.0</td>\n",
              "      <td>C_CON NEGOCIO/F</td>\n",
              "      <td>150.0</td>\n",
              "      <td>1.0</td>\n",
              "      <td>150.0</td>\n",
              "      <td>0.0</td>\n",
              "      <td>4.0</td>\n",
              "      <td>0.794667</td>\n",
              "      <td>OMEGA</td>\n",
              "      <td>OMEGA_M</td>\n",
              "      <td>201602</td>\n",
              "      <td>13615.0</td>\n",
              "      <td>0</td>\n",
              "      <td>0</td>\n",
              "      <td>0</td>\n",
              "      <td>0</td>\n",
              "      <td>1</td>\n",
              "      <td>-0.249831</td>\n",
              "      <td>-0.098695</td>\n",
              "      <td>-0.730040</td>\n",
              "      <td>-0.223185</td>\n",
              "      <td>-0.530854</td>\n",
              "      <td>-0.669247</td>\n",
              "      <td>-0.205208</td>\n",
              "      <td>0.523800</td>\n",
              "      <td>D_52_A_56</td>\n",
              "      <td>C_CON NEGOCIO/F</td>\n",
              "      <td>G_132_A_499</td>\n",
              "      <td>B_MAYOR_A_15</td>\n",
              "      <td>C_0_A_1</td>\n",
              "      <td>E_138_A_612</td>\n",
              "      <td>C_0_A_1</td>\n",
              "      <td>A_3_9</td>\n",
              "    </tr>\n",
              "  </tbody>\n",
              "</table>\n",
              "</div>"
            ],
            "text/plain": [
              "       CONTRATO  NUM_CLIENTE  ...  sdo_vncido_bin  max_mop_6m_bin\n",
              "2112  400047237      2189555  ...         C_0_A_1         D_0_A_1\n",
              "2113  400047294      1136954  ...         C_0_A_1         D_0_A_1\n",
              "2121  400044473      2957012  ...         C_0_A_1         D_0_A_1\n",
              "2122  400044567   1800814618  ...         C_0_A_1         D_0_A_1\n",
              "2123  400044630      1093288  ...         C_0_A_1           A_3_9\n",
              "\n",
              "[5 rows x 37 columns]"
            ]
          },
          "metadata": {
            "tags": []
          },
          "execution_count": 176
        }
      ]
    },
    {
      "cell_type": "code",
      "metadata": {
        "id": "g9Mgls5TL7ru",
        "colab_type": "code",
        "colab": {}
      },
      "source": [
        "df2.to_csv('modelo_hit_4_woe')"
      ],
      "execution_count": 0,
      "outputs": []
    },
    {
      "cell_type": "code",
      "metadata": {
        "id": "uaKU3uW-De2P",
        "colab_type": "code",
        "outputId": "e68c21fb-bcd2-427c-c7f2-952564da6187",
        "colab": {
          "base_uri": "https://localhost:8080/",
          "height": 430
        }
      },
      "source": [
        "df2.groupby('edad_bin').aggregate({'edad_woe' : {'_n_' : 'count' \n",
        "                                    ,'min_woe' : np.min\n",
        "                                    ,'max_woe' : np.max\n",
        "                                    ,'mean'    : np.mean}})"
      ],
      "execution_count": 0,
      "outputs": [
        {
          "output_type": "stream",
          "text": [
            "/usr/local/lib/python3.6/dist-packages/pandas/core/groupby/generic.py:1455: FutureWarning: using a dict with renaming is deprecated and will be removed\n",
            "in a future version.\n",
            "\n",
            "For column-specific groupby renaming, use named aggregation\n",
            "\n",
            "    >>> df.groupby(...).agg(name=('column', aggfunc))\n",
            "\n",
            "  return super().aggregate(arg, *args, **kwargs)\n"
          ],
          "name": "stderr"
        },
        {
          "output_type": "execute_result",
          "data": {
            "text/html": [
              "<div>\n",
              "<style scoped>\n",
              "    .dataframe tbody tr th:only-of-type {\n",
              "        vertical-align: middle;\n",
              "    }\n",
              "\n",
              "    .dataframe tbody tr th {\n",
              "        vertical-align: top;\n",
              "    }\n",
              "\n",
              "    .dataframe thead tr th {\n",
              "        text-align: left;\n",
              "    }\n",
              "\n",
              "    .dataframe thead tr:last-of-type th {\n",
              "        text-align: right;\n",
              "    }\n",
              "</style>\n",
              "<table border=\"1\" class=\"dataframe\">\n",
              "  <thead>\n",
              "    <tr>\n",
              "      <th></th>\n",
              "      <th colspan=\"4\" halign=\"left\">edad_woe</th>\n",
              "    </tr>\n",
              "    <tr>\n",
              "      <th></th>\n",
              "      <th>_n_</th>\n",
              "      <th>min_woe</th>\n",
              "      <th>max_woe</th>\n",
              "      <th>mean</th>\n",
              "    </tr>\n",
              "    <tr>\n",
              "      <th>edad_bin</th>\n",
              "      <th></th>\n",
              "      <th></th>\n",
              "      <th></th>\n",
              "      <th></th>\n",
              "    </tr>\n",
              "  </thead>\n",
              "  <tbody>\n",
              "    <tr>\n",
              "      <th>A_20_A_39</th>\n",
              "      <td>6172</td>\n",
              "      <td>0.652557</td>\n",
              "      <td>0.652557</td>\n",
              "      <td>0.652557</td>\n",
              "    </tr>\n",
              "    <tr>\n",
              "      <th>B_40_A_46</th>\n",
              "      <td>7206</td>\n",
              "      <td>0.320722</td>\n",
              "      <td>0.320722</td>\n",
              "      <td>0.320722</td>\n",
              "    </tr>\n",
              "    <tr>\n",
              "      <th>C_47_A_51</th>\n",
              "      <td>5997</td>\n",
              "      <td>-0.029788</td>\n",
              "      <td>-0.029788</td>\n",
              "      <td>-0.029788</td>\n",
              "    </tr>\n",
              "    <tr>\n",
              "      <th>D_52_A_56</th>\n",
              "      <td>6224</td>\n",
              "      <td>-0.249831</td>\n",
              "      <td>-0.249831</td>\n",
              "      <td>-0.249831</td>\n",
              "    </tr>\n",
              "    <tr>\n",
              "      <th>E_57_A_61</th>\n",
              "      <td>5219</td>\n",
              "      <td>-0.776458</td>\n",
              "      <td>-0.776458</td>\n",
              "      <td>-0.776458</td>\n",
              "    </tr>\n",
              "    <tr>\n",
              "      <th>F_62_A_86</th>\n",
              "      <td>6068</td>\n",
              "      <td>-0.862815</td>\n",
              "      <td>-0.862815</td>\n",
              "      <td>-0.862815</td>\n",
              "    </tr>\n",
              "  </tbody>\n",
              "</table>\n",
              "</div>"
            ],
            "text/plain": [
              "          edad_woe                              \n",
              "               _n_   min_woe   max_woe      mean\n",
              "edad_bin                                        \n",
              "A_20_A_39     6172  0.652557  0.652557  0.652557\n",
              "B_40_A_46     7206  0.320722  0.320722  0.320722\n",
              "C_47_A_51     5997 -0.029788 -0.029788 -0.029788\n",
              "D_52_A_56     6224 -0.249831 -0.249831 -0.249831\n",
              "E_57_A_61     5219 -0.776458 -0.776458 -0.776458\n",
              "F_62_A_86     6068 -0.862815 -0.862815 -0.862815"
            ]
          },
          "metadata": {
            "tags": []
          },
          "execution_count": 168
        }
      ]
    },
    {
      "cell_type": "code",
      "metadata": {
        "id": "bxN-lEYzGDm6",
        "colab_type": "code",
        "outputId": "a7b99227-223c-434f-ee4b-70b543366740",
        "colab": {
          "base_uri": "https://localhost:8080/",
          "height": 430
        }
      },
      "source": [
        "df2.groupby('ocup_sex_bin').aggregate({'ocup_sex_woe' : {'_n_' : 'count' \n",
        "                                    ,'min_woe' : np.min\n",
        "                                    ,'max_woe' : np.max\n",
        "                                    ,'mean'    : np.mean}})"
      ],
      "execution_count": 0,
      "outputs": [
        {
          "output_type": "stream",
          "text": [
            "/usr/local/lib/python3.6/dist-packages/pandas/core/groupby/generic.py:1455: FutureWarning: using a dict with renaming is deprecated and will be removed\n",
            "in a future version.\n",
            "\n",
            "For column-specific groupby renaming, use named aggregation\n",
            "\n",
            "    >>> df.groupby(...).agg(name=('column', aggfunc))\n",
            "\n",
            "  return super().aggregate(arg, *args, **kwargs)\n"
          ],
          "name": "stderr"
        },
        {
          "output_type": "execute_result",
          "data": {
            "text/html": [
              "<div>\n",
              "<style scoped>\n",
              "    .dataframe tbody tr th:only-of-type {\n",
              "        vertical-align: middle;\n",
              "    }\n",
              "\n",
              "    .dataframe tbody tr th {\n",
              "        vertical-align: top;\n",
              "    }\n",
              "\n",
              "    .dataframe thead tr th {\n",
              "        text-align: left;\n",
              "    }\n",
              "\n",
              "    .dataframe thead tr:last-of-type th {\n",
              "        text-align: right;\n",
              "    }\n",
              "</style>\n",
              "<table border=\"1\" class=\"dataframe\">\n",
              "  <thead>\n",
              "    <tr>\n",
              "      <th></th>\n",
              "      <th colspan=\"4\" halign=\"left\">ocup_sex_woe</th>\n",
              "    </tr>\n",
              "    <tr>\n",
              "      <th></th>\n",
              "      <th>_n_</th>\n",
              "      <th>min_woe</th>\n",
              "      <th>max_woe</th>\n",
              "      <th>mean</th>\n",
              "    </tr>\n",
              "    <tr>\n",
              "      <th>ocup_sex_bin</th>\n",
              "      <th></th>\n",
              "      <th></th>\n",
              "      <th></th>\n",
              "      <th></th>\n",
              "    </tr>\n",
              "  </thead>\n",
              "  <tbody>\n",
              "    <tr>\n",
              "      <th>A_CON NEGOCIO/M</th>\n",
              "      <td>7804</td>\n",
              "      <td>0.438337</td>\n",
              "      <td>0.438337</td>\n",
              "      <td>0.438337</td>\n",
              "    </tr>\n",
              "    <tr>\n",
              "      <th>B_EMPLEADO O ASALARIADO/M</th>\n",
              "      <td>3519</td>\n",
              "      <td>0.245753</td>\n",
              "      <td>0.245753</td>\n",
              "      <td>0.245753</td>\n",
              "    </tr>\n",
              "    <tr>\n",
              "      <th>C_CON NEGOCIO/F</th>\n",
              "      <td>17447</td>\n",
              "      <td>-0.098695</td>\n",
              "      <td>-0.098695</td>\n",
              "      <td>-0.098695</td>\n",
              "    </tr>\n",
              "    <tr>\n",
              "      <th>D_EMPLEADO O ASALARIADO/F</th>\n",
              "      <td>4500</td>\n",
              "      <td>-0.289298</td>\n",
              "      <td>-0.289298</td>\n",
              "      <td>-0.289298</td>\n",
              "    </tr>\n",
              "    <tr>\n",
              "      <th>E_JUBILADO/M</th>\n",
              "      <td>1296</td>\n",
              "      <td>-0.859436</td>\n",
              "      <td>-0.859436</td>\n",
              "      <td>-0.859436</td>\n",
              "    </tr>\n",
              "    <tr>\n",
              "      <th>F_JUBILADO/F</th>\n",
              "      <td>2320</td>\n",
              "      <td>-1.063001</td>\n",
              "      <td>-1.063001</td>\n",
              "      <td>-1.063001</td>\n",
              "    </tr>\n",
              "  </tbody>\n",
              "</table>\n",
              "</div>"
            ],
            "text/plain": [
              "                          ocup_sex_woe                              \n",
              "                                   _n_   min_woe   max_woe      mean\n",
              "ocup_sex_bin                                                        \n",
              "A_CON NEGOCIO/M                   7804  0.438337  0.438337  0.438337\n",
              "B_EMPLEADO O ASALARIADO/M         3519  0.245753  0.245753  0.245753\n",
              "C_CON NEGOCIO/F                  17447 -0.098695 -0.098695 -0.098695\n",
              "D_EMPLEADO O ASALARIADO/F         4500 -0.289298 -0.289298 -0.289298\n",
              "E_JUBILADO/M                      1296 -0.859436 -0.859436 -0.859436\n",
              "F_JUBILADO/F                      2320 -1.063001 -1.063001 -1.063001"
            ]
          },
          "metadata": {
            "tags": []
          },
          "execution_count": 169
        }
      ]
    },
    {
      "cell_type": "code",
      "metadata": {
        "id": "u59mggETGDs-",
        "colab_type": "code",
        "outputId": "f3a9266d-faf6-426b-86a7-81ae4bbdb9ad",
        "colab": {
          "base_uri": "https://localhost:8080/",
          "height": 460
        }
      },
      "source": [
        "df2.groupby('max_mob_bank_bin').aggregate({'max_mob_bank_woe' : {'_n_' : 'count' \n",
        "                                    ,'min_woe' : np.min\n",
        "                                    ,'max_woe' : np.max\n",
        "                                    ,'mean'    : np.mean}})"
      ],
      "execution_count": 0,
      "outputs": [
        {
          "output_type": "stream",
          "text": [
            "/usr/local/lib/python3.6/dist-packages/pandas/core/groupby/generic.py:1455: FutureWarning: using a dict with renaming is deprecated and will be removed\n",
            "in a future version.\n",
            "\n",
            "For column-specific groupby renaming, use named aggregation\n",
            "\n",
            "    >>> df.groupby(...).agg(name=('column', aggfunc))\n",
            "\n",
            "  return super().aggregate(arg, *args, **kwargs)\n"
          ],
          "name": "stderr"
        },
        {
          "output_type": "execute_result",
          "data": {
            "text/html": [
              "<div>\n",
              "<style scoped>\n",
              "    .dataframe tbody tr th:only-of-type {\n",
              "        vertical-align: middle;\n",
              "    }\n",
              "\n",
              "    .dataframe tbody tr th {\n",
              "        vertical-align: top;\n",
              "    }\n",
              "\n",
              "    .dataframe thead tr th {\n",
              "        text-align: left;\n",
              "    }\n",
              "\n",
              "    .dataframe thead tr:last-of-type th {\n",
              "        text-align: right;\n",
              "    }\n",
              "</style>\n",
              "<table border=\"1\" class=\"dataframe\">\n",
              "  <thead>\n",
              "    <tr>\n",
              "      <th></th>\n",
              "      <th colspan=\"4\" halign=\"left\">max_mob_bank_woe</th>\n",
              "    </tr>\n",
              "    <tr>\n",
              "      <th></th>\n",
              "      <th>_n_</th>\n",
              "      <th>min_woe</th>\n",
              "      <th>max_woe</th>\n",
              "      <th>mean</th>\n",
              "    </tr>\n",
              "    <tr>\n",
              "      <th>max_mob_bank_bin</th>\n",
              "      <th></th>\n",
              "      <th></th>\n",
              "      <th></th>\n",
              "      <th></th>\n",
              "    </tr>\n",
              "  </thead>\n",
              "  <tbody>\n",
              "    <tr>\n",
              "      <th>A_0_A_36</th>\n",
              "      <td>5732</td>\n",
              "      <td>0.417758</td>\n",
              "      <td>0.417758</td>\n",
              "      <td>0.417758</td>\n",
              "    </tr>\n",
              "    <tr>\n",
              "      <th>B_SIN_INFORMACION</th>\n",
              "      <td>3843</td>\n",
              "      <td>0.347095</td>\n",
              "      <td>0.347095</td>\n",
              "      <td>0.347095</td>\n",
              "    </tr>\n",
              "    <tr>\n",
              "      <th>C_37_A_59</th>\n",
              "      <td>5417</td>\n",
              "      <td>0.204288</td>\n",
              "      <td>0.204288</td>\n",
              "      <td>0.204288</td>\n",
              "    </tr>\n",
              "    <tr>\n",
              "      <th>D_60_A_76</th>\n",
              "      <td>5478</td>\n",
              "      <td>0.079527</td>\n",
              "      <td>0.079527</td>\n",
              "      <td>0.079527</td>\n",
              "    </tr>\n",
              "    <tr>\n",
              "      <th>E_77_A_104</th>\n",
              "      <td>5430</td>\n",
              "      <td>-0.221814</td>\n",
              "      <td>-0.221814</td>\n",
              "      <td>-0.221814</td>\n",
              "    </tr>\n",
              "    <tr>\n",
              "      <th>F_105_A_131</th>\n",
              "      <td>5617</td>\n",
              "      <td>-0.474595</td>\n",
              "      <td>-0.474595</td>\n",
              "      <td>-0.474595</td>\n",
              "    </tr>\n",
              "    <tr>\n",
              "      <th>G_132_A_499</th>\n",
              "      <td>5369</td>\n",
              "      <td>-0.730040</td>\n",
              "      <td>-0.730040</td>\n",
              "      <td>-0.730040</td>\n",
              "    </tr>\n",
              "  </tbody>\n",
              "</table>\n",
              "</div>"
            ],
            "text/plain": [
              "                  max_mob_bank_woe                              \n",
              "                               _n_   min_woe   max_woe      mean\n",
              "max_mob_bank_bin                                                \n",
              "A_0_A_36                      5732  0.417758  0.417758  0.417758\n",
              "B_SIN_INFORMACION             3843  0.347095  0.347095  0.347095\n",
              "C_37_A_59                     5417  0.204288  0.204288  0.204288\n",
              "D_60_A_76                     5478  0.079527  0.079527  0.079527\n",
              "E_77_A_104                    5430 -0.221814 -0.221814 -0.221814\n",
              "F_105_A_131                   5617 -0.474595 -0.474595 -0.474595\n",
              "G_132_A_499                   5369 -0.730040 -0.730040 -0.730040"
            ]
          },
          "metadata": {
            "tags": []
          },
          "execution_count": 170
        }
      ]
    },
    {
      "cell_type": "code",
      "metadata": {
        "id": "9sVl2pnUGDyt",
        "colab_type": "code",
        "outputId": "a03e3279-b975-4c03-c997-2af6ba6ed420",
        "colab": {
          "base_uri": "https://localhost:8080/",
          "height": 340
        }
      },
      "source": [
        "df2.groupby('pct_util_bin').aggregate({'pct_util_woe' : {'_n_' : 'count' \n",
        "                                    ,'min_woe' : np.min\n",
        "                                    ,'max_woe' : np.max\n",
        "                                    ,'mean'    : np.mean}})"
      ],
      "execution_count": 0,
      "outputs": [
        {
          "output_type": "stream",
          "text": [
            "/usr/local/lib/python3.6/dist-packages/pandas/core/groupby/generic.py:1455: FutureWarning: using a dict with renaming is deprecated and will be removed\n",
            "in a future version.\n",
            "\n",
            "For column-specific groupby renaming, use named aggregation\n",
            "\n",
            "    >>> df.groupby(...).agg(name=('column', aggfunc))\n",
            "\n",
            "  return super().aggregate(arg, *args, **kwargs)\n"
          ],
          "name": "stderr"
        },
        {
          "output_type": "execute_result",
          "data": {
            "text/html": [
              "<div>\n",
              "<style scoped>\n",
              "    .dataframe tbody tr th:only-of-type {\n",
              "        vertical-align: middle;\n",
              "    }\n",
              "\n",
              "    .dataframe tbody tr th {\n",
              "        vertical-align: top;\n",
              "    }\n",
              "\n",
              "    .dataframe thead tr th {\n",
              "        text-align: left;\n",
              "    }\n",
              "\n",
              "    .dataframe thead tr:last-of-type th {\n",
              "        text-align: right;\n",
              "    }\n",
              "</style>\n",
              "<table border=\"1\" class=\"dataframe\">\n",
              "  <thead>\n",
              "    <tr>\n",
              "      <th></th>\n",
              "      <th colspan=\"4\" halign=\"left\">pct_util_woe</th>\n",
              "    </tr>\n",
              "    <tr>\n",
              "      <th></th>\n",
              "      <th>_n_</th>\n",
              "      <th>min_woe</th>\n",
              "      <th>max_woe</th>\n",
              "      <th>mean</th>\n",
              "    </tr>\n",
              "    <tr>\n",
              "      <th>pct_util_bin</th>\n",
              "      <th></th>\n",
              "      <th></th>\n",
              "      <th></th>\n",
              "      <th></th>\n",
              "    </tr>\n",
              "  </thead>\n",
              "  <tbody>\n",
              "    <tr>\n",
              "      <th>A_SIN_INFORMACION</th>\n",
              "      <td>13504</td>\n",
              "      <td>0.434262</td>\n",
              "      <td>0.434262</td>\n",
              "      <td>0.434262</td>\n",
              "    </tr>\n",
              "    <tr>\n",
              "      <th>B_MAYOR_A_15</th>\n",
              "      <td>11691</td>\n",
              "      <td>-0.223185</td>\n",
              "      <td>-0.223185</td>\n",
              "      <td>-0.223185</td>\n",
              "    </tr>\n",
              "    <tr>\n",
              "      <th>C_0_A_15</th>\n",
              "      <td>11691</td>\n",
              "      <td>-0.510375</td>\n",
              "      <td>-0.510375</td>\n",
              "      <td>-0.510375</td>\n",
              "    </tr>\n",
              "  </tbody>\n",
              "</table>\n",
              "</div>"
            ],
            "text/plain": [
              "                  pct_util_woe                              \n",
              "                           _n_   min_woe   max_woe      mean\n",
              "pct_util_bin                                                \n",
              "A_SIN_INFORMACION        13504  0.434262  0.434262  0.434262\n",
              "B_MAYOR_A_15             11691 -0.223185 -0.223185 -0.223185\n",
              "C_0_A_15                 11691 -0.510375 -0.510375 -0.510375"
            ]
          },
          "metadata": {
            "tags": []
          },
          "execution_count": 171
        }
      ]
    },
    {
      "cell_type": "code",
      "metadata": {
        "id": "uBlnP15cIdQK",
        "colab_type": "code",
        "outputId": "64641e67-cf16-404e-c638-bce3a347ac19",
        "colab": {
          "base_uri": "https://localhost:8080/",
          "height": 340
        }
      },
      "source": [
        "df2.groupby('max_mop_6m_ab_tdc_bin').aggregate({'max_mop_6m_ab_tdc_woe' : {'_n_' : 'count' \n",
        "                                    ,'min_woe' : np.min\n",
        "                                    ,'max_woe' : np.max\n",
        "                                    ,'mean'    : np.mean}})"
      ],
      "execution_count": 0,
      "outputs": [
        {
          "output_type": "stream",
          "text": [
            "/usr/local/lib/python3.6/dist-packages/pandas/core/groupby/generic.py:1455: FutureWarning: using a dict with renaming is deprecated and will be removed\n",
            "in a future version.\n",
            "\n",
            "For column-specific groupby renaming, use named aggregation\n",
            "\n",
            "    >>> df.groupby(...).agg(name=('column', aggfunc))\n",
            "\n",
            "  return super().aggregate(arg, *args, **kwargs)\n"
          ],
          "name": "stderr"
        },
        {
          "output_type": "execute_result",
          "data": {
            "text/html": [
              "<div>\n",
              "<style scoped>\n",
              "    .dataframe tbody tr th:only-of-type {\n",
              "        vertical-align: middle;\n",
              "    }\n",
              "\n",
              "    .dataframe tbody tr th {\n",
              "        vertical-align: top;\n",
              "    }\n",
              "\n",
              "    .dataframe thead tr th {\n",
              "        text-align: left;\n",
              "    }\n",
              "\n",
              "    .dataframe thead tr:last-of-type th {\n",
              "        text-align: right;\n",
              "    }\n",
              "</style>\n",
              "<table border=\"1\" class=\"dataframe\">\n",
              "  <thead>\n",
              "    <tr>\n",
              "      <th></th>\n",
              "      <th colspan=\"4\" halign=\"left\">max_mop_6m_ab_tdc_woe</th>\n",
              "    </tr>\n",
              "    <tr>\n",
              "      <th></th>\n",
              "      <th>_n_</th>\n",
              "      <th>min_woe</th>\n",
              "      <th>max_woe</th>\n",
              "      <th>mean</th>\n",
              "    </tr>\n",
              "    <tr>\n",
              "      <th>max_mop_6m_ab_tdc_bin</th>\n",
              "      <th></th>\n",
              "      <th></th>\n",
              "      <th></th>\n",
              "      <th></th>\n",
              "    </tr>\n",
              "  </thead>\n",
              "  <tbody>\n",
              "    <tr>\n",
              "      <th>A_SIN_INFORMACION</th>\n",
              "      <td>13616</td>\n",
              "      <td>0.462116</td>\n",
              "      <td>0.462116</td>\n",
              "      <td>0.462116</td>\n",
              "    </tr>\n",
              "    <tr>\n",
              "      <th>B_2_A_9</th>\n",
              "      <td>5508</td>\n",
              "      <td>-0.051561</td>\n",
              "      <td>-0.051561</td>\n",
              "      <td>-0.051561</td>\n",
              "    </tr>\n",
              "    <tr>\n",
              "      <th>C_0_A_1</th>\n",
              "      <td>17762</td>\n",
              "      <td>-0.530854</td>\n",
              "      <td>-0.530854</td>\n",
              "      <td>-0.530854</td>\n",
              "    </tr>\n",
              "  </tbody>\n",
              "</table>\n",
              "</div>"
            ],
            "text/plain": [
              "                      max_mop_6m_ab_tdc_woe                              \n",
              "                                        _n_   min_woe   max_woe      mean\n",
              "max_mop_6m_ab_tdc_bin                                                    \n",
              "A_SIN_INFORMACION                     13616  0.462116  0.462116  0.462116\n",
              "B_2_A_9                                5508 -0.051561 -0.051561 -0.051561\n",
              "C_0_A_1                               17762 -0.530854 -0.530854 -0.530854"
            ]
          },
          "metadata": {
            "tags": []
          },
          "execution_count": 172
        }
      ]
    },
    {
      "cell_type": "code",
      "metadata": {
        "id": "qEIC8952IdcV",
        "colab_type": "code",
        "outputId": "aeed9f21-ca5c-4f0a-a45d-03b3f89630ef",
        "colab": {
          "base_uri": "https://localhost:8080/",
          "height": 400
        }
      },
      "source": [
        "df2.groupby('max_mob_tdc_bin').aggregate({'max_mob_tdc_woe' : {'_n_' : 'count' \n",
        "                                    ,'min_woe' : np.min\n",
        "                                    ,'max_woe' : np.max\n",
        "                                    ,'mean'    : np.mean}})"
      ],
      "execution_count": 0,
      "outputs": [
        {
          "output_type": "stream",
          "text": [
            "/usr/local/lib/python3.6/dist-packages/pandas/core/groupby/generic.py:1455: FutureWarning: using a dict with renaming is deprecated and will be removed\n",
            "in a future version.\n",
            "\n",
            "For column-specific groupby renaming, use named aggregation\n",
            "\n",
            "    >>> df.groupby(...).agg(name=('column', aggfunc))\n",
            "\n",
            "  return super().aggregate(arg, *args, **kwargs)\n"
          ],
          "name": "stderr"
        },
        {
          "output_type": "execute_result",
          "data": {
            "text/html": [
              "<div>\n",
              "<style scoped>\n",
              "    .dataframe tbody tr th:only-of-type {\n",
              "        vertical-align: middle;\n",
              "    }\n",
              "\n",
              "    .dataframe tbody tr th {\n",
              "        vertical-align: top;\n",
              "    }\n",
              "\n",
              "    .dataframe thead tr th {\n",
              "        text-align: left;\n",
              "    }\n",
              "\n",
              "    .dataframe thead tr:last-of-type th {\n",
              "        text-align: right;\n",
              "    }\n",
              "</style>\n",
              "<table border=\"1\" class=\"dataframe\">\n",
              "  <thead>\n",
              "    <tr>\n",
              "      <th></th>\n",
              "      <th colspan=\"4\" halign=\"left\">max_mob_tdc_woe</th>\n",
              "    </tr>\n",
              "    <tr>\n",
              "      <th></th>\n",
              "      <th>_n_</th>\n",
              "      <th>min_woe</th>\n",
              "      <th>max_woe</th>\n",
              "      <th>mean</th>\n",
              "    </tr>\n",
              "    <tr>\n",
              "      <th>max_mob_tdc_bin</th>\n",
              "      <th></th>\n",
              "      <th></th>\n",
              "      <th></th>\n",
              "      <th></th>\n",
              "    </tr>\n",
              "  </thead>\n",
              "  <tbody>\n",
              "    <tr>\n",
              "      <th>A_SIN_INFORMACION</th>\n",
              "      <td>7742</td>\n",
              "      <td>0.606963</td>\n",
              "      <td>0.606963</td>\n",
              "      <td>0.606963</td>\n",
              "    </tr>\n",
              "    <tr>\n",
              "      <th>B_0_A_53</th>\n",
              "      <td>7315</td>\n",
              "      <td>0.087211</td>\n",
              "      <td>0.087211</td>\n",
              "      <td>0.087211</td>\n",
              "    </tr>\n",
              "    <tr>\n",
              "      <th>C_54_A_98</th>\n",
              "      <td>7366</td>\n",
              "      <td>-0.151627</td>\n",
              "      <td>-0.151627</td>\n",
              "      <td>-0.151627</td>\n",
              "    </tr>\n",
              "    <tr>\n",
              "      <th>D_99_A_137</th>\n",
              "      <td>7213</td>\n",
              "      <td>-0.352601</td>\n",
              "      <td>-0.352601</td>\n",
              "      <td>-0.352601</td>\n",
              "    </tr>\n",
              "    <tr>\n",
              "      <th>E_138_A_612</th>\n",
              "      <td>7250</td>\n",
              "      <td>-0.669247</td>\n",
              "      <td>-0.669247</td>\n",
              "      <td>-0.669247</td>\n",
              "    </tr>\n",
              "  </tbody>\n",
              "</table>\n",
              "</div>"
            ],
            "text/plain": [
              "                  max_mob_tdc_woe                              \n",
              "                              _n_   min_woe   max_woe      mean\n",
              "max_mob_tdc_bin                                                \n",
              "A_SIN_INFORMACION            7742  0.606963  0.606963  0.606963\n",
              "B_0_A_53                     7315  0.087211  0.087211  0.087211\n",
              "C_54_A_98                    7366 -0.151627 -0.151627 -0.151627\n",
              "D_99_A_137                   7213 -0.352601 -0.352601 -0.352601\n",
              "E_138_A_612                  7250 -0.669247 -0.669247 -0.669247"
            ]
          },
          "metadata": {
            "tags": []
          },
          "execution_count": 173
        }
      ]
    },
    {
      "cell_type": "code",
      "metadata": {
        "id": "k5jVmXhUIdhe",
        "colab_type": "code",
        "outputId": "1a608bd4-efdc-4367-ff1d-0dcb717117ea",
        "colab": {
          "base_uri": "https://localhost:8080/",
          "height": 340
        }
      },
      "source": [
        "df2.groupby('sdo_vncido_bin').aggregate({'sdo_vncido_woe' : {'_n_' : 'count' \n",
        "                                    ,'min_woe' : np.min\n",
        "                                    ,'max_woe' : np.max\n",
        "                                    ,'mean'    : np.mean}})"
      ],
      "execution_count": 0,
      "outputs": [
        {
          "output_type": "stream",
          "text": [
            "/usr/local/lib/python3.6/dist-packages/pandas/core/groupby/generic.py:1455: FutureWarning: using a dict with renaming is deprecated and will be removed\n",
            "in a future version.\n",
            "\n",
            "For column-specific groupby renaming, use named aggregation\n",
            "\n",
            "    >>> df.groupby(...).agg(name=('column', aggfunc))\n",
            "\n",
            "  return super().aggregate(arg, *args, **kwargs)\n"
          ],
          "name": "stderr"
        },
        {
          "output_type": "execute_result",
          "data": {
            "text/html": [
              "<div>\n",
              "<style scoped>\n",
              "    .dataframe tbody tr th:only-of-type {\n",
              "        vertical-align: middle;\n",
              "    }\n",
              "\n",
              "    .dataframe tbody tr th {\n",
              "        vertical-align: top;\n",
              "    }\n",
              "\n",
              "    .dataframe thead tr th {\n",
              "        text-align: left;\n",
              "    }\n",
              "\n",
              "    .dataframe thead tr:last-of-type th {\n",
              "        text-align: right;\n",
              "    }\n",
              "</style>\n",
              "<table border=\"1\" class=\"dataframe\">\n",
              "  <thead>\n",
              "    <tr>\n",
              "      <th></th>\n",
              "      <th colspan=\"4\" halign=\"left\">sdo_vncido_woe</th>\n",
              "    </tr>\n",
              "    <tr>\n",
              "      <th></th>\n",
              "      <th>_n_</th>\n",
              "      <th>min_woe</th>\n",
              "      <th>max_woe</th>\n",
              "      <th>mean</th>\n",
              "    </tr>\n",
              "    <tr>\n",
              "      <th>sdo_vncido_bin</th>\n",
              "      <th></th>\n",
              "      <th></th>\n",
              "      <th></th>\n",
              "      <th></th>\n",
              "    </tr>\n",
              "  </thead>\n",
              "  <tbody>\n",
              "    <tr>\n",
              "      <th>A_SIN_INFORMACION</th>\n",
              "      <td>973</td>\n",
              "      <td>0.470425</td>\n",
              "      <td>0.470425</td>\n",
              "      <td>0.470425</td>\n",
              "    </tr>\n",
              "    <tr>\n",
              "      <th>B_2+</th>\n",
              "      <td>8067</td>\n",
              "      <td>0.466693</td>\n",
              "      <td>0.466693</td>\n",
              "      <td>0.466693</td>\n",
              "    </tr>\n",
              "    <tr>\n",
              "      <th>C_0_A_1</th>\n",
              "      <td>27846</td>\n",
              "      <td>-0.205208</td>\n",
              "      <td>-0.205208</td>\n",
              "      <td>-0.205208</td>\n",
              "    </tr>\n",
              "  </tbody>\n",
              "</table>\n",
              "</div>"
            ],
            "text/plain": [
              "                  sdo_vncido_woe                              \n",
              "                             _n_   min_woe   max_woe      mean\n",
              "sdo_vncido_bin                                                \n",
              "A_SIN_INFORMACION            973  0.470425  0.470425  0.470425\n",
              "B_2+                        8067  0.466693  0.466693  0.466693\n",
              "C_0_A_1                    27846 -0.205208 -0.205208 -0.205208"
            ]
          },
          "metadata": {
            "tags": []
          },
          "execution_count": 174
        }
      ]
    },
    {
      "cell_type": "code",
      "metadata": {
        "id": "VpiHTgNuIdmE",
        "colab_type": "code",
        "outputId": "872cd3ee-c90e-4b13-a171-c90edf77427e",
        "colab": {
          "base_uri": "https://localhost:8080/",
          "height": 370
        }
      },
      "source": [
        "df2.groupby('max_mop_6m_bin').aggregate({'max_mop_6m_woe' : {'_n_' : 'count' \n",
        "                                    ,'min_woe' : np.min\n",
        "                                    ,'max_woe' : np.max\n",
        "                                    ,'mean'    : np.mean}})"
      ],
      "execution_count": 0,
      "outputs": [
        {
          "output_type": "stream",
          "text": [
            "/usr/local/lib/python3.6/dist-packages/pandas/core/groupby/generic.py:1455: FutureWarning: using a dict with renaming is deprecated and will be removed\n",
            "in a future version.\n",
            "\n",
            "For column-specific groupby renaming, use named aggregation\n",
            "\n",
            "    >>> df.groupby(...).agg(name=('column', aggfunc))\n",
            "\n",
            "  return super().aggregate(arg, *args, **kwargs)\n"
          ],
          "name": "stderr"
        },
        {
          "output_type": "execute_result",
          "data": {
            "text/html": [
              "<div>\n",
              "<style scoped>\n",
              "    .dataframe tbody tr th:only-of-type {\n",
              "        vertical-align: middle;\n",
              "    }\n",
              "\n",
              "    .dataframe tbody tr th {\n",
              "        vertical-align: top;\n",
              "    }\n",
              "\n",
              "    .dataframe thead tr th {\n",
              "        text-align: left;\n",
              "    }\n",
              "\n",
              "    .dataframe thead tr:last-of-type th {\n",
              "        text-align: right;\n",
              "    }\n",
              "</style>\n",
              "<table border=\"1\" class=\"dataframe\">\n",
              "  <thead>\n",
              "    <tr>\n",
              "      <th></th>\n",
              "      <th colspan=\"4\" halign=\"left\">max_mop_6m_woe</th>\n",
              "    </tr>\n",
              "    <tr>\n",
              "      <th></th>\n",
              "      <th>_n_</th>\n",
              "      <th>min_woe</th>\n",
              "      <th>max_woe</th>\n",
              "      <th>mean</th>\n",
              "    </tr>\n",
              "    <tr>\n",
              "      <th>max_mop_6m_bin</th>\n",
              "      <th></th>\n",
              "      <th></th>\n",
              "      <th></th>\n",
              "      <th></th>\n",
              "    </tr>\n",
              "  </thead>\n",
              "  <tbody>\n",
              "    <tr>\n",
              "      <th>A_3_9</th>\n",
              "      <td>7598</td>\n",
              "      <td>0.523800</td>\n",
              "      <td>0.523800</td>\n",
              "      <td>0.523800</td>\n",
              "    </tr>\n",
              "    <tr>\n",
              "      <th>B_SIN_INFORMACION</th>\n",
              "      <td>298</td>\n",
              "      <td>0.303489</td>\n",
              "      <td>0.303489</td>\n",
              "      <td>0.303489</td>\n",
              "    </tr>\n",
              "    <tr>\n",
              "      <th>C_2</th>\n",
              "      <td>6694</td>\n",
              "      <td>-0.060511</td>\n",
              "      <td>-0.060511</td>\n",
              "      <td>-0.060511</td>\n",
              "    </tr>\n",
              "    <tr>\n",
              "      <th>D_0_A_1</th>\n",
              "      <td>22296</td>\n",
              "      <td>-0.236897</td>\n",
              "      <td>-0.236897</td>\n",
              "      <td>-0.236897</td>\n",
              "    </tr>\n",
              "  </tbody>\n",
              "</table>\n",
              "</div>"
            ],
            "text/plain": [
              "                  max_mop_6m_woe                              \n",
              "                             _n_   min_woe   max_woe      mean\n",
              "max_mop_6m_bin                                                \n",
              "A_3_9                       7598  0.523800  0.523800  0.523800\n",
              "B_SIN_INFORMACION            298  0.303489  0.303489  0.303489\n",
              "C_2                         6694 -0.060511 -0.060511 -0.060511\n",
              "D_0_A_1                    22296 -0.236897 -0.236897 -0.236897"
            ]
          },
          "metadata": {
            "tags": []
          },
          "execution_count": 175
        }
      ]
    },
    {
      "cell_type": "code",
      "metadata": {
        "id": "SNuf_eLxIdv4",
        "colab_type": "code",
        "colab": {}
      },
      "source": [
        ""
      ],
      "execution_count": 0,
      "outputs": []
    },
    {
      "cell_type": "code",
      "metadata": {
        "id": "AsxjloioDe8R",
        "colab_type": "code",
        "colab": {}
      },
      "source": [
        "#####REGRESIÓN "
      ],
      "execution_count": 0,
      "outputs": []
    },
    {
      "cell_type": "code",
      "metadata": {
        "id": "sIwa1jutKktP",
        "colab_type": "code",
        "outputId": "2e178290-11ab-48e1-8666-843e7da802c2",
        "colab": {
          "base_uri": "https://localhost:8080/",
          "height": 176
        }
      },
      "source": [
        "df2.columns"
      ],
      "execution_count": 0,
      "outputs": [
        {
          "output_type": "execute_result",
          "data": {
            "text/plain": [
              "Index(['CONTRATO', 'NUM_CLIENTE', 'BC_SCORE', 'COSECHA', 'EDAD',\n",
              "       'OCPUACION_SEXO', 'CUENTA_MAS_ANTIGUA_BANCO', 'MAX_MOP_6M_AB_TDC',\n",
              "       'CUENTA_MAS_ANTIGUA_TDC', 'SALDO_VENCIDO_ABIERTAS', 'MAX_MOP_6M',\n",
              "       'PORC_UTILIZ_ENTRE_CUENT_REV_AB', 'PRODUCTO', 'SUB_PRODUCTO', 'VINTAGE',\n",
              "       'AMOUNT', 'FLAG_1PV_3', 'FLAG_2PV_6', 'FLAG_3PV_12', 'FLAG_3PV_18',\n",
              "       'FLAG_DESEMBOLSADO', 'edad_woe', 'ocup_sex_woe', 'max_mob_bank_woe',\n",
              "       'pct_util_woe', 'max_mop_6m_ab_tdc_woe', 'max_mob_tdc_woe',\n",
              "       'sdo_vncido_woe', 'max_mop_6m_woe'],\n",
              "      dtype='object')"
            ]
          },
          "metadata": {
            "tags": []
          },
          "execution_count": 72
        }
      ]
    },
    {
      "cell_type": "code",
      "metadata": {
        "id": "OxYC8El4DdiX",
        "colab_type": "code",
        "colab": {}
      },
      "source": [
        ""
      ],
      "execution_count": 0,
      "outputs": []
    },
    {
      "cell_type": "code",
      "metadata": {
        "id": "uxaxmILpKwNJ",
        "colab_type": "code",
        "colab": {}
      },
      "source": [
        "##### x\n",
        "x_n = df2[['edad_woe', 'ocup_sex_woe', 'max_mob_bank_woe','pct_util_woe', 'max_mop_6m_ab_tdc_woe', 'max_mob_tdc_woe','sdo_vncido_woe', 'max_mop_6m_woe']]"
      ],
      "execution_count": 0,
      "outputs": []
    },
    {
      "cell_type": "code",
      "metadata": {
        "id": "ZLk67RFrK-Dq",
        "colab_type": "code",
        "colab": {}
      },
      "source": [
        "##### y \n",
        "y_ = df2[['FLAG_3PV_18']]"
      ],
      "execution_count": 0,
      "outputs": []
    },
    {
      "cell_type": "code",
      "metadata": {
        "id": "Ykto9WdjK-SL",
        "colab_type": "code",
        "colab": {}
      },
      "source": [
        ""
      ],
      "execution_count": 0,
      "outputs": []
    },
    {
      "cell_type": "code",
      "metadata": {
        "id": "Q_azDgvhJNDg",
        "colab_type": "code",
        "colab": {}
      },
      "source": [
        "test1 = LogisticRegression(fit_intercept = True)"
      ],
      "execution_count": 0,
      "outputs": []
    },
    {
      "cell_type": "code",
      "metadata": {
        "id": "tH2lNSCLJyHL",
        "colab_type": "code",
        "outputId": "55f999d4-d172-46cc-e812-ca84741931ad",
        "colab": {
          "base_uri": "https://localhost:8080/",
          "height": 196
        }
      },
      "source": [
        "test1.fit(x_n , y_)"
      ],
      "execution_count": 0,
      "outputs": [
        {
          "output_type": "stream",
          "text": [
            "/usr/local/lib/python3.6/dist-packages/sklearn/linear_model/logistic.py:432: FutureWarning: Default solver will be changed to 'lbfgs' in 0.22. Specify a solver to silence this warning.\n",
            "  FutureWarning)\n",
            "/usr/local/lib/python3.6/dist-packages/sklearn/utils/validation.py:724: DataConversionWarning: A column-vector y was passed when a 1d array was expected. Please change the shape of y to (n_samples, ), for example using ravel().\n",
            "  y = column_or_1d(y, warn=True)\n"
          ],
          "name": "stderr"
        },
        {
          "output_type": "execute_result",
          "data": {
            "text/plain": [
              "LogisticRegression(C=1.0, class_weight=None, dual=False, fit_intercept=True,\n",
              "                   intercept_scaling=1, l1_ratio=None, max_iter=100,\n",
              "                   multi_class='warn', n_jobs=None, penalty='l2',\n",
              "                   random_state=None, solver='warn', tol=0.0001, verbose=0,\n",
              "                   warm_start=False)"
            ]
          },
          "metadata": {
            "tags": []
          },
          "execution_count": 80
        }
      ]
    },
    {
      "cell_type": "code",
      "metadata": {
        "id": "t0mz8PB4LVkf",
        "colab_type": "code",
        "outputId": "d74b8906-671f-45c3-89d0-c0bcc85294e3",
        "colab": {
          "base_uri": "https://localhost:8080/",
          "height": 158
        }
      },
      "source": [
        "test1.coef_.tolist()"
      ],
      "execution_count": 0,
      "outputs": [
        {
          "output_type": "execute_result",
          "data": {
            "text/plain": [
              "[[0.20263429514433537,\n",
              "  0.6935454941373286,\n",
              "  0.20263429514433537,\n",
              "  0.20263429514433537,\n",
              "  0.3185156960963072,\n",
              "  0.5421581641972483,\n",
              "  0.36182021869310543,\n",
              "  0.638545703983806]]"
            ]
          },
          "metadata": {
            "tags": []
          },
          "execution_count": 116
        }
      ]
    },
    {
      "cell_type": "code",
      "metadata": {
        "id": "7jSV_8LMLVqr",
        "colab_type": "code",
        "outputId": "dcb3c4b7-4baf-48c0-bcda-0e3c5b88657c",
        "colab": {
          "base_uri": "https://localhost:8080/",
          "height": 158
        }
      },
      "source": [
        "x_n.columns.tolist()\n"
      ],
      "execution_count": 0,
      "outputs": [
        {
          "output_type": "execute_result",
          "data": {
            "text/plain": [
              "['edad_woe',\n",
              " 'ocup_sex_woe',\n",
              " 'max_mob_bank_woe',\n",
              " 'pct_util_woe',\n",
              " 'max_mop_6m_ab_tdc_woe',\n",
              " 'max_mob_tdc_woe',\n",
              " 'sdo_vncido_woe',\n",
              " 'max_mop_6m_woe']"
            ]
          },
          "metadata": {
            "tags": []
          },
          "execution_count": 118
        }
      ]
    },
    {
      "cell_type": "code",
      "metadata": {
        "id": "iNeOQvcxLVw9",
        "colab_type": "code",
        "colab": {}
      },
      "source": [
        "coefs_ = pd.DataFrame(test1.coef_.tolist(), columns = x_n.columns.tolist() )"
      ],
      "execution_count": 0,
      "outputs": []
    },
    {
      "cell_type": "code",
      "metadata": {
        "id": "xS2AIMcMOhlt",
        "colab_type": "code",
        "outputId": "9488beed-8f32-47a3-fc13-dc5410ebc25b",
        "colab": {
          "base_uri": "https://localhost:8080/",
          "height": 77
        }
      },
      "source": [
        "coefs_"
      ],
      "execution_count": 0,
      "outputs": [
        {
          "output_type": "execute_result",
          "data": {
            "text/html": [
              "<div>\n",
              "<style scoped>\n",
              "    .dataframe tbody tr th:only-of-type {\n",
              "        vertical-align: middle;\n",
              "    }\n",
              "\n",
              "    .dataframe tbody tr th {\n",
              "        vertical-align: top;\n",
              "    }\n",
              "\n",
              "    .dataframe thead th {\n",
              "        text-align: right;\n",
              "    }\n",
              "</style>\n",
              "<table border=\"1\" class=\"dataframe\">\n",
              "  <thead>\n",
              "    <tr style=\"text-align: right;\">\n",
              "      <th></th>\n",
              "      <th>edad_woe</th>\n",
              "      <th>ocup_sex_woe</th>\n",
              "      <th>max_mob_bank_woe</th>\n",
              "      <th>pct_util_woe</th>\n",
              "      <th>max_mop_6m_ab_tdc_woe</th>\n",
              "      <th>max_mob_tdc_woe</th>\n",
              "      <th>sdo_vncido_woe</th>\n",
              "      <th>max_mop_6m_woe</th>\n",
              "    </tr>\n",
              "  </thead>\n",
              "  <tbody>\n",
              "    <tr>\n",
              "      <th>0</th>\n",
              "      <td>0.202634</td>\n",
              "      <td>0.693545</td>\n",
              "      <td>0.202634</td>\n",
              "      <td>0.202634</td>\n",
              "      <td>0.318516</td>\n",
              "      <td>0.542158</td>\n",
              "      <td>0.36182</td>\n",
              "      <td>0.638546</td>\n",
              "    </tr>\n",
              "  </tbody>\n",
              "</table>\n",
              "</div>"
            ],
            "text/plain": [
              "   edad_woe  ocup_sex_woe  ...  sdo_vncido_woe  max_mop_6m_woe\n",
              "0  0.202634      0.693545  ...         0.36182        0.638546\n",
              "\n",
              "[1 rows x 8 columns]"
            ]
          },
          "metadata": {
            "tags": []
          },
          "execution_count": 133
        }
      ]
    },
    {
      "cell_type": "code",
      "metadata": {
        "id": "4V6Iu9SRPlxe",
        "colab_type": "code",
        "colab": {}
      },
      "source": [
        "\n"
      ],
      "execution_count": 0,
      "outputs": []
    },
    {
      "cell_type": "markdown",
      "metadata": {
        "id": "PnKDJF6sVSbB",
        "colab_type": "text"
      },
      "source": [
        "#**RANGOS**"
      ]
    },
    {
      "cell_type": "code",
      "metadata": {
        "colab_type": "code",
        "id": "TgLdScrdVQT4",
        "colab": {}
      },
      "source": [
        "############################### OCUPACIÓN SEXO\n",
        "def bins_ocup_sex(row):\n",
        "    if  row.OCPUACION_SEXO == 'A_CON NEGOCIO/M':\n",
        "        return 'A_CON NEGOCIO/M'\n",
        "    elif row.OCPUACION_SEXO == 'B_EMPLEADO O ASALARIADO/M':\n",
        "        return 'B_EMPLEADO O ASALARIADO/M'\n",
        "    elif  row.OCPUACION_SEXO == 'C_CON NEGOCIO/F':\n",
        "        return 'C_CON NEGOCIO/F'\n",
        "    elif  row.OCPUACION_SEXO == 'D_EMPLEADO O ASALARIADO/F':\n",
        "        return 'D_EMPLEADO O ASALARIADO/F'\n",
        "    elif  row.OCPUACION_SEXO == 'E_JUBILADO/M':\n",
        "        return 'E_JUBILADO/M'\n",
        "    else:\n",
        "        return 'F_JUBILADO/F'"
      ],
      "execution_count": 0,
      "outputs": []
    },
    {
      "cell_type": "code",
      "metadata": {
        "colab_type": "code",
        "id": "Z8RE5N1BVQUH",
        "colab": {}
      },
      "source": [
        "###############################EDAD\n",
        "def bins_edad(row):\n",
        "    if  row.EDAD <= 39:\n",
        "        return 'A_20_A_39'\n",
        "    elif row.EDAD <= 46:\n",
        "        return 'B_40_A_46'\n",
        "    elif  row.EDAD <= 51:\n",
        "        return 'C_47_A_51'\n",
        "    elif  row.EDAD <= 56:\n",
        "        return 'D_52_A_56'\n",
        "    elif  row.EDAD <= 61:\n",
        "        return 'E_57_A_61'\n",
        "    else:\n",
        "        return 'F_62_A_86'"
      ],
      "execution_count": 0,
      "outputs": []
    },
    {
      "cell_type": "code",
      "metadata": {
        "colab_type": "code",
        "id": "xlSObnVeVQUM",
        "colab": {}
      },
      "source": [
        "############################### máxima antigÜedad banco \n",
        "def bins_max_mob_bank(row):\n",
        "    if  row.CUENTA_MAS_ANTIGUA_BANCO <= 36:\n",
        "        return 'A_0_A_36'\n",
        "    elif row.CUENTA_MAS_ANTIGUA_BANCO <= 59:\n",
        "        return 'C_37_A_59'\n",
        "    elif  row.CUENTA_MAS_ANTIGUA_BANCO <= 76:\n",
        "        return 'D_60_A_76'\n",
        "    elif  row.CUENTA_MAS_ANTIGUA_BANCO <= 104:\n",
        "        return 'E_77_A_104'\n",
        "    elif  row.CUENTA_MAS_ANTIGUA_BANCO <= 131:\n",
        "        return 'F_105_A_131'\n",
        "    elif  row.CUENTA_MAS_ANTIGUA_BANCO <= 499:\n",
        "        return 'G_132_A_499'\n",
        "    else:\n",
        "        return 'B_SIN_INFORMACION'"
      ],
      "execution_count": 0,
      "outputs": []
    },
    {
      "cell_type": "code",
      "metadata": {
        "colab_type": "code",
        "id": "4a_fr3a_VQUQ",
        "colab": {}
      },
      "source": [
        "################################## pct utilización\n",
        "def bins_pct_util(row):\n",
        "    if  row.PORC_UTILIZ_ENTRE_CUENT_REV_AB <= 0.150290638:\n",
        "        return 'C_0_A_15'\n",
        "    elif row.PORC_UTILIZ_ENTRE_CUENT_REV_AB <= 140514:\n",
        "        return 'B_MAYOR_A_15'\n",
        "    else:\n",
        "        return 'A_SIN_INFORMACION'"
      ],
      "execution_count": 0,
      "outputs": []
    },
    {
      "cell_type": "code",
      "metadata": {
        "colab_type": "code",
        "id": "3Ko4VA8iVQUU",
        "colab": {}
      },
      "source": [
        "######################################## MÁXIMO MOP TDC\n",
        "\n",
        "def bins_max_mop_6m_ab_tdc(row):\n",
        "    if  row.MAX_MOP_6M_AB_TDC <= 1:\n",
        "        return 'C_0_A_1'\n",
        "    elif row.MAX_MOP_6M_AB_TDC <= 9:\n",
        "        return 'B_2_A_9'\n",
        "    else:\n",
        "        return 'A_SIN_INFORMACION'"
      ],
      "execution_count": 0,
      "outputs": []
    },
    {
      "cell_type": "code",
      "metadata": {
        "colab_type": "code",
        "id": "MXQtetfSVQUX",
        "colab": {}
      },
      "source": [
        "############################### máxima antigÜedad TDC \n",
        "def bins_max_mob_tdc(row):\n",
        "    if  row.CUENTA_MAS_ANTIGUA_TDC <= 53:\n",
        "        return 'B_0_A_53'\n",
        "    elif row.CUENTA_MAS_ANTIGUA_TDC <= 98:\n",
        "        return 'C_54_A_98'\n",
        "    elif  row.CUENTA_MAS_ANTIGUA_TDC <= 137:\n",
        "        return 'D_99_A_137'\n",
        "    elif  row.CUENTA_MAS_ANTIGUA_TDC <= 612:\n",
        "        return 'E_138_A_612'\n",
        "    else:\n",
        "        return 'A_SIN_INFORMACION'"
      ],
      "execution_count": 0,
      "outputs": []
    },
    {
      "cell_type": "code",
      "metadata": {
        "colab_type": "code",
        "id": "pQuQVAoNVQUa",
        "colab": {}
      },
      "source": [
        "############################## saldo vencido\n",
        "def bins_sdo_vncido(row):\n",
        "    if  row.SALDO_VENCIDO_ABIERTAS <= 1:\n",
        "        return 'C_0_A_1'\n",
        "    elif row.SALDO_VENCIDO_ABIERTAS <= 463253:\n",
        "        return 'B_2+'\n",
        "    else:\n",
        "        return 'A_SIN_INFORMACION'"
      ],
      "execution_count": 0,
      "outputs": []
    },
    {
      "cell_type": "code",
      "metadata": {
        "colab_type": "code",
        "id": "4DJiDSwUVQUc",
        "colab": {}
      },
      "source": [
        "############################## max mop 6m\n",
        "def bins_max_mop_6m(row):\n",
        "    if  row.MAX_MOP_6M <= 1:\n",
        "        return 'D_0_A_1'\n",
        "    elif row.MAX_MOP_6M <= 2:\n",
        "        return 'C_2'\n",
        "    elif row.MAX_MOP_6M <= 9:\n",
        "        return 'A_3_9'\n",
        "    else:\n",
        "        return 'B_SIN_INFORMACION'"
      ],
      "execution_count": 0,
      "outputs": []
    },
    {
      "cell_type": "code",
      "metadata": {
        "id": "ZAjuCdmIT8IL",
        "colab_type": "code",
        "colab": {}
      },
      "source": [
        ""
      ],
      "execution_count": 0,
      "outputs": []
    }
  ]
}