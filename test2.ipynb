{
  "nbformat": 4,
  "nbformat_minor": 0,
  "metadata": {
    "colab": {
      "name": "test2",
      "provenance": [],
      "collapsed_sections": [],
      "include_colab_link": true
    },
    "kernelspec": {
      "name": "python3",
      "display_name": "Python 3"
    },
    "accelerator": "GPU"
  },
  "cells": [
    {
      "cell_type": "markdown",
      "metadata": {
        "id": "view-in-github",
        "colab_type": "text"
      },
      "source": [
        "<a href=\"https://colab.research.google.com/github/MarcoBrac/Test/blob/master/test2.ipynb\" target=\"_parent\"><img src=\"https://colab.research.google.com/assets/colab-badge.svg\" alt=\"Open In Colab\"/></a>"
      ]
    },
    {
      "cell_type": "code",
      "metadata": {
        "id": "c6URWxj1z0nY",
        "colab_type": "code",
        "outputId": "1c3ccbea-0671-42c1-85f9-7b1b38f79e72",
        "colab": {
          "base_uri": "https://localhost:8080/",
          "height": 54
        }
      },
      "source": [
        "from google.colab import drive\n",
        "drive.mount('/content/drive')"
      ],
      "execution_count": 21,
      "outputs": [
        {
          "output_type": "stream",
          "text": [
            "Drive already mounted at /content/drive; to attempt to forcibly remount, call drive.mount(\"/content/drive\", force_remount=True).\n"
          ],
          "name": "stdout"
        }
      ]
    },
    {
      "cell_type": "code",
      "metadata": {
        "id": "au0lLqSY0uXk",
        "colab_type": "code",
        "outputId": "117be002-c064-4141-e00d-458bf5ed1759",
        "colab": {
          "base_uri": "https://localhost:8080/",
          "height": 214
        }
      },
      "source": [
        "!head TABLA_MODELO_HIT_3.csv"
      ],
      "execution_count": 22,
      "outputs": [
        {
          "output_type": "stream",
          "text": [
            "CONTRATO,NUM_CLIENTE,BC_SCORE,COSECHA,EDAD,OCPUACION_SEXO,CUENTA_MAS_ANTIGUA_BANCO,MAX_MOP_6M_AB_TDC,CUENTA_MAS_ANTIGUA_TDC,SALDO_VENCIDO_ABIERTAS,MAX_MOP_6M,PORC_UTILIZ_ENTRE_CUENT_REV_AB,PRODUCTO,SUB_PRODUCTO,VINTAGE,AMOUNT,FLAG_1PV_3,FLAG_2PV_6,FLAG_3PV_12,FLAG_3PV_18,FLAG_DESEMBOLSADO\r\n",
            "400015808,1953462,660,201505,37,C_CON NEGOCIO/F,31,NULL,NULL,0,9,NULL,OMEGA,OMEGA_M,201505,11728,0,1,1,1,1\r\n",
            "400015823,772865,663,201505,64,F_JUBILADO/F,94,2,187,511,2,0.219478426,OMEGA,OMEGA_M,201505,17191,0,0,0,0,1\r\n",
            "400015912,3873005,561,201505,41,A_CON NEGOCIO/M,28,NULL,NULL,4662,7,NULL,OMEGA,OMEGA_M,201505,5897,0,0,0,0,1\r\n",
            "400015973,776366,724,201505,44,C_CON NEGOCIO/F,NULL,1,18,0,1,0.104229355,OMEGA,OMEGA_M,201505,8000,0,0,0,0,1\r\n",
            "400014820,347497,713,201505,40,C_CON NEGOCIO/F,49,1,42,0,1,0.034421836,OMEGA,OMEGA_M,201505,29686,0,0,0,0,1\r\n",
            "400018477,1011052,631,201506,53,B_EMPLEADO O ASALARIADO/M,NULL,1,137,48701,9,0,OMEGA,OMEGA_M,201506,13615,0,0,0,0,1\r\n",
            "400018510,1800455250,661,201506,50,C_CON NEGOCIO/F,115,NULL,115,0,2,NULL,OMEGA,OMEGA_M,201506,31928,0,0,0,0,1\r\n",
            "400021185,2964904,641,201507,63,C_CON NEGOCIO/F,293,1,443,0,1,0.148270095,OMEGA,OMEGA_M,201507,10264,0,0,0,0,1\r\n",
            "400021193,1800703853,682,201507,44,A_CON NEGOCIO/M,26,NULL,NULL,0,1,NULL,OMEGA,OMEGA_M,201507,29174,0,0,0,1,1\r\n"
          ],
          "name": "stdout"
        }
      ]
    },
    {
      "cell_type": "code",
      "metadata": {
        "id": "Gd_7CPg30ukZ",
        "colab_type": "code",
        "colab": {}
      },
      "source": [
        "from google.colab import files\n"
      ],
      "execution_count": 0,
      "outputs": []
    },
    {
      "cell_type": "code",
      "metadata": {
        "id": "ObxRPaZ00us5",
        "colab_type": "code",
        "outputId": "d3e7bb71-7e19-4761-9446-cbda9ba86f6c",
        "colab": {
          "resources": {
            "http://localhost:8080/nbextensions/google.colab/files.js": {
              "data": "Ly8gQ29weXJpZ2h0IDIwMTcgR29vZ2xlIExMQwovLwovLyBMaWNlbnNlZCB1bmRlciB0aGUgQXBhY2hlIExpY2Vuc2UsIFZlcnNpb24gMi4wICh0aGUgIkxpY2Vuc2UiKTsKLy8geW91IG1heSBub3QgdXNlIHRoaXMgZmlsZSBleGNlcHQgaW4gY29tcGxpYW5jZSB3aXRoIHRoZSBMaWNlbnNlLgovLyBZb3UgbWF5IG9idGFpbiBhIGNvcHkgb2YgdGhlIExpY2Vuc2UgYXQKLy8KLy8gICAgICBodHRwOi8vd3d3LmFwYWNoZS5vcmcvbGljZW5zZXMvTElDRU5TRS0yLjAKLy8KLy8gVW5sZXNzIHJlcXVpcmVkIGJ5IGFwcGxpY2FibGUgbGF3IG9yIGFncmVlZCB0byBpbiB3cml0aW5nLCBzb2Z0d2FyZQovLyBkaXN0cmlidXRlZCB1bmRlciB0aGUgTGljZW5zZSBpcyBkaXN0cmlidXRlZCBvbiBhbiAiQVMgSVMiIEJBU0lTLAovLyBXSVRIT1VUIFdBUlJBTlRJRVMgT1IgQ09ORElUSU9OUyBPRiBBTlkgS0lORCwgZWl0aGVyIGV4cHJlc3Mgb3IgaW1wbGllZC4KLy8gU2VlIHRoZSBMaWNlbnNlIGZvciB0aGUgc3BlY2lmaWMgbGFuZ3VhZ2UgZ292ZXJuaW5nIHBlcm1pc3Npb25zIGFuZAovLyBsaW1pdGF0aW9ucyB1bmRlciB0aGUgTGljZW5zZS4KCi8qKgogKiBAZmlsZW92ZXJ2aWV3IEhlbHBlcnMgZm9yIGdvb2dsZS5jb2xhYiBQeXRob24gbW9kdWxlLgogKi8KKGZ1bmN0aW9uKHNjb3BlKSB7CmZ1bmN0aW9uIHNwYW4odGV4dCwgc3R5bGVBdHRyaWJ1dGVzID0ge30pIHsKICBjb25zdCBlbGVtZW50ID0gZG9jdW1lbnQuY3JlYXRlRWxlbWVudCgnc3BhbicpOwogIGVsZW1lbnQudGV4dENvbnRlbnQgPSB0ZXh0OwogIGZvciAoY29uc3Qga2V5IG9mIE9iamVjdC5rZXlzKHN0eWxlQXR0cmlidXRlcykpIHsKICAgIGVsZW1lbnQuc3R5bGVba2V5XSA9IHN0eWxlQXR0cmlidXRlc1trZXldOwogIH0KICByZXR1cm4gZWxlbWVudDsKfQoKLy8gTWF4IG51bWJlciBvZiBieXRlcyB3aGljaCB3aWxsIGJlIHVwbG9hZGVkIGF0IGEgdGltZS4KY29uc3QgTUFYX1BBWUxPQURfU0laRSA9IDEwMCAqIDEwMjQ7Ci8vIE1heCBhbW91bnQgb2YgdGltZSB0byBibG9jayB3YWl0aW5nIGZvciB0aGUgdXNlci4KY29uc3QgRklMRV9DSEFOR0VfVElNRU9VVF9NUyA9IDMwICogMTAwMDsKCmZ1bmN0aW9uIF91cGxvYWRGaWxlcyhpbnB1dElkLCBvdXRwdXRJZCkgewogIGNvbnN0IHN0ZXBzID0gdXBsb2FkRmlsZXNTdGVwKGlucHV0SWQsIG91dHB1dElkKTsKICBjb25zdCBvdXRwdXRFbGVtZW50ID0gZG9jdW1lbnQuZ2V0RWxlbWVudEJ5SWQob3V0cHV0SWQpOwogIC8vIENhY2hlIHN0ZXBzIG9uIHRoZSBvdXRwdXRFbGVtZW50IHRvIG1ha2UgaXQgYXZhaWxhYmxlIGZvciB0aGUgbmV4dCBjYWxsCiAgLy8gdG8gdXBsb2FkRmlsZXNDb250aW51ZSBmcm9tIFB5dGhvbi4KICBvdXRwdXRFbGVtZW50LnN0ZXBzID0gc3RlcHM7CgogIHJldHVybiBfdXBsb2FkRmlsZXNDb250aW51ZShvdXRwdXRJZCk7Cn0KCi8vIFRoaXMgaXMgcm91Z2hseSBhbiBhc3luYyBnZW5lcmF0b3IgKG5vdCBzdXBwb3J0ZWQgaW4gdGhlIGJyb3dzZXIgeWV0KSwKLy8gd2hlcmUgdGhlcmUgYXJlIG11bHRpcGxlIGFzeW5jaHJvbm91cyBzdGVwcyBhbmQgdGhlIFB5dGhvbiBzaWRlIGlzIGdvaW5nCi8vIHRvIHBvbGwgZm9yIGNvbXBsZXRpb24gb2YgZWFjaCBzdGVwLgovLyBUaGlzIHVzZXMgYSBQcm9taXNlIHRvIGJsb2NrIHRoZSBweXRob24gc2lkZSBvbiBjb21wbGV0aW9uIG9mIGVhY2ggc3RlcCwKLy8gdGhlbiBwYXNzZXMgdGhlIHJlc3VsdCBvZiB0aGUgcHJldmlvdXMgc3RlcCBhcyB0aGUgaW5wdXQgdG8gdGhlIG5leHQgc3RlcC4KZnVuY3Rpb24gX3VwbG9hZEZpbGVzQ29udGludWUob3V0cHV0SWQpIHsKICBjb25zdCBvdXRwdXRFbGVtZW50ID0gZG9jdW1lbnQuZ2V0RWxlbWVudEJ5SWQob3V0cHV0SWQpOwogIGNvbnN0IHN0ZXBzID0gb3V0cHV0RWxlbWVudC5zdGVwczsKCiAgY29uc3QgbmV4dCA9IHN0ZXBzLm5leHQob3V0cHV0RWxlbWVudC5sYXN0UHJvbWlzZVZhbHVlKTsKICByZXR1cm4gUHJvbWlzZS5yZXNvbHZlKG5leHQudmFsdWUucHJvbWlzZSkudGhlbigodmFsdWUpID0+IHsKICAgIC8vIENhY2hlIHRoZSBsYXN0IHByb21pc2UgdmFsdWUgdG8gbWFrZSBpdCBhdmFpbGFibGUgdG8gdGhlIG5leHQKICAgIC8vIHN0ZXAgb2YgdGhlIGdlbmVyYXRvci4KICAgIG91dHB1dEVsZW1lbnQubGFzdFByb21pc2VWYWx1ZSA9IHZhbHVlOwogICAgcmV0dXJuIG5leHQudmFsdWUucmVzcG9uc2U7CiAgfSk7Cn0KCi8qKgogKiBHZW5lcmF0b3IgZnVuY3Rpb24gd2hpY2ggaXMgY2FsbGVkIGJldHdlZW4gZWFjaCBhc3luYyBzdGVwIG9mIHRoZSB1cGxvYWQKICogcHJvY2Vzcy4KICogQHBhcmFtIHtzdHJpbmd9IGlucHV0SWQgRWxlbWVudCBJRCBvZiB0aGUgaW5wdXQgZmlsZSBwaWNrZXIgZWxlbWVudC4KICogQHBhcmFtIHtzdHJpbmd9IG91dHB1dElkIEVsZW1lbnQgSUQgb2YgdGhlIG91dHB1dCBkaXNwbGF5LgogKiBAcmV0dXJuIHshSXRlcmFibGU8IU9iamVjdD59IEl0ZXJhYmxlIG9mIG5leHQgc3RlcHMuCiAqLwpmdW5jdGlvbiogdXBsb2FkRmlsZXNTdGVwKGlucHV0SWQsIG91dHB1dElkKSB7CiAgY29uc3QgaW5wdXRFbGVtZW50ID0gZG9jdW1lbnQuZ2V0RWxlbWVudEJ5SWQoaW5wdXRJZCk7CiAgaW5wdXRFbGVtZW50LmRpc2FibGVkID0gZmFsc2U7CgogIGNvbnN0IG91dHB1dEVsZW1lbnQgPSBkb2N1bWVudC5nZXRFbGVtZW50QnlJZChvdXRwdXRJZCk7CiAgb3V0cHV0RWxlbWVudC5pbm5lckhUTUwgPSAnJzsKCiAgY29uc3QgcGlja2VkUHJvbWlzZSA9IG5ldyBQcm9taXNlKChyZXNvbHZlKSA9PiB7CiAgICBpbnB1dEVsZW1lbnQuYWRkRXZlbnRMaXN0ZW5lcignY2hhbmdlJywgKGUpID0+IHsKICAgICAgcmVzb2x2ZShlLnRhcmdldC5maWxlcyk7CiAgICB9KTsKICB9KTsKCiAgY29uc3QgY2FuY2VsID0gZG9jdW1lbnQuY3JlYXRlRWxlbWVudCgnYnV0dG9uJyk7CiAgaW5wdXRFbGVtZW50LnBhcmVudEVsZW1lbnQuYXBwZW5kQ2hpbGQoY2FuY2VsKTsKICBjYW5jZWwudGV4dENvbnRlbnQgPSAnQ2FuY2VsIHVwbG9hZCc7CiAgY29uc3QgY2FuY2VsUHJvbWlzZSA9IG5ldyBQcm9taXNlKChyZXNvbHZlKSA9PiB7CiAgICBjYW5jZWwub25jbGljayA9ICgpID0+IHsKICAgICAgcmVzb2x2ZShudWxsKTsKICAgIH07CiAgfSk7CgogIC8vIENhbmNlbCB1cGxvYWQgaWYgdXNlciBoYXNuJ3QgcGlja2VkIGFueXRoaW5nIGluIHRpbWVvdXQuCiAgY29uc3QgdGltZW91dFByb21pc2UgPSBuZXcgUHJvbWlzZSgocmVzb2x2ZSkgPT4gewogICAgc2V0VGltZW91dCgoKSA9PiB7CiAgICAgIHJlc29sdmUobnVsbCk7CiAgICB9LCBGSUxFX0NIQU5HRV9USU1FT1VUX01TKTsKICB9KTsKCiAgLy8gV2FpdCBmb3IgdGhlIHVzZXIgdG8gcGljayB0aGUgZmlsZXMuCiAgY29uc3QgZmlsZXMgPSB5aWVsZCB7CiAgICBwcm9taXNlOiBQcm9taXNlLnJhY2UoW3BpY2tlZFByb21pc2UsIHRpbWVvdXRQcm9taXNlLCBjYW5jZWxQcm9taXNlXSksCiAgICByZXNwb25zZTogewogICAgICBhY3Rpb246ICdzdGFydGluZycsCiAgICB9CiAgfTsKCiAgaWYgKCFmaWxlcykgewogICAgcmV0dXJuIHsKICAgICAgcmVzcG9uc2U6IHsKICAgICAgICBhY3Rpb246ICdjb21wbGV0ZScsCiAgICAgIH0KICAgIH07CiAgfQoKICBjYW5jZWwucmVtb3ZlKCk7CgogIC8vIERpc2FibGUgdGhlIGlucHV0IGVsZW1lbnQgc2luY2UgZnVydGhlciBwaWNrcyBhcmUgbm90IGFsbG93ZWQuCiAgaW5wdXRFbGVtZW50LmRpc2FibGVkID0gdHJ1ZTsKCiAgZm9yIChjb25zdCBmaWxlIG9mIGZpbGVzKSB7CiAgICBjb25zdCBsaSA9IGRvY3VtZW50LmNyZWF0ZUVsZW1lbnQoJ2xpJyk7CiAgICBsaS5hcHBlbmQoc3BhbihmaWxlLm5hbWUsIHtmb250V2VpZ2h0OiAnYm9sZCd9KSk7CiAgICBsaS5hcHBlbmQoc3BhbigKICAgICAgICBgKCR7ZmlsZS50eXBlIHx8ICduL2EnfSkgLSAke2ZpbGUuc2l6ZX0gYnl0ZXMsIGAgKwogICAgICAgIGBsYXN0IG1vZGlmaWVkOiAkewogICAgICAgICAgICBmaWxlLmxhc3RNb2RpZmllZERhdGUgPyBmaWxlLmxhc3RNb2RpZmllZERhdGUudG9Mb2NhbGVEYXRlU3RyaW5nKCkgOgogICAgICAgICAgICAgICAgICAgICAgICAgICAgICAgICAgICAnbi9hJ30gLSBgKSk7CiAgICBjb25zdCBwZXJjZW50ID0gc3BhbignMCUgZG9uZScpOwogICAgbGkuYXBwZW5kQ2hpbGQocGVyY2VudCk7CgogICAgb3V0cHV0RWxlbWVudC5hcHBlbmRDaGlsZChsaSk7CgogICAgY29uc3QgZmlsZURhdGFQcm9taXNlID0gbmV3IFByb21pc2UoKHJlc29sdmUpID0+IHsKICAgICAgY29uc3QgcmVhZGVyID0gbmV3IEZpbGVSZWFkZXIoKTsKICAgICAgcmVhZGVyLm9ubG9hZCA9IChlKSA9PiB7CiAgICAgICAgcmVzb2x2ZShlLnRhcmdldC5yZXN1bHQpOwogICAgICB9OwogICAgICByZWFkZXIucmVhZEFzQXJyYXlCdWZmZXIoZmlsZSk7CiAgICB9KTsKICAgIC8vIFdhaXQgZm9yIHRoZSBkYXRhIHRvIGJlIHJlYWR5LgogICAgbGV0IGZpbGVEYXRhID0geWllbGQgewogICAgICBwcm9taXNlOiBmaWxlRGF0YVByb21pc2UsCiAgICAgIHJlc3BvbnNlOiB7CiAgICAgICAgYWN0aW9uOiAnY29udGludWUnLAogICAgICB9CiAgICB9OwoKICAgIC8vIFVzZSBhIGNodW5rZWQgc2VuZGluZyB0byBhdm9pZCBtZXNzYWdlIHNpemUgbGltaXRzLiBTZWUgYi82MjExNTY2MC4KICAgIGxldCBwb3NpdGlvbiA9IDA7CiAgICB3aGlsZSAocG9zaXRpb24gPCBmaWxlRGF0YS5ieXRlTGVuZ3RoKSB7CiAgICAgIGNvbnN0IGxlbmd0aCA9IE1hdGgubWluKGZpbGVEYXRhLmJ5dGVMZW5ndGggLSBwb3NpdGlvbiwgTUFYX1BBWUxPQURfU0laRSk7CiAgICAgIGNvbnN0IGNodW5rID0gbmV3IFVpbnQ4QXJyYXkoZmlsZURhdGEsIHBvc2l0aW9uLCBsZW5ndGgpOwogICAgICBwb3NpdGlvbiArPSBsZW5ndGg7CgogICAgICBjb25zdCBiYXNlNjQgPSBidG9hKFN0cmluZy5mcm9tQ2hhckNvZGUuYXBwbHkobnVsbCwgY2h1bmspKTsKICAgICAgeWllbGQgewogICAgICAgIHJlc3BvbnNlOiB7CiAgICAgICAgICBhY3Rpb246ICdhcHBlbmQnLAogICAgICAgICAgZmlsZTogZmlsZS5uYW1lLAogICAgICAgICAgZGF0YTogYmFzZTY0LAogICAgICAgIH0sCiAgICAgIH07CiAgICAgIHBlcmNlbnQudGV4dENvbnRlbnQgPQogICAgICAgICAgYCR7TWF0aC5yb3VuZCgocG9zaXRpb24gLyBmaWxlRGF0YS5ieXRlTGVuZ3RoKSAqIDEwMCl9JSBkb25lYDsKICAgIH0KICB9CgogIC8vIEFsbCBkb25lLgogIHlpZWxkIHsKICAgIHJlc3BvbnNlOiB7CiAgICAgIGFjdGlvbjogJ2NvbXBsZXRlJywKICAgIH0KICB9Owp9CgpzY29wZS5nb29nbGUgPSBzY29wZS5nb29nbGUgfHwge307CnNjb3BlLmdvb2dsZS5jb2xhYiA9IHNjb3BlLmdvb2dsZS5jb2xhYiB8fCB7fTsKc2NvcGUuZ29vZ2xlLmNvbGFiLl9maWxlcyA9IHsKICBfdXBsb2FkRmlsZXMsCiAgX3VwbG9hZEZpbGVzQ29udGludWUsCn07Cn0pKHNlbGYpOwo=",
              "ok": true,
              "headers": [
                [
                  "content-type",
                  "application/javascript"
                ]
              ],
              "status": 200,
              "status_text": "OK"
            }
          },
          "base_uri": "https://localhost:8080/",
          "height": 91
        }
      },
      "source": [
        " uploaded = files.upload()"
      ],
      "execution_count": 25,
      "outputs": [
        {
          "output_type": "display_data",
          "data": {
            "text/html": [
              "\n",
              "     <input type=\"file\" id=\"files-d4ed1f60-9167-4819-957a-d0943300677b\" name=\"files[]\" multiple disabled />\n",
              "     <output id=\"result-d4ed1f60-9167-4819-957a-d0943300677b\">\n",
              "      Upload widget is only available when the cell has been executed in the\n",
              "      current browser session. Please rerun this cell to enable.\n",
              "      </output>\n",
              "      <script src=\"/nbextensions/google.colab/files.js\"></script> "
            ],
            "text/plain": [
              "<IPython.core.display.HTML object>"
            ]
          },
          "metadata": {
            "tags": []
          }
        },
        {
          "output_type": "stream",
          "text": [
            "Saving TABLA_MODELO_HIT_3.csv to TABLA_MODELO_HIT_3 (2).csv\n"
          ],
          "name": "stdout"
        }
      ]
    },
    {
      "cell_type": "code",
      "metadata": {
        "id": "V9Gw68J03yVM",
        "colab_type": "code",
        "colab": {}
      },
      "source": [
        "import pandas as pd\n",
        "import numpy as np\n",
        "\n",
        "from sklearn.linear_model import LogisticRegression\n",
        "from sklearn import datasets\n",
        "from sklearn.preprocessing import StandardScaler\n"
      ],
      "execution_count": 0,
      "outputs": []
    },
    {
      "cell_type": "code",
      "metadata": {
        "id": "1HqDslft316N",
        "colab_type": "code",
        "colab": {}
      },
      "source": [
        "df1 = pd.read_csv('TABLA_MODELO_HIT_3.csv' ) "
      ],
      "execution_count": 0,
      "outputs": []
    },
    {
      "cell_type": "code",
      "metadata": {
        "id": "D302R1Y-4T2z",
        "colab_type": "code",
        "outputId": "77114cbd-06d0-4910-d7cd-83284d1726d4",
        "colab": {
          "base_uri": "https://localhost:8080/",
          "height": 284
        }
      },
      "source": [
        "df1.head()"
      ],
      "execution_count": 29,
      "outputs": [
        {
          "output_type": "execute_result",
          "data": {
            "text/html": [
              "<div>\n",
              "<style scoped>\n",
              "    .dataframe tbody tr th:only-of-type {\n",
              "        vertical-align: middle;\n",
              "    }\n",
              "\n",
              "    .dataframe tbody tr th {\n",
              "        vertical-align: top;\n",
              "    }\n",
              "\n",
              "    .dataframe thead th {\n",
              "        text-align: right;\n",
              "    }\n",
              "</style>\n",
              "<table border=\"1\" class=\"dataframe\">\n",
              "  <thead>\n",
              "    <tr style=\"text-align: right;\">\n",
              "      <th></th>\n",
              "      <th>CONTRATO</th>\n",
              "      <th>NUM_CLIENTE</th>\n",
              "      <th>BC_SCORE</th>\n",
              "      <th>COSECHA</th>\n",
              "      <th>EDAD</th>\n",
              "      <th>OCPUACION_SEXO</th>\n",
              "      <th>CUENTA_MAS_ANTIGUA_BANCO</th>\n",
              "      <th>MAX_MOP_6M_AB_TDC</th>\n",
              "      <th>CUENTA_MAS_ANTIGUA_TDC</th>\n",
              "      <th>SALDO_VENCIDO_ABIERTAS</th>\n",
              "      <th>MAX_MOP_6M</th>\n",
              "      <th>PORC_UTILIZ_ENTRE_CUENT_REV_AB</th>\n",
              "      <th>PRODUCTO</th>\n",
              "      <th>SUB_PRODUCTO</th>\n",
              "      <th>VINTAGE</th>\n",
              "      <th>AMOUNT</th>\n",
              "      <th>FLAG_1PV_3</th>\n",
              "      <th>FLAG_2PV_6</th>\n",
              "      <th>FLAG_3PV_12</th>\n",
              "      <th>FLAG_3PV_18</th>\n",
              "      <th>FLAG_DESEMBOLSADO</th>\n",
              "    </tr>\n",
              "  </thead>\n",
              "  <tbody>\n",
              "    <tr>\n",
              "      <th>0</th>\n",
              "      <td>400015808</td>\n",
              "      <td>1953462</td>\n",
              "      <td>660</td>\n",
              "      <td>201505</td>\n",
              "      <td>37.0</td>\n",
              "      <td>C_CON NEGOCIO/F</td>\n",
              "      <td>31.0</td>\n",
              "      <td>NaN</td>\n",
              "      <td>NaN</td>\n",
              "      <td>0.0</td>\n",
              "      <td>9.0</td>\n",
              "      <td>NaN</td>\n",
              "      <td>OMEGA</td>\n",
              "      <td>OMEGA_M</td>\n",
              "      <td>201505</td>\n",
              "      <td>11728.0</td>\n",
              "      <td>0</td>\n",
              "      <td>1</td>\n",
              "      <td>1</td>\n",
              "      <td>1</td>\n",
              "      <td>1</td>\n",
              "    </tr>\n",
              "    <tr>\n",
              "      <th>1</th>\n",
              "      <td>400015823</td>\n",
              "      <td>772865</td>\n",
              "      <td>663</td>\n",
              "      <td>201505</td>\n",
              "      <td>64.0</td>\n",
              "      <td>F_JUBILADO/F</td>\n",
              "      <td>94.0</td>\n",
              "      <td>2.0</td>\n",
              "      <td>187.0</td>\n",
              "      <td>511.0</td>\n",
              "      <td>2.0</td>\n",
              "      <td>0.219478</td>\n",
              "      <td>OMEGA</td>\n",
              "      <td>OMEGA_M</td>\n",
              "      <td>201505</td>\n",
              "      <td>17191.0</td>\n",
              "      <td>0</td>\n",
              "      <td>0</td>\n",
              "      <td>0</td>\n",
              "      <td>0</td>\n",
              "      <td>1</td>\n",
              "    </tr>\n",
              "    <tr>\n",
              "      <th>2</th>\n",
              "      <td>400015912</td>\n",
              "      <td>3873005</td>\n",
              "      <td>561</td>\n",
              "      <td>201505</td>\n",
              "      <td>41.0</td>\n",
              "      <td>A_CON NEGOCIO/M</td>\n",
              "      <td>28.0</td>\n",
              "      <td>NaN</td>\n",
              "      <td>NaN</td>\n",
              "      <td>4662.0</td>\n",
              "      <td>7.0</td>\n",
              "      <td>NaN</td>\n",
              "      <td>OMEGA</td>\n",
              "      <td>OMEGA_M</td>\n",
              "      <td>201505</td>\n",
              "      <td>5897.0</td>\n",
              "      <td>0</td>\n",
              "      <td>0</td>\n",
              "      <td>0</td>\n",
              "      <td>0</td>\n",
              "      <td>1</td>\n",
              "    </tr>\n",
              "    <tr>\n",
              "      <th>3</th>\n",
              "      <td>400015973</td>\n",
              "      <td>776366</td>\n",
              "      <td>724</td>\n",
              "      <td>201505</td>\n",
              "      <td>44.0</td>\n",
              "      <td>C_CON NEGOCIO/F</td>\n",
              "      <td>NaN</td>\n",
              "      <td>1.0</td>\n",
              "      <td>18.0</td>\n",
              "      <td>0.0</td>\n",
              "      <td>1.0</td>\n",
              "      <td>0.104229</td>\n",
              "      <td>OMEGA</td>\n",
              "      <td>OMEGA_M</td>\n",
              "      <td>201505</td>\n",
              "      <td>8000.0</td>\n",
              "      <td>0</td>\n",
              "      <td>0</td>\n",
              "      <td>0</td>\n",
              "      <td>0</td>\n",
              "      <td>1</td>\n",
              "    </tr>\n",
              "    <tr>\n",
              "      <th>4</th>\n",
              "      <td>400014820</td>\n",
              "      <td>347497</td>\n",
              "      <td>713</td>\n",
              "      <td>201505</td>\n",
              "      <td>40.0</td>\n",
              "      <td>C_CON NEGOCIO/F</td>\n",
              "      <td>49.0</td>\n",
              "      <td>1.0</td>\n",
              "      <td>42.0</td>\n",
              "      <td>0.0</td>\n",
              "      <td>1.0</td>\n",
              "      <td>0.034422</td>\n",
              "      <td>OMEGA</td>\n",
              "      <td>OMEGA_M</td>\n",
              "      <td>201505</td>\n",
              "      <td>29686.0</td>\n",
              "      <td>0</td>\n",
              "      <td>0</td>\n",
              "      <td>0</td>\n",
              "      <td>0</td>\n",
              "      <td>1</td>\n",
              "    </tr>\n",
              "  </tbody>\n",
              "</table>\n",
              "</div>"
            ],
            "text/plain": [
              "    CONTRATO  NUM_CLIENTE  ...  FLAG_3PV_18  FLAG_DESEMBOLSADO\n",
              "0  400015808      1953462  ...            1                  1\n",
              "1  400015823       772865  ...            0                  1\n",
              "2  400015912      3873005  ...            0                  1\n",
              "3  400015973       776366  ...            0                  1\n",
              "4  400014820       347497  ...            0                  1\n",
              "\n",
              "[5 rows x 21 columns]"
            ]
          },
          "metadata": {
            "tags": []
          },
          "execution_count": 29
        }
      ]
    },
    {
      "cell_type": "code",
      "metadata": {
        "id": "wRlVcKHd4rIT",
        "colab_type": "code",
        "colab": {}
      },
      "source": [
        "df2 = df1.copy()"
      ],
      "execution_count": 0,
      "outputs": []
    },
    {
      "cell_type": "code",
      "metadata": {
        "id": "U-iCAFTy6SqJ",
        "colab_type": "code",
        "colab": {}
      },
      "source": [
        "df2['edad_woe'] = df2.apply(bins_edad, axis=1)"
      ],
      "execution_count": 0,
      "outputs": []
    },
    {
      "cell_type": "code",
      "metadata": {
        "id": "Y9SSP5N252Bp",
        "colab_type": "code",
        "outputId": "d579614a-052d-4b37-f9a5-c5001c911284",
        "colab": {
          "base_uri": "https://localhost:8080/",
          "height": 284
        }
      },
      "source": [
        "df2.head()"
      ],
      "execution_count": 32,
      "outputs": [
        {
          "output_type": "execute_result",
          "data": {
            "text/html": [
              "<div>\n",
              "<style scoped>\n",
              "    .dataframe tbody tr th:only-of-type {\n",
              "        vertical-align: middle;\n",
              "    }\n",
              "\n",
              "    .dataframe tbody tr th {\n",
              "        vertical-align: top;\n",
              "    }\n",
              "\n",
              "    .dataframe thead th {\n",
              "        text-align: right;\n",
              "    }\n",
              "</style>\n",
              "<table border=\"1\" class=\"dataframe\">\n",
              "  <thead>\n",
              "    <tr style=\"text-align: right;\">\n",
              "      <th></th>\n",
              "      <th>CONTRATO</th>\n",
              "      <th>NUM_CLIENTE</th>\n",
              "      <th>BC_SCORE</th>\n",
              "      <th>COSECHA</th>\n",
              "      <th>EDAD</th>\n",
              "      <th>OCPUACION_SEXO</th>\n",
              "      <th>CUENTA_MAS_ANTIGUA_BANCO</th>\n",
              "      <th>MAX_MOP_6M_AB_TDC</th>\n",
              "      <th>CUENTA_MAS_ANTIGUA_TDC</th>\n",
              "      <th>SALDO_VENCIDO_ABIERTAS</th>\n",
              "      <th>MAX_MOP_6M</th>\n",
              "      <th>PORC_UTILIZ_ENTRE_CUENT_REV_AB</th>\n",
              "      <th>PRODUCTO</th>\n",
              "      <th>SUB_PRODUCTO</th>\n",
              "      <th>VINTAGE</th>\n",
              "      <th>AMOUNT</th>\n",
              "      <th>FLAG_1PV_3</th>\n",
              "      <th>FLAG_2PV_6</th>\n",
              "      <th>FLAG_3PV_12</th>\n",
              "      <th>FLAG_3PV_18</th>\n",
              "      <th>FLAG_DESEMBOLSADO</th>\n",
              "      <th>edad_woe</th>\n",
              "    </tr>\n",
              "  </thead>\n",
              "  <tbody>\n",
              "    <tr>\n",
              "      <th>0</th>\n",
              "      <td>400015808</td>\n",
              "      <td>1953462</td>\n",
              "      <td>660</td>\n",
              "      <td>201505</td>\n",
              "      <td>37.0</td>\n",
              "      <td>C_CON NEGOCIO/F</td>\n",
              "      <td>31.0</td>\n",
              "      <td>NaN</td>\n",
              "      <td>NaN</td>\n",
              "      <td>0.0</td>\n",
              "      <td>9.0</td>\n",
              "      <td>NaN</td>\n",
              "      <td>OMEGA</td>\n",
              "      <td>OMEGA_M</td>\n",
              "      <td>201505</td>\n",
              "      <td>11728.0</td>\n",
              "      <td>0</td>\n",
              "      <td>1</td>\n",
              "      <td>1</td>\n",
              "      <td>1</td>\n",
              "      <td>1</td>\n",
              "      <td>0.652557</td>\n",
              "    </tr>\n",
              "    <tr>\n",
              "      <th>1</th>\n",
              "      <td>400015823</td>\n",
              "      <td>772865</td>\n",
              "      <td>663</td>\n",
              "      <td>201505</td>\n",
              "      <td>64.0</td>\n",
              "      <td>F_JUBILADO/F</td>\n",
              "      <td>94.0</td>\n",
              "      <td>2.0</td>\n",
              "      <td>187.0</td>\n",
              "      <td>511.0</td>\n",
              "      <td>2.0</td>\n",
              "      <td>0.219478</td>\n",
              "      <td>OMEGA</td>\n",
              "      <td>OMEGA_M</td>\n",
              "      <td>201505</td>\n",
              "      <td>17191.0</td>\n",
              "      <td>0</td>\n",
              "      <td>0</td>\n",
              "      <td>0</td>\n",
              "      <td>0</td>\n",
              "      <td>1</td>\n",
              "      <td>-0.862815</td>\n",
              "    </tr>\n",
              "    <tr>\n",
              "      <th>2</th>\n",
              "      <td>400015912</td>\n",
              "      <td>3873005</td>\n",
              "      <td>561</td>\n",
              "      <td>201505</td>\n",
              "      <td>41.0</td>\n",
              "      <td>A_CON NEGOCIO/M</td>\n",
              "      <td>28.0</td>\n",
              "      <td>NaN</td>\n",
              "      <td>NaN</td>\n",
              "      <td>4662.0</td>\n",
              "      <td>7.0</td>\n",
              "      <td>NaN</td>\n",
              "      <td>OMEGA</td>\n",
              "      <td>OMEGA_M</td>\n",
              "      <td>201505</td>\n",
              "      <td>5897.0</td>\n",
              "      <td>0</td>\n",
              "      <td>0</td>\n",
              "      <td>0</td>\n",
              "      <td>0</td>\n",
              "      <td>1</td>\n",
              "      <td>0.320722</td>\n",
              "    </tr>\n",
              "    <tr>\n",
              "      <th>3</th>\n",
              "      <td>400015973</td>\n",
              "      <td>776366</td>\n",
              "      <td>724</td>\n",
              "      <td>201505</td>\n",
              "      <td>44.0</td>\n",
              "      <td>C_CON NEGOCIO/F</td>\n",
              "      <td>NaN</td>\n",
              "      <td>1.0</td>\n",
              "      <td>18.0</td>\n",
              "      <td>0.0</td>\n",
              "      <td>1.0</td>\n",
              "      <td>0.104229</td>\n",
              "      <td>OMEGA</td>\n",
              "      <td>OMEGA_M</td>\n",
              "      <td>201505</td>\n",
              "      <td>8000.0</td>\n",
              "      <td>0</td>\n",
              "      <td>0</td>\n",
              "      <td>0</td>\n",
              "      <td>0</td>\n",
              "      <td>1</td>\n",
              "      <td>0.320722</td>\n",
              "    </tr>\n",
              "    <tr>\n",
              "      <th>4</th>\n",
              "      <td>400014820</td>\n",
              "      <td>347497</td>\n",
              "      <td>713</td>\n",
              "      <td>201505</td>\n",
              "      <td>40.0</td>\n",
              "      <td>C_CON NEGOCIO/F</td>\n",
              "      <td>49.0</td>\n",
              "      <td>1.0</td>\n",
              "      <td>42.0</td>\n",
              "      <td>0.0</td>\n",
              "      <td>1.0</td>\n",
              "      <td>0.034422</td>\n",
              "      <td>OMEGA</td>\n",
              "      <td>OMEGA_M</td>\n",
              "      <td>201505</td>\n",
              "      <td>29686.0</td>\n",
              "      <td>0</td>\n",
              "      <td>0</td>\n",
              "      <td>0</td>\n",
              "      <td>0</td>\n",
              "      <td>1</td>\n",
              "      <td>0.320722</td>\n",
              "    </tr>\n",
              "  </tbody>\n",
              "</table>\n",
              "</div>"
            ],
            "text/plain": [
              "    CONTRATO  NUM_CLIENTE  BC_SCORE  ...  FLAG_3PV_18  FLAG_DESEMBOLSADO  edad_woe\n",
              "0  400015808      1953462       660  ...            1                  1  0.652557\n",
              "1  400015823       772865       663  ...            0                  1 -0.862815\n",
              "2  400015912      3873005       561  ...            0                  1  0.320722\n",
              "3  400015973       776366       724  ...            0                  1  0.320722\n",
              "4  400014820       347497       713  ...            0                  1  0.320722\n",
              "\n",
              "[5 rows x 22 columns]"
            ]
          },
          "metadata": {
            "tags": []
          },
          "execution_count": 32
        }
      ]
    },
    {
      "cell_type": "code",
      "metadata": {
        "id": "295_NLEhWKWo",
        "colab_type": "code",
        "colab": {
          "base_uri": "https://localhost:8080/",
          "height": 161
        },
        "outputId": "f32820d1-8e36-4a29-fc16-952703b63ec2"
      },
      "source": [
        "df2.columns"
      ],
      "execution_count": 33,
      "outputs": [
        {
          "output_type": "execute_result",
          "data": {
            "text/plain": [
              "Index(['CONTRATO', 'NUM_CLIENTE', 'BC_SCORE', 'COSECHA', 'EDAD',\n",
              "       'OCPUACION_SEXO', 'CUENTA_MAS_ANTIGUA_BANCO', 'MAX_MOP_6M_AB_TDC',\n",
              "       'CUENTA_MAS_ANTIGUA_TDC', 'SALDO_VENCIDO_ABIERTAS', 'MAX_MOP_6M',\n",
              "       'PORC_UTILIZ_ENTRE_CUENT_REV_AB', 'PRODUCTO', 'SUB_PRODUCTO', 'VINTAGE',\n",
              "       'AMOUNT', 'FLAG_1PV_3', 'FLAG_2PV_6', 'FLAG_3PV_12', 'FLAG_3PV_18',\n",
              "       'FLAG_DESEMBOLSADO', 'edad_woe'],\n",
              "      dtype='object')"
            ]
          },
          "metadata": {
            "tags": []
          },
          "execution_count": 33
        }
      ]
    },
    {
      "cell_type": "code",
      "metadata": {
        "id": "EatmM0qp6G_R",
        "colab_type": "code",
        "colab": {}
      },
      "source": [
        "############################### OCUPACIÓN SEXO\n",
        "def bins_ocup_sex(row):\n",
        "    if  row.OCPUACION_SEXO == 'A_CON NEGOCIO/M':\n",
        "        return 1*0.438337084334697\n",
        "    elif row.OCPUACION_SEXO == 'B_EMPLEADO O ASALARIADO/M':\n",
        "        return 1*0.245752537229401\n",
        "    elif  row.OCPUACION_SEXO == 'C_CON NEGOCIO/F':\n",
        "        return 1*-0.0986946259109583\n",
        "    elif  row.OCPUACION_SEXO == 'D_EMPLEADO O ASALARIADO/F':\n",
        "        return 1*-0.289297648037313\n",
        "    elif  row.OCPUACION_SEXO == 'E_JUBILADO/M':\n",
        "        return 1*-0.859435727384404\n",
        "    else:\n",
        "        return 1*-1.06300066767039"
      ],
      "execution_count": 0,
      "outputs": []
    },
    {
      "cell_type": "code",
      "metadata": {
        "id": "GH9dYxkrWAYP",
        "colab_type": "code",
        "colab": {}
      },
      "source": [
        "###############################EDAD\n",
        "def bins_edad(row):\n",
        "    if  row.EDAD <= 39:\n",
        "        return 1*0.652557304203474\n",
        "    elif row.EDAD <= 46:\n",
        "        return 1*0.32072210601685\n",
        "    elif  row.EDAD <= 51:\n",
        "        return 1*-0.0297882009277696\n",
        "    elif  row.EDAD <= 56:\n",
        "        return 1*-0.249830551211539\n",
        "    elif  row.EDAD <= 61:\n",
        "        return 1*-0.776458288161244\n",
        "    else:\n",
        "        return -0.862815250709056"
      ],
      "execution_count": 0,
      "outputs": []
    },
    {
      "cell_type": "code",
      "metadata": {
        "id": "VSpcS8nSWAu3",
        "colab_type": "code",
        "colab": {}
      },
      "source": [
        "############################### máxima antigÜedad banco \n",
        "def bins_max_mob_bank(row):\n",
        "    if  row.CUENTA_MAS_ANTIGUA_BANCO <= 36:\n",
        "        return 1*0.4177579842355\n",
        "    elif row.CUENTA_MAS_ANTIGUA_BANCO <= 59:\n",
        "        return 1*0.204288134959686\n",
        "    elif  row.CUENTA_MAS_ANTIGUA_BANCO <= 76:\n",
        "        return 1*0.079527302643976\n",
        "    elif  row.CUENTA_MAS_ANTIGUA_BANCO <= 104:\n",
        "        return 1*-0.221813867785179\n",
        "    elif  row.CUENTA_MAS_ANTIGUA_BANCO <= 131:\n",
        "        return 1*-0.474594512237555\n",
        "    elif  row.CUENTA_MAS_ANTIGUA_BANCO <= 499:\n",
        "        return 1*-0.730039690708382\n",
        "    else:\n",
        "        return 1*0.347094881317897"
      ],
      "execution_count": 0,
      "outputs": []
    },
    {
      "cell_type": "code",
      "metadata": {
        "id": "-mJ-KqaqWA74",
        "colab_type": "code",
        "colab": {}
      },
      "source": [
        "################################## pct utilización\n",
        "def bins_pct_util(row):\n",
        "    if  row.PORC_UTILIZ_ENTRE_CUENT_REV_AB <= 0.150290638:\n",
        "        return 1*-0.510375236153387\n",
        "    elif row.PORC_UTILIZ_ENTRE_CUENT_REV_AB <= 140514:\n",
        "        return 1*-0.223185206563544\n",
        "    else:\n",
        "        return 1*0.434261584221614"
      ],
      "execution_count": 0,
      "outputs": []
    },
    {
      "cell_type": "code",
      "metadata": {
        "id": "2uORAMKeWA_Q",
        "colab_type": "code",
        "colab": {}
      },
      "source": [
        "######################################## MÁXIMO MOP TDC\n",
        "\n",
        "def bins_max_mop_6m_ab_tdc(row):\n",
        "    if  row.MAX_MOP_6M_AB_TDC <= 1:\n",
        "        return 1*-0.530853505755427\n",
        "    elif row.MAX_MOP_6M_AB_TDC <= 9:\n",
        "        return 1*-0.0515609497107696\n",
        "    else:\n",
        "        return 1*0.462116439985472"
      ],
      "execution_count": 0,
      "outputs": []
    },
    {
      "cell_type": "code",
      "metadata": {
        "id": "c09qWQ9UWBCI",
        "colab_type": "code",
        "colab": {}
      },
      "source": [
        "############################### máxima antigÜedad TDC \n",
        "def bins_max_mob_tdc(row):\n",
        "    if  row.CUENTA_MAS_ANTIGUA_TDC <= 53:\n",
        "        return 1*0.0872105802631326\n",
        "    elif row.CUENTA_MAS_ANTIGUA_TDC <= 98:\n",
        "        return 1*-0.151627060166407\n",
        "    elif  row.CUENTA_MAS_ANTIGUA_TDC <= 137:\n",
        "        return 1*-0.352600764658328\n",
        "    elif  row.CUENTA_MAS_ANTIGUA_TDC <= 612:\n",
        "        return 1*-0.669246976557249\n",
        "    else:\n",
        "        return 1*0.606962693925261"
      ],
      "execution_count": 0,
      "outputs": []
    },
    {
      "cell_type": "code",
      "metadata": {
        "id": "H3zSVRpcWBFA",
        "colab_type": "code",
        "colab": {}
      },
      "source": [
        "############################## saldo vencido\n",
        "def bins_sdo_vncido(row):\n",
        "    if  row.SALDO_VENCIDO_ABIERTAS <= 1:\n",
        "        return 1*-0.205208313977855\n",
        "    elif row.SALDO_VENCIDO_ABIERTAS <= 463253:\n",
        "        return 1*0.46669257203569\n",
        "    else:\n",
        "        return 1*0.470424547454944"
      ],
      "execution_count": 0,
      "outputs": []
    },
    {
      "cell_type": "code",
      "metadata": {
        "id": "U3W7ZNeOWBHV",
        "colab_type": "code",
        "colab": {}
      },
      "source": [
        "############################## max mop 6m\n",
        "def bins_max_mop_6m(row):\n",
        "    if  row.MAX_MOP_6M <= 1:\n",
        "        return 1*-0.236896747716894\n",
        "    elif row.MAX_MOP_6M <= 2:\n",
        "        return 1*-0.0605113857847795\n",
        "    elif row.MAX_MOP_6M <= 9:\n",
        "        return 1*0.523800086179919\n",
        "    else:\n",
        "        return 1*0.303489425193646"
      ],
      "execution_count": 0,
      "outputs": []
    },
    {
      "cell_type": "code",
      "metadata": {
        "id": "1M6eFrp5WBJy",
        "colab_type": "code",
        "colab": {}
      },
      "source": [
        "df2['edad_woe'] = df2.apply(bins_edad, axis=1)"
      ],
      "execution_count": 0,
      "outputs": []
    },
    {
      "cell_type": "code",
      "metadata": {
        "id": "n-zp-_XoWBMB",
        "colab_type": "code",
        "colab": {}
      },
      "source": [
        "df2['ocup_sex_woe'] = df2.apply(bins_ocup_sex ,axis=1)"
      ],
      "execution_count": 0,
      "outputs": []
    },
    {
      "cell_type": "code",
      "metadata": {
        "id": "QqVQGyPz-vSJ",
        "colab_type": "code",
        "colab": {}
      },
      "source": [
        "df2['max_mob_bank_woe'] = df2.apply(bins_edad, axis=1)"
      ],
      "execution_count": 0,
      "outputs": []
    },
    {
      "cell_type": "code",
      "metadata": {
        "id": "rhnsALoM-vbF",
        "colab_type": "code",
        "colab": {}
      },
      "source": [
        "df2['pct_util_woe'] = df2.apply(bins_edad, axis=1)"
      ],
      "execution_count": 0,
      "outputs": []
    },
    {
      "cell_type": "code",
      "metadata": {
        "id": "ipkLpAfO-vgt",
        "colab_type": "code",
        "colab": {}
      },
      "source": [
        "df2['max_mop_6m_ab_tdc_woe'] = df2.apply(bins_max_mop_6m_ab_tdc, axis=1)"
      ],
      "execution_count": 0,
      "outputs": []
    },
    {
      "cell_type": "code",
      "metadata": {
        "id": "egPatRKp-vj2",
        "colab_type": "code",
        "colab": {}
      },
      "source": [
        "df2['max_mob_tdc_woe'] = df2.apply(bins_max_mob_tdc, axis=1)"
      ],
      "execution_count": 0,
      "outputs": []
    },
    {
      "cell_type": "code",
      "metadata": {
        "id": "IFrxqUwfWBOz",
        "colab_type": "code",
        "colab": {}
      },
      "source": [
        "df2['sdo_vncido_woe'] = df2.apply(bins_sdo_vncido, axis=1)"
      ],
      "execution_count": 0,
      "outputs": []
    },
    {
      "cell_type": "code",
      "metadata": {
        "id": "yFxNgGj8WBRz",
        "colab_type": "code",
        "colab": {}
      },
      "source": [
        "df2['max_mop_6m_woe'] = df2.apply(bins_max_mop_6m, axis=1)"
      ],
      "execution_count": 0,
      "outputs": []
    },
    {
      "cell_type": "code",
      "metadata": {
        "id": "4xpIOM17_3KM",
        "colab_type": "code",
        "outputId": "59d240d1-148d-4aae-d0f5-6bee2bac491d",
        "colab": {
          "base_uri": "https://localhost:8080/",
          "height": 551
        }
      },
      "source": [
        "df2.head(10)"
      ],
      "execution_count": 51,
      "outputs": [
        {
          "output_type": "execute_result",
          "data": {
            "text/html": [
              "<div>\n",
              "<style scoped>\n",
              "    .dataframe tbody tr th:only-of-type {\n",
              "        vertical-align: middle;\n",
              "    }\n",
              "\n",
              "    .dataframe tbody tr th {\n",
              "        vertical-align: top;\n",
              "    }\n",
              "\n",
              "    .dataframe thead th {\n",
              "        text-align: right;\n",
              "    }\n",
              "</style>\n",
              "<table border=\"1\" class=\"dataframe\">\n",
              "  <thead>\n",
              "    <tr style=\"text-align: right;\">\n",
              "      <th></th>\n",
              "      <th>CONTRATO</th>\n",
              "      <th>NUM_CLIENTE</th>\n",
              "      <th>BC_SCORE</th>\n",
              "      <th>COSECHA</th>\n",
              "      <th>EDAD</th>\n",
              "      <th>OCPUACION_SEXO</th>\n",
              "      <th>CUENTA_MAS_ANTIGUA_BANCO</th>\n",
              "      <th>MAX_MOP_6M_AB_TDC</th>\n",
              "      <th>CUENTA_MAS_ANTIGUA_TDC</th>\n",
              "      <th>SALDO_VENCIDO_ABIERTAS</th>\n",
              "      <th>MAX_MOP_6M</th>\n",
              "      <th>PORC_UTILIZ_ENTRE_CUENT_REV_AB</th>\n",
              "      <th>PRODUCTO</th>\n",
              "      <th>SUB_PRODUCTO</th>\n",
              "      <th>VINTAGE</th>\n",
              "      <th>AMOUNT</th>\n",
              "      <th>FLAG_1PV_3</th>\n",
              "      <th>FLAG_2PV_6</th>\n",
              "      <th>FLAG_3PV_12</th>\n",
              "      <th>FLAG_3PV_18</th>\n",
              "      <th>FLAG_DESEMBOLSADO</th>\n",
              "      <th>edad_woe</th>\n",
              "      <th>ocup_sex_woe</th>\n",
              "      <th>max_mob_bank_woe</th>\n",
              "      <th>pct_util_woe</th>\n",
              "      <th>max_mop_6m_ab_tdc_woe</th>\n",
              "      <th>max_mob_tdc_woe</th>\n",
              "      <th>sdo_vncido_woe</th>\n",
              "      <th>max_mop_6m_woe</th>\n",
              "    </tr>\n",
              "  </thead>\n",
              "  <tbody>\n",
              "    <tr>\n",
              "      <th>0</th>\n",
              "      <td>400015808</td>\n",
              "      <td>1953462</td>\n",
              "      <td>660</td>\n",
              "      <td>201505</td>\n",
              "      <td>37.0</td>\n",
              "      <td>C_CON NEGOCIO/F</td>\n",
              "      <td>31.0</td>\n",
              "      <td>NaN</td>\n",
              "      <td>NaN</td>\n",
              "      <td>0.0</td>\n",
              "      <td>9.0</td>\n",
              "      <td>NaN</td>\n",
              "      <td>OMEGA</td>\n",
              "      <td>OMEGA_M</td>\n",
              "      <td>201505</td>\n",
              "      <td>11728.0</td>\n",
              "      <td>0</td>\n",
              "      <td>1</td>\n",
              "      <td>1</td>\n",
              "      <td>1</td>\n",
              "      <td>1</td>\n",
              "      <td>0.652557</td>\n",
              "      <td>-0.098695</td>\n",
              "      <td>0.652557</td>\n",
              "      <td>0.652557</td>\n",
              "      <td>0.462116</td>\n",
              "      <td>0.606963</td>\n",
              "      <td>-0.205208</td>\n",
              "      <td>0.523800</td>\n",
              "    </tr>\n",
              "    <tr>\n",
              "      <th>1</th>\n",
              "      <td>400015823</td>\n",
              "      <td>772865</td>\n",
              "      <td>663</td>\n",
              "      <td>201505</td>\n",
              "      <td>64.0</td>\n",
              "      <td>F_JUBILADO/F</td>\n",
              "      <td>94.0</td>\n",
              "      <td>2.0</td>\n",
              "      <td>187.0</td>\n",
              "      <td>511.0</td>\n",
              "      <td>2.0</td>\n",
              "      <td>0.219478</td>\n",
              "      <td>OMEGA</td>\n",
              "      <td>OMEGA_M</td>\n",
              "      <td>201505</td>\n",
              "      <td>17191.0</td>\n",
              "      <td>0</td>\n",
              "      <td>0</td>\n",
              "      <td>0</td>\n",
              "      <td>0</td>\n",
              "      <td>1</td>\n",
              "      <td>-0.862815</td>\n",
              "      <td>-1.063001</td>\n",
              "      <td>-0.862815</td>\n",
              "      <td>-0.862815</td>\n",
              "      <td>-0.051561</td>\n",
              "      <td>-0.669247</td>\n",
              "      <td>0.466693</td>\n",
              "      <td>-0.060511</td>\n",
              "    </tr>\n",
              "    <tr>\n",
              "      <th>2</th>\n",
              "      <td>400015912</td>\n",
              "      <td>3873005</td>\n",
              "      <td>561</td>\n",
              "      <td>201505</td>\n",
              "      <td>41.0</td>\n",
              "      <td>A_CON NEGOCIO/M</td>\n",
              "      <td>28.0</td>\n",
              "      <td>NaN</td>\n",
              "      <td>NaN</td>\n",
              "      <td>4662.0</td>\n",
              "      <td>7.0</td>\n",
              "      <td>NaN</td>\n",
              "      <td>OMEGA</td>\n",
              "      <td>OMEGA_M</td>\n",
              "      <td>201505</td>\n",
              "      <td>5897.0</td>\n",
              "      <td>0</td>\n",
              "      <td>0</td>\n",
              "      <td>0</td>\n",
              "      <td>0</td>\n",
              "      <td>1</td>\n",
              "      <td>0.320722</td>\n",
              "      <td>0.438337</td>\n",
              "      <td>0.320722</td>\n",
              "      <td>0.320722</td>\n",
              "      <td>0.462116</td>\n",
              "      <td>0.606963</td>\n",
              "      <td>0.466693</td>\n",
              "      <td>0.523800</td>\n",
              "    </tr>\n",
              "    <tr>\n",
              "      <th>3</th>\n",
              "      <td>400015973</td>\n",
              "      <td>776366</td>\n",
              "      <td>724</td>\n",
              "      <td>201505</td>\n",
              "      <td>44.0</td>\n",
              "      <td>C_CON NEGOCIO/F</td>\n",
              "      <td>NaN</td>\n",
              "      <td>1.0</td>\n",
              "      <td>18.0</td>\n",
              "      <td>0.0</td>\n",
              "      <td>1.0</td>\n",
              "      <td>0.104229</td>\n",
              "      <td>OMEGA</td>\n",
              "      <td>OMEGA_M</td>\n",
              "      <td>201505</td>\n",
              "      <td>8000.0</td>\n",
              "      <td>0</td>\n",
              "      <td>0</td>\n",
              "      <td>0</td>\n",
              "      <td>0</td>\n",
              "      <td>1</td>\n",
              "      <td>0.320722</td>\n",
              "      <td>-0.098695</td>\n",
              "      <td>0.320722</td>\n",
              "      <td>0.320722</td>\n",
              "      <td>-0.530854</td>\n",
              "      <td>0.087211</td>\n",
              "      <td>-0.205208</td>\n",
              "      <td>-0.236897</td>\n",
              "    </tr>\n",
              "    <tr>\n",
              "      <th>4</th>\n",
              "      <td>400014820</td>\n",
              "      <td>347497</td>\n",
              "      <td>713</td>\n",
              "      <td>201505</td>\n",
              "      <td>40.0</td>\n",
              "      <td>C_CON NEGOCIO/F</td>\n",
              "      <td>49.0</td>\n",
              "      <td>1.0</td>\n",
              "      <td>42.0</td>\n",
              "      <td>0.0</td>\n",
              "      <td>1.0</td>\n",
              "      <td>0.034422</td>\n",
              "      <td>OMEGA</td>\n",
              "      <td>OMEGA_M</td>\n",
              "      <td>201505</td>\n",
              "      <td>29686.0</td>\n",
              "      <td>0</td>\n",
              "      <td>0</td>\n",
              "      <td>0</td>\n",
              "      <td>0</td>\n",
              "      <td>1</td>\n",
              "      <td>0.320722</td>\n",
              "      <td>-0.098695</td>\n",
              "      <td>0.320722</td>\n",
              "      <td>0.320722</td>\n",
              "      <td>-0.530854</td>\n",
              "      <td>0.087211</td>\n",
              "      <td>-0.205208</td>\n",
              "      <td>-0.236897</td>\n",
              "    </tr>\n",
              "    <tr>\n",
              "      <th>5</th>\n",
              "      <td>400018477</td>\n",
              "      <td>1011052</td>\n",
              "      <td>631</td>\n",
              "      <td>201506</td>\n",
              "      <td>53.0</td>\n",
              "      <td>B_EMPLEADO O ASALARIADO/M</td>\n",
              "      <td>NaN</td>\n",
              "      <td>1.0</td>\n",
              "      <td>137.0</td>\n",
              "      <td>48701.0</td>\n",
              "      <td>9.0</td>\n",
              "      <td>0.000000</td>\n",
              "      <td>OMEGA</td>\n",
              "      <td>OMEGA_M</td>\n",
              "      <td>201506</td>\n",
              "      <td>13615.0</td>\n",
              "      <td>0</td>\n",
              "      <td>0</td>\n",
              "      <td>0</td>\n",
              "      <td>0</td>\n",
              "      <td>1</td>\n",
              "      <td>-0.249831</td>\n",
              "      <td>0.245753</td>\n",
              "      <td>-0.249831</td>\n",
              "      <td>-0.249831</td>\n",
              "      <td>-0.530854</td>\n",
              "      <td>-0.352601</td>\n",
              "      <td>0.466693</td>\n",
              "      <td>0.523800</td>\n",
              "    </tr>\n",
              "    <tr>\n",
              "      <th>6</th>\n",
              "      <td>400018510</td>\n",
              "      <td>1800455250</td>\n",
              "      <td>661</td>\n",
              "      <td>201506</td>\n",
              "      <td>50.0</td>\n",
              "      <td>C_CON NEGOCIO/F</td>\n",
              "      <td>115.0</td>\n",
              "      <td>NaN</td>\n",
              "      <td>115.0</td>\n",
              "      <td>0.0</td>\n",
              "      <td>2.0</td>\n",
              "      <td>NaN</td>\n",
              "      <td>OMEGA</td>\n",
              "      <td>OMEGA_M</td>\n",
              "      <td>201506</td>\n",
              "      <td>31928.0</td>\n",
              "      <td>0</td>\n",
              "      <td>0</td>\n",
              "      <td>0</td>\n",
              "      <td>0</td>\n",
              "      <td>1</td>\n",
              "      <td>-0.029788</td>\n",
              "      <td>-0.098695</td>\n",
              "      <td>-0.029788</td>\n",
              "      <td>-0.029788</td>\n",
              "      <td>0.462116</td>\n",
              "      <td>-0.352601</td>\n",
              "      <td>-0.205208</td>\n",
              "      <td>-0.060511</td>\n",
              "    </tr>\n",
              "    <tr>\n",
              "      <th>7</th>\n",
              "      <td>400021185</td>\n",
              "      <td>2964904</td>\n",
              "      <td>641</td>\n",
              "      <td>201507</td>\n",
              "      <td>63.0</td>\n",
              "      <td>C_CON NEGOCIO/F</td>\n",
              "      <td>293.0</td>\n",
              "      <td>1.0</td>\n",
              "      <td>443.0</td>\n",
              "      <td>0.0</td>\n",
              "      <td>1.0</td>\n",
              "      <td>0.148270</td>\n",
              "      <td>OMEGA</td>\n",
              "      <td>OMEGA_M</td>\n",
              "      <td>201507</td>\n",
              "      <td>10264.0</td>\n",
              "      <td>0</td>\n",
              "      <td>0</td>\n",
              "      <td>0</td>\n",
              "      <td>0</td>\n",
              "      <td>1</td>\n",
              "      <td>-0.862815</td>\n",
              "      <td>-0.098695</td>\n",
              "      <td>-0.862815</td>\n",
              "      <td>-0.862815</td>\n",
              "      <td>-0.530854</td>\n",
              "      <td>-0.669247</td>\n",
              "      <td>-0.205208</td>\n",
              "      <td>-0.236897</td>\n",
              "    </tr>\n",
              "    <tr>\n",
              "      <th>8</th>\n",
              "      <td>400021193</td>\n",
              "      <td>1800703853</td>\n",
              "      <td>682</td>\n",
              "      <td>201507</td>\n",
              "      <td>44.0</td>\n",
              "      <td>A_CON NEGOCIO/M</td>\n",
              "      <td>26.0</td>\n",
              "      <td>NaN</td>\n",
              "      <td>NaN</td>\n",
              "      <td>0.0</td>\n",
              "      <td>1.0</td>\n",
              "      <td>NaN</td>\n",
              "      <td>OMEGA</td>\n",
              "      <td>OMEGA_M</td>\n",
              "      <td>201507</td>\n",
              "      <td>29174.0</td>\n",
              "      <td>0</td>\n",
              "      <td>0</td>\n",
              "      <td>0</td>\n",
              "      <td>1</td>\n",
              "      <td>1</td>\n",
              "      <td>0.320722</td>\n",
              "      <td>0.438337</td>\n",
              "      <td>0.320722</td>\n",
              "      <td>0.320722</td>\n",
              "      <td>0.462116</td>\n",
              "      <td>0.606963</td>\n",
              "      <td>-0.205208</td>\n",
              "      <td>-0.236897</td>\n",
              "    </tr>\n",
              "    <tr>\n",
              "      <th>9</th>\n",
              "      <td>400021250</td>\n",
              "      <td>1124604</td>\n",
              "      <td>695</td>\n",
              "      <td>201507</td>\n",
              "      <td>46.0</td>\n",
              "      <td>D_EMPLEADO O ASALARIADO/F</td>\n",
              "      <td>90.0</td>\n",
              "      <td>NaN</td>\n",
              "      <td>90.0</td>\n",
              "      <td>0.0</td>\n",
              "      <td>1.0</td>\n",
              "      <td>NaN</td>\n",
              "      <td>OMEGA</td>\n",
              "      <td>OMEGA_M</td>\n",
              "      <td>201507</td>\n",
              "      <td>21731.0</td>\n",
              "      <td>0</td>\n",
              "      <td>0</td>\n",
              "      <td>0</td>\n",
              "      <td>0</td>\n",
              "      <td>1</td>\n",
              "      <td>0.320722</td>\n",
              "      <td>-0.289298</td>\n",
              "      <td>0.320722</td>\n",
              "      <td>0.320722</td>\n",
              "      <td>0.462116</td>\n",
              "      <td>-0.151627</td>\n",
              "      <td>-0.205208</td>\n",
              "      <td>-0.236897</td>\n",
              "    </tr>\n",
              "  </tbody>\n",
              "</table>\n",
              "</div>"
            ],
            "text/plain": [
              "    CONTRATO  NUM_CLIENTE  ...  sdo_vncido_woe  max_mop_6m_woe\n",
              "0  400015808      1953462  ...       -0.205208        0.523800\n",
              "1  400015823       772865  ...        0.466693       -0.060511\n",
              "2  400015912      3873005  ...        0.466693        0.523800\n",
              "3  400015973       776366  ...       -0.205208       -0.236897\n",
              "4  400014820       347497  ...       -0.205208       -0.236897\n",
              "5  400018477      1011052  ...        0.466693        0.523800\n",
              "6  400018510   1800455250  ...       -0.205208       -0.060511\n",
              "7  400021185      2964904  ...       -0.205208       -0.236897\n",
              "8  400021193   1800703853  ...       -0.205208       -0.236897\n",
              "9  400021250      1124604  ...       -0.205208       -0.236897\n",
              "\n",
              "[10 rows x 29 columns]"
            ]
          },
          "metadata": {
            "tags": []
          },
          "execution_count": 51
        }
      ]
    },
    {
      "cell_type": "code",
      "metadata": {
        "id": "g9YpMv6PV-0w",
        "colab_type": "code",
        "colab": {}
      },
      "source": [
        "df2 = df2[df2['EDAD'].isnull() == False]"
      ],
      "execution_count": 0,
      "outputs": []
    },
    {
      "cell_type": "code",
      "metadata": {
        "id": "JWNu7wz-Hz45",
        "colab_type": "code",
        "colab": {}
      },
      "source": [
        "df2 = df2[df2.COSECHA >= 201600]"
      ],
      "execution_count": 0,
      "outputs": []
    },
    {
      "cell_type": "code",
      "metadata": {
        "id": "yHTt0DQWHqKQ",
        "colab_type": "code",
        "colab": {}
      },
      "source": [
        "df2.to_csv('tb_modelo_hit_woe')"
      ],
      "execution_count": 0,
      "outputs": []
    },
    {
      "cell_type": "code",
      "metadata": {
        "id": "YmTrB9eMHqWH",
        "colab_type": "code",
        "colab": {}
      },
      "source": [
        ""
      ],
      "execution_count": 0,
      "outputs": []
    },
    {
      "cell_type": "code",
      "metadata": {
        "id": "KSGBWASnAIGE",
        "colab_type": "code",
        "colab": {}
      },
      "source": [
        "######## REGRESIÓN"
      ],
      "execution_count": 0,
      "outputs": []
    },
    {
      "cell_type": "code",
      "metadata": {
        "id": "sSdBGWDRKklw",
        "colab_type": "code",
        "colab": {}
      },
      "source": [
        ""
      ],
      "execution_count": 0,
      "outputs": []
    },
    {
      "cell_type": "code",
      "metadata": {
        "id": "sIwa1jutKktP",
        "colab_type": "code",
        "colab": {
          "base_uri": "https://localhost:8080/",
          "height": 196
        },
        "outputId": "2e178290-11ab-48e1-8666-843e7da802c2"
      },
      "source": [
        "df2.columns"
      ],
      "execution_count": 72,
      "outputs": [
        {
          "output_type": "execute_result",
          "data": {
            "text/plain": [
              "Index(['CONTRATO', 'NUM_CLIENTE', 'BC_SCORE', 'COSECHA', 'EDAD',\n",
              "       'OCPUACION_SEXO', 'CUENTA_MAS_ANTIGUA_BANCO', 'MAX_MOP_6M_AB_TDC',\n",
              "       'CUENTA_MAS_ANTIGUA_TDC', 'SALDO_VENCIDO_ABIERTAS', 'MAX_MOP_6M',\n",
              "       'PORC_UTILIZ_ENTRE_CUENT_REV_AB', 'PRODUCTO', 'SUB_PRODUCTO', 'VINTAGE',\n",
              "       'AMOUNT', 'FLAG_1PV_3', 'FLAG_2PV_6', 'FLAG_3PV_12', 'FLAG_3PV_18',\n",
              "       'FLAG_DESEMBOLSADO', 'edad_woe', 'ocup_sex_woe', 'max_mob_bank_woe',\n",
              "       'pct_util_woe', 'max_mop_6m_ab_tdc_woe', 'max_mob_tdc_woe',\n",
              "       'sdo_vncido_woe', 'max_mop_6m_woe'],\n",
              "      dtype='object')"
            ]
          },
          "metadata": {
            "tags": []
          },
          "execution_count": 72
        }
      ]
    },
    {
      "cell_type": "code",
      "metadata": {
        "id": "uxaxmILpKwNJ",
        "colab_type": "code",
        "colab": {}
      },
      "source": [
        "##### x\n",
        "x_n = df2[['edad_woe', 'ocup_sex_woe', 'max_mob_bank_woe','pct_util_woe', 'max_mop_6m_ab_tdc_woe', 'max_mob_tdc_woe','sdo_vncido_woe', 'max_mop_6m_woe']]"
      ],
      "execution_count": 0,
      "outputs": []
    },
    {
      "cell_type": "code",
      "metadata": {
        "id": "ZLk67RFrK-Dq",
        "colab_type": "code",
        "colab": {}
      },
      "source": [
        "##### y \n",
        "y_ = df2[['FLAG_3PV_18']]"
      ],
      "execution_count": 0,
      "outputs": []
    },
    {
      "cell_type": "code",
      "metadata": {
        "id": "Ykto9WdjK-SL",
        "colab_type": "code",
        "colab": {}
      },
      "source": [
        ""
      ],
      "execution_count": 0,
      "outputs": []
    },
    {
      "cell_type": "code",
      "metadata": {
        "id": "Q_azDgvhJNDg",
        "colab_type": "code",
        "colab": {}
      },
      "source": [
        "test1 = LogisticRegression(fit_intercept = True)"
      ],
      "execution_count": 0,
      "outputs": []
    },
    {
      "cell_type": "code",
      "metadata": {
        "id": "tH2lNSCLJyHL",
        "colab_type": "code",
        "colab": {
          "base_uri": "https://localhost:8080/",
          "height": 196
        },
        "outputId": "55f999d4-d172-46cc-e812-ca84741931ad"
      },
      "source": [
        "test1.fit(x_n , y_)"
      ],
      "execution_count": 80,
      "outputs": [
        {
          "output_type": "stream",
          "text": [
            "/usr/local/lib/python3.6/dist-packages/sklearn/linear_model/logistic.py:432: FutureWarning: Default solver will be changed to 'lbfgs' in 0.22. Specify a solver to silence this warning.\n",
            "  FutureWarning)\n",
            "/usr/local/lib/python3.6/dist-packages/sklearn/utils/validation.py:724: DataConversionWarning: A column-vector y was passed when a 1d array was expected. Please change the shape of y to (n_samples, ), for example using ravel().\n",
            "  y = column_or_1d(y, warn=True)\n"
          ],
          "name": "stderr"
        },
        {
          "output_type": "execute_result",
          "data": {
            "text/plain": [
              "LogisticRegression(C=1.0, class_weight=None, dual=False, fit_intercept=True,\n",
              "                   intercept_scaling=1, l1_ratio=None, max_iter=100,\n",
              "                   multi_class='warn', n_jobs=None, penalty='l2',\n",
              "                   random_state=None, solver='warn', tol=0.0001, verbose=0,\n",
              "                   warm_start=False)"
            ]
          },
          "metadata": {
            "tags": []
          },
          "execution_count": 80
        }
      ]
    },
    {
      "cell_type": "code",
      "metadata": {
        "id": "t0mz8PB4LVkf",
        "colab_type": "code",
        "colab": {
          "base_uri": "https://localhost:8080/",
          "height": 158
        },
        "outputId": "d74b8906-671f-45c3-89d0-c0bcc85294e3"
      },
      "source": [
        "test1.coef_.tolist()"
      ],
      "execution_count": 116,
      "outputs": [
        {
          "output_type": "execute_result",
          "data": {
            "text/plain": [
              "[[0.20263429514433537,\n",
              "  0.6935454941373286,\n",
              "  0.20263429514433537,\n",
              "  0.20263429514433537,\n",
              "  0.3185156960963072,\n",
              "  0.5421581641972483,\n",
              "  0.36182021869310543,\n",
              "  0.638545703983806]]"
            ]
          },
          "metadata": {
            "tags": []
          },
          "execution_count": 116
        }
      ]
    },
    {
      "cell_type": "code",
      "metadata": {
        "id": "7jSV_8LMLVqr",
        "colab_type": "code",
        "colab": {
          "base_uri": "https://localhost:8080/",
          "height": 158
        },
        "outputId": "dcb3c4b7-4baf-48c0-bcda-0e3c5b88657c"
      },
      "source": [
        "x_n.columns.tolist()\n"
      ],
      "execution_count": 118,
      "outputs": [
        {
          "output_type": "execute_result",
          "data": {
            "text/plain": [
              "['edad_woe',\n",
              " 'ocup_sex_woe',\n",
              " 'max_mob_bank_woe',\n",
              " 'pct_util_woe',\n",
              " 'max_mop_6m_ab_tdc_woe',\n",
              " 'max_mob_tdc_woe',\n",
              " 'sdo_vncido_woe',\n",
              " 'max_mop_6m_woe']"
            ]
          },
          "metadata": {
            "tags": []
          },
          "execution_count": 118
        }
      ]
    },
    {
      "cell_type": "code",
      "metadata": {
        "id": "iNeOQvcxLVw9",
        "colab_type": "code",
        "colab": {}
      },
      "source": [
        "coefs_ = pd.DataFrame(test1.coef_.tolist(), columns = x_n.columns.tolist() )"
      ],
      "execution_count": 0,
      "outputs": []
    },
    {
      "cell_type": "code",
      "metadata": {
        "id": "xS2AIMcMOhlt",
        "colab_type": "code",
        "colab": {
          "base_uri": "https://localhost:8080/",
          "height": 97
        },
        "outputId": "9488beed-8f32-47a3-fc13-dc5410ebc25b"
      },
      "source": [
        "coefs_"
      ],
      "execution_count": 133,
      "outputs": [
        {
          "output_type": "execute_result",
          "data": {
            "text/html": [
              "<div>\n",
              "<style scoped>\n",
              "    .dataframe tbody tr th:only-of-type {\n",
              "        vertical-align: middle;\n",
              "    }\n",
              "\n",
              "    .dataframe tbody tr th {\n",
              "        vertical-align: top;\n",
              "    }\n",
              "\n",
              "    .dataframe thead th {\n",
              "        text-align: right;\n",
              "    }\n",
              "</style>\n",
              "<table border=\"1\" class=\"dataframe\">\n",
              "  <thead>\n",
              "    <tr style=\"text-align: right;\">\n",
              "      <th></th>\n",
              "      <th>edad_woe</th>\n",
              "      <th>ocup_sex_woe</th>\n",
              "      <th>max_mob_bank_woe</th>\n",
              "      <th>pct_util_woe</th>\n",
              "      <th>max_mop_6m_ab_tdc_woe</th>\n",
              "      <th>max_mob_tdc_woe</th>\n",
              "      <th>sdo_vncido_woe</th>\n",
              "      <th>max_mop_6m_woe</th>\n",
              "    </tr>\n",
              "  </thead>\n",
              "  <tbody>\n",
              "    <tr>\n",
              "      <th>0</th>\n",
              "      <td>0.202634</td>\n",
              "      <td>0.693545</td>\n",
              "      <td>0.202634</td>\n",
              "      <td>0.202634</td>\n",
              "      <td>0.318516</td>\n",
              "      <td>0.542158</td>\n",
              "      <td>0.36182</td>\n",
              "      <td>0.638546</td>\n",
              "    </tr>\n",
              "  </tbody>\n",
              "</table>\n",
              "</div>"
            ],
            "text/plain": [
              "   edad_woe  ocup_sex_woe  ...  sdo_vncido_woe  max_mop_6m_woe\n",
              "0  0.202634      0.693545  ...         0.36182        0.638546\n",
              "\n",
              "[1 rows x 8 columns]"
            ]
          },
          "metadata": {
            "tags": []
          },
          "execution_count": 133
        }
      ]
    },
    {
      "cell_type": "code",
      "metadata": {
        "id": "4V6Iu9SRPlxe",
        "colab_type": "code",
        "colab": {}
      },
      "source": [
        "\n"
      ],
      "execution_count": 0,
      "outputs": []
    },
    {
      "cell_type": "markdown",
      "metadata": {
        "id": "PnKDJF6sVSbB",
        "colab_type": "text"
      },
      "source": [
        "#**RANGOS**"
      ]
    },
    {
      "cell_type": "code",
      "metadata": {
        "colab_type": "code",
        "id": "TgLdScrdVQT4",
        "colab": {}
      },
      "source": [
        "############################### OCUPACIÓN SEXO\n",
        "def bins_ocup_sex(row):\n",
        "    if  row.OCPUACION_SEXO == 'A_CON NEGOCIO/M':\n",
        "        return 'A_CON NEGOCIO/M'\n",
        "    elif row.OCPUACION_SEXO == 'B_EMPLEADO O ASALARIADO/M':\n",
        "        return 'B_EMPLEADO O ASALARIADO/M'\n",
        "    elif  row.OCPUACION_SEXO == 'C_CON NEGOCIO/F':\n",
        "        return 'C_CON NEGOCIO/F'\n",
        "    elif  row.OCPUACION_SEXO == 'D_EMPLEADO O ASALARIADO/F':\n",
        "        return 'D_EMPLEADO O ASALARIADO/F'\n",
        "    elif  row.OCPUACION_SEXO == 'E_JUBILADO/M':\n",
        "        return 'E_JUBILADO/M'\n",
        "    else:\n",
        "        return 'F_JUBILADO/F'"
      ],
      "execution_count": 0,
      "outputs": []
    },
    {
      "cell_type": "code",
      "metadata": {
        "colab_type": "code",
        "id": "Z8RE5N1BVQUH",
        "colab": {}
      },
      "source": [
        "###############################EDAD\n",
        "def bins_edad(row):\n",
        "    if  row.EDAD <= 39:\n",
        "        return 'A_20_A_39'\n",
        "    elif row.EDAD <= 46:\n",
        "        return 'B_40_A_46'\n",
        "    elif  row.EDAD <= 51:\n",
        "        return 'C_47_A_51'\n",
        "    elif  row.EDAD <= 56:\n",
        "        return 'D_52_A_56'\n",
        "    elif  row.EDAD <= 61:\n",
        "        return 'E_57_A_61'\n",
        "    else:\n",
        "        return 'F_62_A_86'"
      ],
      "execution_count": 0,
      "outputs": []
    },
    {
      "cell_type": "code",
      "metadata": {
        "colab_type": "code",
        "id": "xlSObnVeVQUM",
        "colab": {}
      },
      "source": [
        "############################### máxima antigÜedad banco \n",
        "def bins_max_mob_bank(row):\n",
        "    if  row.CUENTA_MAS_ANTIGUA_BANCO <= 36:\n",
        "        return 'A_0_A_36'\n",
        "    elif row.CUENTA_MAS_ANTIGUA_BANCO <= 59:\n",
        "        return 'B_37_A_59'\n",
        "    elif  row.CUENTA_MAS_ANTIGUA_BANCO <= 76:\n",
        "        return 'C_60_A_76'\n",
        "    elif  row.CUENTA_MAS_ANTIGUA_BANCO <= 104:\n",
        "        return 'D_77_A_104'\n",
        "    elif  row.CUENTA_MAS_ANTIGUA_BANCO <= 131:\n",
        "        return 'E_105_A_131'\n",
        "    elif  row.CUENTA_MAS_ANTIGUA_BANCO <= 499:\n",
        "        return 'F_132_A_499'\n",
        "    else:\n",
        "        return 'G_SIN_INFORMACION'"
      ],
      "execution_count": 0,
      "outputs": []
    },
    {
      "cell_type": "code",
      "metadata": {
        "colab_type": "code",
        "id": "4a_fr3a_VQUQ",
        "colab": {}
      },
      "source": [
        "################################## pct utilización\n",
        "def bins_pct_util(row):\n",
        "    if  row.PORC_UTILIZ_ENTRE_CUENT_REV_AB <= 0.150290638:\n",
        "        return ''\n",
        "    elif row.PORC_UTILIZ_ENTRE_CUENT_REV_AB <= 140514:\n",
        "        return ''\n",
        "    else:\n",
        "        return ''"
      ],
      "execution_count": 0,
      "outputs": []
    },
    {
      "cell_type": "code",
      "metadata": {
        "colab_type": "code",
        "id": "3Ko4VA8iVQUU",
        "colab": {}
      },
      "source": [
        "######################################## MÁXIMO MOP TDC\n",
        "\n",
        "def bins_max_mop_6m_ab_tdc(row):\n",
        "    if  row.MAX_MOP_6M_AB_TDC <= 1:\n",
        "        return ''\n",
        "    elif row.MAX_MOP_6M_AB_TDC <= 9:\n",
        "        return ''\n",
        "    else:\n",
        "        return ''"
      ],
      "execution_count": 0,
      "outputs": []
    },
    {
      "cell_type": "code",
      "metadata": {
        "colab_type": "code",
        "id": "MXQtetfSVQUX",
        "colab": {}
      },
      "source": [
        "############################### máxima antigÜedad TDC \n",
        "def bins_max_mob_tdc(row):\n",
        "    if  row.CUENTA_MAS_ANTIGUA_TDC <= 53:\n",
        "        return ''\n",
        "    elif row.CUENTA_MAS_ANTIGUA_TDC <= 98:\n",
        "        return ''\n",
        "    elif  row.CUENTA_MAS_ANTIGUA_TDC <= 137:\n",
        "        return ''\n",
        "    elif  row.CUENTA_MAS_ANTIGUA_TDC <= 612:\n",
        "        return ''\n",
        "    else:\n",
        "        return ''"
      ],
      "execution_count": 0,
      "outputs": []
    },
    {
      "cell_type": "code",
      "metadata": {
        "colab_type": "code",
        "id": "pQuQVAoNVQUa",
        "colab": {}
      },
      "source": [
        "############################## saldo vencido\n",
        "def bins_sdo_vncido(row):\n",
        "    if  row.SALDO_VENCIDO_ABIERTAS <= 1:\n",
        "        return ''\n",
        "    elif row.SALDO_VENCIDO_ABIERTAS <= 463253:\n",
        "        return ''\n",
        "    else:\n",
        "        return ''"
      ],
      "execution_count": 0,
      "outputs": []
    },
    {
      "cell_type": "code",
      "metadata": {
        "colab_type": "code",
        "id": "4DJiDSwUVQUc",
        "colab": {}
      },
      "source": [
        "############################## max mop 6m\n",
        "def bins_max_mop_6m(row):\n",
        "    if  row.MAX_MOP_6M <= 1:\n",
        "        return ''\n",
        "    elif row.MAX_MOP_6M <= 2:\n",
        "        return ''\n",
        "    elif row.MAX_MOP_6M <= 9:\n",
        "        return ''\n",
        "    else:\n",
        "        return ''"
      ],
      "execution_count": 0,
      "outputs": []
    },
    {
      "cell_type": "code",
      "metadata": {
        "id": "ZAjuCdmIT8IL",
        "colab_type": "code",
        "colab": {}
      },
      "source": [
        ""
      ],
      "execution_count": 0,
      "outputs": []
    }
  ]
}