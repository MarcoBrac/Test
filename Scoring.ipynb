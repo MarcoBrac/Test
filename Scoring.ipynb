{
 "cells": [
  {
   "cell_type": "code",
   "execution_count": 29,
   "metadata": {},
   "outputs": [],
   "source": [
    "import pandas as pd\n",
    "import numpy as np\n",
    "import seaborn as sns\n",
    "\n",
    "%matplotlib inline"
   ]
  },
  {
   "cell_type": "code",
   "execution_count": 30,
   "metadata": {},
   "outputs": [],
   "source": [
    "df = pd.read_excel('churn.xlsx')"
   ]
  },
  {
   "cell_type": "code",
   "execution_count": 31,
   "metadata": {},
   "outputs": [
    {
     "data": {
      "text/plain": [
       "(2801, 14)"
      ]
     },
     "execution_count": 31,
     "metadata": {},
     "output_type": "execute_result"
    }
   ],
   "source": [
    "df.shape"
   ]
  },
  {
   "cell_type": "code",
   "execution_count": 32,
   "metadata": {},
   "outputs": [
    {
     "data": {
      "text/html": [
       "<div>\n",
       "<style scoped>\n",
       "    .dataframe tbody tr th:only-of-type {\n",
       "        vertical-align: middle;\n",
       "    }\n",
       "\n",
       "    .dataframe tbody tr th {\n",
       "        vertical-align: top;\n",
       "    }\n",
       "\n",
       "    .dataframe thead th {\n",
       "        text-align: right;\n",
       "    }\n",
       "</style>\n",
       "<table border=\"1\" class=\"dataframe\">\n",
       "  <thead>\n",
       "    <tr style=\"text-align: right;\">\n",
       "      <th></th>\n",
       "      <th>V_ACCT_LGHT</th>\n",
       "      <th>C_IP</th>\n",
       "      <th>C_VMP</th>\n",
       "      <th>V_N_VM_MESS</th>\n",
       "      <th>V_T_DAY_CHG</th>\n",
       "      <th>V_T_EVE_CALLS</th>\n",
       "      <th>V_T_EVE_CHG</th>\n",
       "      <th>V_T_NIG_CALLS</th>\n",
       "      <th>V_T_NIG_CHG</th>\n",
       "      <th>V_T_INT_CALLS</th>\n",
       "      <th>V_T_INT_CHG</th>\n",
       "      <th>V_CS_CALLS</th>\n",
       "      <th>TARGET</th>\n",
       "      <th>ID</th>\n",
       "    </tr>\n",
       "  </thead>\n",
       "  <tbody>\n",
       "    <tr>\n",
       "      <th>0</th>\n",
       "      <td>128</td>\n",
       "      <td>No</td>\n",
       "      <td>Yes</td>\n",
       "      <td>25</td>\n",
       "      <td>45.07</td>\n",
       "      <td>99</td>\n",
       "      <td>16.78</td>\n",
       "      <td>91</td>\n",
       "      <td>11.01</td>\n",
       "      <td>3</td>\n",
       "      <td>2.70</td>\n",
       "      <td>1</td>\n",
       "      <td>0</td>\n",
       "      <td>1</td>\n",
       "    </tr>\n",
       "    <tr>\n",
       "      <th>1</th>\n",
       "      <td>107</td>\n",
       "      <td>No</td>\n",
       "      <td>Yes</td>\n",
       "      <td>26</td>\n",
       "      <td>27.47</td>\n",
       "      <td>103</td>\n",
       "      <td>16.62</td>\n",
       "      <td>103</td>\n",
       "      <td>11.45</td>\n",
       "      <td>3</td>\n",
       "      <td>3.70</td>\n",
       "      <td>1</td>\n",
       "      <td>0</td>\n",
       "      <td>2</td>\n",
       "    </tr>\n",
       "    <tr>\n",
       "      <th>2</th>\n",
       "      <td>137</td>\n",
       "      <td>No</td>\n",
       "      <td>No</td>\n",
       "      <td>0</td>\n",
       "      <td>41.38</td>\n",
       "      <td>110</td>\n",
       "      <td>10.30</td>\n",
       "      <td>104</td>\n",
       "      <td>7.32</td>\n",
       "      <td>5</td>\n",
       "      <td>3.29</td>\n",
       "      <td>0</td>\n",
       "      <td>0</td>\n",
       "      <td>3</td>\n",
       "    </tr>\n",
       "    <tr>\n",
       "      <th>3</th>\n",
       "      <td>65</td>\n",
       "      <td>No</td>\n",
       "      <td>No</td>\n",
       "      <td>0</td>\n",
       "      <td>21.95</td>\n",
       "      <td>83</td>\n",
       "      <td>19.42</td>\n",
       "      <td>111</td>\n",
       "      <td>9.40</td>\n",
       "      <td>6</td>\n",
       "      <td>3.43</td>\n",
       "      <td>4</td>\n",
       "      <td>1</td>\n",
       "      <td>11</td>\n",
       "    </tr>\n",
       "    <tr>\n",
       "      <th>4</th>\n",
       "      <td>168</td>\n",
       "      <td>No</td>\n",
       "      <td>No</td>\n",
       "      <td>0</td>\n",
       "      <td>21.90</td>\n",
       "      <td>71</td>\n",
       "      <td>8.92</td>\n",
       "      <td>128</td>\n",
       "      <td>6.35</td>\n",
       "      <td>2</td>\n",
       "      <td>3.02</td>\n",
       "      <td>1</td>\n",
       "      <td>0</td>\n",
       "      <td>13</td>\n",
       "    </tr>\n",
       "  </tbody>\n",
       "</table>\n",
       "</div>"
      ],
      "text/plain": [
       "   V_ACCT_LGHT C_IP C_VMP  V_N_VM_MESS  V_T_DAY_CHG  V_T_EVE_CALLS  \\\n",
       "0          128   No   Yes           25        45.07             99   \n",
       "1          107   No   Yes           26        27.47            103   \n",
       "2          137   No    No            0        41.38            110   \n",
       "3           65   No    No            0        21.95             83   \n",
       "4          168   No    No            0        21.90             71   \n",
       "\n",
       "   V_T_EVE_CHG  V_T_NIG_CALLS  V_T_NIG_CHG  V_T_INT_CALLS  V_T_INT_CHG  \\\n",
       "0        16.78             91        11.01              3         2.70   \n",
       "1        16.62            103        11.45              3         3.70   \n",
       "2        10.30            104         7.32              5         3.29   \n",
       "3        19.42            111         9.40              6         3.43   \n",
       "4         8.92            128         6.35              2         3.02   \n",
       "\n",
       "   V_CS_CALLS  TARGET  ID  \n",
       "0           1       0   1  \n",
       "1           1       0   2  \n",
       "2           0       0   3  \n",
       "3           4       1  11  \n",
       "4           1       0  13  "
      ]
     },
     "execution_count": 32,
     "metadata": {},
     "output_type": "execute_result"
    }
   ],
   "source": [
    "df.head()"
   ]
  },
  {
   "cell_type": "code",
   "execution_count": 33,
   "metadata": {},
   "outputs": [
    {
     "data": {
      "text/plain": [
       "0    0.864691\n",
       "1    0.135309\n",
       "Name: TARGET, dtype: float64"
      ]
     },
     "execution_count": 33,
     "metadata": {},
     "output_type": "execute_result"
    }
   ],
   "source": [
    "df['TARGET'].value_counts(normalize=True)"
   ]
  },
  {
   "cell_type": "code",
   "execution_count": 34,
   "metadata": {},
   "outputs": [],
   "source": [
    "varc = [v for v in df.columns if v[:2]=='V_']\n",
    "vard = [v for v in df.columns if v[:2]=='C_']"
   ]
  },
  {
   "cell_type": "code",
   "execution_count": 35,
   "metadata": {},
   "outputs": [],
   "source": [
    "for v in vard:\n",
    "    aux = df[[v,'TARGET']].copy()\n",
    "    aux['n'] = 1\n",
    "    aux = aux.pivot_table(index=v,columns='TARGET',aggfunc='count')\n",
    "    aux.columns=aux.columns.droplevel()\n",
    "    aux.reset_index(inplace=True)\n",
    "    for i in range(2):\n",
    "        aux[i]/=aux[i].sum()\n",
    "    aux['woe'] =np.log(aux[0]/aux[1])\n",
    "    df = df.merge(aux[['woe',v]],how='inner',on=v)\n",
    "    df.rename(columns={'woe':'W_%s'%v},inplace=True)"
   ]
  },
  {
   "cell_type": "code",
   "execution_count": 36,
   "metadata": {},
   "outputs": [
    {
     "name": "stdout",
     "output_type": "stream",
     "text": [
      "V_ACCT_LGHT 0.0064 5\n",
      "V_N_VM_MESS 0.1087 5\n",
      "V_T_DAY_CHG 0.5527 5\n",
      "V_T_EVE_CALLS 0.0086 4\n",
      "V_T_EVE_CHG 0.0730 3\n",
      "V_T_NIG_CALLS 0.0186 3\n",
      "V_T_NIG_CHG 0.0214 4\n",
      "V_T_INT_CALLS 0.0665 5\n",
      "V_T_INT_CHG 0.0741 4\n",
      "V_CS_CALLS 0.5640 5\n"
     ]
    }
   ],
   "source": [
    "for i,v in enumerate(varc):\n",
    "    bestk = 0\n",
    "    best_iv = 0\n",
    "    for k in range(2,6):\n",
    "        aux = df[[v,'TARGET']].copy()\n",
    "        aux[v] = pd.cut(aux[v],bins=k,include_lowest=True).astype(str)\n",
    "        aux['n'] = 1\n",
    "        aux = aux.pivot_table(index=v,columns='TARGET',aggfunc='count')\n",
    "        aux.columns=aux.columns.droplevel()\n",
    "        aux.reset_index(inplace=True)\n",
    "        for i in range(2):\n",
    "            aux[i]/=aux[i].sum()\n",
    "        aux['woe'] =np.log(aux[0]/aux[1])\n",
    "        aux['iv'] = aux['woe']*(aux[0]-aux[1])\n",
    "        if (aux['iv'].sum()> best_iv) & (~np.isinf(aux['iv'].sum())):\n",
    "            best_iv = aux['iv'].sum()\n",
    "            bestk = k \n",
    "    aux = df[[v,'TARGET']].copy()\n",
    "    print(\"%s %.4f %d\"%(v,best_iv,bestk))\n",
    "    aux[v] = pd.cut(aux[v],bins=bestk,include_lowest=True).astype(str)\n",
    "    aux['n'] = 1\n",
    "    aux = aux.pivot_table(index=v,columns='TARGET',aggfunc='count')\n",
    "    aux.columns=aux.columns.droplevel()\n",
    "    aux.reset_index(inplace=True)\n",
    "    for i in range(2):\n",
    "        aux[i]/=aux[i].sum()\n",
    "    aux['woe'] =np.log(aux[0]/aux[1])\n",
    "    df[v] = pd.cut(df[v],bins=bestk,include_lowest=True).astype(str)\n",
    "    df = df.merge(aux[['woe',v]],how='inner',on=v)\n",
    "    df.rename(columns={'woe':'W_%s'%v},inplace=True)\n"
   ]
  },
  {
   "cell_type": "code",
   "execution_count": 37,
   "metadata": {},
   "outputs": [
    {
     "data": {
      "text/html": [
       "<div>\n",
       "<style scoped>\n",
       "    .dataframe tbody tr th:only-of-type {\n",
       "        vertical-align: middle;\n",
       "    }\n",
       "\n",
       "    .dataframe tbody tr th {\n",
       "        vertical-align: top;\n",
       "    }\n",
       "\n",
       "    .dataframe thead th {\n",
       "        text-align: right;\n",
       "    }\n",
       "</style>\n",
       "<table border=\"1\" class=\"dataframe\">\n",
       "  <thead>\n",
       "    <tr style=\"text-align: right;\">\n",
       "      <th></th>\n",
       "      <th>V_ACCT_LGHT</th>\n",
       "      <th>C_IP</th>\n",
       "      <th>C_VMP</th>\n",
       "      <th>V_N_VM_MESS</th>\n",
       "      <th>V_T_DAY_CHG</th>\n",
       "      <th>V_T_EVE_CALLS</th>\n",
       "      <th>V_T_EVE_CHG</th>\n",
       "      <th>V_T_NIG_CALLS</th>\n",
       "      <th>V_T_NIG_CHG</th>\n",
       "      <th>V_T_INT_CALLS</th>\n",
       "      <th>...</th>\n",
       "      <th>W_V_ACCT_LGHT</th>\n",
       "      <th>W_V_N_VM_MESS</th>\n",
       "      <th>W_V_T_DAY_CHG</th>\n",
       "      <th>W_V_T_EVE_CALLS</th>\n",
       "      <th>W_V_T_EVE_CHG</th>\n",
       "      <th>W_V_T_NIG_CALLS</th>\n",
       "      <th>W_V_T_NIG_CHG</th>\n",
       "      <th>W_V_T_INT_CALLS</th>\n",
       "      <th>W_V_T_INT_CHG</th>\n",
       "      <th>W_V_CS_CALLS</th>\n",
       "    </tr>\n",
       "  </thead>\n",
       "  <tbody>\n",
       "    <tr>\n",
       "      <th>0</th>\n",
       "      <td>(121.8, 158.4]</td>\n",
       "      <td>No</td>\n",
       "      <td>Yes</td>\n",
       "      <td>(17.2, 25.8]</td>\n",
       "      <td>(43.266, 51.88]</td>\n",
       "      <td>(76.5, 100.0]</td>\n",
       "      <td>(13.533, 20.327]</td>\n",
       "      <td>(87.0, 117.0]</td>\n",
       "      <td>(8.935, 11.618]</td>\n",
       "      <td>(0.987, 3.4]</td>\n",
       "      <td>...</td>\n",
       "      <td>0.061033</td>\n",
       "      <td>1.219037</td>\n",
       "      <td>-1.864202</td>\n",
       "      <td>0.040222</td>\n",
       "      <td>0.046092</td>\n",
       "      <td>0.12472</td>\n",
       "      <td>-0.037245</td>\n",
       "      <td>-0.29035</td>\n",
       "      <td>0.114628</td>\n",
       "      <td>0.295956</td>\n",
       "    </tr>\n",
       "    <tr>\n",
       "      <th>1</th>\n",
       "      <td>(48.6, 85.2]</td>\n",
       "      <td>No</td>\n",
       "      <td>Yes</td>\n",
       "      <td>(25.8, 34.4]</td>\n",
       "      <td>(26.038, 34.652]</td>\n",
       "      <td>(76.5, 100.0]</td>\n",
       "      <td>(13.533, 20.327]</td>\n",
       "      <td>(87.0, 117.0]</td>\n",
       "      <td>(8.935, 11.618]</td>\n",
       "      <td>(0.987, 3.4]</td>\n",
       "      <td>...</td>\n",
       "      <td>0.053118</td>\n",
       "      <td>0.205211</td>\n",
       "      <td>0.561314</td>\n",
       "      <td>0.040222</td>\n",
       "      <td>0.046092</td>\n",
       "      <td>0.12472</td>\n",
       "      <td>-0.037245</td>\n",
       "      <td>-0.29035</td>\n",
       "      <td>0.114628</td>\n",
       "      <td>0.295956</td>\n",
       "    </tr>\n",
       "    <tr>\n",
       "      <th>2</th>\n",
       "      <td>(121.8, 158.4]</td>\n",
       "      <td>Yes</td>\n",
       "      <td>Yes</td>\n",
       "      <td>(34.4, 43.0]</td>\n",
       "      <td>(26.038, 34.652]</td>\n",
       "      <td>(76.5, 100.0]</td>\n",
       "      <td>(13.533, 20.327]</td>\n",
       "      <td>(87.0, 117.0]</td>\n",
       "      <td>(8.935, 11.618]</td>\n",
       "      <td>(0.987, 3.4]</td>\n",
       "      <td>...</td>\n",
       "      <td>0.061033</td>\n",
       "      <td>0.524733</td>\n",
       "      <td>0.561314</td>\n",
       "      <td>0.040222</td>\n",
       "      <td>0.046092</td>\n",
       "      <td>0.12472</td>\n",
       "      <td>-0.037245</td>\n",
       "      <td>-0.29035</td>\n",
       "      <td>0.114628</td>\n",
       "      <td>0.295956</td>\n",
       "    </tr>\n",
       "    <tr>\n",
       "      <th>3</th>\n",
       "      <td>(11.816, 48.6]</td>\n",
       "      <td>No</td>\n",
       "      <td>No</td>\n",
       "      <td>(-0.044, 8.6]</td>\n",
       "      <td>(26.038, 34.652]</td>\n",
       "      <td>(76.5, 100.0]</td>\n",
       "      <td>(13.533, 20.327]</td>\n",
       "      <td>(87.0, 117.0]</td>\n",
       "      <td>(8.935, 11.618]</td>\n",
       "      <td>(0.987, 3.4]</td>\n",
       "      <td>...</td>\n",
       "      <td>0.119268</td>\n",
       "      <td>-0.147174</td>\n",
       "      <td>0.561314</td>\n",
       "      <td>0.040222</td>\n",
       "      <td>0.046092</td>\n",
       "      <td>0.12472</td>\n",
       "      <td>-0.037245</td>\n",
       "      <td>-0.29035</td>\n",
       "      <td>0.114628</td>\n",
       "      <td>0.295956</td>\n",
       "    </tr>\n",
       "    <tr>\n",
       "      <th>4</th>\n",
       "      <td>(85.2, 121.8]</td>\n",
       "      <td>No</td>\n",
       "      <td>Yes</td>\n",
       "      <td>(25.8, 34.4]</td>\n",
       "      <td>(17.424, 26.038]</td>\n",
       "      <td>(76.5, 100.0]</td>\n",
       "      <td>(13.533, 20.327]</td>\n",
       "      <td>(87.0, 117.0]</td>\n",
       "      <td>(8.935, 11.618]</td>\n",
       "      <td>(0.987, 3.4]</td>\n",
       "      <td>...</td>\n",
       "      <td>-0.066532</td>\n",
       "      <td>0.205211</td>\n",
       "      <td>0.233039</td>\n",
       "      <td>0.040222</td>\n",
       "      <td>0.046092</td>\n",
       "      <td>0.12472</td>\n",
       "      <td>-0.037245</td>\n",
       "      <td>-0.29035</td>\n",
       "      <td>0.114628</td>\n",
       "      <td>0.295956</td>\n",
       "    </tr>\n",
       "  </tbody>\n",
       "</table>\n",
       "<p>5 rows × 26 columns</p>\n",
       "</div>"
      ],
      "text/plain": [
       "      V_ACCT_LGHT C_IP C_VMP    V_N_VM_MESS       V_T_DAY_CHG  V_T_EVE_CALLS  \\\n",
       "0  (121.8, 158.4]   No   Yes   (17.2, 25.8]   (43.266, 51.88]  (76.5, 100.0]   \n",
       "1    (48.6, 85.2]   No   Yes   (25.8, 34.4]  (26.038, 34.652]  (76.5, 100.0]   \n",
       "2  (121.8, 158.4]  Yes   Yes   (34.4, 43.0]  (26.038, 34.652]  (76.5, 100.0]   \n",
       "3  (11.816, 48.6]   No    No  (-0.044, 8.6]  (26.038, 34.652]  (76.5, 100.0]   \n",
       "4   (85.2, 121.8]   No   Yes   (25.8, 34.4]  (17.424, 26.038]  (76.5, 100.0]   \n",
       "\n",
       "        V_T_EVE_CHG  V_T_NIG_CALLS      V_T_NIG_CHG V_T_INT_CALLS  ...  \\\n",
       "0  (13.533, 20.327]  (87.0, 117.0]  (8.935, 11.618]  (0.987, 3.4]  ...   \n",
       "1  (13.533, 20.327]  (87.0, 117.0]  (8.935, 11.618]  (0.987, 3.4]  ...   \n",
       "2  (13.533, 20.327]  (87.0, 117.0]  (8.935, 11.618]  (0.987, 3.4]  ...   \n",
       "3  (13.533, 20.327]  (87.0, 117.0]  (8.935, 11.618]  (0.987, 3.4]  ...   \n",
       "4  (13.533, 20.327]  (87.0, 117.0]  (8.935, 11.618]  (0.987, 3.4]  ...   \n",
       "\n",
       "  W_V_ACCT_LGHT W_V_N_VM_MESS  W_V_T_DAY_CHG  W_V_T_EVE_CALLS  W_V_T_EVE_CHG  \\\n",
       "0      0.061033      1.219037      -1.864202         0.040222       0.046092   \n",
       "1      0.053118      0.205211       0.561314         0.040222       0.046092   \n",
       "2      0.061033      0.524733       0.561314         0.040222       0.046092   \n",
       "3      0.119268     -0.147174       0.561314         0.040222       0.046092   \n",
       "4     -0.066532      0.205211       0.233039         0.040222       0.046092   \n",
       "\n",
       "   W_V_T_NIG_CALLS  W_V_T_NIG_CHG  W_V_T_INT_CALLS  W_V_T_INT_CHG  \\\n",
       "0          0.12472      -0.037245         -0.29035       0.114628   \n",
       "1          0.12472      -0.037245         -0.29035       0.114628   \n",
       "2          0.12472      -0.037245         -0.29035       0.114628   \n",
       "3          0.12472      -0.037245         -0.29035       0.114628   \n",
       "4          0.12472      -0.037245         -0.29035       0.114628   \n",
       "\n",
       "   W_V_CS_CALLS  \n",
       "0      0.295956  \n",
       "1      0.295956  \n",
       "2      0.295956  \n",
       "3      0.295956  \n",
       "4      0.295956  \n",
       "\n",
       "[5 rows x 26 columns]"
      ]
     },
     "execution_count": 37,
     "metadata": {},
     "output_type": "execute_result"
    }
   ],
   "source": [
    "df.head()"
   ]
  },
  {
   "cell_type": "code",
   "execution_count": 38,
   "metadata": {},
   "outputs": [],
   "source": [
    "varw = [v for v in df.columns if v[:2]=='W_']"
   ]
  },
  {
   "cell_type": "code",
   "execution_count": 39,
   "metadata": {},
   "outputs": [
    {
     "data": {
      "text/plain": [
       "['W_C_IP',\n",
       " 'W_C_VMP',\n",
       " 'W_V_ACCT_LGHT',\n",
       " 'W_V_N_VM_MESS',\n",
       " 'W_V_T_DAY_CHG',\n",
       " 'W_V_T_EVE_CALLS',\n",
       " 'W_V_T_EVE_CHG',\n",
       " 'W_V_T_NIG_CALLS',\n",
       " 'W_V_T_NIG_CHG',\n",
       " 'W_V_T_INT_CALLS',\n",
       " 'W_V_T_INT_CHG',\n",
       " 'W_V_CS_CALLS']"
      ]
     },
     "execution_count": 39,
     "metadata": {},
     "output_type": "execute_result"
    }
   ],
   "source": [
    "varw"
   ]
  },
  {
   "cell_type": "code",
   "execution_count": 40,
   "metadata": {},
   "outputs": [],
   "source": [
    "from sklearn.linear_model import LogisticRegression\n",
    "from sklearn.model_selection import train_test_split\n",
    "from sklearn.metrics import roc_auc_score"
   ]
  },
  {
   "cell_type": "code",
   "execution_count": 41,
   "metadata": {},
   "outputs": [],
   "source": [
    "X = df[varw].copy()\n",
    "y = df['TARGET'].copy()"
   ]
  },
  {
   "cell_type": "code",
   "execution_count": 42,
   "metadata": {},
   "outputs": [],
   "source": [
    "Xt, Xv, yt, yv = train_test_split(X,y,train_size=0.7,test_size=0.3)"
   ]
  },
  {
   "cell_type": "code",
   "execution_count": 43,
   "metadata": {},
   "outputs": [],
   "source": [
    "modelo = LogisticRegression()"
   ]
  },
  {
   "cell_type": "code",
   "execution_count": 44,
   "metadata": {},
   "outputs": [
    {
     "name": "stdout",
     "output_type": "stream",
     "text": [
      "CPU times: user 10.4 ms, sys: 953 µs, total: 11.3 ms\n",
      "Wall time: 10.8 ms\n"
     ]
    },
    {
     "name": "stderr",
     "output_type": "stream",
     "text": [
      "/home/jose/Documentos/rubik/lib64/python3.6/site-packages/sklearn/linear_model/logistic.py:433: FutureWarning: Default solver will be changed to 'lbfgs' in 0.22. Specify a solver to silence this warning.\n",
      "  FutureWarning)\n"
     ]
    },
    {
     "data": {
      "text/plain": [
       "LogisticRegression(C=1.0, class_weight=None, dual=False, fit_intercept=True,\n",
       "          intercept_scaling=1, max_iter=100, multi_class='warn',\n",
       "          n_jobs=None, penalty='l2', random_state=None, solver='warn',\n",
       "          tol=0.0001, verbose=0, warm_start=False)"
      ]
     },
     "execution_count": 44,
     "metadata": {},
     "output_type": "execute_result"
    }
   ],
   "source": [
    "%%time\n",
    "modelo.fit(Xt,yt)"
   ]
  },
  {
   "cell_type": "code",
   "execution_count": 45,
   "metadata": {},
   "outputs": [
    {
     "name": "stdout",
     "output_type": "stream",
     "text": [
      "0.8699449487016899\n",
      "0.8863436385255649\n"
     ]
    }
   ],
   "source": [
    "print(roc_auc_score(y_score=modelo.predict_proba(Xt)[:,1],y_true=yt))\n",
    "print(roc_auc_score(y_score=modelo.predict_proba(Xv)[:,1],y_true=yv))"
   ]
  },
  {
   "cell_type": "code",
   "execution_count": 46,
   "metadata": {},
   "outputs": [],
   "source": [
    "betas = list(modelo.coef_[0])\n",
    "alpha = modelo.intercept_[0]"
   ]
  },
  {
   "cell_type": "code",
   "execution_count": 47,
   "metadata": {},
   "outputs": [],
   "source": [
    "PDO = 30\n",
    "base_odds = 4\n",
    "base_score = 800\n",
    "\n",
    "factor = PDO/np.log(2)\n",
    "offset = base_score-factor*np.log(base_odds)\n",
    "n = len(varw)"
   ]
  },
  {
   "cell_type": "code",
   "execution_count": 48,
   "metadata": {},
   "outputs": [],
   "source": [
    "for k,v in enumerate(varw):\n",
    "    df['P_%s'%v[2:]] = ((df[v]*betas[k]+alpha/n)*factor+offset/n).astype(int)"
   ]
  },
  {
   "cell_type": "code",
   "execution_count": 49,
   "metadata": {},
   "outputs": [
    {
     "data": {
      "text/html": [
       "<div>\n",
       "<style scoped>\n",
       "    .dataframe tbody tr th:only-of-type {\n",
       "        vertical-align: middle;\n",
       "    }\n",
       "\n",
       "    .dataframe tbody tr th {\n",
       "        vertical-align: top;\n",
       "    }\n",
       "\n",
       "    .dataframe thead th {\n",
       "        text-align: right;\n",
       "    }\n",
       "</style>\n",
       "<table border=\"1\" class=\"dataframe\">\n",
       "  <thead>\n",
       "    <tr style=\"text-align: right;\">\n",
       "      <th></th>\n",
       "      <th>V_ACCT_LGHT</th>\n",
       "      <th>C_IP</th>\n",
       "      <th>C_VMP</th>\n",
       "      <th>V_N_VM_MESS</th>\n",
       "      <th>V_T_DAY_CHG</th>\n",
       "      <th>V_T_EVE_CALLS</th>\n",
       "      <th>V_T_EVE_CHG</th>\n",
       "      <th>V_T_NIG_CALLS</th>\n",
       "      <th>V_T_NIG_CHG</th>\n",
       "      <th>V_T_INT_CALLS</th>\n",
       "      <th>...</th>\n",
       "      <th>P_V_ACCT_LGHT</th>\n",
       "      <th>P_V_N_VM_MESS</th>\n",
       "      <th>P_V_T_DAY_CHG</th>\n",
       "      <th>P_V_T_EVE_CALLS</th>\n",
       "      <th>P_V_T_EVE_CHG</th>\n",
       "      <th>P_V_T_NIG_CALLS</th>\n",
       "      <th>P_V_T_NIG_CHG</th>\n",
       "      <th>P_V_T_INT_CALLS</th>\n",
       "      <th>P_V_T_INT_CHG</th>\n",
       "      <th>P_V_CS_CALLS</th>\n",
       "    </tr>\n",
       "  </thead>\n",
       "  <tbody>\n",
       "    <tr>\n",
       "      <th>0</th>\n",
       "      <td>(121.8, 158.4]</td>\n",
       "      <td>No</td>\n",
       "      <td>Yes</td>\n",
       "      <td>(17.2, 25.8]</td>\n",
       "      <td>(43.266, 51.88]</td>\n",
       "      <td>(76.5, 100.0]</td>\n",
       "      <td>(13.533, 20.327]</td>\n",
       "      <td>(87.0, 117.0]</td>\n",
       "      <td>(8.935, 11.618]</td>\n",
       "      <td>(0.987, 3.4]</td>\n",
       "      <td>...</td>\n",
       "      <td>53</td>\n",
       "      <td>16</td>\n",
       "      <td>150</td>\n",
       "      <td>53</td>\n",
       "      <td>52</td>\n",
       "      <td>53</td>\n",
       "      <td>57</td>\n",
       "      <td>65</td>\n",
       "      <td>48</td>\n",
       "      <td>39</td>\n",
       "    </tr>\n",
       "    <tr>\n",
       "      <th>1</th>\n",
       "      <td>(48.6, 85.2]</td>\n",
       "      <td>No</td>\n",
       "      <td>Yes</td>\n",
       "      <td>(25.8, 34.4]</td>\n",
       "      <td>(26.038, 34.652]</td>\n",
       "      <td>(76.5, 100.0]</td>\n",
       "      <td>(13.533, 20.327]</td>\n",
       "      <td>(87.0, 117.0]</td>\n",
       "      <td>(8.935, 11.618]</td>\n",
       "      <td>(0.987, 3.4]</td>\n",
       "      <td>...</td>\n",
       "      <td>53</td>\n",
       "      <td>48</td>\n",
       "      <td>26</td>\n",
       "      <td>53</td>\n",
       "      <td>52</td>\n",
       "      <td>53</td>\n",
       "      <td>57</td>\n",
       "      <td>65</td>\n",
       "      <td>48</td>\n",
       "      <td>39</td>\n",
       "    </tr>\n",
       "    <tr>\n",
       "      <th>2</th>\n",
       "      <td>(121.8, 158.4]</td>\n",
       "      <td>Yes</td>\n",
       "      <td>Yes</td>\n",
       "      <td>(34.4, 43.0]</td>\n",
       "      <td>(26.038, 34.652]</td>\n",
       "      <td>(76.5, 100.0]</td>\n",
       "      <td>(13.533, 20.327]</td>\n",
       "      <td>(87.0, 117.0]</td>\n",
       "      <td>(8.935, 11.618]</td>\n",
       "      <td>(0.987, 3.4]</td>\n",
       "      <td>...</td>\n",
       "      <td>53</td>\n",
       "      <td>38</td>\n",
       "      <td>26</td>\n",
       "      <td>53</td>\n",
       "      <td>52</td>\n",
       "      <td>53</td>\n",
       "      <td>57</td>\n",
       "      <td>65</td>\n",
       "      <td>48</td>\n",
       "      <td>39</td>\n",
       "    </tr>\n",
       "    <tr>\n",
       "      <th>3</th>\n",
       "      <td>(11.816, 48.6]</td>\n",
       "      <td>No</td>\n",
       "      <td>No</td>\n",
       "      <td>(-0.044, 8.6]</td>\n",
       "      <td>(26.038, 34.652]</td>\n",
       "      <td>(76.5, 100.0]</td>\n",
       "      <td>(13.533, 20.327]</td>\n",
       "      <td>(87.0, 117.0]</td>\n",
       "      <td>(8.935, 11.618]</td>\n",
       "      <td>(0.987, 3.4]</td>\n",
       "      <td>...</td>\n",
       "      <td>52</td>\n",
       "      <td>59</td>\n",
       "      <td>26</td>\n",
       "      <td>53</td>\n",
       "      <td>52</td>\n",
       "      <td>53</td>\n",
       "      <td>57</td>\n",
       "      <td>65</td>\n",
       "      <td>48</td>\n",
       "      <td>39</td>\n",
       "    </tr>\n",
       "    <tr>\n",
       "      <th>4</th>\n",
       "      <td>(85.2, 121.8]</td>\n",
       "      <td>No</td>\n",
       "      <td>Yes</td>\n",
       "      <td>(25.8, 34.4]</td>\n",
       "      <td>(17.424, 26.038]</td>\n",
       "      <td>(76.5, 100.0]</td>\n",
       "      <td>(13.533, 20.327]</td>\n",
       "      <td>(87.0, 117.0]</td>\n",
       "      <td>(8.935, 11.618]</td>\n",
       "      <td>(0.987, 3.4]</td>\n",
       "      <td>...</td>\n",
       "      <td>56</td>\n",
       "      <td>48</td>\n",
       "      <td>43</td>\n",
       "      <td>53</td>\n",
       "      <td>52</td>\n",
       "      <td>53</td>\n",
       "      <td>57</td>\n",
       "      <td>65</td>\n",
       "      <td>48</td>\n",
       "      <td>39</td>\n",
       "    </tr>\n",
       "  </tbody>\n",
       "</table>\n",
       "<p>5 rows × 38 columns</p>\n",
       "</div>"
      ],
      "text/plain": [
       "      V_ACCT_LGHT C_IP C_VMP    V_N_VM_MESS       V_T_DAY_CHG  V_T_EVE_CALLS  \\\n",
       "0  (121.8, 158.4]   No   Yes   (17.2, 25.8]   (43.266, 51.88]  (76.5, 100.0]   \n",
       "1    (48.6, 85.2]   No   Yes   (25.8, 34.4]  (26.038, 34.652]  (76.5, 100.0]   \n",
       "2  (121.8, 158.4]  Yes   Yes   (34.4, 43.0]  (26.038, 34.652]  (76.5, 100.0]   \n",
       "3  (11.816, 48.6]   No    No  (-0.044, 8.6]  (26.038, 34.652]  (76.5, 100.0]   \n",
       "4   (85.2, 121.8]   No   Yes   (25.8, 34.4]  (17.424, 26.038]  (76.5, 100.0]   \n",
       "\n",
       "        V_T_EVE_CHG  V_T_NIG_CALLS      V_T_NIG_CHG V_T_INT_CALLS  ...  \\\n",
       "0  (13.533, 20.327]  (87.0, 117.0]  (8.935, 11.618]  (0.987, 3.4]  ...   \n",
       "1  (13.533, 20.327]  (87.0, 117.0]  (8.935, 11.618]  (0.987, 3.4]  ...   \n",
       "2  (13.533, 20.327]  (87.0, 117.0]  (8.935, 11.618]  (0.987, 3.4]  ...   \n",
       "3  (13.533, 20.327]  (87.0, 117.0]  (8.935, 11.618]  (0.987, 3.4]  ...   \n",
       "4  (13.533, 20.327]  (87.0, 117.0]  (8.935, 11.618]  (0.987, 3.4]  ...   \n",
       "\n",
       "  P_V_ACCT_LGHT P_V_N_VM_MESS  P_V_T_DAY_CHG  P_V_T_EVE_CALLS  P_V_T_EVE_CHG  \\\n",
       "0            53            16            150               53             52   \n",
       "1            53            48             26               53             52   \n",
       "2            53            38             26               53             52   \n",
       "3            52            59             26               53             52   \n",
       "4            56            48             43               53             52   \n",
       "\n",
       "   P_V_T_NIG_CALLS  P_V_T_NIG_CHG  P_V_T_INT_CALLS  P_V_T_INT_CHG  \\\n",
       "0               53             57               65             48   \n",
       "1               53             57               65             48   \n",
       "2               53             57               65             48   \n",
       "3               53             57               65             48   \n",
       "4               53             57               65             48   \n",
       "\n",
       "   P_V_CS_CALLS  \n",
       "0            39  \n",
       "1            39  \n",
       "2            39  \n",
       "3            39  \n",
       "4            39  \n",
       "\n",
       "[5 rows x 38 columns]"
      ]
     },
     "execution_count": 49,
     "metadata": {},
     "output_type": "execute_result"
    }
   ],
   "source": [
    "df.head()"
   ]
  },
  {
   "cell_type": "code",
   "execution_count": 50,
   "metadata": {},
   "outputs": [],
   "source": [
    "varp = [v for v in df.columns if v[:2]=='P_']"
   ]
  },
  {
   "cell_type": "code",
   "execution_count": 51,
   "metadata": {},
   "outputs": [],
   "source": [
    "df['score'] = df[varp].sum(axis=1)"
   ]
  },
  {
   "cell_type": "code",
   "execution_count": 52,
   "metadata": {},
   "outputs": [
    {
     "data": {
      "text/plain": [
       "<matplotlib.axes._subplots.AxesSubplot at 0x7f74b5344c50>"
      ]
     },
     "execution_count": 52,
     "metadata": {},
     "output_type": "execute_result"
    },
    {
     "data": {
      "image/png": "[encoded data removed]",
      "text/plain": [
       "<Figure size 432x288 with 1 Axes>"
      ]
     },
     "metadata": {
      "needs_background": "light"
     },
     "output_type": "display_data"
    }
   ],
   "source": [
    "df['score'].hist()"
   ]
  },
  {
   "cell_type": "code",
   "execution_count": 53,
   "metadata": {},
   "outputs": [
    {
     "data": {
      "text/plain": [
       "count    2801.000000\n",
       "mean      628.494466\n",
       "std        61.647107\n",
       "min       491.000000\n",
       "25%       590.000000\n",
       "50%       614.000000\n",
       "75%       653.000000\n",
       "max       922.000000\n",
       "Name: score, dtype: float64"
      ]
     },
     "execution_count": 53,
     "metadata": {},
     "output_type": "execute_result"
    }
   ],
   "source": [
    "df['score'].describe()"
   ]
  },
  {
   "cell_type": "code",
   "execution_count": 54,
   "metadata": {},
   "outputs": [
    {
     "name": "stdout",
     "output_type": "stream",
     "text": [
      "      P_C_IP\n",
      "C_IP        \n",
      "No        41\n",
      "Yes      129\n",
      "       P_C_VMP\n",
      "C_VMP         \n",
      "No          60\n",
      "Yes         36\n",
      "                P_V_ACCT_LGHT\n",
      "V_ACCT_LGHT                  \n",
      "(11.816, 48.6]             52\n",
      "(121.8, 158.4]             53\n",
      "(158.4, 195.0]             58\n",
      "(48.6, 85.2]               53\n",
      "(85.2, 121.8]              56\n",
      "               P_V_N_VM_MESS\n",
      "V_N_VM_MESS                 \n",
      "(-0.044, 8.6]             59\n",
      "(17.2, 25.8]              16\n",
      "(25.8, 34.4]              48\n",
      "(34.4, 43.0]              38\n",
      "(8.6, 17.2]               25\n",
      "                  P_V_T_DAY_CHG\n",
      "V_T_DAY_CHG                    \n",
      "(17.424, 26.038]             43\n",
      "(26.038, 34.652]             26\n",
      "(34.652, 43.266]             53\n",
      "(43.266, 51.88]             150\n",
      "(8.766, 17.424]              45\n",
      "                P_V_T_EVE_CALLS\n",
      "V_T_EVE_CALLS                  \n",
      "(100.0, 123.5]               53\n",
      "(123.5, 147.0]               58\n",
      "(52.905, 76.5]               60\n",
      "(76.5, 100.0]                53\n",
      "                             P_V_T_EVE_CHG\n",
      "V_T_EVE_CHG                               \n",
      "(13.533, 20.327]                        52\n",
      "(20.327, 27.12]                         72\n",
      "(6.718999999999999, 13.533]             34\n",
      "                P_V_T_NIG_CALLS\n",
      "V_T_NIG_CALLS                  \n",
      "(117.0, 147.0]               58\n",
      "(56.909, 87.0]               56\n",
      "(87.0, 117.0]                53\n",
      "                             P_V_T_NIG_CHG\n",
      "V_T_NIG_CHG                               \n",
      "(11.618, 14.3]                          67\n",
      "(3.5580000000000003, 6.252]             29\n",
      "(6.252, 8.935]                          54\n",
      "(8.935, 11.618]                         57\n",
      "               P_V_T_INT_CALLS\n",
      "V_T_INT_CALLS                 \n",
      "(0.987, 3.4]                65\n",
      "(10.6, 13.0]                51\n",
      "(3.4, 5.8]                  47\n",
      "(5.8, 8.2]                  45\n",
      "(8.2, 10.6]                 49\n",
      "                P_V_T_INT_CHG\n",
      "V_T_INT_CHG                  \n",
      "(0.885, 1.795]             40\n",
      "(1.795, 2.7]               51\n",
      "(2.7, 3.605]               48\n",
      "(3.605, 4.51]              90\n",
      "               P_V_CS_CALLS\n",
      "V_CS_CALLS                 \n",
      "(-0.007, 1.2]            39\n",
      "(1.2, 2.4]               42\n",
      "(2.4, 3.6]               31\n",
      "(3.6, 4.8]              144\n",
      "(4.8, 6.0]              180\n"
     ]
    }
   ],
   "source": [
    "for v in varw:    \n",
    "    print(df[['P_'+v[2:],v[2:]]].groupby(v[2:]).max())"
   ]
  },
  {
   "cell_type": "code",
   "execution_count": 66,
   "metadata": {},
   "outputs": [
    {
     "data": {
      "text/plain": [
       "11.0"
      ]
     },
     "execution_count": 66,
     "metadata": {},
     "output_type": "execute_result"
    }
   ],
   "source": [
    "(930-490)/40"
   ]
  },
  {
   "cell_type": "code",
   "execution_count": 71,
   "metadata": {},
   "outputs": [],
   "source": [
    "df['r_score'] = pd.cut(df['score'],bins=range(490,970,40),include_lowest=True).astype(str)"
   ]
  },
  {
   "cell_type": "code",
   "execution_count": 72,
   "metadata": {},
   "outputs": [],
   "source": [
    "aux = df[['r_score','TARGET']].copy()\n",
    "aux['n']= 1"
   ]
  },
  {
   "cell_type": "code",
   "execution_count": 73,
   "metadata": {},
   "outputs": [],
   "source": [
    "aux= aux.pivot_table(index='r_score',columns='TARGET',values='n',aggfunc='sum')"
   ]
  },
  {
   "cell_type": "code",
   "execution_count": 75,
   "metadata": {},
   "outputs": [],
   "source": [
    "aux.to_clipboard()"
   ]
  },
  {
   "cell_type": "code",
   "execution_count": null,
   "metadata": {},
   "outputs": [],
   "source": []
  }
 ],
 "metadata": {
  "kernelspec": {
   "display_name": "rbk",
   "language": "python",
   "name": "rbk"
  },
  "language_info": {
   "codemirror_mode": {
    "name": "ipython",
    "version": 3
   },
   "file_extension": ".py",
   "mimetype": "text/x-python",
   "name": "python",
   "nbconvert_exporter": "python",
   "pygments_lexer": "ipython3",
   "version": "3.6.7"
  }
 },
 "nbformat": 4,
 "nbformat_minor": 2
}
