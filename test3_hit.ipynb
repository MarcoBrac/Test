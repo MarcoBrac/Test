{
  "nbformat": 4,
  "nbformat_minor": 0,
  "metadata": {
    "colab": {
      "name": "test2",
      "provenance": [],
      "collapsed_sections": [],
      "include_colab_link": true
    },
    "kernelspec": {
      "name": "python3",
      "display_name": "Python 3"
    },
    "accelerator": "GPU"
  },
  "cells": [
    {
      "cell_type": "markdown",
      "metadata": {
        "id": "view-in-github",
        "colab_type": "text"
      },
      "source": [
        "<a href=\"https://colab.research.google.com/github/MarcoBrac/Test/blob/master/test3_hit.ipynb\" target=\"_parent\"><img src=\"https://colab.research.google.com/assets/colab-badge.svg\" alt=\"Open In Colab\"/></a>"
      ]
    },
    {
      "cell_type": "code",
      "metadata": {
        "id": "c6URWxj1z0nY",
        "colab_type": "code",
        "colab": {}
      },
      "source": [
        "from google.colab import drive\n",
        "from google.colab import files\n",
        "\n",
        "import pandas as pd\n",
        "import numpy as np\n",
        "\n",
        "from sklearn.linear_model import LogisticRegression\n",
        "from sklearn import datasets\n",
        "from sklearn.preprocessing import StandardScaler\n"
      ],
      "execution_count": 0,
      "outputs": []
    },
    {
      "cell_type": "code",
      "metadata": {
        "id": "pIbUmFOV7Onq",
        "colab_type": "code",
        "colab": {}
      },
      "source": [
        "#drive.mount('/content/drive')"
      ],
      "execution_count": 0,
      "outputs": []
    },
    {
      "cell_type": "code",
      "metadata": {
        "id": "au0lLqSY0uXk",
        "colab_type": "code",
        "colab": {}
      },
      "source": [
        "#!head TABLA_MODELO_HIT_3.csv"
      ],
      "execution_count": 0,
      "outputs": []
    },
    {
      "cell_type": "code",
      "metadata": {
        "id": "ObxRPaZ00us5",
        "colab_type": "code",
        "outputId": "6ceebc2b-f6a9-4ad8-8f2b-48ae05b2d337",
        "colab": {
          "resources": {
            "http://localhost:8080/nbextensions/google.colab/files.js": {
              "data": "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",
              "ok": true,
              "headers": [
                [
                  "content-type",
                  "application/javascript"
                ]
              ],
              "status": 200,
              "status_text": "OK"
            }
          },
          "base_uri": "https://localhost:8080/",
          "height": 72
        }
      },
      "source": [
        " uploaded = files.upload()"
      ],
      "execution_count": 2,
      "outputs": [
        {
          "output_type": "display_data",
          "data": {
            "text/html": [
              "\n",
              "     <input type=\"file\" id=\"files-d0395fc2-3e8f-4b6a-b3f4-a0e3ba5d8fcf\" name=\"files[]\" multiple disabled />\n",
              "     <output id=\"result-d0395fc2-3e8f-4b6a-b3f4-a0e3ba5d8fcf\">\n",
              "      Upload widget is only available when the cell has been executed in the\n",
              "      current browser session. Please rerun this cell to enable.\n",
              "      </output>\n",
              "      <script src=\"/nbextensions/google.colab/files.js\"></script> "
            ],
            "text/plain": [
              "<IPython.core.display.HTML object>"
            ]
          },
          "metadata": {
            "tags": []
          }
        },
        {
          "output_type": "stream",
          "text": [
            "Saving TABLA_MODELO_HIT_3.csv to TABLA_MODELO_HIT_3.csv\n"
          ],
          "name": "stdout"
        }
      ]
    },
    {
      "cell_type": "code",
      "metadata": {
        "id": "1HqDslft316N",
        "colab_type": "code",
        "colab": {}
      },
      "source": [
        "df1 = pd.read_csv('TABLA_MODELO_HIT_3.csv' ) "
      ],
      "execution_count": 0,
      "outputs": []
    },
    {
      "cell_type": "code",
      "metadata": {
        "id": "D302R1Y-4T2z",
        "colab_type": "code",
        "outputId": "0b44e971-0c42-4e46-bd00-260c9c705207",
        "colab": {
          "base_uri": "https://localhost:8080/",
          "height": 276
        }
      },
      "source": [
        "#df1.head()"
      ],
      "execution_count": 0,
      "outputs": [
        {
          "output_type": "execute_result",
          "data": {
            "text/html": [
              "<div>\n",
              "<style scoped>\n",
              "    .dataframe tbody tr th:only-of-type {\n",
              "        vertical-align: middle;\n",
              "    }\n",
              "\n",
              "    .dataframe tbody tr th {\n",
              "        vertical-align: top;\n",
              "    }\n",
              "\n",
              "    .dataframe thead th {\n",
              "        text-align: right;\n",
              "    }\n",
              "</style>\n",
              "<table border=\"1\" class=\"dataframe\">\n",
              "  <thead>\n",
              "    <tr style=\"text-align: right;\">\n",
              "      <th></th>\n",
              "      <th>CONTRATO</th>\n",
              "      <th>NUM_CLIENTE</th>\n",
              "      <th>BC_SCORE</th>\n",
              "      <th>COSECHA</th>\n",
              "      <th>EDAD</th>\n",
              "      <th>OCPUACION_SEXO</th>\n",
              "      <th>CUENTA_MAS_ANTIGUA_BANCO</th>\n",
              "      <th>MAX_MOP_6M_AB_TDC</th>\n",
              "      <th>CUENTA_MAS_ANTIGUA_TDC</th>\n",
              "      <th>SALDO_VENCIDO_ABIERTAS</th>\n",
              "      <th>MAX_MOP_6M</th>\n",
              "      <th>PORC_UTILIZ_ENTRE_CUENT_REV_AB</th>\n",
              "      <th>PRODUCTO</th>\n",
              "      <th>SUB_PRODUCTO</th>\n",
              "      <th>VINTAGE</th>\n",
              "      <th>AMOUNT</th>\n",
              "      <th>FLAG_1PV_3</th>\n",
              "      <th>FLAG_2PV_6</th>\n",
              "      <th>FLAG_3PV_12</th>\n",
              "      <th>FLAG_3PV_18</th>\n",
              "      <th>FLAG_DESEMBOLSADO</th>\n",
              "    </tr>\n",
              "  </thead>\n",
              "  <tbody>\n",
              "    <tr>\n",
              "      <th>0</th>\n",
              "      <td>400015808</td>\n",
              "      <td>1953462</td>\n",
              "      <td>660</td>\n",
              "      <td>201505</td>\n",
              "      <td>37.0</td>\n",
              "      <td>C_CON NEGOCIO/F</td>\n",
              "      <td>31.0</td>\n",
              "      <td>NaN</td>\n",
              "      <td>NaN</td>\n",
              "      <td>0.0</td>\n",
              "      <td>9.0</td>\n",
              "      <td>NaN</td>\n",
              "      <td>OMEGA</td>\n",
              "      <td>OMEGA_M</td>\n",
              "      <td>201505</td>\n",
              "      <td>11728.0</td>\n",
              "      <td>0</td>\n",
              "      <td>1</td>\n",
              "      <td>1</td>\n",
              "      <td>1</td>\n",
              "      <td>1</td>\n",
              "    </tr>\n",
              "    <tr>\n",
              "      <th>1</th>\n",
              "      <td>400015823</td>\n",
              "      <td>772865</td>\n",
              "      <td>663</td>\n",
              "      <td>201505</td>\n",
              "      <td>64.0</td>\n",
              "      <td>F_JUBILADO/F</td>\n",
              "      <td>94.0</td>\n",
              "      <td>2.0</td>\n",
              "      <td>187.0</td>\n",
              "      <td>511.0</td>\n",
              "      <td>2.0</td>\n",
              "      <td>0.219478</td>\n",
              "      <td>OMEGA</td>\n",
              "      <td>OMEGA_M</td>\n",
              "      <td>201505</td>\n",
              "      <td>17191.0</td>\n",
              "      <td>0</td>\n",
              "      <td>0</td>\n",
              "      <td>0</td>\n",
              "      <td>0</td>\n",
              "      <td>1</td>\n",
              "    </tr>\n",
              "    <tr>\n",
              "      <th>2</th>\n",
              "      <td>400015912</td>\n",
              "      <td>3873005</td>\n",
              "      <td>561</td>\n",
              "      <td>201505</td>\n",
              "      <td>41.0</td>\n",
              "      <td>A_CON NEGOCIO/M</td>\n",
              "      <td>28.0</td>\n",
              "      <td>NaN</td>\n",
              "      <td>NaN</td>\n",
              "      <td>4662.0</td>\n",
              "      <td>7.0</td>\n",
              "      <td>NaN</td>\n",
              "      <td>OMEGA</td>\n",
              "      <td>OMEGA_M</td>\n",
              "      <td>201505</td>\n",
              "      <td>5897.0</td>\n",
              "      <td>0</td>\n",
              "      <td>0</td>\n",
              "      <td>0</td>\n",
              "      <td>0</td>\n",
              "      <td>1</td>\n",
              "    </tr>\n",
              "    <tr>\n",
              "      <th>3</th>\n",
              "      <td>400015973</td>\n",
              "      <td>776366</td>\n",
              "      <td>724</td>\n",
              "      <td>201505</td>\n",
              "      <td>44.0</td>\n",
              "      <td>C_CON NEGOCIO/F</td>\n",
              "      <td>NaN</td>\n",
              "      <td>1.0</td>\n",
              "      <td>18.0</td>\n",
              "      <td>0.0</td>\n",
              "      <td>1.0</td>\n",
              "      <td>0.104229</td>\n",
              "      <td>OMEGA</td>\n",
              "      <td>OMEGA_M</td>\n",
              "      <td>201505</td>\n",
              "      <td>8000.0</td>\n",
              "      <td>0</td>\n",
              "      <td>0</td>\n",
              "      <td>0</td>\n",
              "      <td>0</td>\n",
              "      <td>1</td>\n",
              "    </tr>\n",
              "    <tr>\n",
              "      <th>4</th>\n",
              "      <td>400014820</td>\n",
              "      <td>347497</td>\n",
              "      <td>713</td>\n",
              "      <td>201505</td>\n",
              "      <td>40.0</td>\n",
              "      <td>C_CON NEGOCIO/F</td>\n",
              "      <td>49.0</td>\n",
              "      <td>1.0</td>\n",
              "      <td>42.0</td>\n",
              "      <td>0.0</td>\n",
              "      <td>1.0</td>\n",
              "      <td>0.034422</td>\n",
              "      <td>OMEGA</td>\n",
              "      <td>OMEGA_M</td>\n",
              "      <td>201505</td>\n",
              "      <td>29686.0</td>\n",
              "      <td>0</td>\n",
              "      <td>0</td>\n",
              "      <td>0</td>\n",
              "      <td>0</td>\n",
              "      <td>1</td>\n",
              "    </tr>\n",
              "  </tbody>\n",
              "</table>\n",
              "</div>"
            ],
            "text/plain": [
              "    CONTRATO  NUM_CLIENTE  ...  FLAG_3PV_18  FLAG_DESEMBOLSADO\n",
              "0  400015808      1953462  ...            1                  1\n",
              "1  400015823       772865  ...            0                  1\n",
              "2  400015912      3873005  ...            0                  1\n",
              "3  400015973       776366  ...            0                  1\n",
              "4  400014820       347497  ...            0                  1\n",
              "\n",
              "[5 rows x 21 columns]"
            ]
          },
          "metadata": {
            "tags": []
          },
          "execution_count": 5
        }
      ]
    },
    {
      "cell_type": "code",
      "metadata": {
        "id": "wRlVcKHd4rIT",
        "colab_type": "code",
        "colab": {}
      },
      "source": [
        "df2 = df1.copy()\n",
        "df2 = df2[df2.COSECHA >= 201600]\n",
        "df2 = df2[df2['EDAD'].isnull() == False]\n",
        "df2['TARGET'] = df2.FLAG_3PV_18"
      ],
      "execution_count": 0,
      "outputs": []
    },
    {
      "cell_type": "code",
      "metadata": {
        "id": "nIXav4GmBYE8",
        "colab_type": "code",
        "colab": {}
      },
      "source": [
        "#df2.head()"
      ],
      "execution_count": 0,
      "outputs": []
    },
    {
      "cell_type": "code",
      "metadata": {
        "id": "295_NLEhWKWo",
        "colab_type": "code",
        "outputId": "28aadb49-bc24-4e28-f055-38ea1d548b91",
        "colab": {
          "base_uri": "https://localhost:8080/",
          "height": 131
        }
      },
      "source": [
        "#df2.columns"
      ],
      "execution_count": 0,
      "outputs": [
        {
          "output_type": "execute_result",
          "data": {
            "text/plain": [
              "Index(['CONTRATO', 'NUM_CLIENTE', 'BC_SCORE', 'COSECHA', 'EDAD',\n",
              "       'OCPUACION_SEXO', 'CUENTA_MAS_ANTIGUA_BANCO', 'MAX_MOP_6M_AB_TDC',\n",
              "       'CUENTA_MAS_ANTIGUA_TDC', 'SALDO_VENCIDO_ABIERTAS', 'MAX_MOP_6M',\n",
              "       'PORC_UTILIZ_ENTRE_CUENT_REV_AB', 'PRODUCTO', 'SUB_PRODUCTO', 'VINTAGE',\n",
              "       'AMOUNT', 'FLAG_1PV_3', 'FLAG_2PV_6', 'FLAG_3PV_12', 'FLAG_3PV_18',\n",
              "       'FLAG_DESEMBOLSADO', 'TARGET'],\n",
              "      dtype='object')"
            ]
          },
          "metadata": {
            "tags": []
          },
          "execution_count": 120
        }
      ]
    },
    {
      "cell_type": "code",
      "metadata": {
        "id": "FiN00gMtAHio",
        "colab_type": "code",
        "colab": {}
      },
      "source": [
        "vars_num = ['CUENTA_MAS_ANTIGUA_BANCO', 'MAX_MOP_6M_AB_TDC', 'CUENTA_MAS_ANTIGUA_TDC' , 'SALDO_VENCIDO_ABIERTAS', 'MAX_MOP_6M', 'PORC_UTILIZ_ENTRE_CUENT_REV_AB' , 'EDAD']\n",
        "vars_fac = ['OCPUACION_SEXO']"
      ],
      "execution_count": 0,
      "outputs": []
    },
    {
      "cell_type": "code",
      "metadata": {
        "id": "s95cIGQ9AHw2",
        "colab_type": "code",
        "colab": {}
      },
      "source": [
        "for v in vars_fac:\n",
        "    aux = df2[[v,'TARGET']].copy()\n",
        "    aux['n'] = 1\n",
        "    aux = aux.pivot_table(index=v,columns='TARGET',aggfunc='count')\n",
        "    aux.columns=aux.columns.droplevel()\n",
        "    aux.reset_index(inplace=True)\n",
        "    for i in range(2):\n",
        "        aux[i]/=aux[i].sum()\n",
        "    aux['woe'] =np.log(aux[0]/aux[1])\n",
        "    df2 = df2.merge(aux[['woe',v]],how='inner',on=v)\n",
        "    df2.rename(columns={'woe':'W_%s'%v},inplace=True)"
      ],
      "execution_count": 0,
      "outputs": []
    },
    {
      "cell_type": "code",
      "metadata": {
        "id": "aJ6cjj63AIQX",
        "colab_type": "code",
        "outputId": "a77c157a-19c0-493b-a591-bebb8040f974",
        "colab": {
          "base_uri": "https://localhost:8080/",
          "height": 220
        }
      },
      "source": [
        "#aux.head(10)"
      ],
      "execution_count": 0,
      "outputs": [
        {
          "output_type": "execute_result",
          "data": {
            "text/html": [
              "<div>\n",
              "<style scoped>\n",
              "    .dataframe tbody tr th:only-of-type {\n",
              "        vertical-align: middle;\n",
              "    }\n",
              "\n",
              "    .dataframe tbody tr th {\n",
              "        vertical-align: top;\n",
              "    }\n",
              "\n",
              "    .dataframe thead th {\n",
              "        text-align: right;\n",
              "    }\n",
              "</style>\n",
              "<table border=\"1\" class=\"dataframe\">\n",
              "  <thead>\n",
              "    <tr style=\"text-align: right;\">\n",
              "      <th>TARGET</th>\n",
              "      <th>OCPUACION_SEXO</th>\n",
              "      <th>0</th>\n",
              "      <th>1</th>\n",
              "      <th>woe</th>\n",
              "    </tr>\n",
              "  </thead>\n",
              "  <tbody>\n",
              "    <tr>\n",
              "      <th>0</th>\n",
              "      <td>A_CON NEGOCIO/M</td>\n",
              "      <td>0.190003</td>\n",
              "      <td>0.290477</td>\n",
              "      <td>-0.424487</td>\n",
              "    </tr>\n",
              "    <tr>\n",
              "      <th>1</th>\n",
              "      <td>B_EMPLEADO O ASALARIADO/M</td>\n",
              "      <td>0.093966</td>\n",
              "      <td>0.100657</td>\n",
              "      <td>-0.068786</td>\n",
              "    </tr>\n",
              "    <tr>\n",
              "      <th>2</th>\n",
              "      <td>C_CON NEGOCIO/F</td>\n",
              "      <td>0.475007</td>\n",
              "      <td>0.465648</td>\n",
              "      <td>0.019900</td>\n",
              "    </tr>\n",
              "    <tr>\n",
              "      <th>3</th>\n",
              "      <td>D_EMPLEADO O ASALARIADO/F</td>\n",
              "      <td>0.128659</td>\n",
              "      <td>0.097626</td>\n",
              "      <td>0.276027</td>\n",
              "    </tr>\n",
              "    <tr>\n",
              "      <th>4</th>\n",
              "      <td>E_JUBILADO/M</td>\n",
              "      <td>0.039664</td>\n",
              "      <td>0.018565</td>\n",
              "      <td>0.759162</td>\n",
              "    </tr>\n",
              "    <tr>\n",
              "      <th>5</th>\n",
              "      <td>F_JUBILADO/F</td>\n",
              "      <td>0.072701</td>\n",
              "      <td>0.027027</td>\n",
              "      <td>0.989517</td>\n",
              "    </tr>\n",
              "  </tbody>\n",
              "</table>\n",
              "</div>"
            ],
            "text/plain": [
              "TARGET             OCPUACION_SEXO         0         1       woe\n",
              "0                 A_CON NEGOCIO/M  0.190003  0.290477 -0.424487\n",
              "1       B_EMPLEADO O ASALARIADO/M  0.093966  0.100657 -0.068786\n",
              "2                 C_CON NEGOCIO/F  0.475007  0.465648  0.019900\n",
              "3       D_EMPLEADO O ASALARIADO/F  0.128659  0.097626  0.276027\n",
              "4                    E_JUBILADO/M  0.039664  0.018565  0.759162\n",
              "5                    F_JUBILADO/F  0.072701  0.027027  0.989517"
            ]
          },
          "metadata": {
            "tags": []
          },
          "execution_count": 124
        }
      ]
    },
    {
      "cell_type": "code",
      "metadata": {
        "id": "l2e86cgRAIZu",
        "colab_type": "code",
        "outputId": "a4501810-5333-4c66-af2e-4389654053bc",
        "colab": {
          "base_uri": "https://localhost:8080/",
          "height": 813
        }
      },
      "source": [
        "for i,v in enumerate(vars_num):\n",
        "    bestk = 0\n",
        "    best_iv = 0\n",
        "    iv = 0\n",
        "    for k in range(2,8):\n",
        "  \n",
        "        aux = df2[[v,'TARGET']].copy()\n",
        "        aux[v] = pd.qcut(aux[v],k, duplicates = 'drop').astype(str)\n",
        "        aux['n'] = 1\n",
        "        aux = aux.pivot_table(index=v,columns='TARGET',aggfunc='count')\n",
        "        aux.columns=aux.columns.droplevel()\n",
        "        aux.reset_index(inplace=True)\n",
        "        for i in range(2):\n",
        "            aux[i]/=aux[i].sum()\n",
        "        aux['woe'] =np.log(aux[0]/aux[1])\n",
        "        aux['iv'] = aux['woe']*(aux[0]-aux[1])\n",
        "\n",
        "        iv = aux['iv'].sum()\n",
        "\n",
        "        print('%d %.6f'%(k,iv))\n",
        "\n",
        "        if (aux['iv'].sum()> best_iv) & (~np.isinf(aux['iv'].sum())):\n",
        "            best_iv = aux['iv'].sum()\n",
        "            bestk = k\n",
        "\n",
        "\n",
        "    aux = df2[[v,'TARGET']].copy()\n",
        "    print(\"best %s %.4f %d\"%(v,best_iv,bestk))\n",
        "    aux[v] = pd.qcut(aux[v],bestk, duplicates = 'drop').astype(str)\n",
        "    aux['n'] = 1\n",
        "    aux = aux.pivot_table(index=v,columns='TARGET',aggfunc='count')\n",
        "    aux.columns=aux.columns.droplevel()\n",
        "    aux.reset_index(inplace=True)\n",
        "    for i in range(2):\n",
        "        aux[i]/=aux[i].sum()\n",
        "    aux['woe'] =np.log(aux[0]/aux[1])\n",
        "    df2[v] = pd.qcut(df2[v],bestk,  duplicates = 'drop').astype(str)\n",
        "    df2 = df2.merge(aux[['woe',v]],how='inner',on=v)\n",
        "    df2.rename(columns={'woe':'W_%s'%v},inplace=True)\n"
      ],
      "execution_count": 173,
      "outputs": [
        {
          "output_type": "stream",
          "text": [
            "2 0.100322\n",
            "3 0.101022\n",
            "4 0.110924\n",
            "5 0.110595\n",
            "6 0.120300\n",
            "7 0.118776\n",
            "best CUENTA_MAS_ANTIGUA_BANCO 0.1203 6\n",
            "2 0.115213\n",
            "3 0.115213\n",
            "4 0.115213\n",
            "5 0.118117\n",
            "6 0.118117\n",
            "7 0.118117\n",
            "best MAX_MOP_6M_AB_TDC 0.1181 5\n",
            "2 0.118762\n",
            "3 0.130073\n",
            "4 0.135550\n",
            "5 0.147961\n",
            "6 0.147371\n",
            "7 0.147542\n",
            "best CUENTA_MAS_ANTIGUA_TDC 0.1480 5\n",
            "2 0.000763\n",
            "3 0.000763\n",
            "4 0.000763\n",
            "5 0.056946\n",
            "6 0.053600\n",
            "7 0.047024\n",
            "best SALDO_VENCIDO_ABIERTAS 0.0569 5\n",
            "2 0.044704\n",
            "3 0.060158\n",
            "4 0.060158\n",
            "5 0.056860\n",
            "6 0.060460\n",
            "7 0.060505\n",
            "best MAX_MOP_6M 0.0605 7\n",
            "2 0.094475\n",
            "3 0.092117\n",
            "4 0.103322\n",
            "5 0.120807\n",
            "6 0.099658\n",
            "7 0.106046\n",
            "best PORC_UTILIZ_ENTRE_CUENT_REV_AB 0.1208 5\n",
            "2 0.111008\n",
            "3 0.134572\n",
            "4 0.139091\n",
            "5 0.145557\n",
            "6 0.148257\n",
            "7 0.150526\n",
            "best EDAD 0.1505 7\n"
          ],
          "name": "stdout"
        }
      ]
    },
    {
      "cell_type": "code",
      "metadata": {
        "id": "iCJHzROT8UX-",
        "colab_type": "code",
        "colab": {}
      },
      "source": [
        "#df2.head(10)"
      ],
      "execution_count": 0,
      "outputs": []
    },
    {
      "cell_type": "code",
      "metadata": {
        "id": "-nKJg6zpAJdZ",
        "colab_type": "code",
        "outputId": "7eb20d77-6b14-46e9-f1b5-11ca54eecea3",
        "colab": {
          "base_uri": "https://localhost:8080/",
          "height": 147
        }
      },
      "source": [
        "df2.CUENTA_MAS_ANTIGUA_BANCO.value_counts(normalize=True)"
      ],
      "execution_count": 174,
      "outputs": [
        {
          "output_type": "execute_result",
          "data": {
            "text/plain": [
              "(-0.001, 36.0]    0.155398\n",
              "(104.0, 131.0]    0.152280\n",
              "(59.0, 76.0]      0.148512\n",
              "(76.0, 104.0]     0.147210\n",
              "(36.0, 59.0]      0.146858\n",
              "(131.0, 499.0]    0.145557\n",
              "nan               0.104186\n",
              "Name: CUENTA_MAS_ANTIGUA_BANCO, dtype: float64"
            ]
          },
          "metadata": {
            "tags": []
          },
          "execution_count": 174
        }
      ]
    },
    {
      "cell_type": "code",
      "metadata": {
        "id": "XZ6kthYo7lsY",
        "colab_type": "code",
        "colab": {}
      },
      "source": [
        "#df2.replace({'CUENTA_MAS_ANTIGUA_BANCO':{'(199.6, 299.4]':'x'\n",
        "#                                        , '(299.4, 399.2]':'x'\n",
        "#                                        , '(199.6, 299.4]':'x'}               \n",
        "#               }, inplace=True)"
      ],
      "execution_count": 0,
      "outputs": []
    },
    {
      "cell_type": "code",
      "metadata": {
        "id": "04m6d6iZAJxq",
        "colab_type": "code",
        "outputId": "588f6390-b6e3-45c0-c8fe-029bf2a7bf30",
        "colab": {
          "base_uri": "https://localhost:8080/",
          "height": 98
        }
      },
      "source": [
        "df2.MAX_MOP_6M_AB_TDC.value_counts(normalize=True)"
      ],
      "execution_count": 175,
      "outputs": [
        {
          "output_type": "execute_result",
          "data": {
            "text/plain": [
              "(-0.001, 1.0]    0.481538\n",
              "nan              0.369137\n",
              "(1.0, 2.0]       0.086212\n",
              "(2.0, 9.0]       0.063113\n",
              "Name: MAX_MOP_6M_AB_TDC, dtype: float64"
            ]
          },
          "metadata": {
            "tags": []
          },
          "execution_count": 175
        }
      ]
    },
    {
      "cell_type": "code",
      "metadata": {
        "id": "-JIEAQThAKGk",
        "colab_type": "code",
        "outputId": "e171e062-6e1c-4911-cea7-67ab0e15994e",
        "colab": {
          "base_uri": "https://localhost:8080/",
          "height": 131
        }
      },
      "source": [
        "df2.CUENTA_MAS_ANTIGUA_TDC.value_counts(normalize=True)"
      ],
      "execution_count": 176,
      "outputs": [
        {
          "output_type": "execute_result",
          "data": {
            "text/plain": [
              "nan               0.209890\n",
              "(-0.001, 44.0]    0.161064\n",
              "(115.0, 148.0]    0.158976\n",
              "(44.0, 78.0]      0.158732\n",
              "(78.0, 115.0]     0.155859\n",
              "(148.0, 612.0]    0.155479\n",
              "Name: CUENTA_MAS_ANTIGUA_TDC, dtype: float64"
            ]
          },
          "metadata": {
            "tags": []
          },
          "execution_count": 176
        }
      ]
    },
    {
      "cell_type": "code",
      "metadata": {
        "id": "3KRJ_Y2IAI2n",
        "colab_type": "code",
        "outputId": "5094f8cd-a022-4e00-9abb-05c27f30f686",
        "colab": {
          "base_uri": "https://localhost:8080/",
          "height": 82
        }
      },
      "source": [
        "df2.SALDO_VENCIDO_ABIERTAS.value_counts(normalize=True)"
      ],
      "execution_count": 12,
      "outputs": [
        {
          "output_type": "execute_result",
          "data": {
            "text/plain": [
              "(-0.001, 314.6]      0.778886\n",
              "(314.6, 463253.0]    0.194735\n",
              "nan                  0.026379\n",
              "Name: SALDO_VENCIDO_ABIERTAS, dtype: float64"
            ]
          },
          "metadata": {
            "tags": []
          },
          "execution_count": 12
        }
      ]
    },
    {
      "cell_type": "code",
      "metadata": {
        "id": "JrRC5F62AIxR",
        "colab_type": "code",
        "outputId": "ac69924f-0de8-4e56-99a2-e2aa212a0ccd",
        "colab": {
          "base_uri": "https://localhost:8080/",
          "height": 115
        }
      },
      "source": [
        "df2.MAX_MOP_6M.value_counts(normalize=True)"
      ],
      "execution_count": 13,
      "outputs": [
        {
          "output_type": "execute_result",
          "data": {
            "text/plain": [
              "(-0.001, 1.0]    0.604457\n",
              "(1.0, 2.0]       0.181478\n",
              "(5.0, 9.0]       0.135905\n",
              "(2.0, 5.0]       0.070081\n",
              "nan              0.008079\n",
              "Name: MAX_MOP_6M, dtype: float64"
            ]
          },
          "metadata": {
            "tags": []
          },
          "execution_count": 13
        }
      ]
    },
    {
      "cell_type": "code",
      "metadata": {
        "id": "goIm4Ua4AIsP",
        "colab_type": "code",
        "outputId": "7980ece9-22d4-468c-8327-118003acd493",
        "colab": {
          "base_uri": "https://localhost:8080/",
          "height": 131
        }
      },
      "source": [
        "df2.PORC_UTILIZ_ENTRE_CUENT_REV_AB.value_counts(normalize=True)"
      ],
      "execution_count": 14,
      "outputs": [
        {
          "output_type": "execute_result",
          "data": {
            "text/plain": [
              "nan                  0.366101\n",
              "(0.469, 140514.0]    0.126796\n",
              "(-0.001, 0.0176]     0.126796\n",
              "(0.101, 0.216]       0.126769\n",
              "(0.216, 0.469]       0.126769\n",
              "(0.0176, 0.101]      0.126769\n",
              "Name: PORC_UTILIZ_ENTRE_CUENT_REV_AB, dtype: float64"
            ]
          },
          "metadata": {
            "tags": []
          },
          "execution_count": 14
        }
      ]
    },
    {
      "cell_type": "code",
      "metadata": {
        "id": "p6rnP9f3LUkS",
        "colab_type": "code",
        "colab": {
          "base_uri": "https://localhost:8080/",
          "height": 147
        },
        "outputId": "33977214-d406-46d9-f15e-131f7c7884c0"
      },
      "source": [
        "df2.EDAD.value_counts(normalize=True)"
      ],
      "execution_count": 134,
      "outputs": [
        {
          "output_type": "execute_result",
          "data": {
            "text/plain": [
              "(44.0, 49.0]      0.158000\n",
              "(38.0, 44.0]      0.154856\n",
              "(19.999, 38.0]    0.146099\n",
              "(62.0, 86.0]      0.141300\n",
              "(49.0, 53.0]      0.135688\n",
              "(57.0, 62.0]      0.133275\n",
              "(53.0, 57.0]      0.130781\n",
              "Name: EDAD, dtype: float64"
            ]
          },
          "metadata": {
            "tags": []
          },
          "execution_count": 134
        }
      ]
    },
    {
      "cell_type": "code",
      "metadata": {
        "id": "QryGUzivAILf",
        "colab_type": "code",
        "outputId": "49af4bec-3bd2-4456-ebe7-091009e43aa8",
        "colab": {
          "base_uri": "https://localhost:8080/",
          "height": 517
        }
      },
      "source": [
        "df2.head(10)"
      ],
      "execution_count": 15,
      "outputs": [
        {
          "output_type": "execute_result",
          "data": {
            "text/html": [
              "<div>\n",
              "<style scoped>\n",
              "    .dataframe tbody tr th:only-of-type {\n",
              "        vertical-align: middle;\n",
              "    }\n",
              "\n",
              "    .dataframe tbody tr th {\n",
              "        vertical-align: top;\n",
              "    }\n",
              "\n",
              "    .dataframe thead th {\n",
              "        text-align: right;\n",
              "    }\n",
              "</style>\n",
              "<table border=\"1\" class=\"dataframe\">\n",
              "  <thead>\n",
              "    <tr style=\"text-align: right;\">\n",
              "      <th></th>\n",
              "      <th>CONTRATO</th>\n",
              "      <th>NUM_CLIENTE</th>\n",
              "      <th>BC_SCORE</th>\n",
              "      <th>COSECHA</th>\n",
              "      <th>EDAD</th>\n",
              "      <th>OCPUACION_SEXO</th>\n",
              "      <th>CUENTA_MAS_ANTIGUA_BANCO</th>\n",
              "      <th>MAX_MOP_6M_AB_TDC</th>\n",
              "      <th>CUENTA_MAS_ANTIGUA_TDC</th>\n",
              "      <th>SALDO_VENCIDO_ABIERTAS</th>\n",
              "      <th>MAX_MOP_6M</th>\n",
              "      <th>PORC_UTILIZ_ENTRE_CUENT_REV_AB</th>\n",
              "      <th>PRODUCTO</th>\n",
              "      <th>SUB_PRODUCTO</th>\n",
              "      <th>VINTAGE</th>\n",
              "      <th>AMOUNT</th>\n",
              "      <th>FLAG_1PV_3</th>\n",
              "      <th>FLAG_2PV_6</th>\n",
              "      <th>FLAG_3PV_12</th>\n",
              "      <th>FLAG_3PV_18</th>\n",
              "      <th>FLAG_DESEMBOLSADO</th>\n",
              "      <th>TARGET</th>\n",
              "      <th>W_EDAD</th>\n",
              "      <th>W_OCPUACION_SEXO</th>\n",
              "      <th>W_CUENTA_MAS_ANTIGUA_BANCO</th>\n",
              "      <th>W_MAX_MOP_6M_AB_TDC</th>\n",
              "      <th>W_CUENTA_MAS_ANTIGUA_TDC</th>\n",
              "      <th>W_SALDO_VENCIDO_ABIERTAS</th>\n",
              "      <th>W_MAX_MOP_6M</th>\n",
              "      <th>W_PORC_UTILIZ_ENTRE_CUENT_REV_AB</th>\n",
              "    </tr>\n",
              "  </thead>\n",
              "  <tbody>\n",
              "    <tr>\n",
              "      <th>0</th>\n",
              "      <td>400047237</td>\n",
              "      <td>2189555</td>\n",
              "      <td>662</td>\n",
              "      <td>201602</td>\n",
              "      <td>41.0</td>\n",
              "      <td>C_CON NEGOCIO/F</td>\n",
              "      <td>(-0.001, 36.0]</td>\n",
              "      <td>nan</td>\n",
              "      <td>nan</td>\n",
              "      <td>(-0.001, 314.6]</td>\n",
              "      <td>(-0.001, 1.0]</td>\n",
              "      <td>nan</td>\n",
              "      <td>OMEGA</td>\n",
              "      <td>OMEGA_M</td>\n",
              "      <td>201602</td>\n",
              "      <td>13233.0</td>\n",
              "      <td>0</td>\n",
              "      <td>0</td>\n",
              "      <td>0</td>\n",
              "      <td>0</td>\n",
              "      <td>1</td>\n",
              "      <td>0</td>\n",
              "      <td>-0.316741</td>\n",
              "      <td>0.0199</td>\n",
              "      <td>-0.420843</td>\n",
              "      <td>-0.369115</td>\n",
              "      <td>-0.527542</td>\n",
              "      <td>0.134897</td>\n",
              "      <td>0.181252</td>\n",
              "      <td>-0.334476</td>\n",
              "    </tr>\n",
              "    <tr>\n",
              "      <th>1</th>\n",
              "      <td>400044595</td>\n",
              "      <td>1137075</td>\n",
              "      <td>700</td>\n",
              "      <td>201601</td>\n",
              "      <td>41.0</td>\n",
              "      <td>C_CON NEGOCIO/F</td>\n",
              "      <td>(-0.001, 36.0]</td>\n",
              "      <td>nan</td>\n",
              "      <td>nan</td>\n",
              "      <td>(-0.001, 314.6]</td>\n",
              "      <td>(-0.001, 1.0]</td>\n",
              "      <td>nan</td>\n",
              "      <td>OMEGA</td>\n",
              "      <td>OMEGA_M</td>\n",
              "      <td>201601</td>\n",
              "      <td>18604.0</td>\n",
              "      <td>0</td>\n",
              "      <td>0</td>\n",
              "      <td>0</td>\n",
              "      <td>1</td>\n",
              "      <td>1</td>\n",
              "      <td>1</td>\n",
              "      <td>-0.316741</td>\n",
              "      <td>0.0199</td>\n",
              "      <td>-0.420843</td>\n",
              "      <td>-0.369115</td>\n",
              "      <td>-0.527542</td>\n",
              "      <td>0.134897</td>\n",
              "      <td>0.181252</td>\n",
              "      <td>-0.334476</td>\n",
              "    </tr>\n",
              "    <tr>\n",
              "      <th>2</th>\n",
              "      <td>400049985</td>\n",
              "      <td>1801750473</td>\n",
              "      <td>676</td>\n",
              "      <td>201603</td>\n",
              "      <td>41.0</td>\n",
              "      <td>C_CON NEGOCIO/F</td>\n",
              "      <td>(-0.001, 36.0]</td>\n",
              "      <td>nan</td>\n",
              "      <td>nan</td>\n",
              "      <td>(-0.001, 314.6]</td>\n",
              "      <td>(-0.001, 1.0]</td>\n",
              "      <td>nan</td>\n",
              "      <td>OMEGA</td>\n",
              "      <td>OMEGA_M</td>\n",
              "      <td>201603</td>\n",
              "      <td>14249.0</td>\n",
              "      <td>0</td>\n",
              "      <td>0</td>\n",
              "      <td>0</td>\n",
              "      <td>0</td>\n",
              "      <td>1</td>\n",
              "      <td>0</td>\n",
              "      <td>-0.316741</td>\n",
              "      <td>0.0199</td>\n",
              "      <td>-0.420843</td>\n",
              "      <td>-0.369115</td>\n",
              "      <td>-0.527542</td>\n",
              "      <td>0.134897</td>\n",
              "      <td>0.181252</td>\n",
              "      <td>-0.334476</td>\n",
              "    </tr>\n",
              "    <tr>\n",
              "      <th>3</th>\n",
              "      <td>400061461</td>\n",
              "      <td>1035867</td>\n",
              "      <td>673</td>\n",
              "      <td>201606</td>\n",
              "      <td>41.0</td>\n",
              "      <td>C_CON NEGOCIO/F</td>\n",
              "      <td>(-0.001, 36.0]</td>\n",
              "      <td>nan</td>\n",
              "      <td>nan</td>\n",
              "      <td>(-0.001, 314.6]</td>\n",
              "      <td>(-0.001, 1.0]</td>\n",
              "      <td>nan</td>\n",
              "      <td>OMEGA</td>\n",
              "      <td>OMEGA_M</td>\n",
              "      <td>201606</td>\n",
              "      <td>8927.0</td>\n",
              "      <td>0</td>\n",
              "      <td>0</td>\n",
              "      <td>0</td>\n",
              "      <td>0</td>\n",
              "      <td>1</td>\n",
              "      <td>0</td>\n",
              "      <td>-0.316741</td>\n",
              "      <td>0.0199</td>\n",
              "      <td>-0.420843</td>\n",
              "      <td>-0.369115</td>\n",
              "      <td>-0.527542</td>\n",
              "      <td>0.134897</td>\n",
              "      <td>0.181252</td>\n",
              "      <td>-0.334476</td>\n",
              "    </tr>\n",
              "    <tr>\n",
              "      <th>4</th>\n",
              "      <td>700002213</td>\n",
              "      <td>1800236572</td>\n",
              "      <td>657</td>\n",
              "      <td>201704</td>\n",
              "      <td>41.0</td>\n",
              "      <td>C_CON NEGOCIO/F</td>\n",
              "      <td>(-0.001, 36.0]</td>\n",
              "      <td>nan</td>\n",
              "      <td>nan</td>\n",
              "      <td>(-0.001, 314.6]</td>\n",
              "      <td>(-0.001, 1.0]</td>\n",
              "      <td>nan</td>\n",
              "      <td>OMEGA</td>\n",
              "      <td>OMEGA_M</td>\n",
              "      <td>201705</td>\n",
              "      <td>11797.0</td>\n",
              "      <td>0</td>\n",
              "      <td>0</td>\n",
              "      <td>0</td>\n",
              "      <td>0</td>\n",
              "      <td>1</td>\n",
              "      <td>0</td>\n",
              "      <td>-0.316741</td>\n",
              "      <td>0.0199</td>\n",
              "      <td>-0.420843</td>\n",
              "      <td>-0.369115</td>\n",
              "      <td>-0.527542</td>\n",
              "      <td>0.134897</td>\n",
              "      <td>0.181252</td>\n",
              "      <td>-0.334476</td>\n",
              "    </tr>\n",
              "    <tr>\n",
              "      <th>5</th>\n",
              "      <td>400089531</td>\n",
              "      <td>1800302711</td>\n",
              "      <td>675</td>\n",
              "      <td>201701</td>\n",
              "      <td>41.0</td>\n",
              "      <td>C_CON NEGOCIO/F</td>\n",
              "      <td>(-0.001, 36.0]</td>\n",
              "      <td>nan</td>\n",
              "      <td>nan</td>\n",
              "      <td>(-0.001, 314.6]</td>\n",
              "      <td>(-0.001, 1.0]</td>\n",
              "      <td>nan</td>\n",
              "      <td>OMEGA</td>\n",
              "      <td>OMEGA_M</td>\n",
              "      <td>201702</td>\n",
              "      <td>5000.0</td>\n",
              "      <td>0</td>\n",
              "      <td>0</td>\n",
              "      <td>0</td>\n",
              "      <td>0</td>\n",
              "      <td>1</td>\n",
              "      <td>0</td>\n",
              "      <td>-0.316741</td>\n",
              "      <td>0.0199</td>\n",
              "      <td>-0.420843</td>\n",
              "      <td>-0.369115</td>\n",
              "      <td>-0.527542</td>\n",
              "      <td>0.134897</td>\n",
              "      <td>0.181252</td>\n",
              "      <td>-0.334476</td>\n",
              "    </tr>\n",
              "    <tr>\n",
              "      <th>6</th>\n",
              "      <td>400085662</td>\n",
              "      <td>1800933210</td>\n",
              "      <td>673</td>\n",
              "      <td>201612</td>\n",
              "      <td>41.0</td>\n",
              "      <td>C_CON NEGOCIO/F</td>\n",
              "      <td>(-0.001, 36.0]</td>\n",
              "      <td>nan</td>\n",
              "      <td>nan</td>\n",
              "      <td>(-0.001, 314.6]</td>\n",
              "      <td>(-0.001, 1.0]</td>\n",
              "      <td>nan</td>\n",
              "      <td>OMEGA</td>\n",
              "      <td>OMEGA_M</td>\n",
              "      <td>201612</td>\n",
              "      <td>21680.0</td>\n",
              "      <td>0</td>\n",
              "      <td>0</td>\n",
              "      <td>0</td>\n",
              "      <td>0</td>\n",
              "      <td>1</td>\n",
              "      <td>0</td>\n",
              "      <td>-0.316741</td>\n",
              "      <td>0.0199</td>\n",
              "      <td>-0.420843</td>\n",
              "      <td>-0.369115</td>\n",
              "      <td>-0.527542</td>\n",
              "      <td>0.134897</td>\n",
              "      <td>0.181252</td>\n",
              "      <td>-0.334476</td>\n",
              "    </tr>\n",
              "    <tr>\n",
              "      <th>7</th>\n",
              "      <td>400092126</td>\n",
              "      <td>1802399445</td>\n",
              "      <td>679</td>\n",
              "      <td>201702</td>\n",
              "      <td>41.0</td>\n",
              "      <td>C_CON NEGOCIO/F</td>\n",
              "      <td>(-0.001, 36.0]</td>\n",
              "      <td>nan</td>\n",
              "      <td>nan</td>\n",
              "      <td>(-0.001, 314.6]</td>\n",
              "      <td>(-0.001, 1.0]</td>\n",
              "      <td>nan</td>\n",
              "      <td>OMEGA</td>\n",
              "      <td>OMEGA_M</td>\n",
              "      <td>201702</td>\n",
              "      <td>11152.0</td>\n",
              "      <td>0</td>\n",
              "      <td>0</td>\n",
              "      <td>0</td>\n",
              "      <td>0</td>\n",
              "      <td>1</td>\n",
              "      <td>0</td>\n",
              "      <td>-0.316741</td>\n",
              "      <td>0.0199</td>\n",
              "      <td>-0.420843</td>\n",
              "      <td>-0.369115</td>\n",
              "      <td>-0.527542</td>\n",
              "      <td>0.134897</td>\n",
              "      <td>0.181252</td>\n",
              "      <td>-0.334476</td>\n",
              "    </tr>\n",
              "    <tr>\n",
              "      <th>8</th>\n",
              "      <td>700035985</td>\n",
              "      <td>2606537</td>\n",
              "      <td>677</td>\n",
              "      <td>201710</td>\n",
              "      <td>41.0</td>\n",
              "      <td>C_CON NEGOCIO/F</td>\n",
              "      <td>(-0.001, 36.0]</td>\n",
              "      <td>nan</td>\n",
              "      <td>nan</td>\n",
              "      <td>(-0.001, 314.6]</td>\n",
              "      <td>(-0.001, 1.0]</td>\n",
              "      <td>nan</td>\n",
              "      <td>OMEGA</td>\n",
              "      <td>OMEGA_M</td>\n",
              "      <td>201710</td>\n",
              "      <td>18069.0</td>\n",
              "      <td>0</td>\n",
              "      <td>0</td>\n",
              "      <td>0</td>\n",
              "      <td>0</td>\n",
              "      <td>1</td>\n",
              "      <td>0</td>\n",
              "      <td>-0.316741</td>\n",
              "      <td>0.0199</td>\n",
              "      <td>-0.420843</td>\n",
              "      <td>-0.369115</td>\n",
              "      <td>-0.527542</td>\n",
              "      <td>0.134897</td>\n",
              "      <td>0.181252</td>\n",
              "      <td>-0.334476</td>\n",
              "    </tr>\n",
              "    <tr>\n",
              "      <th>9</th>\n",
              "      <td>700039922</td>\n",
              "      <td>2880171</td>\n",
              "      <td>657</td>\n",
              "      <td>201710</td>\n",
              "      <td>41.0</td>\n",
              "      <td>C_CON NEGOCIO/F</td>\n",
              "      <td>(-0.001, 36.0]</td>\n",
              "      <td>nan</td>\n",
              "      <td>nan</td>\n",
              "      <td>(-0.001, 314.6]</td>\n",
              "      <td>(-0.001, 1.0]</td>\n",
              "      <td>nan</td>\n",
              "      <td>OMEGA</td>\n",
              "      <td>OMEGA_M</td>\n",
              "      <td>201710</td>\n",
              "      <td>10247.0</td>\n",
              "      <td>0</td>\n",
              "      <td>1</td>\n",
              "      <td>1</td>\n",
              "      <td>1</td>\n",
              "      <td>1</td>\n",
              "      <td>1</td>\n",
              "      <td>-0.316741</td>\n",
              "      <td>0.0199</td>\n",
              "      <td>-0.420843</td>\n",
              "      <td>-0.369115</td>\n",
              "      <td>-0.527542</td>\n",
              "      <td>0.134897</td>\n",
              "      <td>0.181252</td>\n",
              "      <td>-0.334476</td>\n",
              "    </tr>\n",
              "  </tbody>\n",
              "</table>\n",
              "</div>"
            ],
            "text/plain": [
              "    CONTRATO  NUM_CLIENTE  ...  W_MAX_MOP_6M  W_PORC_UTILIZ_ENTRE_CUENT_REV_AB\n",
              "0  400047237      2189555  ...      0.181252                         -0.334476\n",
              "1  400044595      1137075  ...      0.181252                         -0.334476\n",
              "2  400049985   1801750473  ...      0.181252                         -0.334476\n",
              "3  400061461      1035867  ...      0.181252                         -0.334476\n",
              "4  700002213   1800236572  ...      0.181252                         -0.334476\n",
              "5  400089531   1800302711  ...      0.181252                         -0.334476\n",
              "6  400085662   1800933210  ...      0.181252                         -0.334476\n",
              "7  400092126   1802399445  ...      0.181252                         -0.334476\n",
              "8  700035985      2606537  ...      0.181252                         -0.334476\n",
              "9  700039922      2880171  ...      0.181252                         -0.334476\n",
              "\n",
              "[10 rows x 30 columns]"
            ]
          },
          "metadata": {
            "tags": []
          },
          "execution_count": 15
        }
      ]
    },
    {
      "cell_type": "code",
      "metadata": {
        "id": "fHLaqzoPAIII",
        "colab_type": "code",
        "colab": {
          "base_uri": "https://localhost:8080/",
          "height": 33
        },
        "outputId": "fdcce39a-2f98-4910-f199-f9036c5b7891"
      },
      "source": [
        "######## iv \n",
        "iv_CUENTA_MAS_ANTIGUA_BANCO = df2[['CUENTA_MAS_ANTIGUA_BANCO','TARGET']].copy()\n",
        "iv_CUENTA_MAS_ANTIGUA_BANCO['n'] = 1 \n",
        "iv_CUENTA_MAS_ANTIGUA_BANCO = iv_CUENTA_MAS_ANTIGUA_BANCO.pivot_table(index= 'CUENTA_MAS_ANTIGUA_BANCO' , columns = 'TARGET' , aggfunc = 'count')\n",
        "iv_CUENTA_MAS_ANTIGUA_BANCO.columns = iv_CUENTA_MAS_ANTIGUA_BANCO.columns.droplevel()\n",
        "iv_CUENTA_MAS_ANTIGUA_BANCO.reset_index(inplace=True)\n",
        "\n",
        "iv_CUENTA_MAS_ANTIGUA_BANCO[0] =  iv_CUENTA_MAS_ANTIGUA_BANCO[0]/iv_CUENTA_MAS_ANTIGUA_BANCO[0].sum()\n",
        "iv_CUENTA_MAS_ANTIGUA_BANCO[1] =  iv_CUENTA_MAS_ANTIGUA_BANCO[1]/iv_CUENTA_MAS_ANTIGUA_BANCO[1].sum()\n",
        "\n",
        "iv_CUENTA_MAS_ANTIGUA_BANCO['iv_aux'] = (np.log(iv_CUENTA_MAS_ANTIGUA_BANCO[0]/iv_CUENTA_MAS_ANTIGUA_BANCO[1]))*(iv_CUENTA_MAS_ANTIGUA_BANCO[0]-iv_CUENTA_MAS_ANTIGUA_BANCO[1])\n",
        "\n",
        "iv = iv_CUENTA_MAS_ANTIGUA_BANCO['iv_aux'].sum()\n",
        "\n",
        "print('iv CUENTA_MAS_ANTIGUA_BANCO: %.6f'%iv)"
      ],
      "execution_count": 177,
      "outputs": [
        {
          "output_type": "stream",
          "text": [
            "iv CUENTA_MAS_ANTIGUA_BANCO: 0.120300\n"
          ],
          "name": "stdout"
        }
      ]
    },
    {
      "cell_type": "code",
      "metadata": {
        "id": "4L9GotaEAIDZ",
        "colab_type": "code",
        "colab": {}
      },
      "source": [
        "varw = [v for v in df2.columns if v[:2]=='W_'] "
      ],
      "execution_count": 0,
      "outputs": []
    },
    {
      "cell_type": "code",
      "metadata": {
        "id": "97vcYB92AH5K",
        "colab_type": "code",
        "colab": {}
      },
      "source": [
        "x , y = varw  , 'TARGET'"
      ],
      "execution_count": 0,
      "outputs": []
    },
    {
      "cell_type": "code",
      "metadata": {
        "id": "7MAzmdbDAHZS",
        "colab_type": "code",
        "colab": {}
      },
      "source": [
        "x, y  = df2[x]  , df2[y]"
      ],
      "execution_count": 0,
      "outputs": []
    },
    {
      "cell_type": "code",
      "metadata": {
        "id": "k4m9ImefI5um",
        "colab_type": "code",
        "colab": {}
      },
      "source": [
        "##### regresión prueba\n",
        "test1 = LogisticRegression()"
      ],
      "execution_count": 0,
      "outputs": []
    },
    {
      "cell_type": "code",
      "metadata": {
        "id": "b6SW7vm9I5xn",
        "colab_type": "code",
        "colab": {
          "base_uri": "https://localhost:8080/",
          "height": 163
        },
        "outputId": "dafe6615-6e6e-4969-97ab-fc831035e1fc"
      },
      "source": [
        "%%time\n",
        "test1.fit(x,y)"
      ],
      "execution_count": 183,
      "outputs": [
        {
          "output_type": "stream",
          "text": [
            "CPU times: user 61.1 ms, sys: 1.95 ms, total: 63.1 ms\n",
            "Wall time: 64 ms\n"
          ],
          "name": "stdout"
        },
        {
          "output_type": "stream",
          "text": [
            "/usr/local/lib/python3.6/dist-packages/sklearn/linear_model/logistic.py:432: FutureWarning: Default solver will be changed to 'lbfgs' in 0.22. Specify a solver to silence this warning.\n",
            "  FutureWarning)\n"
          ],
          "name": "stderr"
        },
        {
          "output_type": "execute_result",
          "data": {
            "text/plain": [
              "LogisticRegression(C=1.0, class_weight=None, dual=False, fit_intercept=True,\n",
              "                   intercept_scaling=1, l1_ratio=None, max_iter=100,\n",
              "                   multi_class='warn', n_jobs=None, penalty='l2',\n",
              "                   random_state=None, solver='warn', tol=0.0001, verbose=0,\n",
              "                   warm_start=False)"
            ]
          },
          "metadata": {
            "tags": []
          },
          "execution_count": 183
        }
      ]
    },
    {
      "cell_type": "code",
      "metadata": {
        "colab_type": "code",
        "id": "uckYBIEQLmWB",
        "colab": {}
      },
      "source": [
        "###### parametros \n",
        "betas = list(test1.coef_[0])\n",
        "alpha = test1.intercept_[0]\n"
      ],
      "execution_count": 0,
      "outputs": []
    },
    {
      "cell_type": "code",
      "metadata": {
        "id": "uDDxyLZxPYCF",
        "colab_type": "code",
        "colab": {}
      },
      "source": [
        ""
      ],
      "execution_count": 0,
      "outputs": []
    },
    {
      "cell_type": "code",
      "metadata": {
        "id": "tlhs1DZGJplW",
        "colab_type": "code",
        "colab": {}
      },
      "source": [
        "###### por definir\n",
        "PDO = 100\n",
        "base_odds = 4 # 50 se vuelve mas negativo\n",
        "base_score = 829\n",
        "\n",
        "factor = PDO/np.log(2)\n",
        "offset = base_score-factor*np.log(base_odds)\n",
        "n = len(varw)"
      ],
      "execution_count": 0,
      "outputs": []
    },
    {
      "cell_type": "code",
      "metadata": {
        "id": "cg8uo8PlMHeh",
        "colab_type": "code",
        "colab": {
          "base_uri": "https://localhost:8080/",
          "height": 147
        },
        "outputId": "708f050f-6f91-4c4c-e3fd-fda9cc492c68"
      },
      "source": [
        "##### score\n",
        "for k,v in enumerate(varw):\n",
        "  print('%d %s'%(k,v))\n",
        "  df2['score_%s'%v[2:]] = ((df2[v]*betas[k]+alpha/n)*factor+offset/n).astype(int)"
      ],
      "execution_count": 200,
      "outputs": [
        {
          "output_type": "stream",
          "text": [
            "0 W_OCPUACION_SEXO\n",
            "1 W_CUENTA_MAS_ANTIGUA_BANCO\n",
            "2 W_MAX_MOP_6M_AB_TDC\n",
            "3 W_CUENTA_MAS_ANTIGUA_TDC\n",
            "4 W_SALDO_VENCIDO_ABIERTAS\n",
            "5 W_MAX_MOP_6M\n",
            "6 W_PORC_UTILIZ_ENTRE_CUENT_REV_AB\n",
            "7 W_EDAD\n"
          ],
          "name": "stdout"
        }
      ]
    },
    {
      "cell_type": "code",
      "metadata": {
        "id": "bat1bGUXMHhk",
        "colab_type": "code",
        "colab": {
          "base_uri": "https://localhost:8080/",
          "height": 292
        },
        "outputId": "3acf773b-cbdb-4492-9549-72741db792cb"
      },
      "source": [
        "df2.head()"
      ],
      "execution_count": 187,
      "outputs": [
        {
          "output_type": "execute_result",
          "data": {
            "text/html": [
              "<div>\n",
              "<style scoped>\n",
              "    .dataframe tbody tr th:only-of-type {\n",
              "        vertical-align: middle;\n",
              "    }\n",
              "\n",
              "    .dataframe tbody tr th {\n",
              "        vertical-align: top;\n",
              "    }\n",
              "\n",
              "    .dataframe thead th {\n",
              "        text-align: right;\n",
              "    }\n",
              "</style>\n",
              "<table border=\"1\" class=\"dataframe\">\n",
              "  <thead>\n",
              "    <tr style=\"text-align: right;\">\n",
              "      <th></th>\n",
              "      <th>CONTRATO</th>\n",
              "      <th>NUM_CLIENTE</th>\n",
              "      <th>BC_SCORE</th>\n",
              "      <th>COSECHA</th>\n",
              "      <th>EDAD</th>\n",
              "      <th>OCPUACION_SEXO</th>\n",
              "      <th>CUENTA_MAS_ANTIGUA_BANCO</th>\n",
              "      <th>MAX_MOP_6M_AB_TDC</th>\n",
              "      <th>CUENTA_MAS_ANTIGUA_TDC</th>\n",
              "      <th>SALDO_VENCIDO_ABIERTAS</th>\n",
              "      <th>MAX_MOP_6M</th>\n",
              "      <th>PORC_UTILIZ_ENTRE_CUENT_REV_AB</th>\n",
              "      <th>PRODUCTO</th>\n",
              "      <th>SUB_PRODUCTO</th>\n",
              "      <th>VINTAGE</th>\n",
              "      <th>AMOUNT</th>\n",
              "      <th>FLAG_1PV_3</th>\n",
              "      <th>FLAG_2PV_6</th>\n",
              "      <th>FLAG_3PV_12</th>\n",
              "      <th>FLAG_3PV_18</th>\n",
              "      <th>FLAG_DESEMBOLSADO</th>\n",
              "      <th>TARGET</th>\n",
              "      <th>W_OCPUACION_SEXO</th>\n",
              "      <th>W_CUENTA_MAS_ANTIGUA_BANCO</th>\n",
              "      <th>W_MAX_MOP_6M_AB_TDC</th>\n",
              "      <th>W_CUENTA_MAS_ANTIGUA_TDC</th>\n",
              "      <th>W_SALDO_VENCIDO_ABIERTAS</th>\n",
              "      <th>W_MAX_MOP_6M</th>\n",
              "      <th>W_PORC_UTILIZ_ENTRE_CUENT_REV_AB</th>\n",
              "      <th>W_EDAD</th>\n",
              "      <th>score_OCPUACION_SEXO</th>\n",
              "      <th>score_CUENTA_MAS_ANTIGUA_BANCO</th>\n",
              "      <th>score_MAX_MOP_6M_AB_TDC</th>\n",
              "      <th>score_CUENTA_MAS_ANTIGUA_TDC</th>\n",
              "      <th>score_SALDO_VENCIDO_ABIERTAS</th>\n",
              "      <th>score_MAX_MOP_6M</th>\n",
              "      <th>score_PORC_UTILIZ_ENTRE_CUENT_REV_AB</th>\n",
              "      <th>score_EDAD</th>\n",
              "    </tr>\n",
              "  </thead>\n",
              "  <tbody>\n",
              "    <tr>\n",
              "      <th>0</th>\n",
              "      <td>400047237</td>\n",
              "      <td>2189555</td>\n",
              "      <td>662</td>\n",
              "      <td>201602</td>\n",
              "      <td>(38.0, 44.0]</td>\n",
              "      <td>C_CON NEGOCIO/F</td>\n",
              "      <td>(-0.001, 36.0]</td>\n",
              "      <td>nan</td>\n",
              "      <td>nan</td>\n",
              "      <td>(-0.001, 314.6]</td>\n",
              "      <td>(-0.001, 1.0]</td>\n",
              "      <td>nan</td>\n",
              "      <td>OMEGA</td>\n",
              "      <td>OMEGA_M</td>\n",
              "      <td>201602</td>\n",
              "      <td>13233.0</td>\n",
              "      <td>0</td>\n",
              "      <td>0</td>\n",
              "      <td>0</td>\n",
              "      <td>0</td>\n",
              "      <td>1</td>\n",
              "      <td>0</td>\n",
              "      <td>0.0199</td>\n",
              "      <td>-0.420843</td>\n",
              "      <td>-0.369115</td>\n",
              "      <td>-0.527542</td>\n",
              "      <td>0.134897</td>\n",
              "      <td>0.181252</td>\n",
              "      <td>-0.334476</td>\n",
              "      <td>-0.330461</td>\n",
              "      <td>7</td>\n",
              "      <td>38</td>\n",
              "      <td>21</td>\n",
              "      <td>34</td>\n",
              "      <td>0</td>\n",
              "      <td>-11</td>\n",
              "      <td>31</td>\n",
              "      <td>48</td>\n",
              "    </tr>\n",
              "    <tr>\n",
              "      <th>1</th>\n",
              "      <td>400044595</td>\n",
              "      <td>1137075</td>\n",
              "      <td>700</td>\n",
              "      <td>201601</td>\n",
              "      <td>(38.0, 44.0]</td>\n",
              "      <td>C_CON NEGOCIO/F</td>\n",
              "      <td>(-0.001, 36.0]</td>\n",
              "      <td>nan</td>\n",
              "      <td>nan</td>\n",
              "      <td>(-0.001, 314.6]</td>\n",
              "      <td>(-0.001, 1.0]</td>\n",
              "      <td>nan</td>\n",
              "      <td>OMEGA</td>\n",
              "      <td>OMEGA_M</td>\n",
              "      <td>201601</td>\n",
              "      <td>18604.0</td>\n",
              "      <td>0</td>\n",
              "      <td>0</td>\n",
              "      <td>0</td>\n",
              "      <td>1</td>\n",
              "      <td>1</td>\n",
              "      <td>1</td>\n",
              "      <td>0.0199</td>\n",
              "      <td>-0.420843</td>\n",
              "      <td>-0.369115</td>\n",
              "      <td>-0.527542</td>\n",
              "      <td>0.134897</td>\n",
              "      <td>0.181252</td>\n",
              "      <td>-0.334476</td>\n",
              "      <td>-0.330461</td>\n",
              "      <td>7</td>\n",
              "      <td>38</td>\n",
              "      <td>21</td>\n",
              "      <td>34</td>\n",
              "      <td>0</td>\n",
              "      <td>-11</td>\n",
              "      <td>31</td>\n",
              "      <td>48</td>\n",
              "    </tr>\n",
              "    <tr>\n",
              "      <th>2</th>\n",
              "      <td>400047408</td>\n",
              "      <td>854294</td>\n",
              "      <td>673</td>\n",
              "      <td>201602</td>\n",
              "      <td>(38.0, 44.0]</td>\n",
              "      <td>C_CON NEGOCIO/F</td>\n",
              "      <td>(-0.001, 36.0]</td>\n",
              "      <td>nan</td>\n",
              "      <td>nan</td>\n",
              "      <td>(-0.001, 314.6]</td>\n",
              "      <td>(-0.001, 1.0]</td>\n",
              "      <td>nan</td>\n",
              "      <td>OMEGA</td>\n",
              "      <td>OMEGA_M</td>\n",
              "      <td>201602</td>\n",
              "      <td>26050.0</td>\n",
              "      <td>0</td>\n",
              "      <td>0</td>\n",
              "      <td>0</td>\n",
              "      <td>0</td>\n",
              "      <td>1</td>\n",
              "      <td>0</td>\n",
              "      <td>0.0199</td>\n",
              "      <td>-0.420843</td>\n",
              "      <td>-0.369115</td>\n",
              "      <td>-0.527542</td>\n",
              "      <td>0.134897</td>\n",
              "      <td>0.181252</td>\n",
              "      <td>-0.334476</td>\n",
              "      <td>-0.330461</td>\n",
              "      <td>7</td>\n",
              "      <td>38</td>\n",
              "      <td>21</td>\n",
              "      <td>34</td>\n",
              "      <td>0</td>\n",
              "      <td>-11</td>\n",
              "      <td>31</td>\n",
              "      <td>48</td>\n",
              "    </tr>\n",
              "    <tr>\n",
              "      <th>3</th>\n",
              "      <td>400045097</td>\n",
              "      <td>973632</td>\n",
              "      <td>684</td>\n",
              "      <td>201601</td>\n",
              "      <td>(38.0, 44.0]</td>\n",
              "      <td>C_CON NEGOCIO/F</td>\n",
              "      <td>(-0.001, 36.0]</td>\n",
              "      <td>nan</td>\n",
              "      <td>nan</td>\n",
              "      <td>(-0.001, 314.6]</td>\n",
              "      <td>(-0.001, 1.0]</td>\n",
              "      <td>nan</td>\n",
              "      <td>OMEGA</td>\n",
              "      <td>OMEGA_M</td>\n",
              "      <td>201601</td>\n",
              "      <td>15827.0</td>\n",
              "      <td>0</td>\n",
              "      <td>0</td>\n",
              "      <td>0</td>\n",
              "      <td>0</td>\n",
              "      <td>1</td>\n",
              "      <td>0</td>\n",
              "      <td>0.0199</td>\n",
              "      <td>-0.420843</td>\n",
              "      <td>-0.369115</td>\n",
              "      <td>-0.527542</td>\n",
              "      <td>0.134897</td>\n",
              "      <td>0.181252</td>\n",
              "      <td>-0.334476</td>\n",
              "      <td>-0.330461</td>\n",
              "      <td>7</td>\n",
              "      <td>38</td>\n",
              "      <td>21</td>\n",
              "      <td>34</td>\n",
              "      <td>0</td>\n",
              "      <td>-11</td>\n",
              "      <td>31</td>\n",
              "      <td>48</td>\n",
              "    </tr>\n",
              "    <tr>\n",
              "      <th>4</th>\n",
              "      <td>400049985</td>\n",
              "      <td>1801750473</td>\n",
              "      <td>676</td>\n",
              "      <td>201603</td>\n",
              "      <td>(38.0, 44.0]</td>\n",
              "      <td>C_CON NEGOCIO/F</td>\n",
              "      <td>(-0.001, 36.0]</td>\n",
              "      <td>nan</td>\n",
              "      <td>nan</td>\n",
              "      <td>(-0.001, 314.6]</td>\n",
              "      <td>(-0.001, 1.0]</td>\n",
              "      <td>nan</td>\n",
              "      <td>OMEGA</td>\n",
              "      <td>OMEGA_M</td>\n",
              "      <td>201603</td>\n",
              "      <td>14249.0</td>\n",
              "      <td>0</td>\n",
              "      <td>0</td>\n",
              "      <td>0</td>\n",
              "      <td>0</td>\n",
              "      <td>1</td>\n",
              "      <td>0</td>\n",
              "      <td>0.0199</td>\n",
              "      <td>-0.420843</td>\n",
              "      <td>-0.369115</td>\n",
              "      <td>-0.527542</td>\n",
              "      <td>0.134897</td>\n",
              "      <td>0.181252</td>\n",
              "      <td>-0.334476</td>\n",
              "      <td>-0.330461</td>\n",
              "      <td>7</td>\n",
              "      <td>38</td>\n",
              "      <td>21</td>\n",
              "      <td>34</td>\n",
              "      <td>0</td>\n",
              "      <td>-11</td>\n",
              "      <td>31</td>\n",
              "      <td>48</td>\n",
              "    </tr>\n",
              "  </tbody>\n",
              "</table>\n",
              "</div>"
            ],
            "text/plain": [
              "    CONTRATO  NUM_CLIENTE  ...  score_PORC_UTILIZ_ENTRE_CUENT_REV_AB  score_EDAD\n",
              "0  400047237      2189555  ...                                    31          48\n",
              "1  400044595      1137075  ...                                    31          48\n",
              "2  400047408       854294  ...                                    31          48\n",
              "3  400045097       973632  ...                                    31          48\n",
              "4  400049985   1801750473  ...                                    31          48\n",
              "\n",
              "[5 rows x 38 columns]"
            ]
          },
          "metadata": {
            "tags": []
          },
          "execution_count": 187
        }
      ]
    },
    {
      "cell_type": "code",
      "metadata": {
        "id": "FeZ8SqroONNi",
        "colab_type": "code",
        "colab": {
          "base_uri": "https://localhost:8080/",
          "height": 281
        },
        "outputId": "2d83dda3-8618-4e70-dd29-05042898b180"
      },
      "source": [
        "##### distribución de scores \n",
        "\n",
        "var_scr = [v for v in df2.columns if v[:6]=='score_']\n",
        "var_scr\n",
        "\n",
        "df2['total_score'] = df2[var_scr].sum(axis=1)\n",
        "df2['total_score'].hist()"
      ],
      "execution_count": 201,
      "outputs": [
        {
          "output_type": "execute_result",
          "data": {
            "text/plain": [
              "<matplotlib.axes._subplots.AxesSubplot at 0x7f69c955df60>"
            ]
          },
          "metadata": {
            "tags": []
          },
          "execution_count": 201
        },
        {
          "output_type": "display_data",
          "data": {
            "image/png": "[encoded data removed]",
            "text/plain": [
              "<Figure size 432x288 with 1 Axes>"
            ]
          },
          "metadata": {
            "tags": []
          }
        }
      ]
    },
    {
      "cell_type": "code",
      "metadata": {
        "id": "mX_ytxoMO8_j",
        "colab_type": "code",
        "colab": {
          "base_uri": "https://localhost:8080/",
          "height": 163
        },
        "outputId": "530d9c98-8a84-4e0d-8b09-480dc31e2e42"
      },
      "source": [
        "df2.total_score.describe()"
      ],
      "execution_count": 203,
      "outputs": [
        {
          "output_type": "execute_result",
          "data": {
            "text/plain": [
              "count    36886.000000\n",
              "mean       417.793797\n",
              "std        105.266303\n",
              "min        101.000000\n",
              "25%        350.000000\n",
              "50%        423.000000\n",
              "75%        491.000000\n",
              "max        720.000000\n",
              "Name: total_score, dtype: float64"
            ]
          },
          "metadata": {
            "tags": []
          },
          "execution_count": 203
        }
      ]
    },
    {
      "cell_type": "code",
      "metadata": {
        "id": "RW75Gj2nP_yz",
        "colab_type": "code",
        "colab": {
          "base_uri": "https://localhost:8080/",
          "height": 992
        },
        "outputId": "f4ffbb6e-7d0a-4866-9db9-33b84f70097a"
      },
      "source": [
        "for v in varw:    \n",
        "    print(df2[['score_'+v[2:],v[2:]]].groupby(v[2:]).max())"
      ],
      "execution_count": 205,
      "outputs": [
        {
          "output_type": "stream",
          "text": [
            "                           score_OCPUACION_SEXO\n",
            "OCPUACION_SEXO                                 \n",
            "A_CON NEGOCIO/M                             100\n",
            "B_EMPLEADO O ASALARIADO/M                    62\n",
            "C_CON NEGOCIO/F                              53\n",
            "D_EMPLEADO O ASALARIADO/F                    25\n",
            "E_JUBILADO/M                                -25\n",
            "F_JUBILADO/F                                -49\n",
            "                          score_CUENTA_MAS_ANTIGUA_BANCO\n",
            "CUENTA_MAS_ANTIGUA_BANCO                                \n",
            "(-0.001, 36.0]                                        83\n",
            "(104.0, 131.0]                                        30\n",
            "(131.0, 499.0]                                        13\n",
            "(36.0, 59.0]                                          64\n",
            "(59.0, 76.0]                                          64\n",
            "(76.0, 104.0]                                         41\n",
            "nan                                                   77\n",
            "                   score_MAX_MOP_6M_AB_TDC\n",
            "MAX_MOP_6M_AB_TDC                         \n",
            "(-0.001, 1.0]                           43\n",
            "(1.0, 2.0]                              53\n",
            "(2.0, 9.0]                              61\n",
            "nan                                     66\n",
            "                        score_CUENTA_MAS_ANTIGUA_TDC\n",
            "CUENTA_MAS_ANTIGUA_TDC                              \n",
            "(-0.001, 44.0]                                    65\n",
            "(115.0, 148.0]                                    45\n",
            "(148.0, 612.0]                                    24\n",
            "(44.0, 78.0]                                      51\n",
            "(78.0, 115.0]                                     41\n",
            "nan                                               80\n",
            "                        score_SALDO_VENCIDO_ABIERTAS\n",
            "SALDO_VENCIDO_ABIERTAS                              \n",
            "(-0.001, 314.6]                                   45\n",
            "(314.6, 463253.0]                                 86\n",
            "nan                                               66\n",
            "               score_MAX_MOP_6M\n",
            "MAX_MOP_6M                     \n",
            "(-0.001, 1.0]                33\n",
            "(1.0, 2.0]                   59\n",
            "(2.0, 5.0]                   98\n",
            "(5.0, 9.0]                  108\n",
            "nan                          59\n",
            "                                score_PORC_UTILIZ_ENTRE_CUENT_REV_AB\n",
            "PORC_UTILIZ_ENTRE_CUENT_REV_AB                                      \n",
            "(-0.001, 0.0176]                                                  45\n",
            "(0.0176, 0.101]                                                    5\n",
            "(0.101, 0.216]                                                    36\n",
            "(0.216, 0.469]                                                    45\n",
            "(0.469, 140514.0]                                                 61\n",
            "nan                                                               76\n",
            "                score_EDAD\n",
            "EDAD                      \n",
            "(19.999, 38.0]         121\n",
            "(38.0, 44.0]            94\n",
            "(44.0, 49.0]            70\n",
            "(49.0, 53.0]            37\n",
            "(53.0, 57.0]            27\n",
            "(57.0, 62.0]            -2\n",
            "(62.0, 86.0]           -13\n"
          ],
          "name": "stdout"
        }
      ]
    },
    {
      "cell_type": "code",
      "metadata": {
        "id": "nUfK8N-JP_8K",
        "colab_type": "code",
        "colab": {
          "base_uri": "https://localhost:8080/",
          "height": 992
        },
        "outputId": "654f710a-28e7-4486-da77-402c551c80d4"
      },
      "source": [
        "for v in varw:    \n",
        "    print(df2[['score_'+v[2:],v[2:]]].groupby(v[2:]).min())"
      ],
      "execution_count": 206,
      "outputs": [
        {
          "output_type": "stream",
          "text": [
            "                           score_OCPUACION_SEXO\n",
            "OCPUACION_SEXO                                 \n",
            "A_CON NEGOCIO/M                             100\n",
            "B_EMPLEADO O ASALARIADO/M                    62\n",
            "C_CON NEGOCIO/F                              53\n",
            "D_EMPLEADO O ASALARIADO/F                    25\n",
            "E_JUBILADO/M                                -25\n",
            "F_JUBILADO/F                                -49\n",
            "                          score_CUENTA_MAS_ANTIGUA_BANCO\n",
            "CUENTA_MAS_ANTIGUA_BANCO                                \n",
            "(-0.001, 36.0]                                        83\n",
            "(104.0, 131.0]                                        30\n",
            "(131.0, 499.0]                                        13\n",
            "(36.0, 59.0]                                          64\n",
            "(59.0, 76.0]                                          64\n",
            "(76.0, 104.0]                                         41\n",
            "nan                                                   77\n",
            "                   score_MAX_MOP_6M_AB_TDC\n",
            "MAX_MOP_6M_AB_TDC                         \n",
            "(-0.001, 1.0]                           43\n",
            "(1.0, 2.0]                              53\n",
            "(2.0, 9.0]                              61\n",
            "nan                                     66\n",
            "                        score_CUENTA_MAS_ANTIGUA_TDC\n",
            "CUENTA_MAS_ANTIGUA_TDC                              \n",
            "(-0.001, 44.0]                                    65\n",
            "(115.0, 148.0]                                    45\n",
            "(148.0, 612.0]                                    24\n",
            "(44.0, 78.0]                                      51\n",
            "(78.0, 115.0]                                     41\n",
            "nan                                               80\n",
            "                        score_SALDO_VENCIDO_ABIERTAS\n",
            "SALDO_VENCIDO_ABIERTAS                              \n",
            "(-0.001, 314.6]                                   45\n",
            "(314.6, 463253.0]                                 86\n",
            "nan                                               66\n",
            "               score_MAX_MOP_6M\n",
            "MAX_MOP_6M                     \n",
            "(-0.001, 1.0]                33\n",
            "(1.0, 2.0]                   59\n",
            "(2.0, 5.0]                   98\n",
            "(5.0, 9.0]                  108\n",
            "nan                          59\n",
            "                                score_PORC_UTILIZ_ENTRE_CUENT_REV_AB\n",
            "PORC_UTILIZ_ENTRE_CUENT_REV_AB                                      \n",
            "(-0.001, 0.0176]                                                  45\n",
            "(0.0176, 0.101]                                                    5\n",
            "(0.101, 0.216]                                                    36\n",
            "(0.216, 0.469]                                                    45\n",
            "(0.469, 140514.0]                                                 61\n",
            "nan                                                               76\n",
            "                score_EDAD\n",
            "EDAD                      \n",
            "(19.999, 38.0]         121\n",
            "(38.0, 44.0]            94\n",
            "(44.0, 49.0]            70\n",
            "(49.0, 53.0]            37\n",
            "(53.0, 57.0]            27\n",
            "(57.0, 62.0]            -2\n",
            "(62.0, 86.0]           -13\n"
          ],
          "name": "stdout"
        }
      ]
    },
    {
      "cell_type": "code",
      "metadata": {
        "id": "7sRF5qtHQaU2",
        "colab_type": "code",
        "colab": {}
      },
      "source": [
        "##score bins \n",
        "\n",
        "num_bins = 20\n",
        "df2['range_score'] = pd.qcut(df2['total_score'],num_bins, duplicates = 'drop' ).astype(str)"
      ],
      "execution_count": 0,
      "outputs": []
    },
    {
      "cell_type": "code",
      "metadata": {
        "id": "h452t-HSRF6V",
        "colab_type": "code",
        "colab": {
          "base_uri": "https://localhost:8080/",
          "height": 651
        },
        "outputId": "1e4d4b18-b8fc-42d2-b47b-304a8d90b4a6"
      },
      "source": [
        "aux_scr = df2[['range_score','TARGET']].copy()\n",
        "aux_scr['n']= 1\n",
        "\n",
        "aux_scr = aux_scr.pivot_table(index= 'range_score' , columns = 'TARGET' , aggfunc = 'count')\n",
        "\n",
        "aux_scr.columns = aux_scr.columns.droplevel() \n",
        "\n",
        "aux_scr.reset_index()\n",
        "\n",
        "\n",
        "aux_scr['buenos_acum'] = aux_scr[0].cumsum()\n",
        "aux_scr['malos_acum'] = aux_scr[1].cumsum()\n",
        "\n",
        "aux_scr['total'] = aux_scr[0]+aux_scr[1]\n",
        "\n",
        "aux_scr['pct_buenos'] = aux_scr[0] /aux_scr[0].sum()\n",
        "aux_scr['pct_malos']  = aux_scr[1] /aux_scr[1].sum()\n",
        "\n",
        "aux_scr['pct_buenos_acum'] = aux_scr['buenos_acum'] /aux_scr[0].sum()\n",
        "aux_scr['pct_malos_acum']  = aux_scr['malos_acum'] /aux_scr[1].sum()\n",
        "\n",
        "\n",
        "aux_scr['pct_total'] =aux_scr['total'] /aux_scr['total'].sum()\n",
        "\n",
        "aux_scr['odds'] =aux_scr[0] /aux_scr[1]\n",
        "\n",
        "aux_scr['br'] =aux_scr[1] /aux_scr['total']\n",
        "\n",
        "aux_scr['ks_aux'] = aux_scr['pct_buenos_acum'] - aux_scr['pct_malos_acum']\n",
        "\n",
        "aux_scr\n"
      ],
      "execution_count": 238,
      "outputs": [
        {
          "output_type": "execute_result",
          "data": {
            "text/html": [
              "<div>\n",
              "<style scoped>\n",
              "    .dataframe tbody tr th:only-of-type {\n",
              "        vertical-align: middle;\n",
              "    }\n",
              "\n",
              "    .dataframe tbody tr th {\n",
              "        vertical-align: top;\n",
              "    }\n",
              "\n",
              "    .dataframe thead th {\n",
              "        text-align: right;\n",
              "    }\n",
              "</style>\n",
              "<table border=\"1\" class=\"dataframe\">\n",
              "  <thead>\n",
              "    <tr style=\"text-align: right;\">\n",
              "      <th>TARGET</th>\n",
              "      <th>0</th>\n",
              "      <th>1</th>\n",
              "      <th>buenos_acum</th>\n",
              "      <th>malos_acum</th>\n",
              "      <th>total</th>\n",
              "      <th>pct_buenos</th>\n",
              "      <th>pct_malos</th>\n",
              "      <th>pct_buenos_acum</th>\n",
              "      <th>pct_malos_acum</th>\n",
              "      <th>pct_total</th>\n",
              "      <th>odds</th>\n",
              "      <th>br</th>\n",
              "      <th>ks_aux</th>\n",
              "    </tr>\n",
              "    <tr>\n",
              "      <th>range_score</th>\n",
              "      <th></th>\n",
              "      <th></th>\n",
              "      <th></th>\n",
              "      <th></th>\n",
              "      <th></th>\n",
              "      <th></th>\n",
              "      <th></th>\n",
              "      <th></th>\n",
              "      <th></th>\n",
              "      <th></th>\n",
              "      <th></th>\n",
              "      <th></th>\n",
              "      <th></th>\n",
              "    </tr>\n",
              "  </thead>\n",
              "  <tbody>\n",
              "    <tr>\n",
              "      <th>(100.999, 229.0]</th>\n",
              "      <td>1765</td>\n",
              "      <td>94</td>\n",
              "      <td>1765</td>\n",
              "      <td>94</td>\n",
              "      <td>1859</td>\n",
              "      <td>0.060929</td>\n",
              "      <td>0.011872</td>\n",
              "      <td>0.060929</td>\n",
              "      <td>0.011872</td>\n",
              "      <td>0.050399</td>\n",
              "      <td>18.776596</td>\n",
              "      <td>0.050565</td>\n",
              "      <td>0.049058</td>\n",
              "    </tr>\n",
              "    <tr>\n",
              "      <th>(229.0, 280.0]</th>\n",
              "      <td>1678</td>\n",
              "      <td>171</td>\n",
              "      <td>3443</td>\n",
              "      <td>265</td>\n",
              "      <td>1849</td>\n",
              "      <td>0.057926</td>\n",
              "      <td>0.021596</td>\n",
              "      <td>0.118855</td>\n",
              "      <td>0.033468</td>\n",
              "      <td>0.050127</td>\n",
              "      <td>9.812865</td>\n",
              "      <td>0.092482</td>\n",
              "      <td>0.085387</td>\n",
              "    </tr>\n",
              "    <tr>\n",
              "      <th>(280.0, 308.0]</th>\n",
              "      <td>1657</td>\n",
              "      <td>180</td>\n",
              "      <td>5100</td>\n",
              "      <td>445</td>\n",
              "      <td>1837</td>\n",
              "      <td>0.057201</td>\n",
              "      <td>0.022733</td>\n",
              "      <td>0.176056</td>\n",
              "      <td>0.056201</td>\n",
              "      <td>0.049802</td>\n",
              "      <td>9.205556</td>\n",
              "      <td>0.097986</td>\n",
              "      <td>0.119855</td>\n",
              "    </tr>\n",
              "    <tr>\n",
              "      <th>(308.0, 330.0]</th>\n",
              "      <td>1662</td>\n",
              "      <td>173</td>\n",
              "      <td>6762</td>\n",
              "      <td>618</td>\n",
              "      <td>1835</td>\n",
              "      <td>0.057374</td>\n",
              "      <td>0.021849</td>\n",
              "      <td>0.233430</td>\n",
              "      <td>0.078050</td>\n",
              "      <td>0.049748</td>\n",
              "      <td>9.606936</td>\n",
              "      <td>0.094278</td>\n",
              "      <td>0.155380</td>\n",
              "    </tr>\n",
              "    <tr>\n",
              "      <th>(330.0, 350.0]</th>\n",
              "      <td>1634</td>\n",
              "      <td>216</td>\n",
              "      <td>8396</td>\n",
              "      <td>834</td>\n",
              "      <td>1850</td>\n",
              "      <td>0.056407</td>\n",
              "      <td>0.027280</td>\n",
              "      <td>0.289837</td>\n",
              "      <td>0.105330</td>\n",
              "      <td>0.050155</td>\n",
              "      <td>7.564815</td>\n",
              "      <td>0.116757</td>\n",
              "      <td>0.184507</td>\n",
              "    </tr>\n",
              "    <tr>\n",
              "      <th>(350.0, 367.0]</th>\n",
              "      <td>1686</td>\n",
              "      <td>248</td>\n",
              "      <td>10082</td>\n",
              "      <td>1082</td>\n",
              "      <td>1934</td>\n",
              "      <td>0.058202</td>\n",
              "      <td>0.031321</td>\n",
              "      <td>0.348039</td>\n",
              "      <td>0.136651</td>\n",
              "      <td>0.052432</td>\n",
              "      <td>6.798387</td>\n",
              "      <td>0.128232</td>\n",
              "      <td>0.211389</td>\n",
              "    </tr>\n",
              "    <tr>\n",
              "      <th>(367.0, 382.0]</th>\n",
              "      <td>1524</td>\n",
              "      <td>268</td>\n",
              "      <td>11606</td>\n",
              "      <td>1350</td>\n",
              "      <td>1792</td>\n",
              "      <td>0.052610</td>\n",
              "      <td>0.033847</td>\n",
              "      <td>0.400649</td>\n",
              "      <td>0.170498</td>\n",
              "      <td>0.048582</td>\n",
              "      <td>5.686567</td>\n",
              "      <td>0.149554</td>\n",
              "      <td>0.230151</td>\n",
              "    </tr>\n",
              "    <tr>\n",
              "      <th>(382.0, 397.0]</th>\n",
              "      <td>1626</td>\n",
              "      <td>284</td>\n",
              "      <td>13232</td>\n",
              "      <td>1634</td>\n",
              "      <td>1910</td>\n",
              "      <td>0.056131</td>\n",
              "      <td>0.035868</td>\n",
              "      <td>0.456780</td>\n",
              "      <td>0.206365</td>\n",
              "      <td>0.051781</td>\n",
              "      <td>5.725352</td>\n",
              "      <td>0.148691</td>\n",
              "      <td>0.250415</td>\n",
              "    </tr>\n",
              "    <tr>\n",
              "      <th>(397.0, 411.0]</th>\n",
              "      <td>1478</td>\n",
              "      <td>318</td>\n",
              "      <td>14710</td>\n",
              "      <td>1952</td>\n",
              "      <td>1796</td>\n",
              "      <td>0.051022</td>\n",
              "      <td>0.040162</td>\n",
              "      <td>0.507802</td>\n",
              "      <td>0.246527</td>\n",
              "      <td>0.048691</td>\n",
              "      <td>4.647799</td>\n",
              "      <td>0.177060</td>\n",
              "      <td>0.261275</td>\n",
              "    </tr>\n",
              "    <tr>\n",
              "      <th>(411.0, 423.0]</th>\n",
              "      <td>1453</td>\n",
              "      <td>334</td>\n",
              "      <td>16163</td>\n",
              "      <td>2286</td>\n",
              "      <td>1787</td>\n",
              "      <td>0.050159</td>\n",
              "      <td>0.042182</td>\n",
              "      <td>0.557961</td>\n",
              "      <td>0.288709</td>\n",
              "      <td>0.048447</td>\n",
              "      <td>4.350299</td>\n",
              "      <td>0.186905</td>\n",
              "      <td>0.269251</td>\n",
              "    </tr>\n",
              "    <tr>\n",
              "      <th>(423.0, 437.0]</th>\n",
              "      <td>1498</td>\n",
              "      <td>395</td>\n",
              "      <td>17661</td>\n",
              "      <td>2681</td>\n",
              "      <td>1893</td>\n",
              "      <td>0.051712</td>\n",
              "      <td>0.049886</td>\n",
              "      <td>0.609673</td>\n",
              "      <td>0.338596</td>\n",
              "      <td>0.051320</td>\n",
              "      <td>3.792405</td>\n",
              "      <td>0.208663</td>\n",
              "      <td>0.271077</td>\n",
              "    </tr>\n",
              "    <tr>\n",
              "      <th>(437.0, 451.0]</th>\n",
              "      <td>1461</td>\n",
              "      <td>438</td>\n",
              "      <td>19122</td>\n",
              "      <td>3119</td>\n",
              "      <td>1899</td>\n",
              "      <td>0.050435</td>\n",
              "      <td>0.055317</td>\n",
              "      <td>0.660108</td>\n",
              "      <td>0.393913</td>\n",
              "      <td>0.051483</td>\n",
              "      <td>3.335616</td>\n",
              "      <td>0.230648</td>\n",
              "      <td>0.266195</td>\n",
              "    </tr>\n",
              "    <tr>\n",
              "      <th>(451.0, 464.0]</th>\n",
              "      <td>1460</td>\n",
              "      <td>437</td>\n",
              "      <td>20582</td>\n",
              "      <td>3556</td>\n",
              "      <td>1897</td>\n",
              "      <td>0.050400</td>\n",
              "      <td>0.055191</td>\n",
              "      <td>0.710508</td>\n",
              "      <td>0.449103</td>\n",
              "      <td>0.051429</td>\n",
              "      <td>3.340961</td>\n",
              "      <td>0.230364</td>\n",
              "      <td>0.261405</td>\n",
              "    </tr>\n",
              "    <tr>\n",
              "      <th>(464.0, 477.0]</th>\n",
              "      <td>1294</td>\n",
              "      <td>397</td>\n",
              "      <td>21876</td>\n",
              "      <td>3953</td>\n",
              "      <td>1691</td>\n",
              "      <td>0.044670</td>\n",
              "      <td>0.050139</td>\n",
              "      <td>0.755178</td>\n",
              "      <td>0.499242</td>\n",
              "      <td>0.045844</td>\n",
              "      <td>3.259446</td>\n",
              "      <td>0.234772</td>\n",
              "      <td>0.255936</td>\n",
              "    </tr>\n",
              "    <tr>\n",
              "      <th>(477.0, 491.0]</th>\n",
              "      <td>1359</td>\n",
              "      <td>489</td>\n",
              "      <td>23235</td>\n",
              "      <td>4442</td>\n",
              "      <td>1848</td>\n",
              "      <td>0.046914</td>\n",
              "      <td>0.061758</td>\n",
              "      <td>0.802092</td>\n",
              "      <td>0.561000</td>\n",
              "      <td>0.050100</td>\n",
              "      <td>2.779141</td>\n",
              "      <td>0.264610</td>\n",
              "      <td>0.241092</td>\n",
              "    </tr>\n",
              "    <tr>\n",
              "      <th>(491.0, 510.0]</th>\n",
              "      <td>1348</td>\n",
              "      <td>575</td>\n",
              "      <td>24583</td>\n",
              "      <td>5017</td>\n",
              "      <td>1923</td>\n",
              "      <td>0.046534</td>\n",
              "      <td>0.072619</td>\n",
              "      <td>0.848626</td>\n",
              "      <td>0.633620</td>\n",
              "      <td>0.052134</td>\n",
              "      <td>2.344348</td>\n",
              "      <td>0.299012</td>\n",
              "      <td>0.215006</td>\n",
              "    </tr>\n",
              "    <tr>\n",
              "      <th>(510.0, 528.0]</th>\n",
              "      <td>1166</td>\n",
              "      <td>614</td>\n",
              "      <td>25749</td>\n",
              "      <td>5631</td>\n",
              "      <td>1780</td>\n",
              "      <td>0.040251</td>\n",
              "      <td>0.077545</td>\n",
              "      <td>0.888877</td>\n",
              "      <td>0.711164</td>\n",
              "      <td>0.048257</td>\n",
              "      <td>1.899023</td>\n",
              "      <td>0.344944</td>\n",
              "      <td>0.177713</td>\n",
              "    </tr>\n",
              "    <tr>\n",
              "      <th>(528.0, 550.0]</th>\n",
              "      <td>1209</td>\n",
              "      <td>671</td>\n",
              "      <td>26958</td>\n",
              "      <td>6302</td>\n",
              "      <td>1880</td>\n",
              "      <td>0.041736</td>\n",
              "      <td>0.084744</td>\n",
              "      <td>0.930613</td>\n",
              "      <td>0.795908</td>\n",
              "      <td>0.050968</td>\n",
              "      <td>1.801788</td>\n",
              "      <td>0.356915</td>\n",
              "      <td>0.134705</td>\n",
              "    </tr>\n",
              "    <tr>\n",
              "      <th>(550.0, 578.0]</th>\n",
              "      <td>1056</td>\n",
              "      <td>733</td>\n",
              "      <td>28014</td>\n",
              "      <td>7035</td>\n",
              "      <td>1789</td>\n",
              "      <td>0.036454</td>\n",
              "      <td>0.092574</td>\n",
              "      <td>0.967067</td>\n",
              "      <td>0.888482</td>\n",
              "      <td>0.048501</td>\n",
              "      <td>1.440655</td>\n",
              "      <td>0.409726</td>\n",
              "      <td>0.078585</td>\n",
              "    </tr>\n",
              "    <tr>\n",
              "      <th>(578.0, 720.0]</th>\n",
              "      <td>954</td>\n",
              "      <td>883</td>\n",
              "      <td>28968</td>\n",
              "      <td>7918</td>\n",
              "      <td>1837</td>\n",
              "      <td>0.032933</td>\n",
              "      <td>0.111518</td>\n",
              "      <td>1.000000</td>\n",
              "      <td>1.000000</td>\n",
              "      <td>0.049802</td>\n",
              "      <td>1.080408</td>\n",
              "      <td>0.480675</td>\n",
              "      <td>0.000000</td>\n",
              "    </tr>\n",
              "  </tbody>\n",
              "</table>\n",
              "</div>"
            ],
            "text/plain": [
              "TARGET               0    1  buenos_acum  ...       odds        br    ks_aux\n",
              "range_score                               ...                               \n",
              "(100.999, 229.0]  1765   94         1765  ...  18.776596  0.050565  0.049058\n",
              "(229.0, 280.0]    1678  171         3443  ...   9.812865  0.092482  0.085387\n",
              "(280.0, 308.0]    1657  180         5100  ...   9.205556  0.097986  0.119855\n",
              "(308.0, 330.0]    1662  173         6762  ...   9.606936  0.094278  0.155380\n",
              "(330.0, 350.0]    1634  216         8396  ...   7.564815  0.116757  0.184507\n",
              "(350.0, 367.0]    1686  248        10082  ...   6.798387  0.128232  0.211389\n",
              "(367.0, 382.0]    1524  268        11606  ...   5.686567  0.149554  0.230151\n",
              "(382.0, 397.0]    1626  284        13232  ...   5.725352  0.148691  0.250415\n",
              "(397.0, 411.0]    1478  318        14710  ...   4.647799  0.177060  0.261275\n",
              "(411.0, 423.0]    1453  334        16163  ...   4.350299  0.186905  0.269251\n",
              "(423.0, 437.0]    1498  395        17661  ...   3.792405  0.208663  0.271077\n",
              "(437.0, 451.0]    1461  438        19122  ...   3.335616  0.230648  0.266195\n",
              "(451.0, 464.0]    1460  437        20582  ...   3.340961  0.230364  0.261405\n",
              "(464.0, 477.0]    1294  397        21876  ...   3.259446  0.234772  0.255936\n",
              "(477.0, 491.0]    1359  489        23235  ...   2.779141  0.264610  0.241092\n",
              "(491.0, 510.0]    1348  575        24583  ...   2.344348  0.299012  0.215006\n",
              "(510.0, 528.0]    1166  614        25749  ...   1.899023  0.344944  0.177713\n",
              "(528.0, 550.0]    1209  671        26958  ...   1.801788  0.356915  0.134705\n",
              "(550.0, 578.0]    1056  733        28014  ...   1.440655  0.409726  0.078585\n",
              "(578.0, 720.0]     954  883        28968  ...   1.080408  0.480675  0.000000\n",
              "\n",
              "[20 rows x 13 columns]"
            ]
          },
          "metadata": {
            "tags": []
          },
          "execution_count": 238
        }
      ]
    },
    {
      "cell_type": "code",
      "metadata": {
        "id": "jzQjNuDHTECT",
        "colab_type": "code",
        "colab": {
          "base_uri": "https://localhost:8080/",
          "height": 33
        },
        "outputId": "7749ab5e-12ee-4f0c-dafd-9e64f32a146a"
      },
      "source": [
        "ks = aux_scr['ks_aux'].max()\n",
        "print(ks)"
      ],
      "execution_count": 241,
      "outputs": [
        {
          "output_type": "stream",
          "text": [
            "0.271077137385626\n"
          ],
          "name": "stdout"
        }
      ]
    },
    {
      "cell_type": "code",
      "metadata": {
        "id": "Xg3nh0pOSSTq",
        "colab_type": "code",
        "colab": {}
      },
      "source": [
        ""
      ],
      "execution_count": 0,
      "outputs": []
    },
    {
      "cell_type": "code",
      "metadata": {
        "id": "_kf8qNnHSSYX",
        "colab_type": "code",
        "colab": {}
      },
      "source": [
        ""
      ],
      "execution_count": 0,
      "outputs": []
    }
  ]
}